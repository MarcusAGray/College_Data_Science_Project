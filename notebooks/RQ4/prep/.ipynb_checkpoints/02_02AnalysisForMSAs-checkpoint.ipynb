{
 "cells": [
  {
   "cell_type": "code",
   "execution_count": 1,
   "id": "e4d7dcb8",
   "metadata": {},
   "outputs": [
    {
     "data": {
      "text/plain": [
       "\"\\nAnalysis for MSA's\\n\\nLoads;  \\n\\nmsa_final_df.csv\\n\\nProduces;\\n\\n\\n\""
      ]
     },
     "execution_count": 1,
     "metadata": {},
     "output_type": "execute_result"
    }
   ],
   "source": [
    "\"\"\"\n",
    "Analysis for MSA's\n",
    "\n",
    "Loads;  \n",
    "\n",
    "msa_final_df.csv\n",
    "\n",
    "Produces;\n",
    "\n",
    "\n",
    "\"\"\""
   ]
  },
  {
   "cell_type": "code",
   "execution_count": 69,
   "id": "6cd2f424",
   "metadata": {},
   "outputs": [],
   "source": [
    "from scipy import stats\n",
    "import pandas as pd\n",
    "import numpy as np\n",
    "import matplotlib.pyplot as plt "
   ]
  },
  {
   "cell_type": "code",
   "execution_count": 70,
   "id": "54ccd55a",
   "metadata": {},
   "outputs": [],
   "source": [
    "%matplotlib inline"
   ]
  },
  {
   "cell_type": "code",
   "execution_count": 71,
   "id": "0fda0199",
   "metadata": {},
   "outputs": [],
   "source": [
    "#For diabetes death estimates\n",
    "%store -r lower_q\n",
    "%store -r upper_q\n",
    "%store -r mean"
   ]
  },
  {
   "cell_type": "code",
   "execution_count": 72,
   "id": "5c8758b5",
   "metadata": {},
   "outputs": [
    {
     "data": {
      "text/html": [
       "<div>\n",
       "<style scoped>\n",
       "    .dataframe tbody tr th:only-of-type {\n",
       "        vertical-align: middle;\n",
       "    }\n",
       "\n",
       "    .dataframe tbody tr th {\n",
       "        vertical-align: top;\n",
       "    }\n",
       "\n",
       "    .dataframe thead th {\n",
       "        text-align: right;\n",
       "    }\n",
       "</style>\n",
       "<table border=\"1\" class=\"dataframe\">\n",
       "  <thead>\n",
       "    <tr style=\"text-align: right;\">\n",
       "      <th></th>\n",
       "      <th>MSA</th>\n",
       "      <th>Population</th>\n",
       "      <th>Population Density</th>\n",
       "      <th>Diagnosed Diabetes Percentage</th>\n",
       "      <th>Violent Crime</th>\n",
       "      <th>Murder and nonnegligent manslaughter</th>\n",
       "    </tr>\n",
       "  </thead>\n",
       "  <tbody>\n",
       "    <tr>\n",
       "      <th>0</th>\n",
       "      <td>Abilene, TX M.S.A.</td>\n",
       "      <td>170417</td>\n",
       "      <td>62.302643</td>\n",
       "      <td>7.500</td>\n",
       "      <td>670.0</td>\n",
       "      <td>9</td>\n",
       "    </tr>\n",
       "    <tr>\n",
       "      <th>1</th>\n",
       "      <td>Akron, OH M.S.A.</td>\n",
       "      <td>704283</td>\n",
       "      <td>822.497761</td>\n",
       "      <td>9.350</td>\n",
       "      <td>2509.0</td>\n",
       "      <td>45</td>\n",
       "    </tr>\n",
       "    <tr>\n",
       "      <th>2</th>\n",
       "      <td>Albany, GA M.S.A.</td>\n",
       "      <td>147142</td>\n",
       "      <td>104.043825</td>\n",
       "      <td>9.675</td>\n",
       "      <td>1069.0</td>\n",
       "      <td>17</td>\n",
       "    </tr>\n",
       "    <tr>\n",
       "      <th>3</th>\n",
       "      <td>Albany-Schenectady-Troy, NY M.S.A.</td>\n",
       "      <td>871741</td>\n",
       "      <td>384.616247</td>\n",
       "      <td>8.520</td>\n",
       "      <td>2472.0</td>\n",
       "      <td>19</td>\n",
       "    </tr>\n",
       "    <tr>\n",
       "      <th>4</th>\n",
       "      <td>Albuquerque, NM M.S.A.</td>\n",
       "      <td>915468</td>\n",
       "      <td>174.850723</td>\n",
       "      <td>8.575</td>\n",
       "      <td>9930.0</td>\n",
       "      <td>87</td>\n",
       "    </tr>\n",
       "  </tbody>\n",
       "</table>\n",
       "</div>"
      ],
      "text/plain": [
       "                                  MSA  Population  Population Density  \\\n",
       "0                  Abilene, TX M.S.A.      170417           62.302643   \n",
       "1                    Akron, OH M.S.A.      704283          822.497761   \n",
       "2                   Albany, GA M.S.A.      147142          104.043825   \n",
       "3  Albany-Schenectady-Troy, NY M.S.A.      871741          384.616247   \n",
       "4              Albuquerque, NM M.S.A.      915468          174.850723   \n",
       "\n",
       "   Diagnosed Diabetes Percentage  Violent Crime  \\\n",
       "0                          7.500          670.0   \n",
       "1                          9.350         2509.0   \n",
       "2                          9.675         1069.0   \n",
       "3                          8.520         2472.0   \n",
       "4                          8.575         9930.0   \n",
       "\n",
       "   Murder and nonnegligent manslaughter  \n",
       "0                                     9  \n",
       "1                                    45  \n",
       "2                                    17  \n",
       "3                                    19  \n",
       "4                                    87  "
      ]
     },
     "execution_count": 72,
     "metadata": {},
     "output_type": "execute_result"
    }
   ],
   "source": [
    "msa_final_df = pd.read_csv(\"../../data/processed/msa_final_df.csv\")\n",
    "msa_final_df.head()"
   ]
  },
  {
   "cell_type": "code",
   "execution_count": 73,
   "id": "ddb79842",
   "metadata": {},
   "outputs": [],
   "source": [
    "df = msa_final_df.copy()"
   ]
  },
  {
   "cell_type": "markdown",
   "id": "031df56d",
   "metadata": {},
   "source": [
    "### Include Estimates"
   ]
  },
  {
   "cell_type": "code",
   "execution_count": 74,
   "id": "2032e381",
   "metadata": {},
   "outputs": [
    {
     "data": {
      "text/html": [
       "<div>\n",
       "<style scoped>\n",
       "    .dataframe tbody tr th:only-of-type {\n",
       "        vertical-align: middle;\n",
       "    }\n",
       "\n",
       "    .dataframe tbody tr th {\n",
       "        vertical-align: top;\n",
       "    }\n",
       "\n",
       "    .dataframe thead th {\n",
       "        text-align: right;\n",
       "    }\n",
       "</style>\n",
       "<table border=\"1\" class=\"dataframe\">\n",
       "  <thead>\n",
       "    <tr style=\"text-align: right;\">\n",
       "      <th></th>\n",
       "      <th>MSA</th>\n",
       "      <th>Population</th>\n",
       "      <th>Population Density</th>\n",
       "      <th>Diagnosed Diabetes Percentage</th>\n",
       "      <th>Violent Crime</th>\n",
       "      <th>Murder and nonnegligent manslaughter</th>\n",
       "      <th>Number of Pop Diagnosed</th>\n",
       "    </tr>\n",
       "  </thead>\n",
       "  <tbody>\n",
       "    <tr>\n",
       "      <th>0</th>\n",
       "      <td>Abilene, TX M.S.A.</td>\n",
       "      <td>170417</td>\n",
       "      <td>62.302643</td>\n",
       "      <td>7.500</td>\n",
       "      <td>670.0</td>\n",
       "      <td>9</td>\n",
       "      <td>12781.2750</td>\n",
       "    </tr>\n",
       "    <tr>\n",
       "      <th>1</th>\n",
       "      <td>Akron, OH M.S.A.</td>\n",
       "      <td>704283</td>\n",
       "      <td>822.497761</td>\n",
       "      <td>9.350</td>\n",
       "      <td>2509.0</td>\n",
       "      <td>45</td>\n",
       "      <td>65850.4605</td>\n",
       "    </tr>\n",
       "    <tr>\n",
       "      <th>2</th>\n",
       "      <td>Albany, GA M.S.A.</td>\n",
       "      <td>147142</td>\n",
       "      <td>104.043825</td>\n",
       "      <td>9.675</td>\n",
       "      <td>1069.0</td>\n",
       "      <td>17</td>\n",
       "      <td>14235.9885</td>\n",
       "    </tr>\n",
       "    <tr>\n",
       "      <th>3</th>\n",
       "      <td>Albany-Schenectady-Troy, NY M.S.A.</td>\n",
       "      <td>871741</td>\n",
       "      <td>384.616247</td>\n",
       "      <td>8.520</td>\n",
       "      <td>2472.0</td>\n",
       "      <td>19</td>\n",
       "      <td>74272.3332</td>\n",
       "    </tr>\n",
       "    <tr>\n",
       "      <th>4</th>\n",
       "      <td>Albuquerque, NM M.S.A.</td>\n",
       "      <td>915468</td>\n",
       "      <td>174.850723</td>\n",
       "      <td>8.575</td>\n",
       "      <td>9930.0</td>\n",
       "      <td>87</td>\n",
       "      <td>78501.3810</td>\n",
       "    </tr>\n",
       "  </tbody>\n",
       "</table>\n",
       "</div>"
      ],
      "text/plain": [
       "                                  MSA  Population  Population Density  \\\n",
       "0                  Abilene, TX M.S.A.      170417           62.302643   \n",
       "1                    Akron, OH M.S.A.      704283          822.497761   \n",
       "2                   Albany, GA M.S.A.      147142          104.043825   \n",
       "3  Albany-Schenectady-Troy, NY M.S.A.      871741          384.616247   \n",
       "4              Albuquerque, NM M.S.A.      915468          174.850723   \n",
       "\n",
       "   Diagnosed Diabetes Percentage  Violent Crime  \\\n",
       "0                          7.500          670.0   \n",
       "1                          9.350         2509.0   \n",
       "2                          9.675         1069.0   \n",
       "3                          8.520         2472.0   \n",
       "4                          8.575         9930.0   \n",
       "\n",
       "   Murder and nonnegligent manslaughter  Number of Pop Diagnosed  \n",
       "0                                     9               12781.2750  \n",
       "1                                    45               65850.4605  \n",
       "2                                    17               14235.9885  \n",
       "3                                    19               74272.3332  \n",
       "4                                    87               78501.3810  "
      ]
     },
     "execution_count": 74,
     "metadata": {},
     "output_type": "execute_result"
    }
   ],
   "source": [
    "df['Number of Pop Diagnosed'] = (df['Diagnosed Diabetes Percentage'] / 100) * df['Population']\n",
    "df.head()"
   ]
  },
  {
   "cell_type": "code",
   "execution_count": 75,
   "id": "d917c081",
   "metadata": {},
   "outputs": [
    {
     "data": {
      "text/plain": [
       "count       307.000000\n",
       "mean      52592.817913\n",
       "std       77029.140905\n",
       "min        4956.714000\n",
       "25%       13440.020000\n",
       "50%       22150.763333\n",
       "75%       54001.960000\n",
       "max      640637.506250\n",
       "Name: Number of Pop Diagnosed, dtype: float64"
      ]
     },
     "execution_count": 75,
     "metadata": {},
     "output_type": "execute_result"
    }
   ],
   "source": [
    "df['Number of Pop Diagnosed'].describe()"
   ]
  },
  {
   "cell_type": "code",
   "execution_count": 76,
   "id": "626b388b",
   "metadata": {},
   "outputs": [
    {
     "data": {
      "text/html": [
       "<div>\n",
       "<style scoped>\n",
       "    .dataframe tbody tr th:only-of-type {\n",
       "        vertical-align: middle;\n",
       "    }\n",
       "\n",
       "    .dataframe tbody tr th {\n",
       "        vertical-align: top;\n",
       "    }\n",
       "\n",
       "    .dataframe thead th {\n",
       "        text-align: right;\n",
       "    }\n",
       "</style>\n",
       "<table border=\"1\" class=\"dataframe\">\n",
       "  <thead>\n",
       "    <tr style=\"text-align: right;\">\n",
       "      <th></th>\n",
       "      <th>MSA</th>\n",
       "      <th>Population</th>\n",
       "      <th>Population Density</th>\n",
       "      <th>Diagnosed Diabetes Percentage</th>\n",
       "      <th>Violent Crime</th>\n",
       "      <th>Murder and nonnegligent manslaughter</th>\n",
       "      <th>Number of Pop Diagnosed</th>\n",
       "      <th>lower_death_est</th>\n",
       "    </tr>\n",
       "  </thead>\n",
       "  <tbody>\n",
       "    <tr>\n",
       "      <th>0</th>\n",
       "      <td>Abilene, TX M.S.A.</td>\n",
       "      <td>170417</td>\n",
       "      <td>62.302643</td>\n",
       "      <td>7.500</td>\n",
       "      <td>670.0</td>\n",
       "      <td>9</td>\n",
       "      <td>12781.2750</td>\n",
       "      <td>31.459680</td>\n",
       "    </tr>\n",
       "    <tr>\n",
       "      <th>1</th>\n",
       "      <td>Akron, OH M.S.A.</td>\n",
       "      <td>704283</td>\n",
       "      <td>822.497761</td>\n",
       "      <td>9.350</td>\n",
       "      <td>2509.0</td>\n",
       "      <td>45</td>\n",
       "      <td>65850.4605</td>\n",
       "      <td>162.083549</td>\n",
       "    </tr>\n",
       "    <tr>\n",
       "      <th>2</th>\n",
       "      <td>Albany, GA M.S.A.</td>\n",
       "      <td>147142</td>\n",
       "      <td>104.043825</td>\n",
       "      <td>9.675</td>\n",
       "      <td>1069.0</td>\n",
       "      <td>17</td>\n",
       "      <td>14235.9885</td>\n",
       "      <td>35.040295</td>\n",
       "    </tr>\n",
       "    <tr>\n",
       "      <th>3</th>\n",
       "      <td>Albany-Schenectady-Troy, NY M.S.A.</td>\n",
       "      <td>871741</td>\n",
       "      <td>384.616247</td>\n",
       "      <td>8.520</td>\n",
       "      <td>2472.0</td>\n",
       "      <td>19</td>\n",
       "      <td>74272.3332</td>\n",
       "      <td>182.813048</td>\n",
       "    </tr>\n",
       "    <tr>\n",
       "      <th>4</th>\n",
       "      <td>Albuquerque, NM M.S.A.</td>\n",
       "      <td>915468</td>\n",
       "      <td>174.850723</td>\n",
       "      <td>8.575</td>\n",
       "      <td>9930.0</td>\n",
       "      <td>87</td>\n",
       "      <td>78501.3810</td>\n",
       "      <td>193.222377</td>\n",
       "    </tr>\n",
       "  </tbody>\n",
       "</table>\n",
       "</div>"
      ],
      "text/plain": [
       "                                  MSA  Population  Population Density  \\\n",
       "0                  Abilene, TX M.S.A.      170417           62.302643   \n",
       "1                    Akron, OH M.S.A.      704283          822.497761   \n",
       "2                   Albany, GA M.S.A.      147142          104.043825   \n",
       "3  Albany-Schenectady-Troy, NY M.S.A.      871741          384.616247   \n",
       "4              Albuquerque, NM M.S.A.      915468          174.850723   \n",
       "\n",
       "   Diagnosed Diabetes Percentage  Violent Crime  \\\n",
       "0                          7.500          670.0   \n",
       "1                          9.350         2509.0   \n",
       "2                          9.675         1069.0   \n",
       "3                          8.520         2472.0   \n",
       "4                          8.575         9930.0   \n",
       "\n",
       "   Murder and nonnegligent manslaughter  Number of Pop Diagnosed  \\\n",
       "0                                     9               12781.2750   \n",
       "1                                    45               65850.4605   \n",
       "2                                    17               14235.9885   \n",
       "3                                    19               74272.3332   \n",
       "4                                    87               78501.3810   \n",
       "\n",
       "   lower_death_est  \n",
       "0        31.459680  \n",
       "1       162.083549  \n",
       "2        35.040295  \n",
       "3       182.813048  \n",
       "4       193.222377  "
      ]
     },
     "execution_count": 76,
     "metadata": {},
     "output_type": "execute_result"
    }
   ],
   "source": [
    "df['lower_death_est'] = df['Number of Pop Diagnosed'] * lower_q\n",
    "df.head()"
   ]
  },
  {
   "cell_type": "code",
   "execution_count": 77,
   "id": "745394e8",
   "metadata": {},
   "outputs": [
    {
     "data": {
      "text/plain": [
       "count     307.000000\n",
       "mean      129.451344\n",
       "std       189.598622\n",
       "min        12.200398\n",
       "25%        33.081107\n",
       "50%        54.521629\n",
       "75%       132.919790\n",
       "max      1576.857628\n",
       "Name: lower_death_est, dtype: float64"
      ]
     },
     "execution_count": 77,
     "metadata": {},
     "output_type": "execute_result"
    }
   ],
   "source": [
    "df['lower_death_est'].describe()"
   ]
  },
  {
   "cell_type": "code",
   "execution_count": 78,
   "id": "6ea262bf",
   "metadata": {},
   "outputs": [
    {
     "data": {
      "text/html": [
       "<div>\n",
       "<style scoped>\n",
       "    .dataframe tbody tr th:only-of-type {\n",
       "        vertical-align: middle;\n",
       "    }\n",
       "\n",
       "    .dataframe tbody tr th {\n",
       "        vertical-align: top;\n",
       "    }\n",
       "\n",
       "    .dataframe thead th {\n",
       "        text-align: right;\n",
       "    }\n",
       "</style>\n",
       "<table border=\"1\" class=\"dataframe\">\n",
       "  <thead>\n",
       "    <tr style=\"text-align: right;\">\n",
       "      <th></th>\n",
       "      <th>MSA</th>\n",
       "      <th>Population</th>\n",
       "      <th>Population Density</th>\n",
       "      <th>Diagnosed Diabetes Percentage</th>\n",
       "      <th>Violent Crime</th>\n",
       "      <th>Murder and nonnegligent manslaughter</th>\n",
       "      <th>Number of Pop Diagnosed</th>\n",
       "      <th>lower_death_est</th>\n",
       "      <th>higher_death_est</th>\n",
       "    </tr>\n",
       "  </thead>\n",
       "  <tbody>\n",
       "    <tr>\n",
       "      <th>0</th>\n",
       "      <td>Abilene, TX M.S.A.</td>\n",
       "      <td>170417</td>\n",
       "      <td>62.302643</td>\n",
       "      <td>7.500</td>\n",
       "      <td>670.0</td>\n",
       "      <td>9</td>\n",
       "      <td>12781.2750</td>\n",
       "      <td>31.459680</td>\n",
       "      <td>38.185010</td>\n",
       "    </tr>\n",
       "    <tr>\n",
       "      <th>1</th>\n",
       "      <td>Akron, OH M.S.A.</td>\n",
       "      <td>704283</td>\n",
       "      <td>822.497761</td>\n",
       "      <td>9.350</td>\n",
       "      <td>2509.0</td>\n",
       "      <td>45</td>\n",
       "      <td>65850.4605</td>\n",
       "      <td>162.083549</td>\n",
       "      <td>196.733148</td>\n",
       "    </tr>\n",
       "    <tr>\n",
       "      <th>2</th>\n",
       "      <td>Albany, GA M.S.A.</td>\n",
       "      <td>147142</td>\n",
       "      <td>104.043825</td>\n",
       "      <td>9.675</td>\n",
       "      <td>1069.0</td>\n",
       "      <td>17</td>\n",
       "      <td>14235.9885</td>\n",
       "      <td>35.040295</td>\n",
       "      <td>42.531074</td>\n",
       "    </tr>\n",
       "    <tr>\n",
       "      <th>3</th>\n",
       "      <td>Albany-Schenectady-Troy, NY M.S.A.</td>\n",
       "      <td>871741</td>\n",
       "      <td>384.616247</td>\n",
       "      <td>8.520</td>\n",
       "      <td>2472.0</td>\n",
       "      <td>19</td>\n",
       "      <td>74272.3332</td>\n",
       "      <td>182.813048</td>\n",
       "      <td>221.894119</td>\n",
       "    </tr>\n",
       "    <tr>\n",
       "      <th>4</th>\n",
       "      <td>Albuquerque, NM M.S.A.</td>\n",
       "      <td>915468</td>\n",
       "      <td>174.850723</td>\n",
       "      <td>8.575</td>\n",
       "      <td>9930.0</td>\n",
       "      <td>87</td>\n",
       "      <td>78501.3810</td>\n",
       "      <td>193.222377</td>\n",
       "      <td>234.528714</td>\n",
       "    </tr>\n",
       "  </tbody>\n",
       "</table>\n",
       "</div>"
      ],
      "text/plain": [
       "                                  MSA  Population  Population Density  \\\n",
       "0                  Abilene, TX M.S.A.      170417           62.302643   \n",
       "1                    Akron, OH M.S.A.      704283          822.497761   \n",
       "2                   Albany, GA M.S.A.      147142          104.043825   \n",
       "3  Albany-Schenectady-Troy, NY M.S.A.      871741          384.616247   \n",
       "4              Albuquerque, NM M.S.A.      915468          174.850723   \n",
       "\n",
       "   Diagnosed Diabetes Percentage  Violent Crime  \\\n",
       "0                          7.500          670.0   \n",
       "1                          9.350         2509.0   \n",
       "2                          9.675         1069.0   \n",
       "3                          8.520         2472.0   \n",
       "4                          8.575         9930.0   \n",
       "\n",
       "   Murder and nonnegligent manslaughter  Number of Pop Diagnosed  \\\n",
       "0                                     9               12781.2750   \n",
       "1                                    45               65850.4605   \n",
       "2                                    17               14235.9885   \n",
       "3                                    19               74272.3332   \n",
       "4                                    87               78501.3810   \n",
       "\n",
       "   lower_death_est  higher_death_est  \n",
       "0        31.459680         38.185010  \n",
       "1       162.083549        196.733148  \n",
       "2        35.040295         42.531074  \n",
       "3       182.813048        221.894119  \n",
       "4       193.222377        234.528714  "
      ]
     },
     "execution_count": 78,
     "metadata": {},
     "output_type": "execute_result"
    }
   ],
   "source": [
    "df['higher_death_est'] = df['Number of Pop Diagnosed'] * upper_q\n",
    "df.head()"
   ]
  },
  {
   "cell_type": "code",
   "execution_count": 79,
   "id": "fcd7afb7",
   "metadata": {},
   "outputs": [
    {
     "data": {
      "text/plain": [
       "count     307.000000\n",
       "mean      157.124955\n",
       "std       230.130287\n",
       "min        14.808552\n",
       "25%        40.153059\n",
       "50%        66.177053\n",
       "75%       161.334871\n",
       "max      1913.952192\n",
       "Name: higher_death_est, dtype: float64"
      ]
     },
     "execution_count": 79,
     "metadata": {},
     "output_type": "execute_result"
    }
   ],
   "source": [
    "df['higher_death_est'].describe()"
   ]
  },
  {
   "cell_type": "code",
   "execution_count": 80,
   "id": "e0a131c3",
   "metadata": {},
   "outputs": [
    {
     "data": {
      "text/html": [
       "<div>\n",
       "<style scoped>\n",
       "    .dataframe tbody tr th:only-of-type {\n",
       "        vertical-align: middle;\n",
       "    }\n",
       "\n",
       "    .dataframe tbody tr th {\n",
       "        vertical-align: top;\n",
       "    }\n",
       "\n",
       "    .dataframe thead th {\n",
       "        text-align: right;\n",
       "    }\n",
       "</style>\n",
       "<table border=\"1\" class=\"dataframe\">\n",
       "  <thead>\n",
       "    <tr style=\"text-align: right;\">\n",
       "      <th></th>\n",
       "      <th>MSA</th>\n",
       "      <th>Population</th>\n",
       "      <th>Population Density</th>\n",
       "      <th>Diagnosed Diabetes Percentage</th>\n",
       "      <th>Violent Crime</th>\n",
       "      <th>Murder and nonnegligent manslaughter</th>\n",
       "      <th>Number of Pop Diagnosed</th>\n",
       "      <th>lower_death_est</th>\n",
       "      <th>higher_death_est</th>\n",
       "      <th>mean_death_est</th>\n",
       "    </tr>\n",
       "  </thead>\n",
       "  <tbody>\n",
       "    <tr>\n",
       "      <th>0</th>\n",
       "      <td>Abilene, TX M.S.A.</td>\n",
       "      <td>170417</td>\n",
       "      <td>62.302643</td>\n",
       "      <td>7.500</td>\n",
       "      <td>670.0</td>\n",
       "      <td>9</td>\n",
       "      <td>12781.2750</td>\n",
       "      <td>31.459680</td>\n",
       "      <td>38.185010</td>\n",
       "      <td>35.470057</td>\n",
       "    </tr>\n",
       "    <tr>\n",
       "      <th>1</th>\n",
       "      <td>Akron, OH M.S.A.</td>\n",
       "      <td>704283</td>\n",
       "      <td>822.497761</td>\n",
       "      <td>9.350</td>\n",
       "      <td>2509.0</td>\n",
       "      <td>45</td>\n",
       "      <td>65850.4605</td>\n",
       "      <td>162.083549</td>\n",
       "      <td>196.733148</td>\n",
       "      <td>182.745431</td>\n",
       "    </tr>\n",
       "    <tr>\n",
       "      <th>2</th>\n",
       "      <td>Albany, GA M.S.A.</td>\n",
       "      <td>147142</td>\n",
       "      <td>104.043825</td>\n",
       "      <td>9.675</td>\n",
       "      <td>1069.0</td>\n",
       "      <td>17</td>\n",
       "      <td>14235.9885</td>\n",
       "      <td>35.040295</td>\n",
       "      <td>42.531074</td>\n",
       "      <td>39.507117</td>\n",
       "    </tr>\n",
       "    <tr>\n",
       "      <th>3</th>\n",
       "      <td>Albany-Schenectady-Troy, NY M.S.A.</td>\n",
       "      <td>871741</td>\n",
       "      <td>384.616247</td>\n",
       "      <td>8.520</td>\n",
       "      <td>2472.0</td>\n",
       "      <td>19</td>\n",
       "      <td>74272.3332</td>\n",
       "      <td>182.813048</td>\n",
       "      <td>221.894119</td>\n",
       "      <td>206.117458</td>\n",
       "    </tr>\n",
       "    <tr>\n",
       "      <th>4</th>\n",
       "      <td>Albuquerque, NM M.S.A.</td>\n",
       "      <td>915468</td>\n",
       "      <td>174.850723</td>\n",
       "      <td>8.575</td>\n",
       "      <td>9930.0</td>\n",
       "      <td>87</td>\n",
       "      <td>78501.3810</td>\n",
       "      <td>193.222377</td>\n",
       "      <td>234.528714</td>\n",
       "      <td>217.853734</td>\n",
       "    </tr>\n",
       "  </tbody>\n",
       "</table>\n",
       "</div>"
      ],
      "text/plain": [
       "                                  MSA  Population  Population Density  \\\n",
       "0                  Abilene, TX M.S.A.      170417           62.302643   \n",
       "1                    Akron, OH M.S.A.      704283          822.497761   \n",
       "2                   Albany, GA M.S.A.      147142          104.043825   \n",
       "3  Albany-Schenectady-Troy, NY M.S.A.      871741          384.616247   \n",
       "4              Albuquerque, NM M.S.A.      915468          174.850723   \n",
       "\n",
       "   Diagnosed Diabetes Percentage  Violent Crime  \\\n",
       "0                          7.500          670.0   \n",
       "1                          9.350         2509.0   \n",
       "2                          9.675         1069.0   \n",
       "3                          8.520         2472.0   \n",
       "4                          8.575         9930.0   \n",
       "\n",
       "   Murder and nonnegligent manslaughter  Number of Pop Diagnosed  \\\n",
       "0                                     9               12781.2750   \n",
       "1                                    45               65850.4605   \n",
       "2                                    17               14235.9885   \n",
       "3                                    19               74272.3332   \n",
       "4                                    87               78501.3810   \n",
       "\n",
       "   lower_death_est  higher_death_est  mean_death_est  \n",
       "0        31.459680         38.185010       35.470057  \n",
       "1       162.083549        196.733148      182.745431  \n",
       "2        35.040295         42.531074       39.507117  \n",
       "3       182.813048        221.894119      206.117458  \n",
       "4       193.222377        234.528714      217.853734  "
      ]
     },
     "execution_count": 80,
     "metadata": {},
     "output_type": "execute_result"
    }
   ],
   "source": [
    "df['mean_death_est'] = df['Number of Pop Diagnosed'] * mean\n",
    "df.head()"
   ]
  },
  {
   "cell_type": "code",
   "execution_count": 81,
   "id": "7825f013",
   "metadata": {},
   "outputs": [
    {
     "data": {
      "text/plain": [
       "count     307.000000\n",
       "mean      145.953378\n",
       "std       213.768035\n",
       "min        13.755664\n",
       "25%        37.298179\n",
       "50%        61.471868\n",
       "75%       149.863970\n",
       "max      1777.870288\n",
       "Name: mean_death_est, dtype: float64"
      ]
     },
     "execution_count": 81,
     "metadata": {},
     "output_type": "execute_result"
    }
   ],
   "source": [
    "df['mean_death_est'].describe()"
   ]
  },
  {
   "cell_type": "code",
   "execution_count": null,
   "id": "dc7037ea",
   "metadata": {},
   "outputs": [],
   "source": []
  },
  {
   "cell_type": "code",
   "execution_count": 82,
   "id": "d76e1fe3",
   "metadata": {},
   "outputs": [
    {
     "data": {
      "text/html": [
       "<div>\n",
       "<style scoped>\n",
       "    .dataframe tbody tr th:only-of-type {\n",
       "        vertical-align: middle;\n",
       "    }\n",
       "\n",
       "    .dataframe tbody tr th {\n",
       "        vertical-align: top;\n",
       "    }\n",
       "\n",
       "    .dataframe thead th {\n",
       "        text-align: right;\n",
       "    }\n",
       "</style>\n",
       "<table border=\"1\" class=\"dataframe\">\n",
       "  <thead>\n",
       "    <tr style=\"text-align: right;\">\n",
       "      <th></th>\n",
       "      <th>MSA</th>\n",
       "      <th>Population</th>\n",
       "      <th>Population Density</th>\n",
       "      <th>Diagnosed Diabetes Percentage</th>\n",
       "      <th>Violent Crime</th>\n",
       "      <th>Murder and nonnegligent manslaughter</th>\n",
       "      <th>Number of Pop Diagnosed</th>\n",
       "      <th>lower_death_est</th>\n",
       "      <th>higher_death_est</th>\n",
       "      <th>mean_death_est</th>\n",
       "    </tr>\n",
       "  </thead>\n",
       "  <tbody>\n",
       "    <tr>\n",
       "      <th>128</th>\n",
       "      <td>Houston-The Woodlands-Sugar Land, TX M.S.A.</td>\n",
       "      <td>7020685</td>\n",
       "      <td>596.686709</td>\n",
       "      <td>9.125000</td>\n",
       "      <td>NaN</td>\n",
       "      <td>440</td>\n",
       "      <td>640637.50625</td>\n",
       "      <td>1576.857628</td>\n",
       "      <td>1913.952192</td>\n",
       "      <td>1777.870288</td>\n",
       "    </tr>\n",
       "    <tr>\n",
       "      <th>215</th>\n",
       "      <td>Philadelphia, PA M.D.</td>\n",
       "      <td>2151872</td>\n",
       "      <td>7441.809594</td>\n",
       "      <td>9.700000</td>\n",
       "      <td>16434.0</td>\n",
       "      <td>394</td>\n",
       "      <td>208731.58400</td>\n",
       "      <td>513.769467</td>\n",
       "      <td>623.601130</td>\n",
       "      <td>579.263121</td>\n",
       "    </tr>\n",
       "    <tr>\n",
       "      <th>17</th>\n",
       "      <td>Baltimore-Columbia-Towson, MD M.S.A.</td>\n",
       "      <td>2799376</td>\n",
       "      <td>906.784642</td>\n",
       "      <td>8.500000</td>\n",
       "      <td>20179.0</td>\n",
       "      <td>373</td>\n",
       "      <td>237946.96000</td>\n",
       "      <td>585.679851</td>\n",
       "      <td>710.884238</td>\n",
       "      <td>660.340405</td>\n",
       "    </tr>\n",
       "    <tr>\n",
       "      <th>265</th>\n",
       "      <td>St. Louis, MO-IL M.S.A.</td>\n",
       "      <td>2806936</td>\n",
       "      <td>121.755267</td>\n",
       "      <td>8.127273</td>\n",
       "      <td>12687.0</td>\n",
       "      <td>360</td>\n",
       "      <td>228127.34400</td>\n",
       "      <td>561.509963</td>\n",
       "      <td>681.547405</td>\n",
       "      <td>633.089419</td>\n",
       "    </tr>\n",
       "    <tr>\n",
       "      <th>76</th>\n",
       "      <td>Detroit-Dearborn-Livonia, MI M.D.</td>\n",
       "      <td>1748511</td>\n",
       "      <td>2866.378578</td>\n",
       "      <td>11.000000</td>\n",
       "      <td>17516.0</td>\n",
       "      <td>293</td>\n",
       "      <td>192336.21000</td>\n",
       "      <td>473.414087</td>\n",
       "      <td>574.618731</td>\n",
       "      <td>533.763368</td>\n",
       "    </tr>\n",
       "    <tr>\n",
       "      <th>...</th>\n",
       "      <td>...</td>\n",
       "      <td>...</td>\n",
       "      <td>...</td>\n",
       "      <td>...</td>\n",
       "      <td>...</td>\n",
       "      <td>...</td>\n",
       "      <td>...</td>\n",
       "      <td>...</td>\n",
       "      <td>...</td>\n",
       "      <td>...</td>\n",
       "    </tr>\n",
       "    <tr>\n",
       "      <th>31</th>\n",
       "      <td>Bloomsburg-Berwick, PA M.S.A</td>\n",
       "      <td>83914</td>\n",
       "      <td>137.519550</td>\n",
       "      <td>7.800000</td>\n",
       "      <td>156.0</td>\n",
       "      <td>0</td>\n",
       "      <td>6545.29200</td>\n",
       "      <td>16.110505</td>\n",
       "      <td>19.554547</td>\n",
       "      <td>18.164219</td>\n",
       "    </tr>\n",
       "    <tr>\n",
       "      <th>131</th>\n",
       "      <td>Ithaca, NY M.S.A</td>\n",
       "      <td>103272</td>\n",
       "      <td>215.777942</td>\n",
       "      <td>6.500000</td>\n",
       "      <td>147.0</td>\n",
       "      <td>0</td>\n",
       "      <td>6712.68000</td>\n",
       "      <td>16.522512</td>\n",
       "      <td>20.054631</td>\n",
       "      <td>18.628747</td>\n",
       "    </tr>\n",
       "    <tr>\n",
       "      <th>301</th>\n",
       "      <td>Winchester, VA-WV M.S.A.</td>\n",
       "      <td>138929</td>\n",
       "      <td>124.858427</td>\n",
       "      <td>8.700000</td>\n",
       "      <td>187.0</td>\n",
       "      <td>0</td>\n",
       "      <td>12086.82300</td>\n",
       "      <td>29.750364</td>\n",
       "      <td>36.110283</td>\n",
       "      <td>33.542843</td>\n",
       "    </tr>\n",
       "    <tr>\n",
       "      <th>63</th>\n",
       "      <td>Columbus, IN M.S.A.</td>\n",
       "      <td>82793</td>\n",
       "      <td>203.293111</td>\n",
       "      <td>9.600000</td>\n",
       "      <td>123.0</td>\n",
       "      <td>0</td>\n",
       "      <td>7948.12800</td>\n",
       "      <td>19.563429</td>\n",
       "      <td>23.745623</td>\n",
       "      <td>22.057311</td>\n",
       "    </tr>\n",
       "    <tr>\n",
       "      <th>255</th>\n",
       "      <td>Sheboygan, WI M.S.A.</td>\n",
       "      <td>115368</td>\n",
       "      <td>225.385804</td>\n",
       "      <td>6.900000</td>\n",
       "      <td>237.0</td>\n",
       "      <td>0</td>\n",
       "      <td>7960.39200</td>\n",
       "      <td>19.593615</td>\n",
       "      <td>23.782263</td>\n",
       "      <td>22.091345</td>\n",
       "    </tr>\n",
       "  </tbody>\n",
       "</table>\n",
       "<p>307 rows × 10 columns</p>\n",
       "</div>"
      ],
      "text/plain": [
       "                                             MSA  Population  \\\n",
       "128  Houston-The Woodlands-Sugar Land, TX M.S.A.     7020685   \n",
       "215                        Philadelphia, PA M.D.     2151872   \n",
       "17          Baltimore-Columbia-Towson, MD M.S.A.     2799376   \n",
       "265                      St. Louis, MO-IL M.S.A.     2806936   \n",
       "76             Detroit-Dearborn-Livonia, MI M.D.     1748511   \n",
       "..                                           ...         ...   \n",
       "31                  Bloomsburg-Berwick, PA M.S.A       83914   \n",
       "131                             Ithaca, NY M.S.A      103272   \n",
       "301                     Winchester, VA-WV M.S.A.      138929   \n",
       "63                           Columbus, IN M.S.A.       82793   \n",
       "255                         Sheboygan, WI M.S.A.      115368   \n",
       "\n",
       "     Population Density  Diagnosed Diabetes Percentage  Violent Crime  \\\n",
       "128          596.686709                       9.125000            NaN   \n",
       "215         7441.809594                       9.700000        16434.0   \n",
       "17           906.784642                       8.500000        20179.0   \n",
       "265          121.755267                       8.127273        12687.0   \n",
       "76          2866.378578                      11.000000        17516.0   \n",
       "..                  ...                            ...            ...   \n",
       "31           137.519550                       7.800000          156.0   \n",
       "131          215.777942                       6.500000          147.0   \n",
       "301          124.858427                       8.700000          187.0   \n",
       "63           203.293111                       9.600000          123.0   \n",
       "255          225.385804                       6.900000          237.0   \n",
       "\n",
       "     Murder and nonnegligent manslaughter  Number of Pop Diagnosed  \\\n",
       "128                                   440             640637.50625   \n",
       "215                                   394             208731.58400   \n",
       "17                                    373             237946.96000   \n",
       "265                                   360             228127.34400   \n",
       "76                                    293             192336.21000   \n",
       "..                                    ...                      ...   \n",
       "31                                      0               6545.29200   \n",
       "131                                     0               6712.68000   \n",
       "301                                     0              12086.82300   \n",
       "63                                      0               7948.12800   \n",
       "255                                     0               7960.39200   \n",
       "\n",
       "     lower_death_est  higher_death_est  mean_death_est  \n",
       "128      1576.857628       1913.952192     1777.870288  \n",
       "215       513.769467        623.601130      579.263121  \n",
       "17        585.679851        710.884238      660.340405  \n",
       "265       561.509963        681.547405      633.089419  \n",
       "76        473.414087        574.618731      533.763368  \n",
       "..               ...               ...             ...  \n",
       "31         16.110505         19.554547       18.164219  \n",
       "131        16.522512         20.054631       18.628747  \n",
       "301        29.750364         36.110283       33.542843  \n",
       "63         19.563429         23.745623       22.057311  \n",
       "255        19.593615         23.782263       22.091345  \n",
       "\n",
       "[307 rows x 10 columns]"
      ]
     },
     "execution_count": 82,
     "metadata": {},
     "output_type": "execute_result"
    }
   ],
   "source": [
    "df.sort_values('Murder and nonnegligent manslaughter', ascending=False)"
   ]
  },
  {
   "cell_type": "code",
   "execution_count": 16,
   "id": "422605b1",
   "metadata": {},
   "outputs": [
    {
     "data": {
      "text/plain": [
       "0.40161855726861106"
      ]
     },
     "execution_count": 16,
     "metadata": {},
     "output_type": "execute_result"
    }
   ],
   "source": [
    "#Can we show a correlation between high crime areas and high pop density?\n",
    "df['mean_death_est'].corr(df['Population Density'])"
   ]
  },
  {
   "cell_type": "code",
   "execution_count": 17,
   "id": "ee333577",
   "metadata": {},
   "outputs": [
    {
     "data": {
      "text/plain": [
       "0.4844586652495221"
      ]
     },
     "execution_count": 17,
     "metadata": {},
     "output_type": "execute_result"
    }
   ],
   "source": [
    "df['Violent Crime'].corr(df['Population Density'])"
   ]
  },
  {
   "cell_type": "code",
   "execution_count": 18,
   "id": "1195752b",
   "metadata": {},
   "outputs": [
    {
     "data": {
      "text/html": [
       "<div>\n",
       "<style scoped>\n",
       "    .dataframe tbody tr th:only-of-type {\n",
       "        vertical-align: middle;\n",
       "    }\n",
       "\n",
       "    .dataframe tbody tr th {\n",
       "        vertical-align: top;\n",
       "    }\n",
       "\n",
       "    .dataframe thead th {\n",
       "        text-align: right;\n",
       "    }\n",
       "</style>\n",
       "<table border=\"1\" class=\"dataframe\">\n",
       "  <thead>\n",
       "    <tr style=\"text-align: right;\">\n",
       "      <th></th>\n",
       "      <th>MSA</th>\n",
       "      <th>Population</th>\n",
       "      <th>Population Density</th>\n",
       "      <th>Diagnosed Diabetes Percentage</th>\n",
       "      <th>Violent Crime</th>\n",
       "      <th>Murder and nonnegligent manslaughter</th>\n",
       "      <th>Number of Pop Diagnosed</th>\n",
       "      <th>lower_death_est</th>\n",
       "      <th>higher_death_est</th>\n",
       "      <th>mean_death_est</th>\n",
       "    </tr>\n",
       "  </thead>\n",
       "  <tbody>\n",
       "    <tr>\n",
       "      <th>128</th>\n",
       "      <td>Houston-The Woodlands-Sugar Land, TX M.S.A.</td>\n",
       "      <td>7020685</td>\n",
       "      <td>596.686709</td>\n",
       "      <td>9.125000</td>\n",
       "      <td>NaN</td>\n",
       "      <td>440</td>\n",
       "      <td>640637.506250</td>\n",
       "      <td>1576.857628</td>\n",
       "      <td>1913.952192</td>\n",
       "      <td>1777.870288</td>\n",
       "    </tr>\n",
       "    <tr>\n",
       "      <th>216</th>\n",
       "      <td>Phoenix-Mesa-Chandler, AZ M.S.A.</td>\n",
       "      <td>4861204</td>\n",
       "      <td>280.893478</td>\n",
       "      <td>9.850000</td>\n",
       "      <td>21687.0</td>\n",
       "      <td>222</td>\n",
       "      <td>478828.594000</td>\n",
       "      <td>1178.583073</td>\n",
       "      <td>1430.536034</td>\n",
       "      <td>1328.824994</td>\n",
       "    </tr>\n",
       "    <tr>\n",
       "      <th>235</th>\n",
       "      <td>Riverside-San Bernardino-Ontario, CA M.S.A.</td>\n",
       "      <td>4595416</td>\n",
       "      <td>339.387468</td>\n",
       "      <td>9.600000</td>\n",
       "      <td>17937.0</td>\n",
       "      <td>220</td>\n",
       "      <td>441159.936000</td>\n",
       "      <td>1085.865881</td>\n",
       "      <td>1317.998117</td>\n",
       "      <td>1224.288517</td>\n",
       "    </tr>\n",
       "    <tr>\n",
       "      <th>69</th>\n",
       "      <td>Dallas-Plano-Irving, TX M.D.</td>\n",
       "      <td>5001330</td>\n",
       "      <td>921.617230</td>\n",
       "      <td>8.128571</td>\n",
       "      <td>17688.0</td>\n",
       "      <td>241</td>\n",
       "      <td>406536.681429</td>\n",
       "      <td>1000.644609</td>\n",
       "      <td>1214.558569</td>\n",
       "      <td>1128.203516</td>\n",
       "    </tr>\n",
       "    <tr>\n",
       "      <th>272</th>\n",
       "      <td>Tampa-St. Petersburg-Clearwater, FL M.S.A.</td>\n",
       "      <td>3135589</td>\n",
       "      <td>1525.537826</td>\n",
       "      <td>9.150000</td>\n",
       "      <td>9588.0</td>\n",
       "      <td>119</td>\n",
       "      <td>286906.393500</td>\n",
       "      <td>706.188025</td>\n",
       "      <td>857.154187</td>\n",
       "      <td>796.210567</td>\n",
       "    </tr>\n",
       "    <tr>\n",
       "      <th>...</th>\n",
       "      <td>...</td>\n",
       "      <td>...</td>\n",
       "      <td>...</td>\n",
       "      <td>...</td>\n",
       "      <td>...</td>\n",
       "      <td>...</td>\n",
       "      <td>...</td>\n",
       "      <td>...</td>\n",
       "      <td>...</td>\n",
       "      <td>...</td>\n",
       "    </tr>\n",
       "    <tr>\n",
       "      <th>183</th>\n",
       "      <td>Midland, MI M.S.A.</td>\n",
       "      <td>83544</td>\n",
       "      <td>161.206780</td>\n",
       "      <td>7.500000</td>\n",
       "      <td>119.0</td>\n",
       "      <td>1</td>\n",
       "      <td>6265.800000</td>\n",
       "      <td>15.422566</td>\n",
       "      <td>18.719543</td>\n",
       "      <td>17.388585</td>\n",
       "    </tr>\n",
       "    <tr>\n",
       "      <th>161</th>\n",
       "      <td>Lewiston, ID-WA M.S.A.</td>\n",
       "      <td>63627</td>\n",
       "      <td>35.548011</td>\n",
       "      <td>9.000000</td>\n",
       "      <td>88.0</td>\n",
       "      <td>1</td>\n",
       "      <td>5726.430000</td>\n",
       "      <td>14.094967</td>\n",
       "      <td>17.108135</td>\n",
       "      <td>15.891748</td>\n",
       "    </tr>\n",
       "    <tr>\n",
       "      <th>71</th>\n",
       "      <td>Danville, IL M.S.A.</td>\n",
       "      <td>77051</td>\n",
       "      <td>85.379075</td>\n",
       "      <td>7.400000</td>\n",
       "      <td>717.0</td>\n",
       "      <td>16</td>\n",
       "      <td>5701.774000</td>\n",
       "      <td>14.034280</td>\n",
       "      <td>17.034474</td>\n",
       "      <td>15.823324</td>\n",
       "    </tr>\n",
       "    <tr>\n",
       "      <th>86</th>\n",
       "      <td>Enid, OK M.S.A.</td>\n",
       "      <td>61489</td>\n",
       "      <td>57.720105</td>\n",
       "      <td>8.300000</td>\n",
       "      <td>188.0</td>\n",
       "      <td>3</td>\n",
       "      <td>5103.587000</td>\n",
       "      <td>12.561909</td>\n",
       "      <td>15.247346</td>\n",
       "      <td>14.163260</td>\n",
       "    </tr>\n",
       "    <tr>\n",
       "      <th>66</th>\n",
       "      <td>Corvallis, OR M.S.A.</td>\n",
       "      <td>91791</td>\n",
       "      <td>136.760659</td>\n",
       "      <td>5.400000</td>\n",
       "      <td>139.0</td>\n",
       "      <td>1</td>\n",
       "      <td>4956.714000</td>\n",
       "      <td>12.200398</td>\n",
       "      <td>14.808552</td>\n",
       "      <td>13.755664</td>\n",
       "    </tr>\n",
       "  </tbody>\n",
       "</table>\n",
       "<p>307 rows × 10 columns</p>\n",
       "</div>"
      ],
      "text/plain": [
       "                                             MSA  Population  \\\n",
       "128  Houston-The Woodlands-Sugar Land, TX M.S.A.     7020685   \n",
       "216             Phoenix-Mesa-Chandler, AZ M.S.A.     4861204   \n",
       "235  Riverside-San Bernardino-Ontario, CA M.S.A.     4595416   \n",
       "69                  Dallas-Plano-Irving, TX M.D.     5001330   \n",
       "272   Tampa-St. Petersburg-Clearwater, FL M.S.A.     3135589   \n",
       "..                                           ...         ...   \n",
       "183                           Midland, MI M.S.A.       83544   \n",
       "161                       Lewiston, ID-WA M.S.A.       63627   \n",
       "71                           Danville, IL M.S.A.       77051   \n",
       "86                               Enid, OK M.S.A.       61489   \n",
       "66                          Corvallis, OR M.S.A.       91791   \n",
       "\n",
       "     Population Density  Diagnosed Diabetes Percentage  Violent Crime  \\\n",
       "128          596.686709                       9.125000            NaN   \n",
       "216          280.893478                       9.850000        21687.0   \n",
       "235          339.387468                       9.600000        17937.0   \n",
       "69           921.617230                       8.128571        17688.0   \n",
       "272         1525.537826                       9.150000         9588.0   \n",
       "..                  ...                            ...            ...   \n",
       "183          161.206780                       7.500000          119.0   \n",
       "161           35.548011                       9.000000           88.0   \n",
       "71            85.379075                       7.400000          717.0   \n",
       "86            57.720105                       8.300000          188.0   \n",
       "66           136.760659                       5.400000          139.0   \n",
       "\n",
       "     Murder and nonnegligent manslaughter  Number of Pop Diagnosed  \\\n",
       "128                                   440            640637.506250   \n",
       "216                                   222            478828.594000   \n",
       "235                                   220            441159.936000   \n",
       "69                                    241            406536.681429   \n",
       "272                                   119            286906.393500   \n",
       "..                                    ...                      ...   \n",
       "183                                     1              6265.800000   \n",
       "161                                     1              5726.430000   \n",
       "71                                     16              5701.774000   \n",
       "86                                      3              5103.587000   \n",
       "66                                      1              4956.714000   \n",
       "\n",
       "     lower_death_est  higher_death_est  mean_death_est  \n",
       "128      1576.857628       1913.952192     1777.870288  \n",
       "216      1178.583073       1430.536034     1328.824994  \n",
       "235      1085.865881       1317.998117     1224.288517  \n",
       "69       1000.644609       1214.558569     1128.203516  \n",
       "272       706.188025        857.154187      796.210567  \n",
       "..               ...               ...             ...  \n",
       "183        15.422566         18.719543       17.388585  \n",
       "161        14.094967         17.108135       15.891748  \n",
       "71         14.034280         17.034474       15.823324  \n",
       "86         12.561909         15.247346       14.163260  \n",
       "66         12.200398         14.808552       13.755664  \n",
       "\n",
       "[307 rows x 10 columns]"
      ]
     },
     "execution_count": 18,
     "metadata": {},
     "output_type": "execute_result"
    }
   ],
   "source": [
    "df.sort_values('mean_death_est', ascending=False)"
   ]
  },
  {
   "cell_type": "code",
   "execution_count": 19,
   "id": "1a976682",
   "metadata": {},
   "outputs": [],
   "source": [
    "df2 = df.copy()\n",
    "df2 = df2.drop([128, 235, 216, 69])"
   ]
  },
  {
   "cell_type": "code",
   "execution_count": 20,
   "id": "4501ce64",
   "metadata": {},
   "outputs": [
    {
     "data": {
      "text/html": [
       "<div>\n",
       "<style scoped>\n",
       "    .dataframe tbody tr th:only-of-type {\n",
       "        vertical-align: middle;\n",
       "    }\n",
       "\n",
       "    .dataframe tbody tr th {\n",
       "        vertical-align: top;\n",
       "    }\n",
       "\n",
       "    .dataframe thead th {\n",
       "        text-align: right;\n",
       "    }\n",
       "</style>\n",
       "<table border=\"1\" class=\"dataframe\">\n",
       "  <thead>\n",
       "    <tr style=\"text-align: right;\">\n",
       "      <th></th>\n",
       "      <th>MSA</th>\n",
       "      <th>Population</th>\n",
       "      <th>Population Density</th>\n",
       "      <th>Diagnosed Diabetes Percentage</th>\n",
       "      <th>Violent Crime</th>\n",
       "      <th>Murder and nonnegligent manslaughter</th>\n",
       "      <th>Number of Pop Diagnosed</th>\n",
       "      <th>lower_death_est</th>\n",
       "      <th>higher_death_est</th>\n",
       "      <th>mean_death_est</th>\n",
       "    </tr>\n",
       "  </thead>\n",
       "  <tbody>\n",
       "    <tr>\n",
       "      <th>272</th>\n",
       "      <td>Tampa-St. Petersburg-Clearwater, FL M.S.A.</td>\n",
       "      <td>3135589</td>\n",
       "      <td>1525.537826</td>\n",
       "      <td>9.150000</td>\n",
       "      <td>9588.0</td>\n",
       "      <td>119</td>\n",
       "      <td>286906.393500</td>\n",
       "      <td>706.188025</td>\n",
       "      <td>857.154187</td>\n",
       "      <td>796.210567</td>\n",
       "    </tr>\n",
       "    <tr>\n",
       "      <th>186</th>\n",
       "      <td>Minneapolis-St. Paul-Bloomington, MN-WI M.S.A.</td>\n",
       "      <td>3619258</td>\n",
       "      <td>798.108751</td>\n",
       "      <td>7.258333</td>\n",
       "      <td>9167.0</td>\n",
       "      <td>70</td>\n",
       "      <td>262697.809833</td>\n",
       "      <td>646.601301</td>\n",
       "      <td>784.829243</td>\n",
       "      <td>729.027923</td>\n",
       "    </tr>\n",
       "    <tr>\n",
       "      <th>8</th>\n",
       "      <td>Anaheim-Santa Ana-Irvine, CA M.D.</td>\n",
       "      <td>3191133</td>\n",
       "      <td>4017.320414</td>\n",
       "      <td>8.000000</td>\n",
       "      <td>7362.0</td>\n",
       "      <td>49</td>\n",
       "      <td>255290.640000</td>\n",
       "      <td>628.369381</td>\n",
       "      <td>762.699772</td>\n",
       "      <td>708.471857</td>\n",
       "    </tr>\n",
       "    <tr>\n",
       "      <th>209</th>\n",
       "      <td>Orlando-Kissimmee-Sanford, FL M.S.A.</td>\n",
       "      <td>2566617</td>\n",
       "      <td>925.201946</td>\n",
       "      <td>9.475000</td>\n",
       "      <td>11359.0</td>\n",
       "      <td>139</td>\n",
       "      <td>243186.960750</td>\n",
       "      <td>598.577527</td>\n",
       "      <td>726.539130</td>\n",
       "      <td>674.882235</td>\n",
       "    </tr>\n",
       "    <tr>\n",
       "      <th>51</th>\n",
       "      <td>Charlotte-Concord-Gastonia, NC-SC M.S.A.</td>\n",
       "      <td>2597260</td>\n",
       "      <td>474.328678</td>\n",
       "      <td>9.245455</td>\n",
       "      <td>10422.0</td>\n",
       "      <td>136</td>\n",
       "      <td>240128.492727</td>\n",
       "      <td>591.049450</td>\n",
       "      <td>717.401730</td>\n",
       "      <td>666.394503</td>\n",
       "    </tr>\n",
       "    <tr>\n",
       "      <th>...</th>\n",
       "      <td>...</td>\n",
       "      <td>...</td>\n",
       "      <td>...</td>\n",
       "      <td>...</td>\n",
       "      <td>...</td>\n",
       "      <td>...</td>\n",
       "      <td>...</td>\n",
       "      <td>...</td>\n",
       "      <td>...</td>\n",
       "      <td>...</td>\n",
       "    </tr>\n",
       "    <tr>\n",
       "      <th>183</th>\n",
       "      <td>Midland, MI M.S.A.</td>\n",
       "      <td>83544</td>\n",
       "      <td>161.206780</td>\n",
       "      <td>7.500000</td>\n",
       "      <td>119.0</td>\n",
       "      <td>1</td>\n",
       "      <td>6265.800000</td>\n",
       "      <td>15.422566</td>\n",
       "      <td>18.719543</td>\n",
       "      <td>17.388585</td>\n",
       "    </tr>\n",
       "    <tr>\n",
       "      <th>161</th>\n",
       "      <td>Lewiston, ID-WA M.S.A.</td>\n",
       "      <td>63627</td>\n",
       "      <td>35.548011</td>\n",
       "      <td>9.000000</td>\n",
       "      <td>88.0</td>\n",
       "      <td>1</td>\n",
       "      <td>5726.430000</td>\n",
       "      <td>14.094967</td>\n",
       "      <td>17.108135</td>\n",
       "      <td>15.891748</td>\n",
       "    </tr>\n",
       "    <tr>\n",
       "      <th>71</th>\n",
       "      <td>Danville, IL M.S.A.</td>\n",
       "      <td>77051</td>\n",
       "      <td>85.379075</td>\n",
       "      <td>7.400000</td>\n",
       "      <td>717.0</td>\n",
       "      <td>16</td>\n",
       "      <td>5701.774000</td>\n",
       "      <td>14.034280</td>\n",
       "      <td>17.034474</td>\n",
       "      <td>15.823324</td>\n",
       "    </tr>\n",
       "    <tr>\n",
       "      <th>86</th>\n",
       "      <td>Enid, OK M.S.A.</td>\n",
       "      <td>61489</td>\n",
       "      <td>57.720105</td>\n",
       "      <td>8.300000</td>\n",
       "      <td>188.0</td>\n",
       "      <td>3</td>\n",
       "      <td>5103.587000</td>\n",
       "      <td>12.561909</td>\n",
       "      <td>15.247346</td>\n",
       "      <td>14.163260</td>\n",
       "    </tr>\n",
       "    <tr>\n",
       "      <th>66</th>\n",
       "      <td>Corvallis, OR M.S.A.</td>\n",
       "      <td>91791</td>\n",
       "      <td>136.760659</td>\n",
       "      <td>5.400000</td>\n",
       "      <td>139.0</td>\n",
       "      <td>1</td>\n",
       "      <td>4956.714000</td>\n",
       "      <td>12.200398</td>\n",
       "      <td>14.808552</td>\n",
       "      <td>13.755664</td>\n",
       "    </tr>\n",
       "  </tbody>\n",
       "</table>\n",
       "<p>303 rows × 10 columns</p>\n",
       "</div>"
      ],
      "text/plain": [
       "                                                MSA  Population  \\\n",
       "272      Tampa-St. Petersburg-Clearwater, FL M.S.A.     3135589   \n",
       "186  Minneapolis-St. Paul-Bloomington, MN-WI M.S.A.     3619258   \n",
       "8                 Anaheim-Santa Ana-Irvine, CA M.D.     3191133   \n",
       "209            Orlando-Kissimmee-Sanford, FL M.S.A.     2566617   \n",
       "51         Charlotte-Concord-Gastonia, NC-SC M.S.A.     2597260   \n",
       "..                                              ...         ...   \n",
       "183                              Midland, MI M.S.A.       83544   \n",
       "161                          Lewiston, ID-WA M.S.A.       63627   \n",
       "71                              Danville, IL M.S.A.       77051   \n",
       "86                                  Enid, OK M.S.A.       61489   \n",
       "66                             Corvallis, OR M.S.A.       91791   \n",
       "\n",
       "     Population Density  Diagnosed Diabetes Percentage  Violent Crime  \\\n",
       "272         1525.537826                       9.150000         9588.0   \n",
       "186          798.108751                       7.258333         9167.0   \n",
       "8           4017.320414                       8.000000         7362.0   \n",
       "209          925.201946                       9.475000        11359.0   \n",
       "51           474.328678                       9.245455        10422.0   \n",
       "..                  ...                            ...            ...   \n",
       "183          161.206780                       7.500000          119.0   \n",
       "161           35.548011                       9.000000           88.0   \n",
       "71            85.379075                       7.400000          717.0   \n",
       "86            57.720105                       8.300000          188.0   \n",
       "66           136.760659                       5.400000          139.0   \n",
       "\n",
       "     Murder and nonnegligent manslaughter  Number of Pop Diagnosed  \\\n",
       "272                                   119            286906.393500   \n",
       "186                                    70            262697.809833   \n",
       "8                                      49            255290.640000   \n",
       "209                                   139            243186.960750   \n",
       "51                                    136            240128.492727   \n",
       "..                                    ...                      ...   \n",
       "183                                     1              6265.800000   \n",
       "161                                     1              5726.430000   \n",
       "71                                     16              5701.774000   \n",
       "86                                      3              5103.587000   \n",
       "66                                      1              4956.714000   \n",
       "\n",
       "     lower_death_est  higher_death_est  mean_death_est  \n",
       "272       706.188025        857.154187      796.210567  \n",
       "186       646.601301        784.829243      729.027923  \n",
       "8         628.369381        762.699772      708.471857  \n",
       "209       598.577527        726.539130      674.882235  \n",
       "51        591.049450        717.401730      666.394503  \n",
       "..               ...               ...             ...  \n",
       "183        15.422566         18.719543       17.388585  \n",
       "161        14.094967         17.108135       15.891748  \n",
       "71         14.034280         17.034474       15.823324  \n",
       "86         12.561909         15.247346       14.163260  \n",
       "66         12.200398         14.808552       13.755664  \n",
       "\n",
       "[303 rows x 10 columns]"
      ]
     },
     "execution_count": 20,
     "metadata": {},
     "output_type": "execute_result"
    }
   ],
   "source": [
    "df2.sort_values('mean_death_est', ascending=False)"
   ]
  },
  {
   "cell_type": "code",
   "execution_count": 21,
   "id": "974fc4c8",
   "metadata": {},
   "outputs": [
    {
     "data": {
      "image/png": "[encoded data removed]",
      "text/plain": [
       "<Figure size 432x288 with 1 Axes>"
      ]
     },
     "metadata": {
      "needs_background": "light"
     },
     "output_type": "display_data"
    }
   ],
   "source": [
    "fig, ax = plt.subplots()\n",
    "plt.scatter(df2['Population Density'], df2['mean_death_est'], label=\"Diabetes\")\n",
    "plt.scatter(df2['Population Density'], df2['Murder and nonnegligent manslaughter'], label=\"Murder\")\n",
    "plt.title(\"Death per Population vs Population Density by State\")\n",
    "plt.xlabel(\"Population Density\") #x label\n",
    "plt.ylabel(\"Deaths\")\n",
    "plt.legend()\n",
    "plt.show()"
   ]
  },
  {
   "cell_type": "code",
   "execution_count": 22,
   "id": "679de63c",
   "metadata": {},
   "outputs": [
    {
     "data": {
      "text/html": [
       "<div>\n",
       "<style scoped>\n",
       "    .dataframe tbody tr th:only-of-type {\n",
       "        vertical-align: middle;\n",
       "    }\n",
       "\n",
       "    .dataframe tbody tr th {\n",
       "        vertical-align: top;\n",
       "    }\n",
       "\n",
       "    .dataframe thead th {\n",
       "        text-align: right;\n",
       "    }\n",
       "</style>\n",
       "<table border=\"1\" class=\"dataframe\">\n",
       "  <thead>\n",
       "    <tr style=\"text-align: right;\">\n",
       "      <th></th>\n",
       "      <th>MSA</th>\n",
       "      <th>Population</th>\n",
       "      <th>Population Density</th>\n",
       "      <th>Diagnosed Diabetes Percentage</th>\n",
       "      <th>Violent Crime</th>\n",
       "      <th>Murder and nonnegligent manslaughter</th>\n",
       "      <th>Number of Pop Diagnosed</th>\n",
       "      <th>lower_death_est</th>\n",
       "      <th>higher_death_est</th>\n",
       "      <th>mean_death_est</th>\n",
       "      <th>Diabetes Death per Pop</th>\n",
       "      <th>Violence Death per Pop</th>\n",
       "    </tr>\n",
       "  </thead>\n",
       "  <tbody>\n",
       "    <tr>\n",
       "      <th>0</th>\n",
       "      <td>Abilene, TX M.S.A.</td>\n",
       "      <td>170417</td>\n",
       "      <td>62.302643</td>\n",
       "      <td>7.500</td>\n",
       "      <td>670.0</td>\n",
       "      <td>9</td>\n",
       "      <td>12781.2750</td>\n",
       "      <td>31.459680</td>\n",
       "      <td>38.185010</td>\n",
       "      <td>35.470057</td>\n",
       "      <td>0.000208</td>\n",
       "      <td>0.000053</td>\n",
       "    </tr>\n",
       "    <tr>\n",
       "      <th>1</th>\n",
       "      <td>Akron, OH M.S.A.</td>\n",
       "      <td>704283</td>\n",
       "      <td>822.497761</td>\n",
       "      <td>9.350</td>\n",
       "      <td>2509.0</td>\n",
       "      <td>45</td>\n",
       "      <td>65850.4605</td>\n",
       "      <td>162.083549</td>\n",
       "      <td>196.733148</td>\n",
       "      <td>182.745431</td>\n",
       "      <td>0.000259</td>\n",
       "      <td>0.000064</td>\n",
       "    </tr>\n",
       "    <tr>\n",
       "      <th>2</th>\n",
       "      <td>Albany, GA M.S.A.</td>\n",
       "      <td>147142</td>\n",
       "      <td>104.043825</td>\n",
       "      <td>9.675</td>\n",
       "      <td>1069.0</td>\n",
       "      <td>17</td>\n",
       "      <td>14235.9885</td>\n",
       "      <td>35.040295</td>\n",
       "      <td>42.531074</td>\n",
       "      <td>39.507117</td>\n",
       "      <td>0.000268</td>\n",
       "      <td>0.000116</td>\n",
       "    </tr>\n",
       "    <tr>\n",
       "      <th>3</th>\n",
       "      <td>Albany-Schenectady-Troy, NY M.S.A.</td>\n",
       "      <td>871741</td>\n",
       "      <td>384.616247</td>\n",
       "      <td>8.520</td>\n",
       "      <td>2472.0</td>\n",
       "      <td>19</td>\n",
       "      <td>74272.3332</td>\n",
       "      <td>182.813048</td>\n",
       "      <td>221.894119</td>\n",
       "      <td>206.117458</td>\n",
       "      <td>0.000236</td>\n",
       "      <td>0.000022</td>\n",
       "    </tr>\n",
       "    <tr>\n",
       "      <th>4</th>\n",
       "      <td>Albuquerque, NM M.S.A.</td>\n",
       "      <td>915468</td>\n",
       "      <td>174.850723</td>\n",
       "      <td>8.575</td>\n",
       "      <td>9930.0</td>\n",
       "      <td>87</td>\n",
       "      <td>78501.3810</td>\n",
       "      <td>193.222377</td>\n",
       "      <td>234.528714</td>\n",
       "      <td>217.853734</td>\n",
       "      <td>0.000238</td>\n",
       "      <td>0.000095</td>\n",
       "    </tr>\n",
       "  </tbody>\n",
       "</table>\n",
       "</div>"
      ],
      "text/plain": [
       "                                  MSA  Population  Population Density  \\\n",
       "0                  Abilene, TX M.S.A.      170417           62.302643   \n",
       "1                    Akron, OH M.S.A.      704283          822.497761   \n",
       "2                   Albany, GA M.S.A.      147142          104.043825   \n",
       "3  Albany-Schenectady-Troy, NY M.S.A.      871741          384.616247   \n",
       "4              Albuquerque, NM M.S.A.      915468          174.850723   \n",
       "\n",
       "   Diagnosed Diabetes Percentage  Violent Crime  \\\n",
       "0                          7.500          670.0   \n",
       "1                          9.350         2509.0   \n",
       "2                          9.675         1069.0   \n",
       "3                          8.520         2472.0   \n",
       "4                          8.575         9930.0   \n",
       "\n",
       "   Murder and nonnegligent manslaughter  Number of Pop Diagnosed  \\\n",
       "0                                     9               12781.2750   \n",
       "1                                    45               65850.4605   \n",
       "2                                    17               14235.9885   \n",
       "3                                    19               74272.3332   \n",
       "4                                    87               78501.3810   \n",
       "\n",
       "   lower_death_est  higher_death_est  mean_death_est  Diabetes Death per Pop  \\\n",
       "0        31.459680         38.185010       35.470057                0.000208   \n",
       "1       162.083549        196.733148      182.745431                0.000259   \n",
       "2        35.040295         42.531074       39.507117                0.000268   \n",
       "3       182.813048        221.894119      206.117458                0.000236   \n",
       "4       193.222377        234.528714      217.853734                0.000238   \n",
       "\n",
       "   Violence Death per Pop  \n",
       "0                0.000053  \n",
       "1                0.000064  \n",
       "2                0.000116  \n",
       "3                0.000022  \n",
       "4                0.000095  "
      ]
     },
     "execution_count": 22,
     "metadata": {},
     "output_type": "execute_result"
    }
   ],
   "source": [
    "df2['Diabetes Death per Pop'] = df2['mean_death_est'] / df2['Population']\n",
    "df2['Violence Death per Pop'] = df2['Murder and nonnegligent manslaughter'] / df2['Population']\n",
    "df2.head()"
   ]
  },
  {
   "cell_type": "code",
   "execution_count": 23,
   "id": "ce9f52d3",
   "metadata": {},
   "outputs": [
    {
     "data": {
      "image/png": "[encoded data removed]",
      "text/plain": [
       "<Figure size 432x288 with 1 Axes>"
      ]
     },
     "metadata": {
      "needs_background": "light"
     },
     "output_type": "display_data"
    }
   ],
   "source": [
    "fig, ax = plt.subplots()\n",
    "plt.scatter(df2['Population Density'], df2['Diabetes Death per Pop'], label=\"Diabetes\")\n",
    "plt.scatter(df2['Population Density'], df2['Violence Death per Pop'], label=\"Murder\")\n",
    "plt.title(\"Death per Population vs Population Density by State\")\n",
    "plt.xlabel(\"Population Density\")\n",
    "plt.ylabel(\"Deaths per Population\")\n",
    "plt.legend()\n",
    "plt.show()"
   ]
  },
  {
   "cell_type": "code",
   "execution_count": 24,
   "id": "0c735c01",
   "metadata": {},
   "outputs": [],
   "source": [
    "df3 = df2[df2['Population Density'] <2000]"
   ]
  },
  {
   "cell_type": "code",
   "execution_count": 25,
   "id": "60c2ddba",
   "metadata": {},
   "outputs": [
    {
     "data": {
      "image/png": "[encoded data removed]",
      "text/plain": [
       "<Figure size 432x288 with 1 Axes>"
      ]
     },
     "metadata": {
      "needs_background": "light"
     },
     "output_type": "display_data"
    }
   ],
   "source": [
    "fig, ax = plt.subplots()\n",
    "plt.scatter(df3['Population Density'], df3['Diabetes Death per Pop'], label=\"Diabetes\")\n",
    "plt.scatter(df3['Population Density'], df3['Violence Death per Pop'], label=\"Murder\")\n",
    "plt.title(\"Death/Population vs Population Density by Metropolitan Area\")\n",
    "plt.xlabel(\"Population Density\")\n",
    "plt.ylabel(\"Deaths/Population\")\n",
    "plt.legend()\n",
    "plt.show()"
   ]
  },
  {
   "cell_type": "code",
   "execution_count": 26,
   "id": "71252928",
   "metadata": {},
   "outputs": [
    {
     "data": {
      "image/png": "[encoded data removed]",
      "text/plain": [
       "<Figure size 432x288 with 1 Axes>"
      ]
     },
     "metadata": {
      "needs_background": "light"
     },
     "output_type": "display_data"
    }
   ],
   "source": [
    "fig, ax = plt.subplots()\n",
    "plt.scatter(df3['Population Density'], df3['mean_death_est'], label=\"Diabetes\")\n",
    "plt.scatter(df3['Population Density'], df3['Murder and nonnegligent manslaughter'], label=\"Murder\")\n",
    "plt.title(\"Death per Population vs Population Density by State\")\n",
    "plt.xlabel(\"Population Density\")\n",
    "plt.ylabel(\"Deaths per Population\")\n",
    "plt.legend()\n",
    "plt.show()"
   ]
  },
  {
   "cell_type": "code",
   "execution_count": 27,
   "id": "362ca7cf",
   "metadata": {},
   "outputs": [],
   "source": [
    "df4 = df3[(df3['mean_death_est'] < 400)]"
   ]
  },
  {
   "cell_type": "code",
   "execution_count": 28,
   "id": "dcc9e48f",
   "metadata": {},
   "outputs": [
    {
     "data": {
      "image/png": "[encoded data removed]",
      "text/plain": [
       "<Figure size 432x288 with 1 Axes>"
      ]
     },
     "metadata": {
      "needs_background": "light"
     },
     "output_type": "display_data"
    }
   ],
   "source": [
    "fig, ax = plt.subplots()\n",
    "plt.scatter(df4['Population Density'], df4['mean_death_est'], label=\"Diabetes\")\n",
    "plt.scatter(df4['Population Density'], df4['Murder and nonnegligent manslaughter'], label=\"Murder\")\n",
    "plt.title(\"Death per Population vs Population Density by State\")\n",
    "plt.xlabel(\"Population Density\")\n",
    "plt.ylabel(\"Deaths per Population\")\n",
    "plt.legend()\n",
    "plt.show()"
   ]
  },
  {
   "cell_type": "code",
   "execution_count": 29,
   "id": "b8cc0a4f",
   "metadata": {},
   "outputs": [],
   "source": [
    "df5 = df2[df2['Diabetes Death per Pop'] < df2['Violence Death per Pop']]"
   ]
  },
  {
   "cell_type": "code",
   "execution_count": 30,
   "id": "4af3744f",
   "metadata": {},
   "outputs": [
    {
     "data": {
      "text/plain": [
       "count    303.000000\n",
       "mean       0.000044\n",
       "std        0.000033\n",
       "min        0.000000\n",
       "25%        0.000019\n",
       "50%        0.000038\n",
       "75%        0.000060\n",
       "max        0.000223\n",
       "Name: Violence Death per Pop, dtype: float64"
      ]
     },
     "execution_count": 30,
     "metadata": {},
     "output_type": "execute_result"
    }
   ],
   "source": [
    "df2['Violence Death per Pop'].describe()"
   ]
  },
  {
   "cell_type": "code",
   "execution_count": 31,
   "id": "6f7af677",
   "metadata": {},
   "outputs": [
    {
     "data": {
      "text/html": [
       "<div>\n",
       "<style scoped>\n",
       "    .dataframe tbody tr th:only-of-type {\n",
       "        vertical-align: middle;\n",
       "    }\n",
       "\n",
       "    .dataframe tbody tr th {\n",
       "        vertical-align: top;\n",
       "    }\n",
       "\n",
       "    .dataframe thead th {\n",
       "        text-align: right;\n",
       "    }\n",
       "</style>\n",
       "<table border=\"1\" class=\"dataframe\">\n",
       "  <thead>\n",
       "    <tr style=\"text-align: right;\">\n",
       "      <th></th>\n",
       "      <th>MSA</th>\n",
       "      <th>Population</th>\n",
       "      <th>Population Density</th>\n",
       "      <th>Diagnosed Diabetes Percentage</th>\n",
       "      <th>Violent Crime</th>\n",
       "      <th>Murder and nonnegligent manslaughter</th>\n",
       "      <th>Number of Pop Diagnosed</th>\n",
       "      <th>lower_death_est</th>\n",
       "      <th>higher_death_est</th>\n",
       "      <th>mean_death_est</th>\n",
       "      <th>Diabetes Death per Pop</th>\n",
       "      <th>Violence Death per Pop</th>\n",
       "    </tr>\n",
       "  </thead>\n",
       "  <tbody>\n",
       "    <tr>\n",
       "      <th>71</th>\n",
       "      <td>Danville, IL M.S.A.</td>\n",
       "      <td>77051</td>\n",
       "      <td>85.379075</td>\n",
       "      <td>7.4</td>\n",
       "      <td>717.0</td>\n",
       "      <td>16</td>\n",
       "      <td>5701.774</td>\n",
       "      <td>14.03428</td>\n",
       "      <td>17.034474</td>\n",
       "      <td>15.823324</td>\n",
       "      <td>0.000205</td>\n",
       "      <td>0.000208</td>\n",
       "    </tr>\n",
       "  </tbody>\n",
       "</table>\n",
       "</div>"
      ],
      "text/plain": [
       "                    MSA  Population  Population Density  \\\n",
       "71  Danville, IL M.S.A.       77051           85.379075   \n",
       "\n",
       "    Diagnosed Diabetes Percentage  Violent Crime  \\\n",
       "71                            7.4          717.0   \n",
       "\n",
       "    Murder and nonnegligent manslaughter  Number of Pop Diagnosed  \\\n",
       "71                                    16                 5701.774   \n",
       "\n",
       "    lower_death_est  higher_death_est  mean_death_est  Diabetes Death per Pop  \\\n",
       "71         14.03428         17.034474       15.823324                0.000205   \n",
       "\n",
       "    Violence Death per Pop  \n",
       "71                0.000208  "
      ]
     },
     "execution_count": 31,
     "metadata": {},
     "output_type": "execute_result"
    }
   ],
   "source": [
    "df5"
   ]
  },
  {
   "cell_type": "code",
   "execution_count": 32,
   "id": "a02790ad",
   "metadata": {},
   "outputs": [],
   "source": [
    "df6 = df2[df2['Diabetes Death per Pop'].min() < df2['Violence Death per Pop']]"
   ]
  },
  {
   "cell_type": "code",
   "execution_count": 33,
   "id": "a5b1e732",
   "metadata": {},
   "outputs": [
    {
     "data": {
      "text/plain": [
       "(303, 12)"
      ]
     },
     "execution_count": 33,
     "metadata": {},
     "output_type": "execute_result"
    }
   ],
   "source": [
    "df2.shape"
   ]
  },
  {
   "cell_type": "code",
   "execution_count": 34,
   "id": "795a3d68",
   "metadata": {},
   "outputs": [
    {
     "data": {
      "text/html": [
       "<div>\n",
       "<style scoped>\n",
       "    .dataframe tbody tr th:only-of-type {\n",
       "        vertical-align: middle;\n",
       "    }\n",
       "\n",
       "    .dataframe tbody tr th {\n",
       "        vertical-align: top;\n",
       "    }\n",
       "\n",
       "    .dataframe thead th {\n",
       "        text-align: right;\n",
       "    }\n",
       "</style>\n",
       "<table border=\"1\" class=\"dataframe\">\n",
       "  <thead>\n",
       "    <tr style=\"text-align: right;\">\n",
       "      <th></th>\n",
       "      <th>MSA</th>\n",
       "      <th>Population</th>\n",
       "      <th>Population Density</th>\n",
       "      <th>Diagnosed Diabetes Percentage</th>\n",
       "      <th>Violent Crime</th>\n",
       "      <th>Murder and nonnegligent manslaughter</th>\n",
       "      <th>Number of Pop Diagnosed</th>\n",
       "      <th>lower_death_est</th>\n",
       "      <th>higher_death_est</th>\n",
       "      <th>mean_death_est</th>\n",
       "      <th>Diabetes Death per Pop</th>\n",
       "      <th>Violence Death per Pop</th>\n",
       "    </tr>\n",
       "  </thead>\n",
       "  <tbody>\n",
       "    <tr>\n",
       "      <th>71</th>\n",
       "      <td>Danville, IL M.S.A.</td>\n",
       "      <td>77051</td>\n",
       "      <td>85.379075</td>\n",
       "      <td>7.40</td>\n",
       "      <td>717.0</td>\n",
       "      <td>16</td>\n",
       "      <td>5701.774</td>\n",
       "      <td>14.034280</td>\n",
       "      <td>17.034474</td>\n",
       "      <td>15.823324</td>\n",
       "      <td>0.000205</td>\n",
       "      <td>0.000208</td>\n",
       "    </tr>\n",
       "    <tr>\n",
       "      <th>76</th>\n",
       "      <td>Detroit-Dearborn-Livonia, MI M.D.</td>\n",
       "      <td>1748511</td>\n",
       "      <td>2866.378578</td>\n",
       "      <td>11.00</td>\n",
       "      <td>17516.0</td>\n",
       "      <td>293</td>\n",
       "      <td>192336.210</td>\n",
       "      <td>473.414087</td>\n",
       "      <td>574.618731</td>\n",
       "      <td>533.763368</td>\n",
       "      <td>0.000305</td>\n",
       "      <td>0.000168</td>\n",
       "    </tr>\n",
       "    <tr>\n",
       "      <th>94</th>\n",
       "      <td>Florence, SC M.S.A.</td>\n",
       "      <td>205828</td>\n",
       "      <td>145.911542</td>\n",
       "      <td>13.25</td>\n",
       "      <td>1529.0</td>\n",
       "      <td>33</td>\n",
       "      <td>27272.210</td>\n",
       "      <td>67.127497</td>\n",
       "      <td>81.477756</td>\n",
       "      <td>75.684691</td>\n",
       "      <td>0.000368</td>\n",
       "      <td>0.000160</td>\n",
       "    </tr>\n",
       "    <tr>\n",
       "      <th>215</th>\n",
       "      <td>Philadelphia, PA M.D.</td>\n",
       "      <td>2151872</td>\n",
       "      <td>7441.809594</td>\n",
       "      <td>9.70</td>\n",
       "      <td>16434.0</td>\n",
       "      <td>394</td>\n",
       "      <td>208731.584</td>\n",
       "      <td>513.769467</td>\n",
       "      <td>623.601130</td>\n",
       "      <td>579.263121</td>\n",
       "      <td>0.000269</td>\n",
       "      <td>0.000183</td>\n",
       "    </tr>\n",
       "    <tr>\n",
       "      <th>217</th>\n",
       "      <td>Pine Bluff, AR M.S.A</td>\n",
       "      <td>89619</td>\n",
       "      <td>38.341385</td>\n",
       "      <td>10.00</td>\n",
       "      <td>789.0</td>\n",
       "      <td>20</td>\n",
       "      <td>8961.900</td>\n",
       "      <td>22.058715</td>\n",
       "      <td>26.774343</td>\n",
       "      <td>24.870688</td>\n",
       "      <td>0.000278</td>\n",
       "      <td>0.000223</td>\n",
       "    </tr>\n",
       "  </tbody>\n",
       "</table>\n",
       "</div>"
      ],
      "text/plain": [
       "                                   MSA  Population  Population Density  \\\n",
       "71                 Danville, IL M.S.A.       77051           85.379075   \n",
       "76   Detroit-Dearborn-Livonia, MI M.D.     1748511         2866.378578   \n",
       "94                 Florence, SC M.S.A.      205828          145.911542   \n",
       "215              Philadelphia, PA M.D.     2151872         7441.809594   \n",
       "217               Pine Bluff, AR M.S.A       89619           38.341385   \n",
       "\n",
       "     Diagnosed Diabetes Percentage  Violent Crime  \\\n",
       "71                            7.40          717.0   \n",
       "76                           11.00        17516.0   \n",
       "94                           13.25         1529.0   \n",
       "215                           9.70        16434.0   \n",
       "217                          10.00          789.0   \n",
       "\n",
       "     Murder and nonnegligent manslaughter  Number of Pop Diagnosed  \\\n",
       "71                                     16                 5701.774   \n",
       "76                                    293               192336.210   \n",
       "94                                     33                27272.210   \n",
       "215                                   394               208731.584   \n",
       "217                                    20                 8961.900   \n",
       "\n",
       "     lower_death_est  higher_death_est  mean_death_est  \\\n",
       "71         14.034280         17.034474       15.823324   \n",
       "76        473.414087        574.618731      533.763368   \n",
       "94         67.127497         81.477756       75.684691   \n",
       "215       513.769467        623.601130      579.263121   \n",
       "217        22.058715         26.774343       24.870688   \n",
       "\n",
       "     Diabetes Death per Pop  Violence Death per Pop  \n",
       "71                 0.000205                0.000208  \n",
       "76                 0.000305                0.000168  \n",
       "94                 0.000368                0.000160  \n",
       "215                0.000269                0.000183  \n",
       "217                0.000278                0.000223  "
      ]
     },
     "execution_count": 34,
     "metadata": {},
     "output_type": "execute_result"
    }
   ],
   "source": [
    "df6"
   ]
  },
  {
   "cell_type": "code",
   "execution_count": 35,
   "id": "db49cd9b",
   "metadata": {},
   "outputs": [
    {
     "data": {
      "text/html": [
       "<div>\n",
       "<style scoped>\n",
       "    .dataframe tbody tr th:only-of-type {\n",
       "        vertical-align: middle;\n",
       "    }\n",
       "\n",
       "    .dataframe tbody tr th {\n",
       "        vertical-align: top;\n",
       "    }\n",
       "\n",
       "    .dataframe thead th {\n",
       "        text-align: right;\n",
       "    }\n",
       "</style>\n",
       "<table border=\"1\" class=\"dataframe\">\n",
       "  <thead>\n",
       "    <tr style=\"text-align: right;\">\n",
       "      <th></th>\n",
       "      <th>MSA</th>\n",
       "      <th>Population</th>\n",
       "      <th>Population Density</th>\n",
       "      <th>Diagnosed Diabetes Percentage</th>\n",
       "      <th>Violent Crime</th>\n",
       "      <th>Murder and nonnegligent manslaughter</th>\n",
       "      <th>Number of Pop Diagnosed</th>\n",
       "      <th>lower_death_est</th>\n",
       "      <th>higher_death_est</th>\n",
       "      <th>mean_death_est</th>\n",
       "      <th>Diabetes Death per Pop</th>\n",
       "      <th>Violence Death per Pop</th>\n",
       "    </tr>\n",
       "  </thead>\n",
       "  <tbody>\n",
       "    <tr>\n",
       "      <th>0</th>\n",
       "      <td>Abilene, TX M.S.A.</td>\n",
       "      <td>170417</td>\n",
       "      <td>62.302643</td>\n",
       "      <td>7.500</td>\n",
       "      <td>670.0</td>\n",
       "      <td>9</td>\n",
       "      <td>12781.2750</td>\n",
       "      <td>31.459680</td>\n",
       "      <td>38.185010</td>\n",
       "      <td>35.470057</td>\n",
       "      <td>0.000208</td>\n",
       "      <td>0.000053</td>\n",
       "    </tr>\n",
       "    <tr>\n",
       "      <th>1</th>\n",
       "      <td>Akron, OH M.S.A.</td>\n",
       "      <td>704283</td>\n",
       "      <td>822.497761</td>\n",
       "      <td>9.350</td>\n",
       "      <td>2509.0</td>\n",
       "      <td>45</td>\n",
       "      <td>65850.4605</td>\n",
       "      <td>162.083549</td>\n",
       "      <td>196.733148</td>\n",
       "      <td>182.745431</td>\n",
       "      <td>0.000259</td>\n",
       "      <td>0.000064</td>\n",
       "    </tr>\n",
       "    <tr>\n",
       "      <th>2</th>\n",
       "      <td>Albany, GA M.S.A.</td>\n",
       "      <td>147142</td>\n",
       "      <td>104.043825</td>\n",
       "      <td>9.675</td>\n",
       "      <td>1069.0</td>\n",
       "      <td>17</td>\n",
       "      <td>14235.9885</td>\n",
       "      <td>35.040295</td>\n",
       "      <td>42.531074</td>\n",
       "      <td>39.507117</td>\n",
       "      <td>0.000268</td>\n",
       "      <td>0.000116</td>\n",
       "    </tr>\n",
       "    <tr>\n",
       "      <th>3</th>\n",
       "      <td>Albany-Schenectady-Troy, NY M.S.A.</td>\n",
       "      <td>871741</td>\n",
       "      <td>384.616247</td>\n",
       "      <td>8.520</td>\n",
       "      <td>2472.0</td>\n",
       "      <td>19</td>\n",
       "      <td>74272.3332</td>\n",
       "      <td>182.813048</td>\n",
       "      <td>221.894119</td>\n",
       "      <td>206.117458</td>\n",
       "      <td>0.000236</td>\n",
       "      <td>0.000022</td>\n",
       "    </tr>\n",
       "    <tr>\n",
       "      <th>4</th>\n",
       "      <td>Albuquerque, NM M.S.A.</td>\n",
       "      <td>915468</td>\n",
       "      <td>174.850723</td>\n",
       "      <td>8.575</td>\n",
       "      <td>9930.0</td>\n",
       "      <td>87</td>\n",
       "      <td>78501.3810</td>\n",
       "      <td>193.222377</td>\n",
       "      <td>234.528714</td>\n",
       "      <td>217.853734</td>\n",
       "      <td>0.000238</td>\n",
       "      <td>0.000095</td>\n",
       "    </tr>\n",
       "  </tbody>\n",
       "</table>\n",
       "</div>"
      ],
      "text/plain": [
       "                                  MSA  Population  Population Density  \\\n",
       "0                  Abilene, TX M.S.A.      170417           62.302643   \n",
       "1                    Akron, OH M.S.A.      704283          822.497761   \n",
       "2                   Albany, GA M.S.A.      147142          104.043825   \n",
       "3  Albany-Schenectady-Troy, NY M.S.A.      871741          384.616247   \n",
       "4              Albuquerque, NM M.S.A.      915468          174.850723   \n",
       "\n",
       "   Diagnosed Diabetes Percentage  Violent Crime  \\\n",
       "0                          7.500          670.0   \n",
       "1                          9.350         2509.0   \n",
       "2                          9.675         1069.0   \n",
       "3                          8.520         2472.0   \n",
       "4                          8.575         9930.0   \n",
       "\n",
       "   Murder and nonnegligent manslaughter  Number of Pop Diagnosed  \\\n",
       "0                                     9               12781.2750   \n",
       "1                                    45               65850.4605   \n",
       "2                                    17               14235.9885   \n",
       "3                                    19               74272.3332   \n",
       "4                                    87               78501.3810   \n",
       "\n",
       "   lower_death_est  higher_death_est  mean_death_est  Diabetes Death per Pop  \\\n",
       "0        31.459680         38.185010       35.470057                0.000208   \n",
       "1       162.083549        196.733148      182.745431                0.000259   \n",
       "2        35.040295         42.531074       39.507117                0.000268   \n",
       "3       182.813048        221.894119      206.117458                0.000236   \n",
       "4       193.222377        234.528714      217.853734                0.000238   \n",
       "\n",
       "   Violence Death per Pop  \n",
       "0                0.000053  \n",
       "1                0.000064  \n",
       "2                0.000116  \n",
       "3                0.000022  \n",
       "4                0.000095  "
      ]
     },
     "execution_count": 35,
     "metadata": {},
     "output_type": "execute_result"
    }
   ],
   "source": [
    "df7 = df.copy()\n",
    "df7['Diabetes Death per Pop'] = df7['mean_death_est'] / df7['Population']\n",
    "df7['Violence Death per Pop'] = df7['Murder and nonnegligent manslaughter'] / df7['Population']\n",
    "df7.head()"
   ]
  },
  {
   "cell_type": "code",
   "execution_count": 36,
   "id": "a04ce776",
   "metadata": {},
   "outputs": [
    {
     "name": "stdout",
     "output_type": "stream",
     "text": [
      "Ratio of average diabetes deaths to violent crime deaths: 5.586504551070149\n"
     ]
    }
   ],
   "source": [
    "print(\"Ratio of average diabetes deaths to violent crime deaths:\", df7['Diabetes Death per Pop'].mean()/df7['Violence Death per Pop'].mean())"
   ]
  },
  {
   "cell_type": "code",
   "execution_count": 37,
   "id": "068fe78e",
   "metadata": {},
   "outputs": [],
   "source": [
    "df['Diabetes Death per Pop'] = df['mean_death_est'] / df2['Population']\n",
    "df['Violence Death per Pop'] = df['Murder and nonnegligent manslaughter'] / df2['Population']\n",
    "df8 = df[df['Diabetes Death per Pop'] < df['Violence Death per Pop']]\n"
   ]
  },
  {
   "cell_type": "code",
   "execution_count": 38,
   "id": "ccee3446",
   "metadata": {},
   "outputs": [
    {
     "data": {
      "text/html": [
       "<div>\n",
       "<style scoped>\n",
       "    .dataframe tbody tr th:only-of-type {\n",
       "        vertical-align: middle;\n",
       "    }\n",
       "\n",
       "    .dataframe tbody tr th {\n",
       "        vertical-align: top;\n",
       "    }\n",
       "\n",
       "    .dataframe thead th {\n",
       "        text-align: right;\n",
       "    }\n",
       "</style>\n",
       "<table border=\"1\" class=\"dataframe\">\n",
       "  <thead>\n",
       "    <tr style=\"text-align: right;\">\n",
       "      <th></th>\n",
       "      <th>MSA</th>\n",
       "      <th>Population</th>\n",
       "      <th>Population Density</th>\n",
       "      <th>Diagnosed Diabetes Percentage</th>\n",
       "      <th>Violent Crime</th>\n",
       "      <th>Murder and nonnegligent manslaughter</th>\n",
       "      <th>Number of Pop Diagnosed</th>\n",
       "      <th>lower_death_est</th>\n",
       "      <th>higher_death_est</th>\n",
       "      <th>mean_death_est</th>\n",
       "      <th>Diabetes Death per Pop</th>\n",
       "      <th>Violence Death per Pop</th>\n",
       "    </tr>\n",
       "  </thead>\n",
       "  <tbody>\n",
       "    <tr>\n",
       "      <th>71</th>\n",
       "      <td>Danville, IL M.S.A.</td>\n",
       "      <td>77051</td>\n",
       "      <td>85.379075</td>\n",
       "      <td>7.4</td>\n",
       "      <td>717.0</td>\n",
       "      <td>16</td>\n",
       "      <td>5701.774</td>\n",
       "      <td>14.03428</td>\n",
       "      <td>17.034474</td>\n",
       "      <td>15.823324</td>\n",
       "      <td>0.000205</td>\n",
       "      <td>0.000208</td>\n",
       "    </tr>\n",
       "  </tbody>\n",
       "</table>\n",
       "</div>"
      ],
      "text/plain": [
       "                    MSA  Population  Population Density  \\\n",
       "71  Danville, IL M.S.A.       77051           85.379075   \n",
       "\n",
       "    Diagnosed Diabetes Percentage  Violent Crime  \\\n",
       "71                            7.4          717.0   \n",
       "\n",
       "    Murder and nonnegligent manslaughter  Number of Pop Diagnosed  \\\n",
       "71                                    16                 5701.774   \n",
       "\n",
       "    lower_death_est  higher_death_est  mean_death_est  Diabetes Death per Pop  \\\n",
       "71         14.03428         17.034474       15.823324                0.000205   \n",
       "\n",
       "    Violence Death per Pop  \n",
       "71                0.000208  "
      ]
     },
     "execution_count": 38,
     "metadata": {},
     "output_type": "execute_result"
    }
   ],
   "source": [
    "df8"
   ]
  },
  {
   "cell_type": "code",
   "execution_count": 39,
   "id": "5ce00c83",
   "metadata": {},
   "outputs": [],
   "source": [
    "df9 = df.sort_values('Murder and nonnegligent manslaughter', ascending=False).head(30)"
   ]
  },
  {
   "cell_type": "code",
   "execution_count": 40,
   "id": "0642bd52",
   "metadata": {},
   "outputs": [
    {
     "data": {
      "image/png": "[encoded data removed]",
      "text/plain": [
       "<Figure size 432x288 with 1 Axes>"
      ]
     },
     "metadata": {
      "needs_background": "light"
     },
     "output_type": "display_data"
    }
   ],
   "source": [
    "fig, ax = plt.subplots()\n",
    "plt.scatter(df9['Population Density'], df9['Diabetes Death per Pop'], label=\"Diabetes\")\n",
    "plt.scatter(df9['Population Density'], df9['Violence Death per Pop'], label=\"Murder\")\n",
    "plt.title(\"Death/Population vs Population Density by Metropolitan Area for Top 30 High Crime Areas\")\n",
    "plt.xlabel(\"Population Density\")\n",
    "plt.ylabel(\"Deaths/Population\")\n",
    "plt.legend()\n",
    "plt.show()"
   ]
  },
  {
   "cell_type": "code",
   "execution_count": 41,
   "id": "ae02f3c6",
   "metadata": {},
   "outputs": [
    {
     "data": {
      "text/html": [
       "<div>\n",
       "<style scoped>\n",
       "    .dataframe tbody tr th:only-of-type {\n",
       "        vertical-align: middle;\n",
       "    }\n",
       "\n",
       "    .dataframe tbody tr th {\n",
       "        vertical-align: top;\n",
       "    }\n",
       "\n",
       "    .dataframe thead th {\n",
       "        text-align: right;\n",
       "    }\n",
       "</style>\n",
       "<table border=\"1\" class=\"dataframe\">\n",
       "  <thead>\n",
       "    <tr style=\"text-align: right;\">\n",
       "      <th></th>\n",
       "      <th>MSA</th>\n",
       "      <th>Population</th>\n",
       "      <th>Population Density</th>\n",
       "      <th>Diagnosed Diabetes Percentage</th>\n",
       "      <th>Violent Crime</th>\n",
       "      <th>Murder and nonnegligent manslaughter</th>\n",
       "      <th>Number of Pop Diagnosed</th>\n",
       "      <th>lower_death_est</th>\n",
       "      <th>higher_death_est</th>\n",
       "      <th>mean_death_est</th>\n",
       "      <th>Diabetes Death per Pop</th>\n",
       "      <th>Violence Death per Pop</th>\n",
       "    </tr>\n",
       "  </thead>\n",
       "  <tbody>\n",
       "    <tr>\n",
       "      <th>0</th>\n",
       "      <td>Abilene, TX M.S.A.</td>\n",
       "      <td>170417</td>\n",
       "      <td>62.302643</td>\n",
       "      <td>7.500</td>\n",
       "      <td>670.0</td>\n",
       "      <td>9</td>\n",
       "      <td>12781.2750</td>\n",
       "      <td>31.459680</td>\n",
       "      <td>38.185010</td>\n",
       "      <td>35.470057</td>\n",
       "      <td>0.000208</td>\n",
       "      <td>0.000053</td>\n",
       "    </tr>\n",
       "    <tr>\n",
       "      <th>1</th>\n",
       "      <td>Akron, OH M.S.A.</td>\n",
       "      <td>704283</td>\n",
       "      <td>822.497761</td>\n",
       "      <td>9.350</td>\n",
       "      <td>2509.0</td>\n",
       "      <td>45</td>\n",
       "      <td>65850.4605</td>\n",
       "      <td>162.083549</td>\n",
       "      <td>196.733148</td>\n",
       "      <td>182.745431</td>\n",
       "      <td>0.000259</td>\n",
       "      <td>0.000064</td>\n",
       "    </tr>\n",
       "    <tr>\n",
       "      <th>2</th>\n",
       "      <td>Albany, GA M.S.A.</td>\n",
       "      <td>147142</td>\n",
       "      <td>104.043825</td>\n",
       "      <td>9.675</td>\n",
       "      <td>1069.0</td>\n",
       "      <td>17</td>\n",
       "      <td>14235.9885</td>\n",
       "      <td>35.040295</td>\n",
       "      <td>42.531074</td>\n",
       "      <td>39.507117</td>\n",
       "      <td>0.000268</td>\n",
       "      <td>0.000116</td>\n",
       "    </tr>\n",
       "    <tr>\n",
       "      <th>3</th>\n",
       "      <td>Albany-Schenectady-Troy, NY M.S.A.</td>\n",
       "      <td>871741</td>\n",
       "      <td>384.616247</td>\n",
       "      <td>8.520</td>\n",
       "      <td>2472.0</td>\n",
       "      <td>19</td>\n",
       "      <td>74272.3332</td>\n",
       "      <td>182.813048</td>\n",
       "      <td>221.894119</td>\n",
       "      <td>206.117458</td>\n",
       "      <td>0.000236</td>\n",
       "      <td>0.000022</td>\n",
       "    </tr>\n",
       "    <tr>\n",
       "      <th>4</th>\n",
       "      <td>Albuquerque, NM M.S.A.</td>\n",
       "      <td>915468</td>\n",
       "      <td>174.850723</td>\n",
       "      <td>8.575</td>\n",
       "      <td>9930.0</td>\n",
       "      <td>87</td>\n",
       "      <td>78501.3810</td>\n",
       "      <td>193.222377</td>\n",
       "      <td>234.528714</td>\n",
       "      <td>217.853734</td>\n",
       "      <td>0.000238</td>\n",
       "      <td>0.000095</td>\n",
       "    </tr>\n",
       "  </tbody>\n",
       "</table>\n",
       "</div>"
      ],
      "text/plain": [
       "                                  MSA  Population  Population Density  \\\n",
       "0                  Abilene, TX M.S.A.      170417           62.302643   \n",
       "1                    Akron, OH M.S.A.      704283          822.497761   \n",
       "2                   Albany, GA M.S.A.      147142          104.043825   \n",
       "3  Albany-Schenectady-Troy, NY M.S.A.      871741          384.616247   \n",
       "4              Albuquerque, NM M.S.A.      915468          174.850723   \n",
       "\n",
       "   Diagnosed Diabetes Percentage  Violent Crime  \\\n",
       "0                          7.500          670.0   \n",
       "1                          9.350         2509.0   \n",
       "2                          9.675         1069.0   \n",
       "3                          8.520         2472.0   \n",
       "4                          8.575         9930.0   \n",
       "\n",
       "   Murder and nonnegligent manslaughter  Number of Pop Diagnosed  \\\n",
       "0                                     9               12781.2750   \n",
       "1                                    45               65850.4605   \n",
       "2                                    17               14235.9885   \n",
       "3                                    19               74272.3332   \n",
       "4                                    87               78501.3810   \n",
       "\n",
       "   lower_death_est  higher_death_est  mean_death_est  Diabetes Death per Pop  \\\n",
       "0        31.459680         38.185010       35.470057                0.000208   \n",
       "1       162.083549        196.733148      182.745431                0.000259   \n",
       "2        35.040295         42.531074       39.507117                0.000268   \n",
       "3       182.813048        221.894119      206.117458                0.000236   \n",
       "4       193.222377        234.528714      217.853734                0.000238   \n",
       "\n",
       "   Violence Death per Pop  \n",
       "0                0.000053  \n",
       "1                0.000064  \n",
       "2                0.000116  \n",
       "3                0.000022  \n",
       "4                0.000095  "
      ]
     },
     "execution_count": 41,
     "metadata": {},
     "output_type": "execute_result"
    }
   ],
   "source": [
    "df7.head()"
   ]
  },
  {
   "cell_type": "code",
   "execution_count": 42,
   "id": "b39fbc48",
   "metadata": {},
   "outputs": [],
   "source": [
    "avg_diabetes_deaths = df2['mean_death_est'].mean()\n",
    "avg_crime_deaths = df2['Murder and nonnegligent manslaughter'].mean()"
   ]
  },
  {
   "cell_type": "code",
   "execution_count": 43,
   "id": "48c3b44f",
   "metadata": {},
   "outputs": [
    {
     "data": {
      "text/plain": [
       "129.86303574326374"
      ]
     },
     "execution_count": 43,
     "metadata": {},
     "output_type": "execute_result"
    }
   ],
   "source": [
    "avg_diabetes_deaths"
   ]
  },
  {
   "cell_type": "code",
   "execution_count": 44,
   "id": "364810eb",
   "metadata": {},
   "outputs": [
    {
     "data": {
      "text/plain": [
       "26.623762376237625"
      ]
     },
     "execution_count": 44,
     "metadata": {},
     "output_type": "execute_result"
    }
   ],
   "source": [
    "avg_crime_deaths"
   ]
  },
  {
   "cell_type": "code",
   "execution_count": 45,
   "id": "bef50ed4",
   "metadata": {},
   "outputs": [
    {
     "data": {
      "text/plain": [
       "Ttest_1sampResult(statistic=11.963012990273384, pvalue=2.5642731719901667e-27)"
      ]
     },
     "execution_count": 45,
     "metadata": {},
     "output_type": "execute_result"
    }
   ],
   "source": [
    "stats.ttest_1samp(df7['mean_death_est'], 0)   "
   ]
  },
  {
   "cell_type": "code",
   "execution_count": 46,
   "id": "57644815",
   "metadata": {},
   "outputs": [
    {
     "data": {
      "text/plain": [
       "Ttest_1sampResult(statistic=8.986067841852865, pvalue=2.7059500496644673e-17)"
      ]
     },
     "execution_count": 46,
     "metadata": {},
     "output_type": "execute_result"
    }
   ],
   "source": [
    "stats.ttest_1samp(df7['Murder and nonnegligent manslaughter'], 0)   "
   ]
  },
  {
   "cell_type": "code",
   "execution_count": 47,
   "id": "e7c6c229",
   "metadata": {},
   "outputs": [],
   "source": [
    "ans = stats.ttest_ind(df7['mean_death_est'], df7['Murder and nonnegligent manslaughter'], equal_var = False)   \n",
    "t = ans[0]\n",
    "p = ans[1]"
   ]
  },
  {
   "cell_type": "code",
   "execution_count": 48,
   "id": "fca733c4",
   "metadata": {},
   "outputs": [
    {
     "data": {
      "text/plain": [
       "9.174"
      ]
     },
     "execution_count": 48,
     "metadata": {},
     "output_type": "execute_result"
    }
   ],
   "source": [
    "t = round(t, 3)\n",
    "t"
   ]
  },
  {
   "cell_type": "code",
   "execution_count": 49,
   "id": "805206a0",
   "metadata": {},
   "outputs": [
    {
     "data": {
      "text/plain": [
       "'3.966e-18'"
      ]
     },
     "execution_count": 49,
     "metadata": {},
     "output_type": "execute_result"
    }
   ],
   "source": [
    "#Round the p value\n",
    "p = '{:0.3e}'.format(p)\n",
    "p"
   ]
  },
  {
   "cell_type": "code",
   "execution_count": 50,
   "id": "ee2b7247",
   "metadata": {},
   "outputs": [],
   "source": [
    "newdf = df7[['mean_death_est', 'Murder and nonnegligent manslaughter']].copy()"
   ]
  },
  {
   "cell_type": "code",
   "execution_count": 51,
   "id": "e49fec6f",
   "metadata": {},
   "outputs": [
    {
     "data": {
      "text/plain": [
       "Text(3, 8, 'boxed italics text in data coords')"
      ]
     },
     "execution_count": 51,
     "metadata": {},
     "output_type": "execute_result"
    }
   ],
   "source": [
    "ax.text(3, 8, 'boxed italics text in data coords', style='italic',\n",
    "        bbox={'facecolor': 'red', 'alpha': 0.5, 'pad': 10})"
   ]
  },
  {
   "cell_type": "code",
   "execution_count": 52,
   "id": "a44f6dd4",
   "metadata": {},
   "outputs": [
    {
     "data": {
      "image/png": "[encoded data removed]",
      "text/plain": [
       "<Figure size 864x648 with 1 Axes>"
      ]
     },
     "metadata": {
      "needs_background": "light"
     },
     "output_type": "display_data"
    }
   ],
   "source": [
    "data1 = df2['mean_death_est']\n",
    "data2 = df2['Murder and nonnegligent manslaughter']\n",
    "\n",
    "data = [data1, data2]\n",
    "\n",
    "data_labels = ['Death by Diabetes', 'Death by Interpersonal Violence']\n",
    "\n",
    "\n",
    "fig, axs = plt.subplots(figsize=(12,9))\n",
    "\n",
    "\n",
    "\n",
    "bplot1 = axs.boxplot(data,\n",
    "                     showfliers=False,\n",
    "                     vert=True, \n",
    "                     patch_artist=True,  \n",
    "                     labels=data_labels) \n",
    "\n",
    "colors = ['tab:blue', 'tab:red']\n",
    "\n",
    "for patch, color in zip(bplot1['boxes'], colors):\n",
    "    patch.set_facecolor(color)\n",
    "axs.xaxis.label.set_size(40)\n",
    "    \n",
    "plt.annotate('t = %f \\np = 3.421e-20' %t, fontsize=16, xy=(0.75, 0.85), xycoords='axes fraction')\n",
    "fig.suptitle(\"T-test for Diabetes Deaths and Violence Deaths\", fontsize=16, y=0.92)\n",
    "plt.show()"
   ]
  },
  {
   "cell_type": "code",
   "execution_count": 53,
   "id": "08d209df",
   "metadata": {},
   "outputs": [],
   "source": [
    "#data = [newdf['lower_death_est'], newdf['Murder and nonnegligent manslaughter']\n",
    "\n",
    "#fig, ax = plt.subplots()\n",
    "#ax.set_title('Multiple Samples with Different sizes')\n",
    "#ax.boxplot(data)\n",
    "\n",
    "#plt.show()"
   ]
  },
  {
   "cell_type": "code",
   "execution_count": 54,
   "id": "e1711b8a",
   "metadata": {},
   "outputs": [
    {
     "data": {
      "image/png": "[encoded data removed]",
      "text/plain": [
       "<Figure size 432x288 with 1 Axes>"
      ]
     },
     "metadata": {
      "needs_background": "light"
     },
     "output_type": "display_data"
    }
   ],
   "source": [
    "boxplot = df.boxplot(column=['Diabetes Death per Pop', 'Violence Death per Pop'])\n",
    "plt.show()"
   ]
  },
  {
   "cell_type": "code",
   "execution_count": 55,
   "id": "198a3016",
   "metadata": {},
   "outputs": [
    {
     "data": {
      "image/png": "[encoded data removed]",
      "text/plain": [
       "<Figure size 1440x2160 with 1 Axes>"
      ]
     },
     "metadata": {
      "needs_background": "light"
     },
     "output_type": "display_data"
    }
   ],
   "source": [
    "boxplot = df.boxplot(column=['mean_death_est', 'Murder and nonnegligent manslaughter'],\n",
    "                    whis=[0,100],\n",
    "                    figsize=(20,30))\n",
    "plt.show()"
   ]
  },
  {
   "cell_type": "code",
   "execution_count": 56,
   "id": "dc13f591",
   "metadata": {},
   "outputs": [
    {
     "data": {
      "image/png": "[encoded data removed]",
      "text/plain": [
       "<Figure size 1440x1440 with 1 Axes>"
      ]
     },
     "metadata": {
      "needs_background": "light"
     },
     "output_type": "display_data"
    }
   ],
   "source": [
    "#plt.figure(figsize=(4, 3))\n",
    "#df.boxplot(column=['lower_death_est', 'Murder and nonnegligent manslaughter'])\n",
    "\n",
    "# Boxplot of the difference\n",
    "#plt.figure(figsize=(4, 3))\n",
    "#plt.boxplot(df2['lower_death_est'] -  df2['Murder and nonnegligent manslaughter'])\n",
    "#plt.xticks((1, ), ('Dia - Mur', ))\n",
    "\n",
    "axes = df2.boxplot(column=['mean_death_est', 'Murder and nonnegligent manslaughter'], \n",
    "                   figsize=(20,20),\n",
    "                   whis=[0,100], \n",
    "                   return_type='axes')\n",
    "#for ax in axes.values():\n",
    "#    ax.set_ylim(-12.5, 12.5)\n",
    "\n",
    "\n",
    "\n",
    "plt.show()\n"
   ]
  },
  {
   "cell_type": "code",
   "execution_count": 57,
   "id": "a3247944",
   "metadata": {},
   "outputs": [
    {
     "data": {
      "text/plain": [
       "(array([252.,  27.,   8.,   9.,   2.,   1.,   0.,   1.,   0.,   3.]),\n",
       " array([  0. ,  39.4,  78.8, 118.2, 157.6, 197. , 236.4, 275.8, 315.2,\n",
       "        354.6, 394. ]),\n",
       " <BarContainer object of 10 artists>)"
      ]
     },
     "execution_count": 57,
     "metadata": {},
     "output_type": "execute_result"
    },
    {
     "data": {
      "image/png": "[encoded data removed]",
      "text/plain": [
       "<Figure size 432x288 with 2 Axes>"
      ]
     },
     "metadata": {
      "needs_background": "light"
     },
     "output_type": "display_data"
    }
   ],
   "source": [
    "fig, axs = plt.subplots(1, 2, sharey=True, tight_layout=True)\n",
    "\n",
    "# We can set the number of bins with the `bins` kwarg\n",
    "axs[0].hist(df2['mean_death_est'], bins=10)\n",
    "axs[1].hist(df2['Murder and nonnegligent manslaughter'], bins=10)"
   ]
  },
  {
   "cell_type": "code",
   "execution_count": 58,
   "id": "fbced4d7",
   "metadata": {},
   "outputs": [
    {
     "data": {
      "text/plain": [
       "(array([ 24., 118., 105.,  51.,   5.]),\n",
       " array([0.00014708, 0.00019426, 0.00024144, 0.00028862, 0.00033579,\n",
       "        0.00038297]),\n",
       " <BarContainer object of 5 artists>)"
      ]
     },
     "execution_count": 58,
     "metadata": {},
     "output_type": "execute_result"
    },
    {
     "data": {
      "image/png": "[encoded data removed]",
      "text/plain": [
       "<Figure size 432x288 with 2 Axes>"
      ]
     },
     "metadata": {
      "needs_background": "light"
     },
     "output_type": "display_data"
    }
   ],
   "source": [
    "fig, axs = plt.subplots(1, 2, sharey=True, tight_layout=True)\n",
    "n_bins = 5\n",
    "# We can set the number of bins with the `bins` kwarg\n",
    "axs[0].hist(df['Population Density'], n_bins, label='Test')\n",
    "axs[1].hist(df['Diabetes Death per Pop'], n_bins)"
   ]
  },
  {
   "cell_type": "code",
   "execution_count": 59,
   "id": "bd53a4ce",
   "metadata": {},
   "outputs": [
    {
     "data": {
      "image/png": "[encoded data removed]",
      "text/plain": [
       "<Figure size 432x288 with 1 Axes>"
      ]
     },
     "metadata": {
      "needs_background": "light"
     },
     "output_type": "display_data"
    }
   ],
   "source": [
    "s = df2['mean_death_est']\n",
    "ax = s.plot.kde()"
   ]
  },
  {
   "cell_type": "code",
   "execution_count": 60,
   "id": "030236e0",
   "metadata": {},
   "outputs": [
    {
     "data": {
      "image/png": "[encoded data removed]",
      "text/plain": [
       "<Figure size 432x288 with 1 Axes>"
      ]
     },
     "metadata": {
      "needs_background": "light"
     },
     "output_type": "display_data"
    }
   ],
   "source": [
    "s = df2['Murder and nonnegligent manslaughter']\n",
    "ax = s.plot.kde()"
   ]
  },
  {
   "cell_type": "code",
   "execution_count": 61,
   "id": "e8632e4d",
   "metadata": {},
   "outputs": [
    {
     "data": {
      "image/png": "[encoded data removed]",
      "text/plain": [
       "<Figure size 432x288 with 1 Axes>"
      ]
     },
     "metadata": {
      "needs_background": "light"
     },
     "output_type": "display_data"
    }
   ],
   "source": [
    "newdf = df2[['Murder and nonnegligent manslaughter', 'mean_death_est']].copy()\n",
    "ax = newdf.plot.kde()"
   ]
  },
  {
   "cell_type": "code",
   "execution_count": 62,
   "id": "daa27c08",
   "metadata": {},
   "outputs": [],
   "source": [
    "newdf = df[['Violence Death per Pop', 'Diabetes Death per Pop']].copy()\n"
   ]
  },
  {
   "cell_type": "code",
   "execution_count": 63,
   "id": "11f9e312",
   "metadata": {},
   "outputs": [
    {
     "data": {
      "image/png": "[encoded data removed]",
      "text/plain": [
       "<Figure size 504x360 with 1 Axes>"
      ]
     },
     "metadata": {
      "needs_background": "light"
     },
     "output_type": "display_data"
    }
   ],
   "source": [
    "newdf.plot.density(figsize = (7, 5),\n",
    "                       linewidth = 2, color=['tab:red', 'tab:blue'])\n",
    "\n",
    "plt.xlabel(\"Population\")\n",
    "plt.title(\"Density Plot of Deaths per Population for Diabetes and Interpersonal Violence\")\n",
    "\n",
    "\n",
    "plt.show()"
   ]
  },
  {
   "cell_type": "code",
   "execution_count": null,
   "id": "0f383b03",
   "metadata": {},
   "outputs": [],
   "source": []
  },
  {
   "cell_type": "code",
   "execution_count": 64,
   "id": "554fbdd5",
   "metadata": {},
   "outputs": [
    {
     "data": {
      "text/plain": [
       "Ttest_1sampResult(statistic=14.143204866669087, pvalue=3.389218711846199e-35)"
      ]
     },
     "execution_count": 64,
     "metadata": {},
     "output_type": "execute_result"
    }
   ],
   "source": [
    "stats.ttest_1samp(df2['mean_death_est'], 0)   "
   ]
  },
  {
   "cell_type": "code",
   "execution_count": 65,
   "id": "59b71d3a",
   "metadata": {},
   "outputs": [
    {
     "data": {
      "text/plain": [
       "Ttest_1sampResult(statistic=9.27821368270908, pvalue=3.441528753035437e-18)"
      ]
     },
     "execution_count": 65,
     "metadata": {},
     "output_type": "execute_result"
    }
   ],
   "source": [
    "stats.ttest_1samp(df2['Murder and nonnegligent manslaughter'], 0)   "
   ]
  },
  {
   "cell_type": "code",
   "execution_count": 66,
   "id": "2bfad973",
   "metadata": {},
   "outputs": [
    {
     "data": {
      "text/plain": [
       "Ttest_indResult(statistic=10.282061128256062, pvalue=5.682811969607279e-23)"
      ]
     },
     "execution_count": 66,
     "metadata": {},
     "output_type": "execute_result"
    }
   ],
   "source": [
    "stats.ttest_ind(df2['mean_death_est'], df['Murder and nonnegligent manslaughter'])   "
   ]
  },
  {
   "cell_type": "code",
   "execution_count": 67,
   "id": "240ce4dc",
   "metadata": {},
   "outputs": [
    {
     "data": {
      "text/html": [
       "<div>\n",
       "<style scoped>\n",
       "    .dataframe tbody tr th:only-of-type {\n",
       "        vertical-align: middle;\n",
       "    }\n",
       "\n",
       "    .dataframe tbody tr th {\n",
       "        vertical-align: top;\n",
       "    }\n",
       "\n",
       "    .dataframe thead th {\n",
       "        text-align: right;\n",
       "    }\n",
       "</style>\n",
       "<table border=\"1\" class=\"dataframe\">\n",
       "  <thead>\n",
       "    <tr style=\"text-align: right;\">\n",
       "      <th></th>\n",
       "      <th>MSA</th>\n",
       "      <th>Population</th>\n",
       "      <th>Population Density</th>\n",
       "      <th>Diagnosed Diabetes Percentage</th>\n",
       "      <th>Violent Crime</th>\n",
       "      <th>Murder and nonnegligent manslaughter</th>\n",
       "      <th>Number of Pop Diagnosed</th>\n",
       "      <th>lower_death_est</th>\n",
       "      <th>higher_death_est</th>\n",
       "      <th>mean_death_est</th>\n",
       "      <th>Diabetes Death per Pop</th>\n",
       "      <th>Violence Death per Pop</th>\n",
       "    </tr>\n",
       "  </thead>\n",
       "  <tbody>\n",
       "    <tr>\n",
       "      <th>0</th>\n",
       "      <td>Abilene, TX M.S.A.</td>\n",
       "      <td>170417</td>\n",
       "      <td>62.302643</td>\n",
       "      <td>7.500</td>\n",
       "      <td>670.0</td>\n",
       "      <td>9</td>\n",
       "      <td>12781.2750</td>\n",
       "      <td>31.459680</td>\n",
       "      <td>38.185010</td>\n",
       "      <td>35.470057</td>\n",
       "      <td>0.000208</td>\n",
       "      <td>0.000053</td>\n",
       "    </tr>\n",
       "    <tr>\n",
       "      <th>1</th>\n",
       "      <td>Akron, OH M.S.A.</td>\n",
       "      <td>704283</td>\n",
       "      <td>822.497761</td>\n",
       "      <td>9.350</td>\n",
       "      <td>2509.0</td>\n",
       "      <td>45</td>\n",
       "      <td>65850.4605</td>\n",
       "      <td>162.083549</td>\n",
       "      <td>196.733148</td>\n",
       "      <td>182.745431</td>\n",
       "      <td>0.000259</td>\n",
       "      <td>0.000064</td>\n",
       "    </tr>\n",
       "    <tr>\n",
       "      <th>2</th>\n",
       "      <td>Albany, GA M.S.A.</td>\n",
       "      <td>147142</td>\n",
       "      <td>104.043825</td>\n",
       "      <td>9.675</td>\n",
       "      <td>1069.0</td>\n",
       "      <td>17</td>\n",
       "      <td>14235.9885</td>\n",
       "      <td>35.040295</td>\n",
       "      <td>42.531074</td>\n",
       "      <td>39.507117</td>\n",
       "      <td>0.000268</td>\n",
       "      <td>0.000116</td>\n",
       "    </tr>\n",
       "    <tr>\n",
       "      <th>3</th>\n",
       "      <td>Albany-Schenectady-Troy, NY M.S.A.</td>\n",
       "      <td>871741</td>\n",
       "      <td>384.616247</td>\n",
       "      <td>8.520</td>\n",
       "      <td>2472.0</td>\n",
       "      <td>19</td>\n",
       "      <td>74272.3332</td>\n",
       "      <td>182.813048</td>\n",
       "      <td>221.894119</td>\n",
       "      <td>206.117458</td>\n",
       "      <td>0.000236</td>\n",
       "      <td>0.000022</td>\n",
       "    </tr>\n",
       "    <tr>\n",
       "      <th>4</th>\n",
       "      <td>Albuquerque, NM M.S.A.</td>\n",
       "      <td>915468</td>\n",
       "      <td>174.850723</td>\n",
       "      <td>8.575</td>\n",
       "      <td>9930.0</td>\n",
       "      <td>87</td>\n",
       "      <td>78501.3810</td>\n",
       "      <td>193.222377</td>\n",
       "      <td>234.528714</td>\n",
       "      <td>217.853734</td>\n",
       "      <td>0.000238</td>\n",
       "      <td>0.000095</td>\n",
       "    </tr>\n",
       "    <tr>\n",
       "      <th>...</th>\n",
       "      <td>...</td>\n",
       "      <td>...</td>\n",
       "      <td>...</td>\n",
       "      <td>...</td>\n",
       "      <td>...</td>\n",
       "      <td>...</td>\n",
       "      <td>...</td>\n",
       "      <td>...</td>\n",
       "      <td>...</td>\n",
       "      <td>...</td>\n",
       "      <td>...</td>\n",
       "      <td>...</td>\n",
       "    </tr>\n",
       "    <tr>\n",
       "      <th>302</th>\n",
       "      <td>Worcester, MA-CT M.S.A.</td>\n",
       "      <td>871779</td>\n",
       "      <td>388.493888</td>\n",
       "      <td>8.800</td>\n",
       "      <td>2773.0</td>\n",
       "      <td>11</td>\n",
       "      <td>76716.5520</td>\n",
       "      <td>188.829219</td>\n",
       "      <td>229.196404</td>\n",
       "      <td>212.900551</td>\n",
       "      <td>0.000244</td>\n",
       "      <td>0.000013</td>\n",
       "    </tr>\n",
       "    <tr>\n",
       "      <th>303</th>\n",
       "      <td>Yakima, WA M.S.A.</td>\n",
       "      <td>252019</td>\n",
       "      <td>58.332635</td>\n",
       "      <td>10.900</td>\n",
       "      <td>681.0</td>\n",
       "      <td>25</td>\n",
       "      <td>27470.0710</td>\n",
       "      <td>67.614510</td>\n",
       "      <td>82.068880</td>\n",
       "      <td>76.233787</td>\n",
       "      <td>0.000302</td>\n",
       "      <td>0.000099</td>\n",
       "    </tr>\n",
       "    <tr>\n",
       "      <th>304</th>\n",
       "      <td>York-Hanover, PA M.S.A.</td>\n",
       "      <td>447168</td>\n",
       "      <td>495.307350</td>\n",
       "      <td>9.300</td>\n",
       "      <td>1125.0</td>\n",
       "      <td>24</td>\n",
       "      <td>41586.6240</td>\n",
       "      <td>102.360828</td>\n",
       "      <td>124.243132</td>\n",
       "      <td>115.409451</td>\n",
       "      <td>0.000258</td>\n",
       "      <td>0.000054</td>\n",
       "    </tr>\n",
       "    <tr>\n",
       "      <th>305</th>\n",
       "      <td>Yuba City, CA M.S.A.</td>\n",
       "      <td>173299</td>\n",
       "      <td>141.342716</td>\n",
       "      <td>8.800</td>\n",
       "      <td>669.0</td>\n",
       "      <td>8</td>\n",
       "      <td>15250.3120</td>\n",
       "      <td>37.536939</td>\n",
       "      <td>45.561441</td>\n",
       "      <td>42.322025</td>\n",
       "      <td>0.000244</td>\n",
       "      <td>0.000046</td>\n",
       "    </tr>\n",
       "    <tr>\n",
       "      <th>306</th>\n",
       "      <td>Yuma, AZ M.S.A.</td>\n",
       "      <td>210913</td>\n",
       "      <td>38.377291</td>\n",
       "      <td>9.500</td>\n",
       "      <td>673.0</td>\n",
       "      <td>26</td>\n",
       "      <td>20036.7350</td>\n",
       "      <td>49.318184</td>\n",
       "      <td>59.861236</td>\n",
       "      <td>55.605105</td>\n",
       "      <td>0.000264</td>\n",
       "      <td>0.000123</td>\n",
       "    </tr>\n",
       "  </tbody>\n",
       "</table>\n",
       "<p>307 rows × 12 columns</p>\n",
       "</div>"
      ],
      "text/plain": [
       "                                    MSA  Population  Population Density  \\\n",
       "0                    Abilene, TX M.S.A.      170417           62.302643   \n",
       "1                      Akron, OH M.S.A.      704283          822.497761   \n",
       "2                     Albany, GA M.S.A.      147142          104.043825   \n",
       "3    Albany-Schenectady-Troy, NY M.S.A.      871741          384.616247   \n",
       "4                Albuquerque, NM M.S.A.      915468          174.850723   \n",
       "..                                  ...         ...                 ...   \n",
       "302             Worcester, MA-CT M.S.A.      871779          388.493888   \n",
       "303                   Yakima, WA M.S.A.      252019           58.332635   \n",
       "304             York-Hanover, PA M.S.A.      447168          495.307350   \n",
       "305                Yuba City, CA M.S.A.      173299          141.342716   \n",
       "306                     Yuma, AZ M.S.A.      210913           38.377291   \n",
       "\n",
       "     Diagnosed Diabetes Percentage  Violent Crime  \\\n",
       "0                            7.500          670.0   \n",
       "1                            9.350         2509.0   \n",
       "2                            9.675         1069.0   \n",
       "3                            8.520         2472.0   \n",
       "4                            8.575         9930.0   \n",
       "..                             ...            ...   \n",
       "302                          8.800         2773.0   \n",
       "303                         10.900          681.0   \n",
       "304                          9.300         1125.0   \n",
       "305                          8.800          669.0   \n",
       "306                          9.500          673.0   \n",
       "\n",
       "     Murder and nonnegligent manslaughter  Number of Pop Diagnosed  \\\n",
       "0                                       9               12781.2750   \n",
       "1                                      45               65850.4605   \n",
       "2                                      17               14235.9885   \n",
       "3                                      19               74272.3332   \n",
       "4                                      87               78501.3810   \n",
       "..                                    ...                      ...   \n",
       "302                                    11               76716.5520   \n",
       "303                                    25               27470.0710   \n",
       "304                                    24               41586.6240   \n",
       "305                                     8               15250.3120   \n",
       "306                                    26               20036.7350   \n",
       "\n",
       "     lower_death_est  higher_death_est  mean_death_est  \\\n",
       "0          31.459680         38.185010       35.470057   \n",
       "1         162.083549        196.733148      182.745431   \n",
       "2          35.040295         42.531074       39.507117   \n",
       "3         182.813048        221.894119      206.117458   \n",
       "4         193.222377        234.528714      217.853734   \n",
       "..               ...               ...             ...   \n",
       "302       188.829219        229.196404      212.900551   \n",
       "303        67.614510         82.068880       76.233787   \n",
       "304       102.360828        124.243132      115.409451   \n",
       "305        37.536939         45.561441       42.322025   \n",
       "306        49.318184         59.861236       55.605105   \n",
       "\n",
       "     Diabetes Death per Pop  Violence Death per Pop  \n",
       "0                  0.000208                0.000053  \n",
       "1                  0.000259                0.000064  \n",
       "2                  0.000268                0.000116  \n",
       "3                  0.000236                0.000022  \n",
       "4                  0.000238                0.000095  \n",
       "..                      ...                     ...  \n",
       "302                0.000244                0.000013  \n",
       "303                0.000302                0.000099  \n",
       "304                0.000258                0.000054  \n",
       "305                0.000244                0.000046  \n",
       "306                0.000264                0.000123  \n",
       "\n",
       "[307 rows x 12 columns]"
      ]
     },
     "execution_count": 67,
     "metadata": {},
     "output_type": "execute_result"
    }
   ],
   "source": [
    "df"
   ]
  },
  {
   "cell_type": "code",
   "execution_count": 68,
   "id": "143de7d8",
   "metadata": {},
   "outputs": [
    {
     "data": {
      "image/png": "[encoded data removed]",
      "text/plain": [
       "<Figure size 648x288 with 1 Axes>"
      ]
     },
     "metadata": {
      "needs_background": "light"
     },
     "output_type": "display_data"
    }
   ],
   "source": [
    "newdf = df2[['MSA', 'Murder and nonnegligent manslaughter', 'mean_death_est']].copy()\n",
    "newdf = newdf.sort_values('Murder and nonnegligent manslaughter', ascending = False)\n",
    "newdf = newdf.head(20)\n",
    "\n",
    "labels = [1,2,3,4,5,6,7,8,9,10,11,12,13,14,15,16,17,18,19,20]\n",
    "diabetes = newdf['mean_death_est'].tolist()\n",
    "violence = newdf['Murder and nonnegligent manslaughter']\n",
    "\n",
    "x = np.arange(len(labels))\n",
    "width = 0.35  \n",
    "\n",
    "fig, ax = plt.subplots(figsize=(9,4))\n",
    "rects1 = ax.bar(x - width/2, diabetes, width, color='tab:blue', label='Diabetes')\n",
    "rects2 = ax.bar(x + width/2, violence, width, color='tab:red', label='Violence')\n",
    "\n",
    "ax.set_ylabel('Deaths')\n",
    "ax.set_title('Deaths for Ranked Highest Homicide Metropolitan Areas due to Diabetes and Interpersonal Violence')\n",
    "ax.set_xticks(x)\n",
    "ax.set_xticklabels(labels)\n",
    "ax.legend()\n",
    "fig.tight_layout()\n",
    "plt.show()\n"
   ]
  }
 ],
 "metadata": {
  "kernelspec": {
   "display_name": "Python 3",
   "language": "python",
   "name": "python3"
  },
  "language_info": {
   "codemirror_mode": {
    "name": "ipython",
    "version": 3
   },
   "file_extension": ".py",
   "mimetype": "text/x-python",
   "name": "python",
   "nbconvert_exporter": "python",
   "pygments_lexer": "ipython3",
   "version": "3.8.8"
  }
 },
 "nbformat": 4,
 "nbformat_minor": 5
}
