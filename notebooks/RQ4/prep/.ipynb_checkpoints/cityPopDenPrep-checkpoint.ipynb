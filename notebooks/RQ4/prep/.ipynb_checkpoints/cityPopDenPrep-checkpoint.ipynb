{
 "cells": [
  {
   "cell_type": "code",
   "execution_count": 1,
   "id": "d5ca340d",
   "metadata": {},
   "outputs": [],
   "source": [
    "import pandas as pd"
   ]
  },
  {
   "cell_type": "code",
   "execution_count": 2,
   "id": "38d12887",
   "metadata": {},
   "outputs": [],
   "source": [
    "# Webpage url                                                                                                               \n",
    "url = 'https://www.governing.com/archive/population-density-land-area-cities-map.html'\n",
    "\n",
    "# Extract tables\n",
    "dfs = pd.read_html(url)"
   ]
  },
  {
   "cell_type": "code",
   "execution_count": 3,
   "id": "1ac06736",
   "metadata": {},
   "outputs": [],
   "source": [
    "# Get first table                                                                                                           \n",
    "df = dfs[0]\n",
    "\n",
    "# Extract columns                                                                                                           \n",
    "df2 = df[['City','Population Density (Persons/Square Mile)', '2016 Population', 'Land Area (Square Miles)']]\n"
   ]
  },
  {
   "cell_type": "code",
   "execution_count": 4,
   "id": "f1d93754",
   "metadata": {},
   "outputs": [
    {
     "data": {
      "text/html": [
       "<div>\n",
       "<style scoped>\n",
       "    .dataframe tbody tr th:only-of-type {\n",
       "        vertical-align: middle;\n",
       "    }\n",
       "\n",
       "    .dataframe tbody tr th {\n",
       "        vertical-align: top;\n",
       "    }\n",
       "\n",
       "    .dataframe thead th {\n",
       "        text-align: right;\n",
       "    }\n",
       "</style>\n",
       "<table border=\"1\" class=\"dataframe\">\n",
       "  <thead>\n",
       "    <tr style=\"text-align: right;\">\n",
       "      <th></th>\n",
       "      <th>City</th>\n",
       "      <th>Population Density (Persons/Square Mile)</th>\n",
       "      <th>2016 Population</th>\n",
       "      <th>Land Area (Square Miles)</th>\n",
       "    </tr>\n",
       "  </thead>\n",
       "  <tbody>\n",
       "    <tr>\n",
       "      <th>0</th>\n",
       "      <td>New York, New York</td>\n",
       "      <td>28211</td>\n",
       "      <td>8537673</td>\n",
       "      <td>303</td>\n",
       "    </tr>\n",
       "    <tr>\n",
       "      <th>1</th>\n",
       "      <td>Los Angeles, California</td>\n",
       "      <td>8484</td>\n",
       "      <td>3976322</td>\n",
       "      <td>469</td>\n",
       "    </tr>\n",
       "    <tr>\n",
       "      <th>2</th>\n",
       "      <td>Chicago, Illinois</td>\n",
       "      <td>11883</td>\n",
       "      <td>2704958</td>\n",
       "      <td>228</td>\n",
       "    </tr>\n",
       "    <tr>\n",
       "      <th>3</th>\n",
       "      <td>Houston, Texas</td>\n",
       "      <td>3842</td>\n",
       "      <td>2303482</td>\n",
       "      <td>600</td>\n",
       "    </tr>\n",
       "    <tr>\n",
       "      <th>4</th>\n",
       "      <td>Phoenix, Arizona</td>\n",
       "      <td>3126</td>\n",
       "      <td>1615017</td>\n",
       "      <td>517</td>\n",
       "    </tr>\n",
       "    <tr>\n",
       "      <th>...</th>\n",
       "      <td>...</td>\n",
       "      <td>...</td>\n",
       "      <td>...</td>\n",
       "      <td>...</td>\n",
       "    </tr>\n",
       "    <tr>\n",
       "      <th>749</th>\n",
       "      <td>Cerritos, California</td>\n",
       "      <td>5791</td>\n",
       "      <td>50555</td>\n",
       "      <td>9</td>\n",
       "    </tr>\n",
       "    <tr>\n",
       "      <th>750</th>\n",
       "      <td>Galveston, Texas</td>\n",
       "      <td>1226</td>\n",
       "      <td>50550</td>\n",
       "      <td>41</td>\n",
       "    </tr>\n",
       "    <tr>\n",
       "      <th>751</th>\n",
       "      <td>Coeur d'Alene, Idaho</td>\n",
       "      <td>3230</td>\n",
       "      <td>50285</td>\n",
       "      <td>16</td>\n",
       "    </tr>\n",
       "    <tr>\n",
       "      <th>752</th>\n",
       "      <td>Lakewood, Ohio</td>\n",
       "      <td>9092</td>\n",
       "      <td>50279</td>\n",
       "      <td>6</td>\n",
       "    </tr>\n",
       "    <tr>\n",
       "      <th>753</th>\n",
       "      <td>Poway, California</td>\n",
       "      <td>1281</td>\n",
       "      <td>50077</td>\n",
       "      <td>39</td>\n",
       "    </tr>\n",
       "  </tbody>\n",
       "</table>\n",
       "<p>754 rows × 4 columns</p>\n",
       "</div>"
      ],
      "text/plain": [
       "                        City  Population Density (Persons/Square Mile)  \\\n",
       "0         New York, New York                                     28211   \n",
       "1    Los Angeles, California                                      8484   \n",
       "2          Chicago, Illinois                                     11883   \n",
       "3             Houston, Texas                                      3842   \n",
       "4           Phoenix, Arizona                                      3126   \n",
       "..                       ...                                       ...   \n",
       "749     Cerritos, California                                      5791   \n",
       "750         Galveston, Texas                                      1226   \n",
       "751     Coeur d'Alene, Idaho                                      3230   \n",
       "752           Lakewood, Ohio                                      9092   \n",
       "753        Poway, California                                      1281   \n",
       "\n",
       "     2016 Population  Land Area (Square Miles)  \n",
       "0            8537673                       303  \n",
       "1            3976322                       469  \n",
       "2            2704958                       228  \n",
       "3            2303482                       600  \n",
       "4            1615017                       517  \n",
       "..               ...                       ...  \n",
       "749            50555                         9  \n",
       "750            50550                        41  \n",
       "751            50285                        16  \n",
       "752            50279                         6  \n",
       "753            50077                        39  \n",
       "\n",
       "[754 rows x 4 columns]"
      ]
     },
     "execution_count": 4,
     "metadata": {},
     "output_type": "execute_result"
    }
   ],
   "source": [
    "df2"
   ]
  },
  {
   "cell_type": "code",
   "execution_count": 5,
   "id": "44420343",
   "metadata": {},
   "outputs": [
    {
     "data": {
      "text/plain": [
       "Index(['City', 'Population Density (Persons/Square Mile)', '2016 Population',\n",
       "       'Land Area (Square Miles)'],\n",
       "      dtype='object')"
      ]
     },
     "execution_count": 5,
     "metadata": {},
     "output_type": "execute_result"
    }
   ],
   "source": [
    "df2.columns"
   ]
  },
  {
   "cell_type": "code",
   "execution_count": 6,
   "id": "88655415",
   "metadata": {},
   "outputs": [],
   "source": [
    "df2 = df2.drop(['2016 Population', 'Population Density (Persons/Square Mile)'], axis=1)"
   ]
  },
  {
   "cell_type": "code",
   "execution_count": 7,
   "id": "9d45ae1f",
   "metadata": {},
   "outputs": [
    {
     "data": {
      "text/plain": [
       "City                        0\n",
       "Land Area (Square Miles)    0\n",
       "dtype: int64"
      ]
     },
     "execution_count": 7,
     "metadata": {},
     "output_type": "execute_result"
    }
   ],
   "source": [
    "df2.isnull().sum()"
   ]
  },
  {
   "cell_type": "code",
   "execution_count": 8,
   "id": "88c475a1",
   "metadata": {},
   "outputs": [],
   "source": [
    "city_land_area_df = df2.copy()\n",
    "city_land_area_df.to_csv(\"city_land_area_df.csv\", index=False)"
   ]
  }
 ],
 "metadata": {
  "kernelspec": {
   "display_name": "Python 3",
   "language": "python",
   "name": "python3"
  },
  "language_info": {
   "codemirror_mode": {
    "name": "ipython",
    "version": 3
   },
   "file_extension": ".py",
   "mimetype": "text/x-python",
   "name": "python",
   "nbconvert_exporter": "python",
   "pygments_lexer": "ipython3",
   "version": "3.8.8"
  }
 },
 "nbformat": 4,
 "nbformat_minor": 5
}
