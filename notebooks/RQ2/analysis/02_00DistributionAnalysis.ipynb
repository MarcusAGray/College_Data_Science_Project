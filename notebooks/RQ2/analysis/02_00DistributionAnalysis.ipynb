{
 "cells": [
  {
   "cell_type": "markdown",
   "id": "b6839a95",
   "metadata": {},
   "source": [
    "# Distribution Analysis"
   ]
  },
  {
   "cell_type": "markdown",
   "id": "03a2882c",
   "metadata": {},
   "source": [
    "# Setup"
   ]
  },
  {
   "cell_type": "markdown",
   "id": "efc2d318",
   "metadata": {},
   "source": [
    "## Imports"
   ]
  },
  {
   "cell_type": "code",
   "execution_count": 1,
   "id": "818d9802",
   "metadata": {},
   "outputs": [],
   "source": [
    "import pandas as pd\n",
    "import numpy as np\n",
    "import matplotlib.pyplot as plt\n",
    "import datetime"
   ]
  },
  {
   "cell_type": "markdown",
   "id": "3e78b8a4",
   "metadata": {},
   "source": [
    "## Parameters"
   ]
  },
  {
   "cell_type": "code",
   "execution_count": 2,
   "id": "4e386779",
   "metadata": {},
   "outputs": [],
   "source": [
    "ALL_COUNTRIES_DATASET = \"../../../data/RQ2/processed/all_countries_df.csv\""
   ]
  },
  {
   "cell_type": "markdown",
   "id": "d1b66d72",
   "metadata": {},
   "source": [
    "## Configuration"
   ]
  },
  {
   "cell_type": "code",
   "execution_count": 3,
   "id": "98fd95e7",
   "metadata": {},
   "outputs": [],
   "source": [
    "%matplotlib inline"
   ]
  },
  {
   "cell_type": "markdown",
   "id": "3a2db510",
   "metadata": {},
   "source": [
    "# Loading the Dataset"
   ]
  },
  {
   "cell_type": "code",
   "execution_count": 4,
   "id": "47e3bbd6",
   "metadata": {},
   "outputs": [],
   "source": [
    "df = pd.read_csv(ALL_COUNTRIES_DATASET)"
   ]
  },
  {
   "cell_type": "code",
   "execution_count": 5,
   "id": "e0860194",
   "metadata": {},
   "outputs": [],
   "source": [
    "df['year'] = pd.to_datetime(df['year'], format=\"%Y\")"
   ]
  },
  {
   "cell_type": "code",
   "execution_count": 6,
   "id": "cb46e76c",
   "metadata": {},
   "outputs": [
    {
     "data": {
      "text/html": [
       "<div>\n",
       "<style scoped>\n",
       "    .dataframe tbody tr th:only-of-type {\n",
       "        vertical-align: middle;\n",
       "    }\n",
       "\n",
       "    .dataframe tbody tr th {\n",
       "        vertical-align: top;\n",
       "    }\n",
       "\n",
       "    .dataframe thead th {\n",
       "        text-align: right;\n",
       "    }\n",
       "</style>\n",
       "<table border=\"1\" class=\"dataframe\">\n",
       "  <thead>\n",
       "    <tr style=\"text-align: right;\">\n",
       "      <th></th>\n",
       "      <th>country</th>\n",
       "      <th>measure</th>\n",
       "      <th>location</th>\n",
       "      <th>sex</th>\n",
       "      <th>age_sort</th>\n",
       "      <th>age</th>\n",
       "      <th>cause</th>\n",
       "      <th>year</th>\n",
       "      <th>val</th>\n",
       "    </tr>\n",
       "  </thead>\n",
       "  <tbody>\n",
       "    <tr>\n",
       "      <th>0</th>\n",
       "      <td>United Kingdom</td>\n",
       "      <td>YLLs (Years of Life Lost)</td>\n",
       "      <td>Wigan</td>\n",
       "      <td>Male</td>\n",
       "      <td>0</td>\n",
       "      <td>1 to 4</td>\n",
       "      <td>Diabetes mellitus</td>\n",
       "      <td>2010-01-01</td>\n",
       "      <td>2.403586</td>\n",
       "    </tr>\n",
       "    <tr>\n",
       "      <th>1</th>\n",
       "      <td>United Kingdom</td>\n",
       "      <td>YLLs (Years of Life Lost)</td>\n",
       "      <td>Wigan</td>\n",
       "      <td>Female</td>\n",
       "      <td>0</td>\n",
       "      <td>1 to 4</td>\n",
       "      <td>Diabetes mellitus</td>\n",
       "      <td>2010-01-01</td>\n",
       "      <td>3.287731</td>\n",
       "    </tr>\n",
       "    <tr>\n",
       "      <th>2</th>\n",
       "      <td>United Kingdom</td>\n",
       "      <td>YLLs (Years of Life Lost)</td>\n",
       "      <td>Wigan</td>\n",
       "      <td>Male</td>\n",
       "      <td>1</td>\n",
       "      <td>5 to 9</td>\n",
       "      <td>Diabetes mellitus</td>\n",
       "      <td>2010-01-01</td>\n",
       "      <td>1.983731</td>\n",
       "    </tr>\n",
       "    <tr>\n",
       "      <th>3</th>\n",
       "      <td>United Kingdom</td>\n",
       "      <td>YLLs (Years of Life Lost)</td>\n",
       "      <td>Wigan</td>\n",
       "      <td>Female</td>\n",
       "      <td>1</td>\n",
       "      <td>5 to 9</td>\n",
       "      <td>Diabetes mellitus</td>\n",
       "      <td>2010-01-01</td>\n",
       "      <td>2.037679</td>\n",
       "    </tr>\n",
       "    <tr>\n",
       "      <th>4</th>\n",
       "      <td>United Kingdom</td>\n",
       "      <td>YLLs (Years of Life Lost)</td>\n",
       "      <td>Wigan</td>\n",
       "      <td>Male</td>\n",
       "      <td>2</td>\n",
       "      <td>10 to 14</td>\n",
       "      <td>Diabetes mellitus</td>\n",
       "      <td>2010-01-01</td>\n",
       "      <td>2.203710</td>\n",
       "    </tr>\n",
       "  </tbody>\n",
       "</table>\n",
       "</div>"
      ],
      "text/plain": [
       "          country                    measure location     sex  age_sort  \\\n",
       "0  United Kingdom  YLLs (Years of Life Lost)    Wigan    Male         0   \n",
       "1  United Kingdom  YLLs (Years of Life Lost)    Wigan  Female         0   \n",
       "2  United Kingdom  YLLs (Years of Life Lost)    Wigan    Male         1   \n",
       "3  United Kingdom  YLLs (Years of Life Lost)    Wigan  Female         1   \n",
       "4  United Kingdom  YLLs (Years of Life Lost)    Wigan    Male         2   \n",
       "\n",
       "        age              cause       year       val  \n",
       "0    1 to 4  Diabetes mellitus 2010-01-01  2.403586  \n",
       "1    1 to 4  Diabetes mellitus 2010-01-01  3.287731  \n",
       "2    5 to 9  Diabetes mellitus 2010-01-01  1.983731  \n",
       "3    5 to 9  Diabetes mellitus 2010-01-01  2.037679  \n",
       "4  10 to 14  Diabetes mellitus 2010-01-01  2.203710  "
      ]
     },
     "execution_count": 6,
     "metadata": {},
     "output_type": "execute_result"
    }
   ],
   "source": [
    "df.head()"
   ]
  },
  {
   "cell_type": "markdown",
   "id": "944c9223",
   "metadata": {},
   "source": [
    "# Look at distribution of deaths for all countries"
   ]
  },
  {
   "cell_type": "markdown",
   "id": "ced171ce",
   "metadata": {},
   "source": [
    "## Distribution for interpersonal violence (Deaths)"
   ]
  },
  {
   "cell_type": "code",
   "execution_count": 7,
   "id": "bebe5109",
   "metadata": {},
   "outputs": [],
   "source": [
    "america_violence_deaths = df[df['country'].str.fullmatch('America')&\n",
    "          df['measure'].str.fullmatch('Deaths')&\n",
    "          df['cause'].str.fullmatch('Interpersonal violence')]\n",
    "\n",
    "america_violence_deaths = america_violence_deaths.groupby(['location'], as_index=False).agg({'val':'mean'})"
   ]
  },
  {
   "cell_type": "code",
   "execution_count": 8,
   "id": "349ff20e",
   "metadata": {},
   "outputs": [],
   "source": [
    "mexico_violence_deaths = df[df['country'].str.fullmatch('Mexico')&\n",
    "          df['measure'].str.fullmatch('Deaths')&\n",
    "          df['cause'].str.fullmatch('Interpersonal violence')]\n",
    "\n",
    "mexico_violence_deaths = mexico_violence_deaths.groupby(['location'], as_index=False).agg({'val':'mean'})"
   ]
  },
  {
   "cell_type": "code",
   "execution_count": 9,
   "id": "669ebed5",
   "metadata": {},
   "outputs": [],
   "source": [
    "japan_violence_deaths = df[df['country'].str.fullmatch('Japan')&\n",
    "          df['measure'].str.fullmatch('Deaths')&\n",
    "          df['cause'].str.fullmatch('Interpersonal violence')]\n",
    "\n",
    "japan_violence_deaths = japan_violence_deaths.groupby(['location'], as_index=False).agg({'val':'mean'})"
   ]
  },
  {
   "cell_type": "code",
   "execution_count": 10,
   "id": "44da03fc",
   "metadata": {},
   "outputs": [],
   "source": [
    "indonesia_violence_deaths = df[df['country'].str.fullmatch('Indonesia')&\n",
    "          df['measure'].str.fullmatch('Deaths')&\n",
    "          df['cause'].str.fullmatch('Interpersonal violence')]\n",
    "\n",
    "indonesia_violence_deaths = indonesia_violence_deaths.groupby(['location'], as_index=False).agg({'val':'mean'})"
   ]
  },
  {
   "cell_type": "code",
   "execution_count": 11,
   "id": "e16b6bf7",
   "metadata": {},
   "outputs": [],
   "source": [
    "kenya_violence_deaths = df[df['country'].str.fullmatch('Kenya')&\n",
    "          df['measure'].str.fullmatch('Deaths')&\n",
    "          df['cause'].str.fullmatch('Interpersonal violence')]\n",
    "\n",
    "kenya_violence_deaths = kenya_violence_deaths.groupby(['location'], as_index=False).agg({'val':'mean'})"
   ]
  },
  {
   "cell_type": "code",
   "execution_count": 12,
   "id": "eda65458",
   "metadata": {},
   "outputs": [],
   "source": [
    "brazil_violence_deaths = df[df['country'].str.fullmatch('Brazil')&\n",
    "          df['measure'].str.fullmatch('Deaths')&\n",
    "          df['cause'].str.fullmatch('Interpersonal violence')]\n",
    "\n",
    "brazil_violence_deaths = brazil_violence_deaths.groupby(['location'], as_index=False).agg({'val':'mean'})"
   ]
  },
  {
   "cell_type": "code",
   "execution_count": 13,
   "id": "fddf44fe",
   "metadata": {},
   "outputs": [],
   "source": [
    "uk_violence_deaths = df[df['country'].str.fullmatch('United Kingdom')&\n",
    "          df['measure'].str.fullmatch('Deaths')&\n",
    "          df['cause'].str.fullmatch('Interpersonal violence')]\n",
    "\n",
    "uk_violence_deaths = uk_violence_deaths.groupby(['location'], as_index=False).agg({'val':'mean'})"
   ]
  },
  {
   "cell_type": "code",
   "execution_count": 14,
   "id": "dff0a284",
   "metadata": {},
   "outputs": [
    {
     "data": {
      "image/png": "[encoded data removed]",
      "text/plain": [
       "<Figure size 648x288 with 1 Axes>"
      ]
     },
     "metadata": {
      "needs_background": "light"
     },
     "output_type": "display_data"
    }
   ],
   "source": [
    "data1 = america_violence_deaths['val']\n",
    "data2 = mexico_violence_deaths['val']\n",
    "data3 = japan_violence_deaths['val']\n",
    "data4 = indonesia_violence_deaths['val']\n",
    "data5 = kenya_violence_deaths['val']\n",
    "data6 = brazil_violence_deaths['val']\n",
    "data7 = uk_violence_deaths['val']\n",
    "\n",
    "\n",
    "all_data = [data7, data3, data4, data1, data5, data2, data6]\n",
    "labels = ['United Kindom', 'Japan', 'Indonesia', 'United States', 'Kenya', 'Mexico', 'Brazil']\n",
    "fig, ax  = plt.subplots(figsize=(9, 4))\n",
    "\n",
    "\n",
    "bplot1 = ax.boxplot(all_data, vert=False, patch_artist=True, labels=labels)  \n",
    "\n",
    "ax.set_title('Distribution of Deaths between Countries by Interpersonal Violence')\n",
    "\n",
    "ax.set_xlabel('Homicide per 100,000')\n",
    "\n",
    "plt.show()"
   ]
  },
  {
   "cell_type": "markdown",
   "id": "e1d885f8",
   "metadata": {},
   "source": [
    "## Distribution of diabetes for all countries (deaths)"
   ]
  },
  {
   "cell_type": "code",
   "execution_count": 15,
   "id": "50bc4cc2",
   "metadata": {},
   "outputs": [],
   "source": [
    "america_diabetes_deaths = df[df['country'].str.fullmatch('America')&\n",
    "          df['measure'].str.fullmatch('Deaths')&\n",
    "          df['cause'].str.contains('Diabetes')]\n",
    "\n",
    "america_diabetes_deaths = america_diabetes_deaths.groupby(['location'], as_index=False).agg({'val':'mean'})"
   ]
  },
  {
   "cell_type": "code",
   "execution_count": 16,
   "id": "1b21900f",
   "metadata": {},
   "outputs": [],
   "source": [
    "mexico_diabetes_deaths = df[df['country'].str.fullmatch('Mexico')&\n",
    "          df['measure'].str.fullmatch('Deaths')&\n",
    "          df['cause'].str.contains('Diabetes')]\n",
    "\n",
    "mexico_diabetes_deaths = mexico_diabetes_deaths.groupby(['location'], as_index=False).agg({'val':'mean'})"
   ]
  },
  {
   "cell_type": "code",
   "execution_count": 17,
   "id": "7833a544",
   "metadata": {},
   "outputs": [],
   "source": [
    "japan_diabetes_deaths = df[df['country'].str.fullmatch('Japan')&\n",
    "          df['measure'].str.fullmatch('Deaths')&\n",
    "          df['cause'].str.contains('Diabetes')]\n",
    "\n",
    "japan_diabetes_deaths = japan_diabetes_deaths.groupby(['location'], as_index=False).agg({'val':'mean'})"
   ]
  },
  {
   "cell_type": "code",
   "execution_count": 18,
   "id": "a311df0c",
   "metadata": {},
   "outputs": [],
   "source": [
    "indonesia_diabetes_deaths = df[df['country'].str.fullmatch('Indonesia')&\n",
    "          df['measure'].str.fullmatch('Deaths')&\n",
    "          df['cause'].str.contains('Diabetes')]\n",
    "\n",
    "indonesia_diabetes_deaths = indonesia_diabetes_deaths.groupby(['location'], as_index=False).agg({'val':'mean'})"
   ]
  },
  {
   "cell_type": "code",
   "execution_count": 19,
   "id": "00d09274",
   "metadata": {},
   "outputs": [],
   "source": [
    "kenya_diabetes_deaths = df[df['country'].str.fullmatch('Kenya')&\n",
    "          df['measure'].str.fullmatch('Deaths')&\n",
    "          df['cause'].str.contains('Diabetes')]\n",
    "\n",
    "kenya_diabetes_deaths = kenya_diabetes_deaths.groupby(['location'], as_index=False).agg({'val':'mean'})"
   ]
  },
  {
   "cell_type": "code",
   "execution_count": 20,
   "id": "21d501f8",
   "metadata": {},
   "outputs": [],
   "source": [
    "brazil_diabetes_deaths = df[df['country'].str.fullmatch('Brazil')&\n",
    "          df['measure'].str.fullmatch('Deaths')&\n",
    "          df['cause'].str.contains('Diabetes')]\n",
    "\n",
    "brazil_diabetes_deaths = brazil_diabetes_deaths.groupby(['location'], as_index=False).agg({'val':'mean'})"
   ]
  },
  {
   "cell_type": "code",
   "execution_count": 21,
   "id": "ca7b2c1c",
   "metadata": {},
   "outputs": [],
   "source": [
    "uk_diabetes_deaths = df[df['country'].str.fullmatch('United Kingdom')&\n",
    "          df['measure'].str.fullmatch('Deaths')&\n",
    "          df['cause'].str.contains('Diabetes')]\n",
    "\n",
    "uk_diabetes_deaths = uk_diabetes_deaths.groupby(['location'], as_index=False).agg({'val':'mean'})"
   ]
  },
  {
   "cell_type": "code",
   "execution_count": 22,
   "id": "337be26c",
   "metadata": {},
   "outputs": [
    {
     "data": {
      "image/png": "[encoded data removed]",
      "text/plain": [
       "<Figure size 648x288 with 1 Axes>"
      ]
     },
     "metadata": {
      "needs_background": "light"
     },
     "output_type": "display_data"
    }
   ],
   "source": [
    "data1 = america_diabetes_deaths['val']\n",
    "data2 = mexico_diabetes_deaths['val']\n",
    "data3 = japan_diabetes_deaths['val']\n",
    "data4 = indonesia_diabetes_deaths['val']\n",
    "data5 = kenya_diabetes_deaths['val']\n",
    "data6 = brazil_diabetes_deaths['val']\n",
    "data7 = uk_diabetes_deaths['val']\n",
    "\n",
    "all_data = [data3, data7, data1, data6, data5, data4, data2]\n",
    "labels = ['Japan', 'United Kindom', 'United States', 'Brazil', 'Kenya', 'Indonesia', 'Mexico']\n",
    "\n",
    "fig, ax = plt.subplots(figsize=(9, 4))\n",
    "\n",
    "bplot = ax.boxplot(all_data, vert=False, patch_artist=True, labels=labels)  \n",
    "ax.set_title('Distribution of Deaths between Countries by Diabetes')\n",
    "\n",
    "ax.set_xlabel('Death due to Diabetes per 100,000')\n",
    "\n",
    "plt.show()"
   ]
  },
  {
   "cell_type": "markdown",
   "id": "693fd14a",
   "metadata": {},
   "source": [
    "# Look at distribution of YLL's for all Countries"
   ]
  },
  {
   "cell_type": "markdown",
   "id": "48bc1535",
   "metadata": {},
   "source": [
    "## Distribution of interpersonal violence  (YLLs)"
   ]
  },
  {
   "cell_type": "code",
   "execution_count": 23,
   "id": "cbfa78bc",
   "metadata": {},
   "outputs": [],
   "source": [
    "america_violence_ylls = df[df['country'].str.contains('America')&\n",
    "          df['measure'].str.contains('YLL')&\n",
    "          df['cause'].str.contains('violence')]\n",
    "\n",
    "america_violence_ylls = america_violence_ylls.groupby(['location'], as_index=False).agg({'val':'mean'})"
   ]
  },
  {
   "cell_type": "code",
   "execution_count": 24,
   "id": "412a6e23",
   "metadata": {},
   "outputs": [],
   "source": [
    "mexico_violence_ylls = df[df['country'].str.contains('Mexico')&\n",
    "          df['measure'].str.contains('YLL')&\n",
    "          df['cause'].str.contains('violence')]\n",
    "\n",
    "mexico_violence_ylls = mexico_violence_ylls.groupby(['location'], as_index=False).agg({'val':'mean'})"
   ]
  },
  {
   "cell_type": "code",
   "execution_count": 25,
   "id": "942ab684",
   "metadata": {},
   "outputs": [],
   "source": [
    "japan_violence_ylls = df[df['country'].str.contains('Japan')&\n",
    "          df['measure'].str.contains('YLL')&\n",
    "          df['cause'].str.contains('violence')]\n",
    "\n",
    "japan_violence_ylls = japan_violence_ylls.groupby(['location'], as_index=False).agg({'val':'mean'})"
   ]
  },
  {
   "cell_type": "code",
   "execution_count": 26,
   "id": "0429841e",
   "metadata": {},
   "outputs": [],
   "source": [
    "indonesia_violence_ylls = df[df['country'].str.contains('Indonesia')&\n",
    "          df['measure'].str.contains('YLL')&\n",
    "          df['cause'].str.contains('violence')]\n",
    "\n",
    "indonesia_violence_ylls = indonesia_violence_ylls.groupby(['location'], as_index=False).agg({'val':'mean'})"
   ]
  },
  {
   "cell_type": "code",
   "execution_count": 27,
   "id": "d892141a",
   "metadata": {},
   "outputs": [],
   "source": [
    "kenya_violence_ylls = df[df['country'].str.contains('Kenya')&\n",
    "          df['measure'].str.contains('YLL')&\n",
    "          df['cause'].str.contains('violence')]\n",
    "\n",
    "kenya_violence_ylls = kenya_violence_ylls.groupby(['location'], as_index=False).agg({'val':'mean'})"
   ]
  },
  {
   "cell_type": "code",
   "execution_count": 28,
   "id": "cc1c9338",
   "metadata": {},
   "outputs": [],
   "source": [
    "brazil_violence_ylls = df[df['country'].str.contains('Brazil')&\n",
    "          df['measure'].str.contains('YLL')&\n",
    "          df['cause'].str.contains('violence')]\n",
    "\n",
    "brazil_violence_ylls = brazil_violence_ylls.groupby(['location'], as_index=False).agg({'val':'mean'})"
   ]
  },
  {
   "cell_type": "code",
   "execution_count": 29,
   "id": "66bcd57e",
   "metadata": {},
   "outputs": [],
   "source": [
    "uk_violence_ylls = df[df['country'].str.contains('United Kingdom')&\n",
    "          df['measure'].str.contains('YLL')&\n",
    "          df['cause'].str.contains('violence')]\n",
    "\n",
    "uk_violence_ylls = uk_violence_ylls.groupby(['location'], as_index=False).agg({'val':'mean'})"
   ]
  },
  {
   "cell_type": "code",
   "execution_count": 30,
   "id": "8d93a8a8",
   "metadata": {
    "scrolled": true
   },
   "outputs": [
    {
     "data": {
      "image/png": "[encoded data removed]",
      "text/plain": [
       "<Figure size 648x288 with 1 Axes>"
      ]
     },
     "metadata": {
      "needs_background": "light"
     },
     "output_type": "display_data"
    }
   ],
   "source": [
    "data1 = america_violence_ylls['val']\n",
    "data2 = mexico_violence_ylls['val']\n",
    "data3 = japan_violence_ylls['val']\n",
    "data4 = indonesia_violence_ylls['val']\n",
    "data5 = kenya_violence_ylls['val']\n",
    "data6 = brazil_violence_ylls['val']\n",
    "data7 = uk_violence_ylls['val']\n",
    "\n",
    "all_data = [data7, data3, data4, data1, data5, data2, data6]\n",
    "labels = ['United Kindom', 'Japan', 'Indonesia', 'United States', 'Kenya', 'Mexico', 'Brazil']\n",
    "\n",
    "fig, ax  = plt.subplots(figsize=(9, 4))\n",
    "\n",
    "bplot = ax.boxplot(all_data, vert=False, patch_artist=True, labels=labels) \n",
    "ax.set_title('Distribution of YLL between Countries by violence')\n",
    "\n",
    "ax.set_xlabel(\"YLL's per 100,000\")\n",
    "\n",
    "plt.show()"
   ]
  },
  {
   "cell_type": "markdown",
   "id": "691ef435",
   "metadata": {},
   "source": [
    "## Distribution of diabetes (YLL's)"
   ]
  },
  {
   "cell_type": "code",
   "execution_count": 31,
   "id": "08c3d47c",
   "metadata": {},
   "outputs": [],
   "source": [
    "america_diabetes_ylls = df[df['country'].str.contains('America')&\n",
    "          df['measure'].str.contains('YLL')&\n",
    "          df['cause'].str.contains('Diabetes')]\n",
    "\n",
    "america_diabetes_ylls = america_diabetes_ylls.groupby(['location'], as_index=False).agg({'val':'mean'})"
   ]
  },
  {
   "cell_type": "code",
   "execution_count": 32,
   "id": "738c94ca",
   "metadata": {},
   "outputs": [],
   "source": [
    "mexico_diabetes_ylls = df[df['country'].str.contains('Mexico')&\n",
    "          df['measure'].str.contains('YLL')&\n",
    "          df['cause'].str.contains('Diabetes')]\n",
    "\n",
    "mexico_diabetes_ylls = mexico_diabetes_ylls.groupby(['location'], as_index=False).agg({'val':'mean'})"
   ]
  },
  {
   "cell_type": "code",
   "execution_count": 33,
   "id": "48e489c4",
   "metadata": {},
   "outputs": [],
   "source": [
    "japan_diabetes_ylls = df[df['country'].str.contains('Japan')&\n",
    "          df['measure'].str.contains('YLL')&\n",
    "          df['cause'].str.contains('Diabetes')]\n",
    "\n",
    "japan_diabetes_ylls = japan_diabetes_ylls.groupby(['location'], as_index=False).agg({'val':'mean'})"
   ]
  },
  {
   "cell_type": "code",
   "execution_count": 34,
   "id": "736902c9",
   "metadata": {},
   "outputs": [],
   "source": [
    "indonesia_diabetes_ylls = df[df['country'].str.contains('Indonesia')&\n",
    "          df['measure'].str.contains('YLL')&\n",
    "          df['cause'].str.contains('Diabetes')]\n",
    "\n",
    "indonesia_diabetes_ylls = indonesia_diabetes_ylls.groupby(['location'], as_index=False).agg({'val':'mean'})"
   ]
  },
  {
   "cell_type": "code",
   "execution_count": 35,
   "id": "195bd5e4",
   "metadata": {},
   "outputs": [],
   "source": [
    "kenya_diabetes_ylls = df[df['country'].str.contains('Kenya')&\n",
    "          df['measure'].str.contains('YLL')&\n",
    "          df['cause'].str.contains('Diabetes')]\n",
    "\n",
    "kenya_diabetes_ylls = kenya_diabetes_ylls.groupby(['location'], as_index=False).agg({'val':'mean'})"
   ]
  },
  {
   "cell_type": "code",
   "execution_count": 36,
   "id": "c27d2cfd",
   "metadata": {},
   "outputs": [],
   "source": [
    "brazil_diabetes_ylls = df[df['country'].str.contains('Brazil')&\n",
    "          df['measure'].str.contains('YLL')&\n",
    "          df['cause'].str.contains('Diabetes')]\n",
    "\n",
    "brazil_diabetes_ylls = brazil_diabetes_ylls.groupby(['location'], as_index=False).agg({'val':'mean'})"
   ]
  },
  {
   "cell_type": "code",
   "execution_count": 37,
   "id": "2186a5f7",
   "metadata": {},
   "outputs": [],
   "source": [
    "uk_diabetes_ylls = df[df['country'].str.contains('United Kingdom')&\n",
    "          df['measure'].str.contains('YLL')&\n",
    "          df['cause'].str.contains('Diabetes')]\n",
    "\n",
    "uk_diabetes_ylls = uk_diabetes_ylls.groupby(['location'], as_index=False).agg({'val':'mean'})"
   ]
  },
  {
   "cell_type": "code",
   "execution_count": 38,
   "id": "5d2a500d",
   "metadata": {},
   "outputs": [
    {
     "data": {
      "image/png": "[encoded data removed]",
      "text/plain": [
       "<Figure size 648x288 with 1 Axes>"
      ]
     },
     "metadata": {
      "needs_background": "light"
     },
     "output_type": "display_data"
    }
   ],
   "source": [
    "data1 = america_diabetes_ylls['val']\n",
    "data2 = mexico_diabetes_ylls['val']\n",
    "data3 = japan_diabetes_ylls['val']\n",
    "data4 = indonesia_diabetes_ylls['val']\n",
    "data5 = kenya_diabetes_ylls['val']\n",
    "data6 = brazil_diabetes_ylls['val']\n",
    "data7 = uk_diabetes_ylls['val']\n",
    "\n",
    "all_data = [data7, data3, data4, data1, data5, data2, data6]\n",
    "labels = ['United Kindom', 'Japan', 'Indonesia', 'United States', 'Kenya', 'Mexico', 'Brazil']\n",
    "fig, ax  = plt.subplots(figsize=(9, 4))\n",
    "\n",
    "bplot = ax.boxplot(all_data, vert=False, patch_artist=True, labels=labels) \n",
    "ax.set_title('Distribution of YLL between Countries by Diabetes')\n",
    "\n",
    "ax.set_xlabel('YLLs per 100,000')\n",
    "\n",
    "plt.show()"
   ]
  },
  {
   "cell_type": "markdown",
   "id": "d294ca6f",
   "metadata": {},
   "source": [
    "# Look at distribution of DALYs for all countries"
   ]
  },
  {
   "cell_type": "markdown",
   "id": "4b14b0ab",
   "metadata": {},
   "source": [
    "## Distribution for interpersonal violence (Daly)"
   ]
  },
  {
   "cell_type": "code",
   "execution_count": 39,
   "id": "fc27f8e9",
   "metadata": {},
   "outputs": [],
   "source": [
    "america_violence_dalys = df[df['country'].str.fullmatch('America')&\n",
    "          df['measure'].str.contains('DALY')&\n",
    "          df['cause'].str.fullmatch('Interpersonal violence')]\n",
    "\n",
    "america_violence_dalys = america_violence_dalys.groupby(['location'], as_index=False).agg({'val':'mean'})"
   ]
  },
  {
   "cell_type": "code",
   "execution_count": 40,
   "id": "52585c84",
   "metadata": {},
   "outputs": [],
   "source": [
    "mexico_violence_dalys = df[df['country'].str.fullmatch('Mexico')&\n",
    "          df['measure'].str.contains('DALY')&\n",
    "          df['cause'].str.fullmatch('Interpersonal violence')]\n",
    "\n",
    "mexico_violence_dalys = mexico_violence_dalys.groupby(['location'], as_index=False).agg({'val':'mean'})"
   ]
  },
  {
   "cell_type": "code",
   "execution_count": 41,
   "id": "b67b18ef",
   "metadata": {},
   "outputs": [],
   "source": [
    "japan_violence_dalys = df[df['country'].str.fullmatch('Japan')&\n",
    "          df['measure'].str.contains('DALY')&\n",
    "          df['cause'].str.fullmatch('Interpersonal violence')]\n",
    "\n",
    "japan_violence_dalys = japan_violence_dalys.groupby(['location'], as_index=False).agg({'val':'mean'})"
   ]
  },
  {
   "cell_type": "code",
   "execution_count": 42,
   "id": "7e7eb6f8",
   "metadata": {},
   "outputs": [],
   "source": [
    "indonesia_violence_dalys = df[df['country'].str.fullmatch('Indonesia')&\n",
    "          df['measure'].str.contains('DALY')&\n",
    "          df['cause'].str.fullmatch('Interpersonal violence')]\n",
    "\n",
    "indonesia_violence_dalys = indonesia_violence_dalys.groupby(['location'], as_index=False).agg({'val':'mean'})"
   ]
  },
  {
   "cell_type": "code",
   "execution_count": 43,
   "id": "38c6e60d",
   "metadata": {},
   "outputs": [],
   "source": [
    "kenya_violence_dalys = df[df['country'].str.fullmatch('Kenya')&\n",
    "          df['measure'].str.contains('DALY')&\n",
    "          df['cause'].str.fullmatch('Interpersonal violence')]\n",
    "\n",
    "kenya_violence_dalys = kenya_violence_dalys.groupby(['location'], as_index=False).agg({'val':'mean'})"
   ]
  },
  {
   "cell_type": "code",
   "execution_count": 44,
   "id": "733db720",
   "metadata": {},
   "outputs": [],
   "source": [
    "brazil_violence_dalys = df[df['country'].str.fullmatch('Brazil')&\n",
    "          df['measure'].str.contains('DALY')&\n",
    "          df['cause'].str.fullmatch('Interpersonal violence')]\n",
    "\n",
    "brazil_violence_dalys = brazil_violence_dalys.groupby(['location'], as_index=False).agg({'val':'mean'})"
   ]
  },
  {
   "cell_type": "code",
   "execution_count": 45,
   "id": "40a6946c",
   "metadata": {},
   "outputs": [],
   "source": [
    "uk_violence_dalys = df[df['country'].str.fullmatch('United Kingdom')&\n",
    "          df['measure'].str.contains('DALY')&\n",
    "          df['cause'].str.fullmatch('Interpersonal violence')]\n",
    "\n",
    "uk_violence_dalys = uk_violence_dalys.groupby(['location'], as_index=False).agg({'val':'mean'})"
   ]
  },
  {
   "cell_type": "code",
   "execution_count": 46,
   "id": "ec241e15",
   "metadata": {},
   "outputs": [
    {
     "data": {
      "image/png": "[encoded data removed]",
      "text/plain": [
       "<Figure size 648x288 with 1 Axes>"
      ]
     },
     "metadata": {
      "needs_background": "light"
     },
     "output_type": "display_data"
    }
   ],
   "source": [
    "data1 = america_violence_dalys['val']\n",
    "data2 = mexico_violence_dalys['val']\n",
    "data3 = japan_violence_dalys['val']\n",
    "data4 = indonesia_violence_dalys['val']\n",
    "data5 = kenya_violence_dalys['val']\n",
    "data6 = brazil_violence_dalys['val']\n",
    "data7 = uk_violence_dalys['val']\n",
    "\n",
    "\n",
    "all_data = [data7, data3, data4, data1, data5, data2, data6]\n",
    "labels = ['United Kindom', 'Japan', 'Indonesia', 'United States', 'Kenya', 'Mexico', 'Brazil']\n",
    "fig, ax  = plt.subplots(figsize=(9, 4))\n",
    "\n",
    "\n",
    "bplot1 = ax.boxplot(all_data, vert=False, patch_artist=True, labels=labels)  \n",
    "\n",
    "ax.set_title('Distribution of dalys between Countries by Interpersonal Violence')\n",
    "\n",
    "ax.set_xlabel('Homicide per 100,000')\n",
    "\n",
    "plt.show()"
   ]
  },
  {
   "cell_type": "markdown",
   "id": "decb3637",
   "metadata": {},
   "source": [
    "## Distribution of diabetes for all countries (dalys)"
   ]
  },
  {
   "cell_type": "code",
   "execution_count": 47,
   "id": "fe5d0c71",
   "metadata": {},
   "outputs": [],
   "source": [
    "america_diabetes_dalys = df[df['country'].str.fullmatch('America')&\n",
    "          df['measure'].str.contains('DALY')&\n",
    "          df['cause'].str.contains('Diabetes')]\n",
    "\n",
    "america_diabetes_dalys = america_diabetes_dalys.groupby(['location'], as_index=False).agg({'val':'mean'})"
   ]
  },
  {
   "cell_type": "code",
   "execution_count": 48,
   "id": "e44d86ff",
   "metadata": {},
   "outputs": [],
   "source": [
    "mexico_diabetes_dalys = df[df['country'].str.fullmatch('Mexico')&\n",
    "          df['measure'].str.contains('DALY')&\n",
    "          df['cause'].str.contains('Diabetes')]\n",
    "\n",
    "mexico_diabetes_dalys = mexico_diabetes_dalys.groupby(['location'], as_index=False).agg({'val':'mean'})"
   ]
  },
  {
   "cell_type": "code",
   "execution_count": 49,
   "id": "ed590e19",
   "metadata": {},
   "outputs": [],
   "source": [
    "japan_diabetes_dalys = df[df['country'].str.fullmatch('Japan')&\n",
    "          df['measure'].str.contains('DALY')&\n",
    "          df['cause'].str.contains('Diabetes')]\n",
    "\n",
    "japan_diabetes_dalys = japan_diabetes_dalys.groupby(['location'], as_index=False).agg({'val':'mean'})"
   ]
  },
  {
   "cell_type": "code",
   "execution_count": 50,
   "id": "bc3097ea",
   "metadata": {},
   "outputs": [],
   "source": [
    "indonesia_diabetes_dalys = df[df['country'].str.fullmatch('Indonesia')&\n",
    "          df['measure'].str.contains('DALY')&\n",
    "          df['cause'].str.contains('Diabetes')]\n",
    "\n",
    "indonesia_diabetes_dalys = indonesia_diabetes_dalys.groupby(['location'], as_index=False).agg({'val':'mean'})"
   ]
  },
  {
   "cell_type": "code",
   "execution_count": 51,
   "id": "91c32c44",
   "metadata": {},
   "outputs": [],
   "source": [
    "kenya_diabetes_dalys = df[df['country'].str.fullmatch('Kenya')&\n",
    "          df['measure'].str.contains('DALY')&\n",
    "          df['cause'].str.contains('Diabetes')]\n",
    "\n",
    "kenya_diabetes_dalys = kenya_diabetes_dalys.groupby(['location'], as_index=False).agg({'val':'mean'})"
   ]
  },
  {
   "cell_type": "code",
   "execution_count": 52,
   "id": "e85ad324",
   "metadata": {},
   "outputs": [],
   "source": [
    "brazil_diabetes_dalys = df[df['country'].str.fullmatch('Brazil')&\n",
    "          df['measure'].str.contains('DALY')&\n",
    "          df['cause'].str.contains('Diabetes')]\n",
    "\n",
    "brazil_diabetes_dalys = brazil_diabetes_dalys.groupby(['location'], as_index=False).agg({'val':'mean'})"
   ]
  },
  {
   "cell_type": "code",
   "execution_count": 53,
   "id": "96830fca",
   "metadata": {},
   "outputs": [],
   "source": [
    "uk_diabetes_dalys = df[df['country'].str.fullmatch('United Kingdom')&\n",
    "          df['measure'].str.contains('DALY')&\n",
    "          df['cause'].str.contains('Diabetes')]\n",
    "\n",
    "uk_diabetes_dalys = uk_diabetes_dalys.groupby(['location'], as_index=False).agg({'val':'mean'})"
   ]
  },
  {
   "cell_type": "code",
   "execution_count": 54,
   "id": "772bdcf9",
   "metadata": {},
   "outputs": [
    {
     "data": {
      "image/png": "[encoded data removed]",
      "text/plain": [
       "<Figure size 648x288 with 1 Axes>"
      ]
     },
     "metadata": {
      "needs_background": "light"
     },
     "output_type": "display_data"
    }
   ],
   "source": [
    "data1 = america_diabetes_dalys['val']\n",
    "data2 = mexico_diabetes_dalys['val']\n",
    "data3 = japan_diabetes_dalys['val']\n",
    "data4 = indonesia_diabetes_dalys['val']\n",
    "data5 = kenya_diabetes_dalys['val']\n",
    "data6 = brazil_diabetes_dalys['val']\n",
    "data7 = uk_diabetes_dalys['val']\n",
    "\n",
    "all_data = [data3, data7, data1, data6, data5, data4, data2]\n",
    "labels = ['Japan', 'United Kindom', 'United States', 'Brazil', 'Kenya', 'Indonesia', 'Mexico']\n",
    "\n",
    "fig, ax = plt.subplots(figsize=(9, 4))\n",
    "\n",
    "bplot = ax.boxplot(all_data, vert=False, patch_artist=True, labels=labels)  \n",
    "ax.set_title('Distribution of dalys between Countries by Diabetes')\n",
    "\n",
    "ax.set_xlabel('Death due to Diabetes per 100,000')\n",
    "\n",
    "plt.show()"
   ]
  },
  {
   "cell_type": "markdown",
   "id": "45817fc8",
   "metadata": {},
   "source": [
    "# Explore distributions of demographs"
   ]
  },
  {
   "cell_type": "markdown",
   "id": "bc11f1d2",
   "metadata": {},
   "source": [
    "## Country violence Deaths"
   ]
  },
  {
   "cell_type": "code",
   "execution_count": 55,
   "id": "36fb750a",
   "metadata": {},
   "outputs": [],
   "source": [
    "all_violence_country_deaths = df[df['measure'].str.contains('Deaths')&\n",
    "          df['cause'].str.contains('violence')]\n",
    "\n",
    "all_violence_country_deaths = all_violence_country_deaths.groupby(['country'], as_index=False).agg({'val':'mean'})"
   ]
  },
  {
   "cell_type": "code",
   "execution_count": 56,
   "id": "c150cc18",
   "metadata": {},
   "outputs": [
    {
     "data": {
      "image/png": "[encoded data removed]",
      "text/plain": [
       "<Figure size 432x288 with 1 Axes>"
      ]
     },
     "metadata": {
      "needs_background": "light"
     },
     "output_type": "display_data"
    }
   ],
   "source": [
    "all_violence_country_deaths.plot(x=\"country\", y=\"val\", kind=\"bar\")\n",
    "plt.xticks(rotation=45)\n",
    "plt.show()"
   ]
  },
  {
   "cell_type": "markdown",
   "id": "36f11d0d",
   "metadata": {},
   "source": [
    "## Country violence YLLs"
   ]
  },
  {
   "cell_type": "code",
   "execution_count": 57,
   "id": "964c0a85",
   "metadata": {},
   "outputs": [],
   "source": [
    "all_violence_country_ylls = df[df['measure'].str.contains('YLL')&\n",
    "          df['cause'].str.contains('violence')]\n",
    "\n",
    "all_violence_country_ylls = all_violence_country_ylls.groupby(['country'], as_index=False).agg({'val':'mean'})"
   ]
  },
  {
   "cell_type": "code",
   "execution_count": 58,
   "id": "1802086a",
   "metadata": {},
   "outputs": [
    {
     "data": {
      "image/png": "[encoded data removed]",
      "text/plain": [
       "<Figure size 432x288 with 1 Axes>"
      ]
     },
     "metadata": {
      "needs_background": "light"
     },
     "output_type": "display_data"
    }
   ],
   "source": [
    "all_violence_country_ylls.plot(x=\"country\", y=\"val\", kind=\"bar\")\n",
    "plt.xticks(rotation=45)\n",
    "plt.show()"
   ]
  },
  {
   "cell_type": "markdown",
   "id": "53130f6d",
   "metadata": {},
   "source": [
    "## Country violence DALYs"
   ]
  },
  {
   "cell_type": "code",
   "execution_count": 59,
   "id": "afc7d88e",
   "metadata": {},
   "outputs": [],
   "source": [
    "all_violence_country_daly = df[df['measure'].str.contains('DALY')&\n",
    "          df['cause'].str.contains('violence')]\n",
    "\n",
    "all_violence_country_daly = all_violence_country_daly.groupby(['country'], as_index=False).agg({'val':'mean'})\n"
   ]
  },
  {
   "cell_type": "code",
   "execution_count": 60,
   "id": "a0c24266",
   "metadata": {},
   "outputs": [
    {
     "data": {
      "image/png": "[encoded data removed]",
      "text/plain": [
       "<Figure size 432x288 with 1 Axes>"
      ]
     },
     "metadata": {
      "needs_background": "light"
     },
     "output_type": "display_data"
    }
   ],
   "source": [
    "all_violence_country_daly.plot(x=\"country\", y=\"val\", kind=\"bar\")\n",
    "plt.xticks(rotation=45)\n",
    "plt.show()"
   ]
  },
  {
   "cell_type": "markdown",
   "id": "fbd4b294",
   "metadata": {},
   "source": [
    "## Country Diabetes Deaths"
   ]
  },
  {
   "cell_type": "code",
   "execution_count": 61,
   "id": "0f69d7a2",
   "metadata": {},
   "outputs": [],
   "source": [
    "all_diabetes_country_deaths = df[df['measure'].str.contains('Deaths')&\n",
    "          df['cause'].str.contains('Diabetes')]\n",
    "\n",
    "all_diabetes_country_deaths = all_diabetes_country_deaths.groupby(['country'], as_index=False).agg({'val':'mean'})"
   ]
  },
  {
   "cell_type": "code",
   "execution_count": 62,
   "id": "0fec5df9",
   "metadata": {},
   "outputs": [
    {
     "data": {
      "image/png": "[encoded data removed]",
      "text/plain": [
       "<Figure size 432x288 with 1 Axes>"
      ]
     },
     "metadata": {
      "needs_background": "light"
     },
     "output_type": "display_data"
    }
   ],
   "source": [
    "all_diabetes_country_deaths.plot(x=\"country\", y=\"val\", kind=\"bar\")\n",
    "plt.xticks(rotation=45)\n",
    "plt.show()"
   ]
  },
  {
   "cell_type": "markdown",
   "id": "6ac2a28a",
   "metadata": {},
   "source": [
    "## Country Diabetes YLLs"
   ]
  },
  {
   "cell_type": "code",
   "execution_count": 63,
   "id": "8b1616e8",
   "metadata": {},
   "outputs": [],
   "source": [
    "all_diabetes_country_ylls = df[df['measure'].str.contains('YLL')&\n",
    "          df['cause'].str.contains('Diabetes')]\n",
    "\n",
    "all_diabetes_country_ylls = all_diabetes_country_ylls.groupby(['country'], as_index=False).agg({'val':'mean'})"
   ]
  },
  {
   "cell_type": "code",
   "execution_count": 64,
   "id": "4712393e",
   "metadata": {},
   "outputs": [
    {
     "data": {
      "image/png": "[encoded data removed]",
      "text/plain": [
       "<Figure size 432x288 with 1 Axes>"
      ]
     },
     "metadata": {
      "needs_background": "light"
     },
     "output_type": "display_data"
    }
   ],
   "source": [
    "all_diabetes_country_ylls.plot(x=\"country\", y=\"val\", kind=\"bar\")\n",
    "plt.xticks(rotation=45)\n",
    "plt.show()"
   ]
  },
  {
   "cell_type": "markdown",
   "id": "13e72332",
   "metadata": {},
   "source": [
    "## Country Diabetes DALYs"
   ]
  },
  {
   "cell_type": "code",
   "execution_count": 65,
   "id": "17245285",
   "metadata": {},
   "outputs": [],
   "source": [
    "all_diabetes_country_dalys = df[df['measure'].str.contains('DALY')&\n",
    "          df['cause'].str.contains('Diabetes')]\n",
    "\n",
    "all_diabetes_country_dalys = all_diabetes_country_dalys.groupby(['country'], as_index=False).agg({'val':'mean'})"
   ]
  },
  {
   "cell_type": "code",
   "execution_count": 66,
   "id": "1ae8ff8f",
   "metadata": {},
   "outputs": [
    {
     "data": {
      "image/png": "[encoded data removed]",
      "text/plain": [
       "<Figure size 432x288 with 1 Axes>"
      ]
     },
     "metadata": {
      "needs_background": "light"
     },
     "output_type": "display_data"
    }
   ],
   "source": [
    "all_diabetes_country_dalys.plot(x=\"country\", y=\"val\", kind=\"bar\")\n",
    "plt.xticks(rotation=45)\n",
    "plt.show()"
   ]
  },
  {
   "cell_type": "markdown",
   "id": "31060e95",
   "metadata": {},
   "source": [
    "# Gender"
   ]
  },
  {
   "cell_type": "markdown",
   "id": "9d4d070a",
   "metadata": {},
   "source": [
    "## Gender Interpersonal violence deaths"
   ]
  },
  {
   "cell_type": "code",
   "execution_count": 67,
   "id": "87d9c16c",
   "metadata": {},
   "outputs": [
    {
     "data": {
      "text/html": [
       "<div>\n",
       "<style scoped>\n",
       "    .dataframe tbody tr th:only-of-type {\n",
       "        vertical-align: middle;\n",
       "    }\n",
       "\n",
       "    .dataframe tbody tr th {\n",
       "        vertical-align: top;\n",
       "    }\n",
       "\n",
       "    .dataframe thead th {\n",
       "        text-align: right;\n",
       "    }\n",
       "</style>\n",
       "<table border=\"1\" class=\"dataframe\">\n",
       "  <thead>\n",
       "    <tr style=\"text-align: right;\">\n",
       "      <th></th>\n",
       "      <th>sex</th>\n",
       "      <th>val</th>\n",
       "    </tr>\n",
       "  </thead>\n",
       "  <tbody>\n",
       "    <tr>\n",
       "      <th>0</th>\n",
       "      <td>Female</td>\n",
       "      <td>2.455908</td>\n",
       "    </tr>\n",
       "    <tr>\n",
       "      <th>1</th>\n",
       "      <td>Male</td>\n",
       "      <td>11.365036</td>\n",
       "    </tr>\n",
       "  </tbody>\n",
       "</table>\n",
       "</div>"
      ],
      "text/plain": [
       "      sex        val\n",
       "0  Female   2.455908\n",
       "1    Male  11.365036"
      ]
     },
     "execution_count": 67,
     "metadata": {},
     "output_type": "execute_result"
    }
   ],
   "source": [
    "all_violence_gender_deaths = df[df['measure'].str.contains('Deaths')&\n",
    "          df['cause'].str.contains('violence')]\n",
    "\n",
    "all_violence_gender_deaths = all_violence_gender_deaths.groupby(['sex'], as_index=False).agg({'val':'mean'})\n",
    "all_violence_gender_deaths"
   ]
  },
  {
   "cell_type": "code",
   "execution_count": 68,
   "id": "42d9d72d",
   "metadata": {},
   "outputs": [
    {
     "data": {
      "image/png": "[encoded data removed]",
      "text/plain": [
       "<Figure size 432x288 with 1 Axes>"
      ]
     },
     "metadata": {
      "needs_background": "light"
     },
     "output_type": "display_data"
    }
   ],
   "source": [
    "all_violence_gender_deaths.plot(x=\"sex\", y=\"val\", kind=\"bar\")\n",
    "plt.xticks(rotation=45)\n",
    "plt.show()"
   ]
  },
  {
   "cell_type": "code",
   "execution_count": 69,
   "id": "17e12aa3",
   "metadata": {},
   "outputs": [],
   "source": [
    "america_violence_gender_deaths = df[df['country'].str.contains('America')&\n",
    "          df['measure'].str.contains('Deaths')&\n",
    "          df['cause'].str.contains('violence')]\n",
    "\n",
    "america_violence_gender_deaths = america_violence_gender_deaths.groupby(['sex'], as_index=False).agg({'val':'mean'})"
   ]
  },
  {
   "cell_type": "code",
   "execution_count": 70,
   "id": "938e1496",
   "metadata": {},
   "outputs": [],
   "source": [
    "brazil_violence_gender_deaths = df[df['country'].str.contains('Brazil')&\n",
    "          df['measure'].str.contains('Deaths')&\n",
    "          df['cause'].str.contains('violence')]\n",
    "\n",
    "brazil_violence_gender_deaths = brazil_violence_gender_deaths.groupby(['sex'], as_index=False).agg({'val':'mean'})"
   ]
  },
  {
   "cell_type": "code",
   "execution_count": 71,
   "id": "a5488f16",
   "metadata": {},
   "outputs": [],
   "source": [
    "japan_violence_gender_deaths = df[df['country'].str.contains('Japan')&\n",
    "          df['measure'].str.contains('Deaths')&\n",
    "          df['cause'].str.contains('violence')]\n",
    "\n",
    "japan_violence_gender_deaths = japan_violence_gender_deaths.groupby(['sex'], as_index=False).agg({'val':'mean'})"
   ]
  },
  {
   "cell_type": "code",
   "execution_count": 72,
   "id": "8573f1cf",
   "metadata": {},
   "outputs": [],
   "source": [
    "kenya_violence_gender_deaths = df[df['country'].str.contains('Kenya')&\n",
    "          df['measure'].str.contains('Deaths')&\n",
    "          df['cause'].str.contains('violence')]\n",
    "\n",
    "kenya_violence_gender_deaths = kenya_violence_gender_deaths.groupby(['sex'], as_index=False).agg({'val':'mean'})"
   ]
  },
  {
   "cell_type": "code",
   "execution_count": 73,
   "id": "77422cf8",
   "metadata": {},
   "outputs": [],
   "source": [
    "indonesia_violence_gender_deaths = df[df['country'].str.contains('Indonesia')&\n",
    "          df['measure'].str.contains('Deaths')&\n",
    "          df['cause'].str.contains('violence')]\n",
    "\n",
    "indonesia_violence_gender_deaths = indonesia_violence_gender_deaths.groupby(['sex'], as_index=False).agg({'val':'mean'})"
   ]
  },
  {
   "cell_type": "code",
   "execution_count": 74,
   "id": "740da2a3",
   "metadata": {},
   "outputs": [],
   "source": [
    "mexico_violence_gender_deaths = df[df['country'].str.contains('Mexico')&\n",
    "          df['measure'].str.contains('Deaths')&\n",
    "          df['cause'].str.contains('violence')]\n",
    "\n",
    "mexico_violence_gender_deaths = mexico_violence_gender_deaths.groupby(['sex'], as_index=False).agg({'val':'mean'})"
   ]
  },
  {
   "cell_type": "code",
   "execution_count": 75,
   "id": "3aaa8ba0",
   "metadata": {},
   "outputs": [],
   "source": [
    "uk_violence_gender_deaths = df[df['country'].str.contains('United Kingdom')&\n",
    "          df['measure'].str.contains('Deaths')&\n",
    "          df['cause'].str.contains('violence')]\n",
    "\n",
    "uk_violence_gender_deaths = uk_violence_gender_deaths.groupby(['sex'], as_index=False).agg({'val':'mean'})"
   ]
  },
  {
   "cell_type": "code",
   "execution_count": 76,
   "id": "7ba71877",
   "metadata": {},
   "outputs": [
    {
     "data": {
      "image/png": "[encoded data removed]",
      "text/plain": [
       "<Figure size 648x288 with 1 Axes>"
      ]
     },
     "metadata": {
      "needs_background": "light"
     },
     "output_type": "display_data"
    }
   ],
   "source": [
    "labels = ['America', 'Brazil', 'Japan', 'Kenya', 'Indonesia', 'Mexico', 'United Kingdom']\n",
    "male_means = [america_violence_gender_deaths.iloc[1,1], \n",
    "             brazil_violence_gender_deaths.iloc[1,1],\n",
    "             japan_violence_gender_deaths.iloc[1,1],\n",
    "             kenya_violence_gender_deaths.iloc[1,1],\n",
    "             indonesia_violence_gender_deaths.iloc[1,1],\n",
    "             mexico_violence_gender_deaths.iloc[1,1],\n",
    "             uk_violence_gender_deaths.iloc[1,1]]\n",
    "female_means = [america_violence_gender_deaths.iloc[0,1], \n",
    "               brazil_violence_gender_deaths.iloc[0,1],\n",
    "               japan_violence_gender_deaths.iloc[0,1],\n",
    "               kenya_violence_gender_deaths.iloc[0,1], \n",
    "               indonesia_violence_gender_deaths.iloc[0,1],\n",
    "               mexico_violence_gender_deaths.iloc[0,1],\n",
    "               uk_violence_gender_deaths.iloc[0,1]]\n",
    "\n",
    "x = np.arange(len(labels)) \n",
    "width = 0.35 \n",
    "\n",
    "fig, ax = plt.subplots(figsize=(9,4))\n",
    "rects1 = ax.bar(x - width/2, male_means, width, label='male')\n",
    "rects2 = ax.bar(x + width/2, female_means, width, label='female')\n",
    "\n",
    "ax.set_ylabel('Deaths')\n",
    "ax.set_title('Mean Rate of Deaths by Gender of Interpersonal Violence by Country')\n",
    "ax.set_xticks(x)\n",
    "ax.set_xticklabels(labels)\n",
    "ax.legend()\n",
    "\n",
    "\n",
    "fig.tight_layout()\n",
    "\n",
    "plt.show()"
   ]
  },
  {
   "cell_type": "markdown",
   "id": "fe08aaef",
   "metadata": {},
   "source": [
    "## Gender Diabetes deaths"
   ]
  },
  {
   "cell_type": "code",
   "execution_count": 77,
   "id": "0363803d",
   "metadata": {},
   "outputs": [
    {
     "data": {
      "text/html": [
       "<div>\n",
       "<style scoped>\n",
       "    .dataframe tbody tr th:only-of-type {\n",
       "        vertical-align: middle;\n",
       "    }\n",
       "\n",
       "    .dataframe tbody tr th {\n",
       "        vertical-align: top;\n",
       "    }\n",
       "\n",
       "    .dataframe thead th {\n",
       "        text-align: right;\n",
       "    }\n",
       "</style>\n",
       "<table border=\"1\" class=\"dataframe\">\n",
       "  <thead>\n",
       "    <tr style=\"text-align: right;\">\n",
       "      <th></th>\n",
       "      <th>sex</th>\n",
       "      <th>val</th>\n",
       "    </tr>\n",
       "  </thead>\n",
       "  <tbody>\n",
       "    <tr>\n",
       "      <th>0</th>\n",
       "      <td>Female</td>\n",
       "      <td>78.478061</td>\n",
       "    </tr>\n",
       "    <tr>\n",
       "      <th>1</th>\n",
       "      <td>Male</td>\n",
       "      <td>84.590870</td>\n",
       "    </tr>\n",
       "  </tbody>\n",
       "</table>\n",
       "</div>"
      ],
      "text/plain": [
       "      sex        val\n",
       "0  Female  78.478061\n",
       "1    Male  84.590870"
      ]
     },
     "execution_count": 77,
     "metadata": {},
     "output_type": "execute_result"
    }
   ],
   "source": [
    "all_diabetes_gender_deaths = df[df['measure'].str.contains('Deaths')&\n",
    "          df['cause'].str.contains('Diabetes')]\n",
    "\n",
    "all_diabetes_gender_deaths = all_diabetes_gender_deaths.groupby(['sex'], as_index=False).agg({'val':'mean'})\n",
    "all_diabetes_gender_deaths"
   ]
  },
  {
   "cell_type": "code",
   "execution_count": 78,
   "id": "ba24b8f0",
   "metadata": {},
   "outputs": [
    {
     "data": {
      "image/png": "[encoded data removed]",
      "text/plain": [
       "<Figure size 432x288 with 1 Axes>"
      ]
     },
     "metadata": {
      "needs_background": "light"
     },
     "output_type": "display_data"
    }
   ],
   "source": [
    "all_diabetes_gender_deaths.plot(x=\"sex\", y=\"val\", kind=\"bar\")\n",
    "plt.xticks(rotation=45)\n",
    "plt.show()"
   ]
  },
  {
   "cell_type": "code",
   "execution_count": 79,
   "id": "81e40269",
   "metadata": {},
   "outputs": [],
   "source": [
    "america_diabetes_gender_deaths = df[df['country'].str.contains('America')&\n",
    "          df['measure'].str.contains('Deaths')&\n",
    "          df['cause'].str.contains('Diabetes')]\n",
    "\n",
    "america_diabetes_gender_deaths = america_diabetes_gender_deaths.groupby(['sex'], as_index=False).agg({'val':'mean'})"
   ]
  },
  {
   "cell_type": "code",
   "execution_count": 80,
   "id": "cb7eb0a3",
   "metadata": {},
   "outputs": [],
   "source": [
    "brazil_diabetes_gender_deaths = df[df['country'].str.contains('Brazil')&\n",
    "          df['measure'].str.contains('Deaths')&\n",
    "          df['cause'].str.contains('Diabetes')]\n",
    "\n",
    "brazil_diabetes_gender_deaths = brazil_diabetes_gender_deaths.groupby(['sex'], as_index=False).agg({'val':'mean'})"
   ]
  },
  {
   "cell_type": "code",
   "execution_count": 81,
   "id": "b2ebc66f",
   "metadata": {},
   "outputs": [],
   "source": [
    "japan_diabetes_gender_deaths = df[df['country'].str.contains('Japan')&\n",
    "          df['measure'].str.contains('Deaths')&\n",
    "          df['cause'].str.contains('Diabetes')]\n",
    "\n",
    "japan_diabetes_gender_deaths = japan_diabetes_gender_deaths.groupby(['sex'], as_index=False).agg({'val':'mean'})"
   ]
  },
  {
   "cell_type": "code",
   "execution_count": 82,
   "id": "642c6cf2",
   "metadata": {},
   "outputs": [],
   "source": [
    "kenya_diabetes_gender_deaths = df[df['country'].str.contains('Kenya')&\n",
    "          df['measure'].str.contains('Deaths')&\n",
    "          df['cause'].str.contains('Diabetes')]\n",
    "\n",
    "kenya_diabetes_gender_deaths = kenya_diabetes_gender_deaths.groupby(['sex'], as_index=False).agg({'val':'mean'})"
   ]
  },
  {
   "cell_type": "code",
   "execution_count": 83,
   "id": "a57f2500",
   "metadata": {},
   "outputs": [],
   "source": [
    "indonesia_diabetes_gender_deaths = df[df['country'].str.contains('Indonesia')&\n",
    "          df['measure'].str.contains('Deaths')&\n",
    "          df['cause'].str.contains('Diabetes')]\n",
    "\n",
    "indonesia_diabetes_gender_deaths = indonesia_diabetes_gender_deaths.groupby(['sex'], as_index=False).agg({'val':'mean'})"
   ]
  },
  {
   "cell_type": "code",
   "execution_count": 84,
   "id": "a0fcd254",
   "metadata": {},
   "outputs": [],
   "source": [
    "mexico_diabetes_gender_deaths = df[df['country'].str.contains('Mexico')&\n",
    "          df['measure'].str.contains('Deaths')&\n",
    "          df['cause'].str.contains('Diabetes')]\n",
    "\n",
    "mexico_diabetes_gender_deaths = mexico_diabetes_gender_deaths.groupby(['sex'], as_index=False).agg({'val':'mean'})"
   ]
  },
  {
   "cell_type": "code",
   "execution_count": 85,
   "id": "6d1abe36",
   "metadata": {},
   "outputs": [],
   "source": [
    "uk_diabetes_gender_deaths = df[df['country'].str.contains('United Kingdom')&\n",
    "          df['measure'].str.contains('Deaths')&\n",
    "          df['cause'].str.contains('Diabetes')]\n",
    "\n",
    "uk_diabetes_gender_deaths = uk_diabetes_gender_deaths.groupby(['sex'], as_index=False).agg({'val':'mean'})"
   ]
  },
  {
   "cell_type": "code",
   "execution_count": 86,
   "id": "8de9d0b1",
   "metadata": {},
   "outputs": [
    {
     "data": {
      "image/png": "[encoded data removed]",
      "text/plain": [
       "<Figure size 648x288 with 1 Axes>"
      ]
     },
     "metadata": {
      "needs_background": "light"
     },
     "output_type": "display_data"
    }
   ],
   "source": [
    "labels = ['America', 'Brazil', 'Japan', 'Kenya', 'Indonesia', 'Mexico', 'United Kingdom']\n",
    "male_means = [america_diabetes_gender_deaths.iloc[1,1], \n",
    "             brazil_diabetes_gender_deaths.iloc[1,1],\n",
    "             japan_diabetes_gender_deaths.iloc[1,1],\n",
    "             kenya_diabetes_gender_deaths.iloc[1,1],\n",
    "             indonesia_diabetes_gender_deaths.iloc[1,1],\n",
    "             mexico_diabetes_gender_deaths.iloc[1,1],\n",
    "             uk_diabetes_gender_deaths.iloc[1,1]]\n",
    "female_means = [america_diabetes_gender_deaths.iloc[0,1], \n",
    "               brazil_diabetes_gender_deaths.iloc[0,1],\n",
    "               japan_diabetes_gender_deaths.iloc[0,1],\n",
    "               kenya_diabetes_gender_deaths.iloc[0,1], \n",
    "               indonesia_diabetes_gender_deaths.iloc[0,1],\n",
    "               mexico_diabetes_gender_deaths.iloc[0,1],\n",
    "               uk_diabetes_gender_deaths.iloc[0,1]]\n",
    "\n",
    "x = np.arange(len(labels))\n",
    "width = 0.35 \n",
    "\n",
    "fig, ax = plt.subplots(figsize=(9,4))\n",
    "rects1 = ax.bar(x - width/2, male_means, width, label='male')\n",
    "rects2 = ax.bar(x + width/2, female_means, width, label='female')\n",
    "\n",
    "ax.set_ylabel('Deaths')\n",
    "ax.set_title('Mean Rate of Deaths by Gender of Diabetes by Country')\n",
    "ax.set_xticks(x)\n",
    "ax.set_xticklabels(labels)\n",
    "ax.legend()\n",
    "\n",
    "\n",
    "fig.tight_layout()\n",
    "\n",
    "plt.show()"
   ]
  },
  {
   "cell_type": "code",
   "execution_count": 87,
   "id": "1d824561",
   "metadata": {},
   "outputs": [],
   "source": [
    "#is it the case that disparaties in diabetes are least on country level and then widen as you narrow down in goegraphical location\n",
    "#and for iv the opposite is true - very high disparty at high geographical level and less disparaty when going down to \n",
    "#more specific regions."
   ]
  },
  {
   "cell_type": "markdown",
   "id": "6beebbfd",
   "metadata": {},
   "source": [
    "## Gender violence YLLs"
   ]
  },
  {
   "cell_type": "code",
   "execution_count": 88,
   "id": "fab143e1",
   "metadata": {},
   "outputs": [
    {
     "data": {
      "text/html": [
       "<div>\n",
       "<style scoped>\n",
       "    .dataframe tbody tr th:only-of-type {\n",
       "        vertical-align: middle;\n",
       "    }\n",
       "\n",
       "    .dataframe tbody tr th {\n",
       "        vertical-align: top;\n",
       "    }\n",
       "\n",
       "    .dataframe thead th {\n",
       "        text-align: right;\n",
       "    }\n",
       "</style>\n",
       "<table border=\"1\" class=\"dataframe\">\n",
       "  <thead>\n",
       "    <tr style=\"text-align: right;\">\n",
       "      <th></th>\n",
       "      <th>sex</th>\n",
       "      <th>val</th>\n",
       "    </tr>\n",
       "  </thead>\n",
       "  <tbody>\n",
       "    <tr>\n",
       "      <th>0</th>\n",
       "      <td>Female</td>\n",
       "      <td>85.544482</td>\n",
       "    </tr>\n",
       "    <tr>\n",
       "      <th>1</th>\n",
       "      <td>Male</td>\n",
       "      <td>498.191472</td>\n",
       "    </tr>\n",
       "  </tbody>\n",
       "</table>\n",
       "</div>"
      ],
      "text/plain": [
       "      sex         val\n",
       "0  Female   85.544482\n",
       "1    Male  498.191472"
      ]
     },
     "execution_count": 88,
     "metadata": {},
     "output_type": "execute_result"
    }
   ],
   "source": [
    "all_violence_gender_ylls = df[df['measure'].str.contains('YLL')&\n",
    "          df['cause'].str.contains('violence')]\n",
    "\n",
    "all_violence_gender_ylls = all_violence_gender_ylls.groupby(['sex'], as_index=False).agg({'val':'mean'})\n",
    "all_violence_gender_ylls"
   ]
  },
  {
   "cell_type": "code",
   "execution_count": 89,
   "id": "f62df437",
   "metadata": {},
   "outputs": [
    {
     "data": {
      "image/png": "[encoded data removed]",
      "text/plain": [
       "<Figure size 432x288 with 1 Axes>"
      ]
     },
     "metadata": {
      "needs_background": "light"
     },
     "output_type": "display_data"
    }
   ],
   "source": [
    "all_violence_gender_ylls.plot(x=\"sex\", y=\"val\", kind=\"bar\")\n",
    "plt.xticks(rotation=45)\n",
    "plt.show()"
   ]
  },
  {
   "cell_type": "code",
   "execution_count": 90,
   "id": "3e5ad586",
   "metadata": {},
   "outputs": [],
   "source": [
    "america_violence_gender_ylls = df[df['country'].str.contains('America')&\n",
    "          df['measure'].str.contains('YLL')&\n",
    "          df['cause'].str.contains('violence')]\n",
    "\n",
    "america_violence_gender_ylls = america_violence_gender_ylls.groupby(['sex'], as_index=False).agg({'val':'mean'})"
   ]
  },
  {
   "cell_type": "code",
   "execution_count": 91,
   "id": "c310b806",
   "metadata": {},
   "outputs": [],
   "source": [
    "brazil_violence_gender_ylls = df[df['country'].str.contains('Brazil')&\n",
    "          df['measure'].str.contains('YLL')&\n",
    "          df['cause'].str.contains('violence')]\n",
    "\n",
    "brazil_violence_gender_ylls = brazil_violence_gender_ylls.groupby(['sex'], as_index=False).agg({'val':'mean'})"
   ]
  },
  {
   "cell_type": "code",
   "execution_count": 92,
   "id": "4e518823",
   "metadata": {},
   "outputs": [],
   "source": [
    "japan_violence_gender_ylls = df[df['country'].str.contains('Japan')&\n",
    "          df['measure'].str.contains('YLL')&\n",
    "          df['cause'].str.contains('violence')]\n",
    "\n",
    "japan_violence_gender_ylls = japan_violence_gender_ylls.groupby(['sex'], as_index=False).agg({'val':'mean'})"
   ]
  },
  {
   "cell_type": "code",
   "execution_count": 93,
   "id": "bcf88dbb",
   "metadata": {},
   "outputs": [],
   "source": [
    "kenya_violence_gender_ylls = df[df['country'].str.contains('Kenya')&\n",
    "          df['measure'].str.contains('YLL')&\n",
    "          df['cause'].str.contains('violence')]\n",
    "\n",
    "kenya_violence_gender_ylls = kenya_violence_gender_ylls.groupby(['sex'], as_index=False).agg({'val':'mean'})"
   ]
  },
  {
   "cell_type": "code",
   "execution_count": 94,
   "id": "3fda2861",
   "metadata": {},
   "outputs": [],
   "source": [
    "indonesia_violence_gender_ylls = df[df['country'].str.contains('Indonesia')&\n",
    "          df['measure'].str.contains('YLL')&\n",
    "          df['cause'].str.contains('violence')]\n",
    "\n",
    "indonesia_violence_gender_ylls = indonesia_violence_gender_ylls.groupby(['sex'], as_index=False).agg({'val':'mean'})"
   ]
  },
  {
   "cell_type": "code",
   "execution_count": 95,
   "id": "b621e186",
   "metadata": {},
   "outputs": [],
   "source": [
    "mexico_violence_gender_ylls = df[df['country'].str.contains('Mexico')&\n",
    "          df['measure'].str.contains('YLL')&\n",
    "          df['cause'].str.contains('violence')]\n",
    "\n",
    "mexico_violence_gender_ylls = mexico_violence_gender_ylls.groupby(['sex'], as_index=False).agg({'val':'mean'})"
   ]
  },
  {
   "cell_type": "code",
   "execution_count": 96,
   "id": "93f9e6d9",
   "metadata": {},
   "outputs": [],
   "source": [
    "uk_violence_gender_ylls = df[df['country'].str.contains('United Kingdom')&\n",
    "          df['measure'].str.contains('YLL')&\n",
    "          df['cause'].str.contains('violence')]\n",
    "\n",
    "uk_violence_gender_ylls = uk_violence_gender_ylls.groupby(['sex'], as_index=False).agg({'val':'mean'})"
   ]
  },
  {
   "cell_type": "code",
   "execution_count": 97,
   "id": "fd82f08b",
   "metadata": {},
   "outputs": [
    {
     "data": {
      "image/png": "[encoded data removed]",
      "text/plain": [
       "<Figure size 648x288 with 1 Axes>"
      ]
     },
     "metadata": {
      "needs_background": "light"
     },
     "output_type": "display_data"
    }
   ],
   "source": [
    "labels = ['America', 'Brazil', 'Japan', 'Kenya', 'Indonesia', 'Mexico', 'United Kingdom']\n",
    "male_means = [america_violence_gender_ylls.iloc[1,1], \n",
    "             brazil_violence_gender_ylls.iloc[1,1],\n",
    "             japan_violence_gender_ylls.iloc[1,1],\n",
    "             kenya_violence_gender_ylls.iloc[1,1],\n",
    "             indonesia_violence_gender_ylls.iloc[1,1],\n",
    "             mexico_violence_gender_ylls.iloc[1,1],\n",
    "             uk_violence_gender_ylls.iloc[1,1]]\n",
    "female_means = [america_violence_gender_ylls.iloc[0,1], \n",
    "               brazil_violence_gender_ylls.iloc[0,1],\n",
    "               japan_violence_gender_ylls.iloc[0,1],\n",
    "               kenya_violence_gender_ylls.iloc[0,1], \n",
    "               indonesia_violence_gender_ylls.iloc[0,1],\n",
    "               mexico_violence_gender_ylls.iloc[0,1],\n",
    "               uk_violence_gender_ylls.iloc[0,1]]\n",
    "\n",
    "x = np.arange(len(labels))  \n",
    "width = 0.35 \n",
    "\n",
    "fig, ax = plt.subplots(figsize=(9,4))\n",
    "rects1 = ax.bar(x - width/2, male_means, width, label='Male')\n",
    "rects2 = ax.bar(x + width/2, female_means, width, label='Female')\n",
    "\n",
    "ax.set_ylabel('YLL')\n",
    "ax.set_title('Years of Life Lost by Gender from Interpersonal Violence by Country')\n",
    "ax.set_xticks(x)\n",
    "ax.set_xticklabels(labels)\n",
    "ax.legend()\n",
    "\n",
    "fig.tight_layout()\n",
    "\n",
    "plt.show()"
   ]
  },
  {
   "cell_type": "markdown",
   "id": "c25ad921",
   "metadata": {},
   "source": [
    "## Gender diabetes YLLs"
   ]
  },
  {
   "cell_type": "code",
   "execution_count": 98,
   "id": "e617cf90",
   "metadata": {},
   "outputs": [
    {
     "data": {
      "text/html": [
       "<div>\n",
       "<style scoped>\n",
       "    .dataframe tbody tr th:only-of-type {\n",
       "        vertical-align: middle;\n",
       "    }\n",
       "\n",
       "    .dataframe tbody tr th {\n",
       "        vertical-align: top;\n",
       "    }\n",
       "\n",
       "    .dataframe thead th {\n",
       "        text-align: right;\n",
       "    }\n",
       "</style>\n",
       "<table border=\"1\" class=\"dataframe\">\n",
       "  <thead>\n",
       "    <tr style=\"text-align: right;\">\n",
       "      <th></th>\n",
       "      <th>sex</th>\n",
       "      <th>val</th>\n",
       "    </tr>\n",
       "  </thead>\n",
       "  <tbody>\n",
       "    <tr>\n",
       "      <th>0</th>\n",
       "      <td>Female</td>\n",
       "      <td>1025.861559</td>\n",
       "    </tr>\n",
       "    <tr>\n",
       "      <th>1</th>\n",
       "      <td>Male</td>\n",
       "      <td>1145.487637</td>\n",
       "    </tr>\n",
       "  </tbody>\n",
       "</table>\n",
       "</div>"
      ],
      "text/plain": [
       "      sex          val\n",
       "0  Female  1025.861559\n",
       "1    Male  1145.487637"
      ]
     },
     "execution_count": 98,
     "metadata": {},
     "output_type": "execute_result"
    }
   ],
   "source": [
    "all_diabetes_gender_ylls = df[df['measure'].str.contains('YLL')&\n",
    "          df['cause'].str.contains('Diabetes')]\n",
    "\n",
    "all_diabetes_gender_ylls = all_diabetes_gender_ylls.groupby(['sex'], as_index=False).agg({'val':'mean'})\n",
    "all_diabetes_gender_ylls"
   ]
  },
  {
   "cell_type": "code",
   "execution_count": 99,
   "id": "f3581b0d",
   "metadata": {},
   "outputs": [
    {
     "data": {
      "image/png": "[encoded data removed]",
      "text/plain": [
       "<Figure size 432x288 with 1 Axes>"
      ]
     },
     "metadata": {
      "needs_background": "light"
     },
     "output_type": "display_data"
    }
   ],
   "source": [
    "all_diabetes_gender_ylls.plot(x=\"sex\", y=\"val\", kind=\"bar\")\n",
    "plt.xticks(rotation=45)\n",
    "plt.show()"
   ]
  },
  {
   "cell_type": "code",
   "execution_count": 100,
   "id": "cd9813f7",
   "metadata": {},
   "outputs": [],
   "source": [
    "america_diabetes_gender_ylls = df[df['country'].str.contains('America')&\n",
    "          df['measure'].str.contains('YLL')&\n",
    "          df['cause'].str.contains('Diabetes')]\n",
    "\n",
    "america_diabetes_gender_ylls = america_diabetes_gender_ylls.groupby(['sex'], as_index=False).agg({'val':'mean'})"
   ]
  },
  {
   "cell_type": "code",
   "execution_count": 101,
   "id": "3a40774b",
   "metadata": {},
   "outputs": [],
   "source": [
    "brazil_diabetes_gender_ylls = df[df['country'].str.contains('Brazil')&\n",
    "          df['measure'].str.contains('YLL')&\n",
    "          df['cause'].str.contains('Diabetes')]\n",
    "\n",
    "brazil_diabetes_gender_ylls = brazil_diabetes_gender_ylls.groupby(['sex'], as_index=False).agg({'val':'mean'})"
   ]
  },
  {
   "cell_type": "code",
   "execution_count": 102,
   "id": "e70ad1c7",
   "metadata": {},
   "outputs": [],
   "source": [
    "japan_diabetes_gender_ylls = df[df['country'].str.contains('Japan')&\n",
    "          df['measure'].str.contains('YLL')&\n",
    "          df['cause'].str.contains('Diabetes')]\n",
    "\n",
    "japan_diabetes_gender_ylls = japan_diabetes_gender_ylls.groupby(['sex'], as_index=False).agg({'val':'mean'})"
   ]
  },
  {
   "cell_type": "code",
   "execution_count": 103,
   "id": "3fdc34e5",
   "metadata": {},
   "outputs": [],
   "source": [
    "kenya_diabetes_gender_ylls = df[df['country'].str.contains('Kenya')&\n",
    "          df['measure'].str.contains('YLL')&\n",
    "          df['cause'].str.contains('Diabetes')]\n",
    "\n",
    "kenya_diabetes_gender_ylls = kenya_diabetes_gender_ylls.groupby(['sex'], as_index=False).agg({'val':'mean'})"
   ]
  },
  {
   "cell_type": "code",
   "execution_count": 104,
   "id": "c9df0a76",
   "metadata": {},
   "outputs": [],
   "source": [
    "indonesia_diabetes_gender_ylls = df[df['country'].str.contains('Indonesia')&\n",
    "          df['measure'].str.contains('YLL')&\n",
    "          df['cause'].str.contains('Diabetes')]\n",
    "\n",
    "indonesia_diabetes_gender_ylls = indonesia_diabetes_gender_ylls.groupby(['sex'], as_index=False).agg({'val':'mean'})"
   ]
  },
  {
   "cell_type": "code",
   "execution_count": 105,
   "id": "3d12cf32",
   "metadata": {},
   "outputs": [],
   "source": [
    "mexico_diabetes_gender_ylls = df[df['country'].str.contains('Mexico')&\n",
    "          df['measure'].str.contains('YLL')&\n",
    "          df['cause'].str.contains('Diabetes')]\n",
    "\n",
    "mexico_diabetes_gender_ylls = mexico_diabetes_gender_ylls.groupby(['sex'], as_index=False).agg({'val':'mean'})"
   ]
  },
  {
   "cell_type": "code",
   "execution_count": 106,
   "id": "8d9da4d4",
   "metadata": {},
   "outputs": [],
   "source": [
    "uk_diabetes_gender_ylls = df[df['country'].str.contains('United Kingdom')&\n",
    "          df['measure'].str.contains('YLL')&\n",
    "          df['cause'].str.contains('Diabetes')]\n",
    "\n",
    "uk_diabetes_gender_ylls = uk_diabetes_gender_ylls.groupby(['sex'], as_index=False).agg({'val':'mean'})"
   ]
  },
  {
   "cell_type": "code",
   "execution_count": 107,
   "id": "46fcca27",
   "metadata": {},
   "outputs": [
    {
     "data": {
      "image/png": "[encoded data removed]",
      "text/plain": [
       "<Figure size 648x288 with 1 Axes>"
      ]
     },
     "metadata": {
      "needs_background": "light"
     },
     "output_type": "display_data"
    }
   ],
   "source": [
    "labels = ['America', 'Brazil', 'Japan', 'Kenya', 'Indonesia', 'Mexico', 'United Kingdom']\n",
    "male_means = [america_diabetes_gender_ylls.iloc[1,1], \n",
    "             brazil_diabetes_gender_ylls.iloc[1,1],\n",
    "             japan_diabetes_gender_ylls.iloc[1,1],\n",
    "             kenya_diabetes_gender_ylls.iloc[1,1],\n",
    "             indonesia_diabetes_gender_ylls.iloc[1,1],\n",
    "             mexico_diabetes_gender_ylls.iloc[1,1],\n",
    "             uk_diabetes_gender_ylls.iloc[1,1]]\n",
    "female_means = [america_diabetes_gender_ylls.iloc[0,1], \n",
    "               brazil_diabetes_gender_ylls.iloc[0,1],\n",
    "               japan_diabetes_gender_ylls.iloc[0,1],\n",
    "               kenya_diabetes_gender_ylls.iloc[0,1], \n",
    "               indonesia_diabetes_gender_ylls.iloc[0,1],\n",
    "               mexico_diabetes_gender_ylls.iloc[0,1],\n",
    "               uk_diabetes_gender_ylls.iloc[0,1]]\n",
    "\n",
    "x = np.arange(len(labels))  \n",
    "width = 0.35 \n",
    "\n",
    "fig, ax = plt.subplots(figsize=(9,4))\n",
    "rects1 = ax.bar(x - width/2, male_means, width, label='Male')\n",
    "rects2 = ax.bar(x + width/2, female_means, width, label='Female')\n",
    "\n",
    "ax.set_ylabel('YLL')\n",
    "ax.set_title('Years of Life Lost by Gender from Diabetes by Country')\n",
    "ax.set_xticks(x)\n",
    "ax.set_xticklabels(labels)\n",
    "ax.legend()\n",
    "\n",
    "fig.tight_layout()\n",
    "\n",
    "plt.show()"
   ]
  },
  {
   "cell_type": "markdown",
   "id": "8d78f3d4",
   "metadata": {},
   "source": [
    "## Gender violence DALYs"
   ]
  },
  {
   "cell_type": "code",
   "execution_count": 108,
   "id": "197155a9",
   "metadata": {},
   "outputs": [
    {
     "data": {
      "text/html": [
       "<div>\n",
       "<style scoped>\n",
       "    .dataframe tbody tr th:only-of-type {\n",
       "        vertical-align: middle;\n",
       "    }\n",
       "\n",
       "    .dataframe tbody tr th {\n",
       "        vertical-align: top;\n",
       "    }\n",
       "\n",
       "    .dataframe thead th {\n",
       "        text-align: right;\n",
       "    }\n",
       "</style>\n",
       "<table border=\"1\" class=\"dataframe\">\n",
       "  <thead>\n",
       "    <tr style=\"text-align: right;\">\n",
       "      <th></th>\n",
       "      <th>sex</th>\n",
       "      <th>val</th>\n",
       "    </tr>\n",
       "  </thead>\n",
       "  <tbody>\n",
       "    <tr>\n",
       "      <th>0</th>\n",
       "      <td>Female</td>\n",
       "      <td>124.571936</td>\n",
       "    </tr>\n",
       "    <tr>\n",
       "      <th>1</th>\n",
       "      <td>Male</td>\n",
       "      <td>556.970565</td>\n",
       "    </tr>\n",
       "  </tbody>\n",
       "</table>\n",
       "</div>"
      ],
      "text/plain": [
       "      sex         val\n",
       "0  Female  124.571936\n",
       "1    Male  556.970565"
      ]
     },
     "execution_count": 108,
     "metadata": {},
     "output_type": "execute_result"
    }
   ],
   "source": [
    "all_violence_gender_dalys = df[df['measure'].str.contains('DALY')&\n",
    "          df['cause'].str.contains('violence')]\n",
    "\n",
    "all_violence_gender_dalys = all_violence_gender_dalys.groupby(['sex'], as_index=False).agg({'val':'mean'})\n",
    "all_violence_gender_dalys"
   ]
  },
  {
   "cell_type": "code",
   "execution_count": 109,
   "id": "d3ecc675",
   "metadata": {},
   "outputs": [
    {
     "data": {
      "image/png": "[encoded data removed]",
      "text/plain": [
       "<Figure size 432x288 with 1 Axes>"
      ]
     },
     "metadata": {
      "needs_background": "light"
     },
     "output_type": "display_data"
    }
   ],
   "source": [
    "all_violence_gender_dalys.plot(x=\"sex\", y=\"val\", kind=\"bar\")\n",
    "plt.xticks(rotation=45)\n",
    "plt.show()"
   ]
  },
  {
   "cell_type": "code",
   "execution_count": 110,
   "id": "cd6d467e",
   "metadata": {},
   "outputs": [],
   "source": [
    "america_violence_gender_dalys = df[df['country'].str.contains('America')&\n",
    "          df['measure'].str.contains('DALY')&\n",
    "          df['cause'].str.contains('violence')]\n",
    "\n",
    "america_violence_gender_dalys = america_violence_gender_dalys.groupby(['sex'], as_index=False).agg({'val':'mean'})"
   ]
  },
  {
   "cell_type": "code",
   "execution_count": 111,
   "id": "503fd197",
   "metadata": {},
   "outputs": [],
   "source": [
    "brazil_violence_gender_dalys = df[df['country'].str.contains('Brazil')&\n",
    "          df['measure'].str.contains('DALY')&\n",
    "          df['cause'].str.contains('violence')]\n",
    "\n",
    "brazil_violence_gender_dalys = brazil_violence_gender_dalys.groupby(['sex'], as_index=False).agg({'val':'mean'})"
   ]
  },
  {
   "cell_type": "code",
   "execution_count": 112,
   "id": "521d5a9f",
   "metadata": {},
   "outputs": [],
   "source": [
    "japan_violence_gender_dalys = df[df['country'].str.contains('Japan')&\n",
    "          df['measure'].str.contains('DALY')&\n",
    "          df['cause'].str.contains('violence')]\n",
    "\n",
    "japan_violence_gender_dalys = japan_violence_gender_dalys.groupby(['sex'], as_index=False).agg({'val':'mean'})"
   ]
  },
  {
   "cell_type": "code",
   "execution_count": 113,
   "id": "e76ccae9",
   "metadata": {},
   "outputs": [],
   "source": [
    "kenya_violence_gender_dalys = df[df['country'].str.contains('Kenya')&\n",
    "          df['measure'].str.contains('DALY')&\n",
    "          df['cause'].str.contains('violence')]\n",
    "\n",
    "kenya_violence_gender_dalys = kenya_violence_gender_dalys.groupby(['sex'], as_index=False).agg({'val':'mean'})"
   ]
  },
  {
   "cell_type": "code",
   "execution_count": 114,
   "id": "c1e08d8a",
   "metadata": {},
   "outputs": [],
   "source": [
    "indonesia_violence_gender_dalys = df[df['country'].str.contains('Indonesia')&\n",
    "          df['measure'].str.contains('DALY')&\n",
    "          df['cause'].str.contains('violence')]\n",
    "\n",
    "indonesia_violence_gender_dalys = indonesia_violence_gender_dalys.groupby(['sex'], as_index=False).agg({'val':'mean'})"
   ]
  },
  {
   "cell_type": "code",
   "execution_count": 115,
   "id": "dcb9aa72",
   "metadata": {},
   "outputs": [],
   "source": [
    "mexico_violence_gender_dalys = df[df['country'].str.contains('Mexico')&\n",
    "          df['measure'].str.contains('DALY')&\n",
    "          df['cause'].str.contains('violence')]\n",
    "\n",
    "mexico_violence_gender_dalys = mexico_violence_gender_dalys.groupby(['sex'], as_index=False).agg({'val':'mean'})"
   ]
  },
  {
   "cell_type": "code",
   "execution_count": 116,
   "id": "5250c07c",
   "metadata": {},
   "outputs": [],
   "source": [
    "uk_violence_gender_dalys = df[df['country'].str.contains('United Kingdom')&\n",
    "          df['measure'].str.contains('DALY')&\n",
    "          df['cause'].str.contains('violence')]\n",
    "\n",
    "uk_violence_gender_dalys = uk_violence_gender_dalys.groupby(['sex'], as_index=False).agg({'val':'mean'})"
   ]
  },
  {
   "cell_type": "code",
   "execution_count": 117,
   "id": "f09eebdb",
   "metadata": {},
   "outputs": [
    {
     "data": {
      "image/png": "[encoded data removed]",
      "text/plain": [
       "<Figure size 648x288 with 1 Axes>"
      ]
     },
     "metadata": {
      "needs_background": "light"
     },
     "output_type": "display_data"
    }
   ],
   "source": [
    "labels = ['America', 'Brazil', 'Japan', 'Kenya', 'Indonesia', 'Mexico', 'United Kingdom']\n",
    "male_means = [america_violence_gender_dalys.iloc[1,1], \n",
    "             brazil_violence_gender_dalys.iloc[1,1],\n",
    "             japan_violence_gender_dalys.iloc[1,1],\n",
    "             kenya_violence_gender_dalys.iloc[1,1],\n",
    "             indonesia_violence_gender_dalys.iloc[1,1],\n",
    "             mexico_violence_gender_dalys.iloc[1,1],\n",
    "             uk_violence_gender_dalys.iloc[1,1]]\n",
    "female_means = [america_violence_gender_dalys.iloc[0,1], \n",
    "               brazil_violence_gender_dalys.iloc[0,1],\n",
    "               japan_violence_gender_dalys.iloc[0,1],\n",
    "               kenya_violence_gender_dalys.iloc[0,1], \n",
    "               indonesia_violence_gender_dalys.iloc[0,1],\n",
    "               mexico_violence_gender_dalys.iloc[0,1],\n",
    "               uk_violence_gender_dalys.iloc[0,1]]\n",
    "\n",
    "x = np.arange(len(labels))  \n",
    "width = 0.35 \n",
    "\n",
    "fig, ax = plt.subplots(figsize=(9,4))\n",
    "rects1 = ax.bar(x - width/2, male_means, width, label='Male')\n",
    "rects2 = ax.bar(x + width/2, female_means, width, label='Female')\n",
    "\n",
    "ax.set_ylabel('DALY')\n",
    "ax.set_title('DALY by Gender from Interpersonal Violence by Country')\n",
    "ax.set_xticks(x)\n",
    "ax.set_xticklabels(labels)\n",
    "ax.legend()\n",
    "\n",
    "fig.tight_layout()\n",
    "\n",
    "plt.show()"
   ]
  },
  {
   "cell_type": "markdown",
   "id": "c1c1f07c",
   "metadata": {},
   "source": [
    "## Gender diabetes dalys"
   ]
  },
  {
   "cell_type": "code",
   "execution_count": 118,
   "id": "91b609c2",
   "metadata": {},
   "outputs": [
    {
     "data": {
      "text/html": [
       "<div>\n",
       "<style scoped>\n",
       "    .dataframe tbody tr th:only-of-type {\n",
       "        vertical-align: middle;\n",
       "    }\n",
       "\n",
       "    .dataframe tbody tr th {\n",
       "        vertical-align: top;\n",
       "    }\n",
       "\n",
       "    .dataframe thead th {\n",
       "        text-align: right;\n",
       "    }\n",
       "</style>\n",
       "<table border=\"1\" class=\"dataframe\">\n",
       "  <thead>\n",
       "    <tr style=\"text-align: right;\">\n",
       "      <th></th>\n",
       "      <th>sex</th>\n",
       "      <th>val</th>\n",
       "    </tr>\n",
       "  </thead>\n",
       "  <tbody>\n",
       "    <tr>\n",
       "      <th>0</th>\n",
       "      <td>Female</td>\n",
       "      <td>1942.388851</td>\n",
       "    </tr>\n",
       "    <tr>\n",
       "      <th>1</th>\n",
       "      <td>Male</td>\n",
       "      <td>2303.689349</td>\n",
       "    </tr>\n",
       "  </tbody>\n",
       "</table>\n",
       "</div>"
      ],
      "text/plain": [
       "      sex          val\n",
       "0  Female  1942.388851\n",
       "1    Male  2303.689349"
      ]
     },
     "execution_count": 118,
     "metadata": {},
     "output_type": "execute_result"
    }
   ],
   "source": [
    "all_diabetes_gender_dalys = df[df['measure'].str.contains('DALY')&\n",
    "          df['cause'].str.contains('Diabetes')]\n",
    "\n",
    "all_diabetes_gender_dalys = all_diabetes_gender_dalys.groupby(['sex'], as_index=False).agg({'val':'mean'})\n",
    "all_diabetes_gender_dalys"
   ]
  },
  {
   "cell_type": "code",
   "execution_count": 119,
   "id": "9fe0355f",
   "metadata": {},
   "outputs": [
    {
     "data": {
      "image/png": "[encoded data removed]",
      "text/plain": [
       "<Figure size 432x288 with 1 Axes>"
      ]
     },
     "metadata": {
      "needs_background": "light"
     },
     "output_type": "display_data"
    }
   ],
   "source": [
    "all_diabetes_gender_dalys.plot(x=\"sex\", y=\"val\", kind=\"bar\")\n",
    "plt.xticks(rotation=45)\n",
    "plt.show()"
   ]
  },
  {
   "cell_type": "code",
   "execution_count": 120,
   "id": "9a974ff1",
   "metadata": {},
   "outputs": [],
   "source": [
    "america_diabetes_gender_dalys = df[df['country'].str.contains('America')&\n",
    "          df['measure'].str.contains('DALY')&\n",
    "          df['cause'].str.contains('Diabetes')]\n",
    "\n",
    "america_diabetes_gender_dalys = america_diabetes_gender_dalys.groupby(['sex'], as_index=False).agg({'val':'mean'})"
   ]
  },
  {
   "cell_type": "code",
   "execution_count": 121,
   "id": "206daa5a",
   "metadata": {},
   "outputs": [],
   "source": [
    "brazil_diabetes_gender_dalys = df[df['country'].str.contains('Brazil')&\n",
    "          df['measure'].str.contains('DALY')&\n",
    "          df['cause'].str.contains('Diabetes')]\n",
    "\n",
    "brazil_diabetes_gender_dalys = brazil_diabetes_gender_dalys.groupby(['sex'], as_index=False).agg({'val':'mean'})"
   ]
  },
  {
   "cell_type": "code",
   "execution_count": 122,
   "id": "0c420c24",
   "metadata": {},
   "outputs": [],
   "source": [
    "japan_diabetes_gender_dalys = df[df['country'].str.contains('Japan')&\n",
    "          df['measure'].str.contains('DALY')&\n",
    "          df['cause'].str.contains('Diabetes')]\n",
    "\n",
    "japan_diabetes_gender_dalys = japan_diabetes_gender_dalys.groupby(['sex'], as_index=False).agg({'val':'mean'})"
   ]
  },
  {
   "cell_type": "code",
   "execution_count": 123,
   "id": "e1ab9583",
   "metadata": {},
   "outputs": [],
   "source": [
    "kenya_diabetes_gender_dalys = df[df['country'].str.contains('Kenya')&\n",
    "          df['measure'].str.contains('DALY')&\n",
    "          df['cause'].str.contains('Diabetes')]\n",
    "\n",
    "kenya_diabetes_gender_dalys = kenya_diabetes_gender_dalys.groupby(['sex'], as_index=False).agg({'val':'mean'})"
   ]
  },
  {
   "cell_type": "code",
   "execution_count": 124,
   "id": "5ac48dde",
   "metadata": {},
   "outputs": [],
   "source": [
    "indonesia_diabetes_gender_dalys = df[df['country'].str.contains('Indonesia')&\n",
    "          df['measure'].str.contains('DALY')&\n",
    "          df['cause'].str.contains('Diabetes')]\n",
    "\n",
    "indonesia_diabetes_gender_dalys = indonesia_diabetes_gender_dalys.groupby(['sex'], as_index=False).agg({'val':'mean'})"
   ]
  },
  {
   "cell_type": "code",
   "execution_count": 125,
   "id": "318ad076",
   "metadata": {},
   "outputs": [],
   "source": [
    "mexico_diabetes_gender_dalys = df[df['country'].str.contains('Mexico')&\n",
    "          df['measure'].str.contains('DALY')&\n",
    "          df['cause'].str.contains('Diabetes')]\n",
    "\n",
    "mexico_diabetes_gender_dalys = mexico_diabetes_gender_dalys.groupby(['sex'], as_index=False).agg({'val':'mean'})"
   ]
  },
  {
   "cell_type": "code",
   "execution_count": 126,
   "id": "004884cf",
   "metadata": {},
   "outputs": [],
   "source": [
    "uk_diabetes_gender_dalys = df[df['country'].str.contains('United Kingdom')&\n",
    "          df['measure'].str.contains('DALY')&\n",
    "          df['cause'].str.contains('Diabetes')]\n",
    "\n",
    "uk_diabetes_gender_dalys = uk_diabetes_gender_dalys.groupby(['sex'], as_index=False).agg({'val':'mean'})"
   ]
  },
  {
   "cell_type": "code",
   "execution_count": 127,
   "id": "245ed114",
   "metadata": {},
   "outputs": [
    {
     "data": {
      "image/png": "[encoded data removed]",
      "text/plain": [
       "<Figure size 648x288 with 1 Axes>"
      ]
     },
     "metadata": {
      "needs_background": "light"
     },
     "output_type": "display_data"
    }
   ],
   "source": [
    "labels = ['America', 'Brazil', 'Japan', 'Kenya', 'Indonesia', 'Mexico', 'United Kingdom']\n",
    "male_means = [america_diabetes_gender_dalys.iloc[1,1], \n",
    "             brazil_diabetes_gender_dalys.iloc[1,1],\n",
    "             japan_diabetes_gender_dalys.iloc[1,1],\n",
    "             kenya_diabetes_gender_dalys.iloc[1,1],\n",
    "             indonesia_diabetes_gender_dalys.iloc[1,1],\n",
    "             mexico_diabetes_gender_dalys.iloc[1,1],\n",
    "             uk_diabetes_gender_dalys.iloc[1,1]]\n",
    "female_means = [america_diabetes_gender_dalys.iloc[0,1], \n",
    "               brazil_diabetes_gender_dalys.iloc[0,1],\n",
    "               japan_diabetes_gender_dalys.iloc[0,1],\n",
    "               kenya_diabetes_gender_dalys.iloc[0,1], \n",
    "               indonesia_diabetes_gender_dalys.iloc[0,1],\n",
    "               mexico_diabetes_gender_dalys.iloc[0,1],\n",
    "               uk_diabetes_gender_dalys.iloc[0,1]]\n",
    "\n",
    "x = np.arange(len(labels))  \n",
    "width = 0.35 \n",
    "\n",
    "fig, ax = plt.subplots(figsize=(9,4))\n",
    "rects1 = ax.bar(x - width/2, male_means, width, label='Male')\n",
    "rects2 = ax.bar(x + width/2, female_means, width, label='Female')\n",
    "\n",
    "ax.set_ylabel('DALY')\n",
    "ax.set_title('DALY by Gender from Diabetes by Country')\n",
    "ax.set_xticks(x)\n",
    "ax.set_xticklabels(labels)\n",
    "ax.legend()\n",
    "\n",
    "fig.tight_layout()\n",
    "\n",
    "plt.show()"
   ]
  },
  {
   "cell_type": "markdown",
   "id": "18433a3e",
   "metadata": {},
   "source": [
    "# Age"
   ]
  },
  {
   "cell_type": "markdown",
   "id": "f526b319",
   "metadata": {},
   "source": [
    "## Deaths age violence"
   ]
  },
  {
   "cell_type": "code",
   "execution_count": 128,
   "id": "b2ba3c8d",
   "metadata": {},
   "outputs": [
    {
     "data": {
      "text/html": [
       "<div>\n",
       "<style scoped>\n",
       "    .dataframe tbody tr th:only-of-type {\n",
       "        vertical-align: middle;\n",
       "    }\n",
       "\n",
       "    .dataframe tbody tr th {\n",
       "        vertical-align: top;\n",
       "    }\n",
       "\n",
       "    .dataframe thead th {\n",
       "        text-align: right;\n",
       "    }\n",
       "</style>\n",
       "<table border=\"1\" class=\"dataframe\">\n",
       "  <thead>\n",
       "    <tr style=\"text-align: right;\">\n",
       "      <th></th>\n",
       "      <th>age_sort</th>\n",
       "      <th>age</th>\n",
       "      <th>val</th>\n",
       "    </tr>\n",
       "  </thead>\n",
       "  <tbody>\n",
       "    <tr>\n",
       "      <th>0</th>\n",
       "      <td>0</td>\n",
       "      <td>1 to 4</td>\n",
       "      <td>0.985361</td>\n",
       "    </tr>\n",
       "    <tr>\n",
       "      <th>1</th>\n",
       "      <td>1</td>\n",
       "      <td>5 to 9</td>\n",
       "      <td>0.524197</td>\n",
       "    </tr>\n",
       "    <tr>\n",
       "      <th>2</th>\n",
       "      <td>2</td>\n",
       "      <td>10 to 14</td>\n",
       "      <td>1.045526</td>\n",
       "    </tr>\n",
       "    <tr>\n",
       "      <th>3</th>\n",
       "      <td>2</td>\n",
       "      <td>15 to 19</td>\n",
       "      <td>8.298407</td>\n",
       "    </tr>\n",
       "    <tr>\n",
       "      <th>4</th>\n",
       "      <td>2</td>\n",
       "      <td>20 to 24</td>\n",
       "      <td>12.718020</td>\n",
       "    </tr>\n",
       "    <tr>\n",
       "      <th>5</th>\n",
       "      <td>2</td>\n",
       "      <td>25 to 29</td>\n",
       "      <td>11.873879</td>\n",
       "    </tr>\n",
       "    <tr>\n",
       "      <th>6</th>\n",
       "      <td>2</td>\n",
       "      <td>30 to 34</td>\n",
       "      <td>10.735435</td>\n",
       "    </tr>\n",
       "    <tr>\n",
       "      <th>7</th>\n",
       "      <td>2</td>\n",
       "      <td>35 to 39</td>\n",
       "      <td>9.856952</td>\n",
       "    </tr>\n",
       "    <tr>\n",
       "      <th>8</th>\n",
       "      <td>2</td>\n",
       "      <td>40 to 44</td>\n",
       "      <td>8.923485</td>\n",
       "    </tr>\n",
       "    <tr>\n",
       "      <th>9</th>\n",
       "      <td>2</td>\n",
       "      <td>45 to 49</td>\n",
       "      <td>8.056049</td>\n",
       "    </tr>\n",
       "    <tr>\n",
       "      <th>10</th>\n",
       "      <td>2</td>\n",
       "      <td>50 to 54</td>\n",
       "      <td>7.918881</td>\n",
       "    </tr>\n",
       "    <tr>\n",
       "      <th>11</th>\n",
       "      <td>2</td>\n",
       "      <td>55 to 59</td>\n",
       "      <td>7.278414</td>\n",
       "    </tr>\n",
       "    <tr>\n",
       "      <th>12</th>\n",
       "      <td>2</td>\n",
       "      <td>60 to 64</td>\n",
       "      <td>6.787711</td>\n",
       "    </tr>\n",
       "    <tr>\n",
       "      <th>13</th>\n",
       "      <td>2</td>\n",
       "      <td>65 to 69</td>\n",
       "      <td>7.422731</td>\n",
       "    </tr>\n",
       "    <tr>\n",
       "      <th>14</th>\n",
       "      <td>2</td>\n",
       "      <td>70 to 74</td>\n",
       "      <td>7.267436</td>\n",
       "    </tr>\n",
       "    <tr>\n",
       "      <th>15</th>\n",
       "      <td>2</td>\n",
       "      <td>75 to 79</td>\n",
       "      <td>7.681078</td>\n",
       "    </tr>\n",
       "    <tr>\n",
       "      <th>16</th>\n",
       "      <td>2</td>\n",
       "      <td>80 to 84</td>\n",
       "      <td>4.663375</td>\n",
       "    </tr>\n",
       "    <tr>\n",
       "      <th>17</th>\n",
       "      <td>2</td>\n",
       "      <td>85 to 89</td>\n",
       "      <td>4.810600</td>\n",
       "    </tr>\n",
       "    <tr>\n",
       "      <th>18</th>\n",
       "      <td>2</td>\n",
       "      <td>90 to 94</td>\n",
       "      <td>4.451434</td>\n",
       "    </tr>\n",
       "  </tbody>\n",
       "</table>\n",
       "</div>"
      ],
      "text/plain": [
       "    age_sort       age        val\n",
       "0          0    1 to 4   0.985361\n",
       "1          1    5 to 9   0.524197\n",
       "2          2  10 to 14   1.045526\n",
       "3          2  15 to 19   8.298407\n",
       "4          2  20 to 24  12.718020\n",
       "5          2  25 to 29  11.873879\n",
       "6          2  30 to 34  10.735435\n",
       "7          2  35 to 39   9.856952\n",
       "8          2  40 to 44   8.923485\n",
       "9          2  45 to 49   8.056049\n",
       "10         2  50 to 54   7.918881\n",
       "11         2  55 to 59   7.278414\n",
       "12         2  60 to 64   6.787711\n",
       "13         2  65 to 69   7.422731\n",
       "14         2  70 to 74   7.267436\n",
       "15         2  75 to 79   7.681078\n",
       "16         2  80 to 84   4.663375\n",
       "17         2  85 to 89   4.810600\n",
       "18         2  90 to 94   4.451434"
      ]
     },
     "execution_count": 128,
     "metadata": {},
     "output_type": "execute_result"
    }
   ],
   "source": [
    "all_violence_age_deaths = df[df['measure'].str.contains('Deaths')&\n",
    "          df['cause'].str.contains('violence')]\n",
    "\n",
    "all_violence_age_deaths = all_violence_age_deaths.groupby(['age_sort','age'], as_index=False).agg({'val':'mean'})\n",
    "all_violence_age_deaths"
   ]
  },
  {
   "cell_type": "code",
   "execution_count": 129,
   "id": "c7ad8eb8",
   "metadata": {},
   "outputs": [
    {
     "data": {
      "image/png": "[encoded data removed]",
      "text/plain": [
       "<Figure size 432x288 with 1 Axes>"
      ]
     },
     "metadata": {
      "needs_background": "light"
     },
     "output_type": "display_data"
    }
   ],
   "source": [
    "all_violence_age_deaths.plot(x=\"age\", y=\"val\", kind=\"bar\")\n",
    "plt.xticks(rotation=45)\n",
    "plt.show()"
   ]
  },
  {
   "cell_type": "markdown",
   "id": "72c49a66",
   "metadata": {},
   "source": [
    "## Deaths age diabetes"
   ]
  },
  {
   "cell_type": "code",
   "execution_count": 130,
   "id": "2a203590",
   "metadata": {},
   "outputs": [
    {
     "data": {
      "text/html": [
       "<div>\n",
       "<style scoped>\n",
       "    .dataframe tbody tr th:only-of-type {\n",
       "        vertical-align: middle;\n",
       "    }\n",
       "\n",
       "    .dataframe tbody tr th {\n",
       "        vertical-align: top;\n",
       "    }\n",
       "\n",
       "    .dataframe thead th {\n",
       "        text-align: right;\n",
       "    }\n",
       "</style>\n",
       "<table border=\"1\" class=\"dataframe\">\n",
       "  <thead>\n",
       "    <tr style=\"text-align: right;\">\n",
       "      <th></th>\n",
       "      <th>age_sort</th>\n",
       "      <th>age</th>\n",
       "      <th>val</th>\n",
       "    </tr>\n",
       "  </thead>\n",
       "  <tbody>\n",
       "    <tr>\n",
       "      <th>0</th>\n",
       "      <td>0</td>\n",
       "      <td>1 to 4</td>\n",
       "      <td>0.085520</td>\n",
       "    </tr>\n",
       "    <tr>\n",
       "      <th>1</th>\n",
       "      <td>1</td>\n",
       "      <td>5 to 9</td>\n",
       "      <td>0.056168</td>\n",
       "    </tr>\n",
       "    <tr>\n",
       "      <th>2</th>\n",
       "      <td>2</td>\n",
       "      <td>10 to 14</td>\n",
       "      <td>0.102151</td>\n",
       "    </tr>\n",
       "    <tr>\n",
       "      <th>3</th>\n",
       "      <td>2</td>\n",
       "      <td>15 to 19</td>\n",
       "      <td>0.364570</td>\n",
       "    </tr>\n",
       "    <tr>\n",
       "      <th>4</th>\n",
       "      <td>2</td>\n",
       "      <td>20 to 24</td>\n",
       "      <td>0.695700</td>\n",
       "    </tr>\n",
       "    <tr>\n",
       "      <th>5</th>\n",
       "      <td>2</td>\n",
       "      <td>25 to 29</td>\n",
       "      <td>1.074337</td>\n",
       "    </tr>\n",
       "    <tr>\n",
       "      <th>6</th>\n",
       "      <td>2</td>\n",
       "      <td>30 to 34</td>\n",
       "      <td>1.891457</td>\n",
       "    </tr>\n",
       "    <tr>\n",
       "      <th>7</th>\n",
       "      <td>2</td>\n",
       "      <td>35 to 39</td>\n",
       "      <td>3.438362</td>\n",
       "    </tr>\n",
       "    <tr>\n",
       "      <th>8</th>\n",
       "      <td>2</td>\n",
       "      <td>40 to 44</td>\n",
       "      <td>6.598764</td>\n",
       "    </tr>\n",
       "    <tr>\n",
       "      <th>9</th>\n",
       "      <td>2</td>\n",
       "      <td>45 to 49</td>\n",
       "      <td>12.338504</td>\n",
       "    </tr>\n",
       "    <tr>\n",
       "      <th>10</th>\n",
       "      <td>2</td>\n",
       "      <td>50 to 54</td>\n",
       "      <td>22.718570</td>\n",
       "    </tr>\n",
       "    <tr>\n",
       "      <th>11</th>\n",
       "      <td>2</td>\n",
       "      <td>55 to 59</td>\n",
       "      <td>37.379834</td>\n",
       "    </tr>\n",
       "    <tr>\n",
       "      <th>12</th>\n",
       "      <td>2</td>\n",
       "      <td>60 to 64</td>\n",
       "      <td>58.427479</td>\n",
       "    </tr>\n",
       "    <tr>\n",
       "      <th>13</th>\n",
       "      <td>2</td>\n",
       "      <td>65 to 69</td>\n",
       "      <td>80.996324</td>\n",
       "    </tr>\n",
       "    <tr>\n",
       "      <th>14</th>\n",
       "      <td>2</td>\n",
       "      <td>70 to 74</td>\n",
       "      <td>119.630482</td>\n",
       "    </tr>\n",
       "    <tr>\n",
       "      <th>15</th>\n",
       "      <td>2</td>\n",
       "      <td>75 to 79</td>\n",
       "      <td>172.512579</td>\n",
       "    </tr>\n",
       "    <tr>\n",
       "      <th>16</th>\n",
       "      <td>2</td>\n",
       "      <td>80 to 84</td>\n",
       "      <td>242.591658</td>\n",
       "    </tr>\n",
       "    <tr>\n",
       "      <th>17</th>\n",
       "      <td>2</td>\n",
       "      <td>85 to 89</td>\n",
       "      <td>331.223390</td>\n",
       "    </tr>\n",
       "    <tr>\n",
       "      <th>18</th>\n",
       "      <td>2</td>\n",
       "      <td>90 to 94</td>\n",
       "      <td>457.028989</td>\n",
       "    </tr>\n",
       "  </tbody>\n",
       "</table>\n",
       "</div>"
      ],
      "text/plain": [
       "    age_sort       age         val\n",
       "0          0    1 to 4    0.085520\n",
       "1          1    5 to 9    0.056168\n",
       "2          2  10 to 14    0.102151\n",
       "3          2  15 to 19    0.364570\n",
       "4          2  20 to 24    0.695700\n",
       "5          2  25 to 29    1.074337\n",
       "6          2  30 to 34    1.891457\n",
       "7          2  35 to 39    3.438362\n",
       "8          2  40 to 44    6.598764\n",
       "9          2  45 to 49   12.338504\n",
       "10         2  50 to 54   22.718570\n",
       "11         2  55 to 59   37.379834\n",
       "12         2  60 to 64   58.427479\n",
       "13         2  65 to 69   80.996324\n",
       "14         2  70 to 74  119.630482\n",
       "15         2  75 to 79  172.512579\n",
       "16         2  80 to 84  242.591658\n",
       "17         2  85 to 89  331.223390\n",
       "18         2  90 to 94  457.028989"
      ]
     },
     "execution_count": 130,
     "metadata": {},
     "output_type": "execute_result"
    }
   ],
   "source": [
    "all_diabetes_age_deaths = df[df['measure'].str.contains('Deaths')&\n",
    "          df['cause'].str.contains('Diabetes')]\n",
    "\n",
    "all_diabetes_age_deaths = all_diabetes_age_deaths.groupby(['age_sort','age'], as_index=False).agg({'val':'mean'})\n",
    "all_diabetes_age_deaths"
   ]
  },
  {
   "cell_type": "code",
   "execution_count": 131,
   "id": "32611b27",
   "metadata": {},
   "outputs": [
    {
     "data": {
      "image/png": "[encoded data removed]",
      "text/plain": [
       "<Figure size 432x288 with 1 Axes>"
      ]
     },
     "metadata": {
      "needs_background": "light"
     },
     "output_type": "display_data"
    }
   ],
   "source": [
    "all_diabetes_age_deaths.plot(x=\"age\", y=\"val\", kind=\"bar\")\n",
    "plt.xticks(rotation=45)\n",
    "plt.show()"
   ]
  },
  {
   "cell_type": "markdown",
   "id": "9da2c70a",
   "metadata": {},
   "source": [
    "## YLL age violence"
   ]
  },
  {
   "cell_type": "code",
   "execution_count": 132,
   "id": "f669d9a1",
   "metadata": {},
   "outputs": [
    {
     "data": {
      "text/html": [
       "<div>\n",
       "<style scoped>\n",
       "    .dataframe tbody tr th:only-of-type {\n",
       "        vertical-align: middle;\n",
       "    }\n",
       "\n",
       "    .dataframe tbody tr th {\n",
       "        vertical-align: top;\n",
       "    }\n",
       "\n",
       "    .dataframe thead th {\n",
       "        text-align: right;\n",
       "    }\n",
       "</style>\n",
       "<table border=\"1\" class=\"dataframe\">\n",
       "  <thead>\n",
       "    <tr style=\"text-align: right;\">\n",
       "      <th></th>\n",
       "      <th>age_sort</th>\n",
       "      <th>age</th>\n",
       "      <th>val</th>\n",
       "    </tr>\n",
       "  </thead>\n",
       "  <tbody>\n",
       "    <tr>\n",
       "      <th>0</th>\n",
       "      <td>0</td>\n",
       "      <td>1 to 4</td>\n",
       "      <td>84.976255</td>\n",
       "    </tr>\n",
       "    <tr>\n",
       "      <th>1</th>\n",
       "      <td>1</td>\n",
       "      <td>5 to 9</td>\n",
       "      <td>42.939710</td>\n",
       "    </tr>\n",
       "    <tr>\n",
       "      <th>2</th>\n",
       "      <td>2</td>\n",
       "      <td>10 to 14</td>\n",
       "      <td>79.965862</td>\n",
       "    </tr>\n",
       "    <tr>\n",
       "      <th>3</th>\n",
       "      <td>2</td>\n",
       "      <td>15 to 19</td>\n",
       "      <td>593.085702</td>\n",
       "    </tr>\n",
       "    <tr>\n",
       "      <th>4</th>\n",
       "      <td>2</td>\n",
       "      <td>20 to 24</td>\n",
       "      <td>849.207602</td>\n",
       "    </tr>\n",
       "    <tr>\n",
       "      <th>5</th>\n",
       "      <td>2</td>\n",
       "      <td>25 to 29</td>\n",
       "      <td>734.962745</td>\n",
       "    </tr>\n",
       "    <tr>\n",
       "      <th>6</th>\n",
       "      <td>2</td>\n",
       "      <td>30 to 34</td>\n",
       "      <td>611.061486</td>\n",
       "    </tr>\n",
       "    <tr>\n",
       "      <th>7</th>\n",
       "      <td>2</td>\n",
       "      <td>35 to 39</td>\n",
       "      <td>512.003104</td>\n",
       "    </tr>\n",
       "    <tr>\n",
       "      <th>8</th>\n",
       "      <td>2</td>\n",
       "      <td>40 to 44</td>\n",
       "      <td>419.225775</td>\n",
       "    </tr>\n",
       "    <tr>\n",
       "      <th>9</th>\n",
       "      <td>2</td>\n",
       "      <td>45 to 49</td>\n",
       "      <td>339.133932</td>\n",
       "    </tr>\n",
       "    <tr>\n",
       "      <th>10</th>\n",
       "      <td>2</td>\n",
       "      <td>50 to 54</td>\n",
       "      <td>295.239758</td>\n",
       "    </tr>\n",
       "    <tr>\n",
       "      <th>11</th>\n",
       "      <td>2</td>\n",
       "      <td>55 to 59</td>\n",
       "      <td>236.994222</td>\n",
       "    </tr>\n",
       "    <tr>\n",
       "      <th>12</th>\n",
       "      <td>2</td>\n",
       "      <td>60 to 64</td>\n",
       "      <td>189.584025</td>\n",
       "    </tr>\n",
       "    <tr>\n",
       "      <th>13</th>\n",
       "      <td>2</td>\n",
       "      <td>65 to 69</td>\n",
       "      <td>173.856678</td>\n",
       "    </tr>\n",
       "    <tr>\n",
       "      <th>14</th>\n",
       "      <td>2</td>\n",
       "      <td>70 to 74</td>\n",
       "      <td>139.159499</td>\n",
       "    </tr>\n",
       "    <tr>\n",
       "      <th>15</th>\n",
       "      <td>2</td>\n",
       "      <td>75 to 79</td>\n",
       "      <td>116.364656</td>\n",
       "    </tr>\n",
       "    <tr>\n",
       "      <th>16</th>\n",
       "      <td>2</td>\n",
       "      <td>80 to 84</td>\n",
       "      <td>54.320832</td>\n",
       "    </tr>\n",
       "    <tr>\n",
       "      <th>17</th>\n",
       "      <td>2</td>\n",
       "      <td>85 to 89</td>\n",
       "      <td>42.771457</td>\n",
       "    </tr>\n",
       "    <tr>\n",
       "      <th>18</th>\n",
       "      <td>2</td>\n",
       "      <td>90 to 94</td>\n",
       "      <td>30.638268</td>\n",
       "    </tr>\n",
       "  </tbody>\n",
       "</table>\n",
       "</div>"
      ],
      "text/plain": [
       "    age_sort       age         val\n",
       "0          0    1 to 4   84.976255\n",
       "1          1    5 to 9   42.939710\n",
       "2          2  10 to 14   79.965862\n",
       "3          2  15 to 19  593.085702\n",
       "4          2  20 to 24  849.207602\n",
       "5          2  25 to 29  734.962745\n",
       "6          2  30 to 34  611.061486\n",
       "7          2  35 to 39  512.003104\n",
       "8          2  40 to 44  419.225775\n",
       "9          2  45 to 49  339.133932\n",
       "10         2  50 to 54  295.239758\n",
       "11         2  55 to 59  236.994222\n",
       "12         2  60 to 64  189.584025\n",
       "13         2  65 to 69  173.856678\n",
       "14         2  70 to 74  139.159499\n",
       "15         2  75 to 79  116.364656\n",
       "16         2  80 to 84   54.320832\n",
       "17         2  85 to 89   42.771457\n",
       "18         2  90 to 94   30.638268"
      ]
     },
     "execution_count": 132,
     "metadata": {},
     "output_type": "execute_result"
    }
   ],
   "source": [
    "all_violence_age_ylls = df[df['measure'].str.contains('YLL')&\n",
    "          df['cause'].str.contains('violence')]\n",
    "\n",
    "all_violence_age_ylls = all_violence_age_ylls.groupby(['age_sort','age'], as_index=False).agg({'val':'mean'})\n",
    "all_violence_age_ylls"
   ]
  },
  {
   "cell_type": "code",
   "execution_count": 133,
   "id": "03a6a688",
   "metadata": {},
   "outputs": [
    {
     "data": {
      "image/png": "[encoded data removed]",
      "text/plain": [
       "<Figure size 432x288 with 1 Axes>"
      ]
     },
     "metadata": {
      "needs_background": "light"
     },
     "output_type": "display_data"
    }
   ],
   "source": [
    "all_violence_age_ylls.plot(x=\"age\", y=\"val\", kind=\"bar\")\n",
    "plt.xticks(rotation=45)\n",
    "plt.show()"
   ]
  },
  {
   "cell_type": "markdown",
   "id": "dc29b150",
   "metadata": {},
   "source": [
    "## YLLs age diabetes"
   ]
  },
  {
   "cell_type": "code",
   "execution_count": 134,
   "id": "b45a8657",
   "metadata": {},
   "outputs": [
    {
     "data": {
      "text/html": [
       "<div>\n",
       "<style scoped>\n",
       "    .dataframe tbody tr th:only-of-type {\n",
       "        vertical-align: middle;\n",
       "    }\n",
       "\n",
       "    .dataframe tbody tr th {\n",
       "        vertical-align: top;\n",
       "    }\n",
       "\n",
       "    .dataframe thead th {\n",
       "        text-align: right;\n",
       "    }\n",
       "</style>\n",
       "<table border=\"1\" class=\"dataframe\">\n",
       "  <thead>\n",
       "    <tr style=\"text-align: right;\">\n",
       "      <th></th>\n",
       "      <th>age_sort</th>\n",
       "      <th>age</th>\n",
       "      <th>val</th>\n",
       "    </tr>\n",
       "  </thead>\n",
       "  <tbody>\n",
       "    <tr>\n",
       "      <th>0</th>\n",
       "      <td>0</td>\n",
       "      <td>1 to 4</td>\n",
       "      <td>7.356101</td>\n",
       "    </tr>\n",
       "    <tr>\n",
       "      <th>1</th>\n",
       "      <td>1</td>\n",
       "      <td>5 to 9</td>\n",
       "      <td>4.590628</td>\n",
       "    </tr>\n",
       "    <tr>\n",
       "      <th>2</th>\n",
       "      <td>2</td>\n",
       "      <td>10 to 14</td>\n",
       "      <td>7.802835</td>\n",
       "    </tr>\n",
       "    <tr>\n",
       "      <th>3</th>\n",
       "      <td>2</td>\n",
       "      <td>15 to 19</td>\n",
       "      <td>26.027773</td>\n",
       "    </tr>\n",
       "    <tr>\n",
       "      <th>4</th>\n",
       "      <td>2</td>\n",
       "      <td>20 to 24</td>\n",
       "      <td>46.293871</td>\n",
       "    </tr>\n",
       "    <tr>\n",
       "      <th>5</th>\n",
       "      <td>2</td>\n",
       "      <td>25 to 29</td>\n",
       "      <td>66.187114</td>\n",
       "    </tr>\n",
       "    <tr>\n",
       "      <th>6</th>\n",
       "      <td>2</td>\n",
       "      <td>30 to 34</td>\n",
       "      <td>107.107094</td>\n",
       "    </tr>\n",
       "    <tr>\n",
       "      <th>7</th>\n",
       "      <td>2</td>\n",
       "      <td>35 to 39</td>\n",
       "      <td>177.635204</td>\n",
       "    </tr>\n",
       "    <tr>\n",
       "      <th>8</th>\n",
       "      <td>2</td>\n",
       "      <td>40 to 44</td>\n",
       "      <td>308.452268</td>\n",
       "    </tr>\n",
       "    <tr>\n",
       "      <th>9</th>\n",
       "      <td>2</td>\n",
       "      <td>45 to 49</td>\n",
       "      <td>516.902891</td>\n",
       "    </tr>\n",
       "    <tr>\n",
       "      <th>10</th>\n",
       "      <td>2</td>\n",
       "      <td>50 to 54</td>\n",
       "      <td>843.907261</td>\n",
       "    </tr>\n",
       "    <tr>\n",
       "      <th>11</th>\n",
       "      <td>2</td>\n",
       "      <td>55 to 59</td>\n",
       "      <td>1213.347625</td>\n",
       "    </tr>\n",
       "    <tr>\n",
       "      <th>12</th>\n",
       "      <td>2</td>\n",
       "      <td>60 to 64</td>\n",
       "      <td>1627.704968</td>\n",
       "    </tr>\n",
       "    <tr>\n",
       "      <th>13</th>\n",
       "      <td>2</td>\n",
       "      <td>65 to 69</td>\n",
       "      <td>1894.193240</td>\n",
       "    </tr>\n",
       "    <tr>\n",
       "      <th>14</th>\n",
       "      <td>2</td>\n",
       "      <td>70 to 74</td>\n",
       "      <td>2286.918544</td>\n",
       "    </tr>\n",
       "    <tr>\n",
       "      <th>15</th>\n",
       "      <td>2</td>\n",
       "      <td>75 to 79</td>\n",
       "      <td>2608.621803</td>\n",
       "    </tr>\n",
       "    <tr>\n",
       "      <th>16</th>\n",
       "      <td>2</td>\n",
       "      <td>80 to 84</td>\n",
       "      <td>2816.473145</td>\n",
       "    </tr>\n",
       "    <tr>\n",
       "      <th>17</th>\n",
       "      <td>2</td>\n",
       "      <td>85 to 89</td>\n",
       "      <td>2932.441431</td>\n",
       "    </tr>\n",
       "    <tr>\n",
       "      <th>18</th>\n",
       "      <td>2</td>\n",
       "      <td>90 to 94</td>\n",
       "      <td>3135.853570</td>\n",
       "    </tr>\n",
       "  </tbody>\n",
       "</table>\n",
       "</div>"
      ],
      "text/plain": [
       "    age_sort       age          val\n",
       "0          0    1 to 4     7.356101\n",
       "1          1    5 to 9     4.590628\n",
       "2          2  10 to 14     7.802835\n",
       "3          2  15 to 19    26.027773\n",
       "4          2  20 to 24    46.293871\n",
       "5          2  25 to 29    66.187114\n",
       "6          2  30 to 34   107.107094\n",
       "7          2  35 to 39   177.635204\n",
       "8          2  40 to 44   308.452268\n",
       "9          2  45 to 49   516.902891\n",
       "10         2  50 to 54   843.907261\n",
       "11         2  55 to 59  1213.347625\n",
       "12         2  60 to 64  1627.704968\n",
       "13         2  65 to 69  1894.193240\n",
       "14         2  70 to 74  2286.918544\n",
       "15         2  75 to 79  2608.621803\n",
       "16         2  80 to 84  2816.473145\n",
       "17         2  85 to 89  2932.441431\n",
       "18         2  90 to 94  3135.853570"
      ]
     },
     "execution_count": 134,
     "metadata": {},
     "output_type": "execute_result"
    }
   ],
   "source": [
    "all_diabetes_age_ylls = df[df['measure'].str.contains('YLL')&\n",
    "          df['cause'].str.contains('Diabetes')]\n",
    "\n",
    "all_diabetes_age_ylls = all_diabetes_age_ylls.groupby(['age_sort','age'], as_index=False).agg({'val':'mean'})\n",
    "all_diabetes_age_ylls"
   ]
  },
  {
   "cell_type": "code",
   "execution_count": 135,
   "id": "8f1efb57",
   "metadata": {},
   "outputs": [
    {
     "data": {
      "image/png": "[encoded data removed]",
      "text/plain": [
       "<Figure size 432x288 with 1 Axes>"
      ]
     },
     "metadata": {
      "needs_background": "light"
     },
     "output_type": "display_data"
    }
   ],
   "source": [
    "all_diabetes_age_ylls.plot(x=\"age\", y=\"val\", kind=\"bar\")\n",
    "plt.xticks(rotation=45)\n",
    "plt.show()"
   ]
  },
  {
   "cell_type": "markdown",
   "id": "558d3564",
   "metadata": {},
   "source": [
    "## DALY age violence"
   ]
  },
  {
   "cell_type": "code",
   "execution_count": 136,
   "id": "701865d4",
   "metadata": {},
   "outputs": [
    {
     "data": {
      "text/html": [
       "<div>\n",
       "<style scoped>\n",
       "    .dataframe tbody tr th:only-of-type {\n",
       "        vertical-align: middle;\n",
       "    }\n",
       "\n",
       "    .dataframe tbody tr th {\n",
       "        vertical-align: top;\n",
       "    }\n",
       "\n",
       "    .dataframe thead th {\n",
       "        text-align: right;\n",
       "    }\n",
       "</style>\n",
       "<table border=\"1\" class=\"dataframe\">\n",
       "  <thead>\n",
       "    <tr style=\"text-align: right;\">\n",
       "      <th></th>\n",
       "      <th>age_sort</th>\n",
       "      <th>age</th>\n",
       "      <th>val</th>\n",
       "    </tr>\n",
       "  </thead>\n",
       "  <tbody>\n",
       "    <tr>\n",
       "      <th>0</th>\n",
       "      <td>0</td>\n",
       "      <td>1 to 4</td>\n",
       "      <td>88.156533</td>\n",
       "    </tr>\n",
       "    <tr>\n",
       "      <th>1</th>\n",
       "      <td>1</td>\n",
       "      <td>5 to 9</td>\n",
       "      <td>51.699086</td>\n",
       "    </tr>\n",
       "    <tr>\n",
       "      <th>2</th>\n",
       "      <td>2</td>\n",
       "      <td>10 to 14</td>\n",
       "      <td>98.339088</td>\n",
       "    </tr>\n",
       "    <tr>\n",
       "      <th>3</th>\n",
       "      <td>2</td>\n",
       "      <td>15 to 19</td>\n",
       "      <td>634.889905</td>\n",
       "    </tr>\n",
       "    <tr>\n",
       "      <th>4</th>\n",
       "      <td>2</td>\n",
       "      <td>20 to 24</td>\n",
       "      <td>906.824690</td>\n",
       "    </tr>\n",
       "    <tr>\n",
       "      <th>5</th>\n",
       "      <td>2</td>\n",
       "      <td>25 to 29</td>\n",
       "      <td>791.679844</td>\n",
       "    </tr>\n",
       "    <tr>\n",
       "      <th>6</th>\n",
       "      <td>2</td>\n",
       "      <td>30 to 34</td>\n",
       "      <td>667.594698</td>\n",
       "    </tr>\n",
       "    <tr>\n",
       "      <th>7</th>\n",
       "      <td>2</td>\n",
       "      <td>35 to 39</td>\n",
       "      <td>570.545034</td>\n",
       "    </tr>\n",
       "    <tr>\n",
       "      <th>8</th>\n",
       "      <td>2</td>\n",
       "      <td>40 to 44</td>\n",
       "      <td>479.108906</td>\n",
       "    </tr>\n",
       "    <tr>\n",
       "      <th>9</th>\n",
       "      <td>2</td>\n",
       "      <td>45 to 49</td>\n",
       "      <td>399.224404</td>\n",
       "    </tr>\n",
       "    <tr>\n",
       "      <th>10</th>\n",
       "      <td>2</td>\n",
       "      <td>50 to 54</td>\n",
       "      <td>353.658292</td>\n",
       "    </tr>\n",
       "    <tr>\n",
       "      <th>11</th>\n",
       "      <td>2</td>\n",
       "      <td>55 to 59</td>\n",
       "      <td>293.023738</td>\n",
       "    </tr>\n",
       "    <tr>\n",
       "      <th>12</th>\n",
       "      <td>2</td>\n",
       "      <td>60 to 64</td>\n",
       "      <td>245.222571</td>\n",
       "    </tr>\n",
       "    <tr>\n",
       "      <th>13</th>\n",
       "      <td>2</td>\n",
       "      <td>65 to 69</td>\n",
       "      <td>230.161537</td>\n",
       "    </tr>\n",
       "    <tr>\n",
       "      <th>14</th>\n",
       "      <td>2</td>\n",
       "      <td>70 to 74</td>\n",
       "      <td>195.703304</td>\n",
       "    </tr>\n",
       "    <tr>\n",
       "      <th>15</th>\n",
       "      <td>2</td>\n",
       "      <td>75 to 79</td>\n",
       "      <td>172.865522</td>\n",
       "    </tr>\n",
       "    <tr>\n",
       "      <th>16</th>\n",
       "      <td>2</td>\n",
       "      <td>80 to 84</td>\n",
       "      <td>110.590999</td>\n",
       "    </tr>\n",
       "    <tr>\n",
       "      <th>17</th>\n",
       "      <td>2</td>\n",
       "      <td>85 to 89</td>\n",
       "      <td>98.478736</td>\n",
       "    </tr>\n",
       "    <tr>\n",
       "      <th>18</th>\n",
       "      <td>2</td>\n",
       "      <td>90 to 94</td>\n",
       "      <td>86.886871</td>\n",
       "    </tr>\n",
       "  </tbody>\n",
       "</table>\n",
       "</div>"
      ],
      "text/plain": [
       "    age_sort       age         val\n",
       "0          0    1 to 4   88.156533\n",
       "1          1    5 to 9   51.699086\n",
       "2          2  10 to 14   98.339088\n",
       "3          2  15 to 19  634.889905\n",
       "4          2  20 to 24  906.824690\n",
       "5          2  25 to 29  791.679844\n",
       "6          2  30 to 34  667.594698\n",
       "7          2  35 to 39  570.545034\n",
       "8          2  40 to 44  479.108906\n",
       "9          2  45 to 49  399.224404\n",
       "10         2  50 to 54  353.658292\n",
       "11         2  55 to 59  293.023738\n",
       "12         2  60 to 64  245.222571\n",
       "13         2  65 to 69  230.161537\n",
       "14         2  70 to 74  195.703304\n",
       "15         2  75 to 79  172.865522\n",
       "16         2  80 to 84  110.590999\n",
       "17         2  85 to 89   98.478736\n",
       "18         2  90 to 94   86.886871"
      ]
     },
     "execution_count": 136,
     "metadata": {},
     "output_type": "execute_result"
    }
   ],
   "source": [
    "all_violence_age_dalys = df[df['measure'].str.contains('DALY')&\n",
    "          df['cause'].str.contains('violence')]\n",
    "\n",
    "all_violence_age_dalys = all_violence_age_dalys.groupby(['age_sort','age'], as_index=False).agg({'val':'mean'})\n",
    "all_violence_age_dalys"
   ]
  },
  {
   "cell_type": "code",
   "execution_count": 137,
   "id": "e127abad",
   "metadata": {},
   "outputs": [
    {
     "data": {
      "image/png": "[encoded data removed]",
      "text/plain": [
       "<Figure size 432x288 with 1 Axes>"
      ]
     },
     "metadata": {
      "needs_background": "light"
     },
     "output_type": "display_data"
    }
   ],
   "source": [
    "all_violence_age_dalys.plot(x=\"age\", y=\"val\", kind=\"bar\")\n",
    "plt.xticks(rotation=45)\n",
    "plt.show()"
   ]
  },
  {
   "cell_type": "markdown",
   "id": "4ebf8ba0",
   "metadata": {},
   "source": [
    "## DALYs age diabetes"
   ]
  },
  {
   "cell_type": "code",
   "execution_count": 138,
   "id": "c5701693",
   "metadata": {},
   "outputs": [
    {
     "data": {
      "text/html": [
       "<div>\n",
       "<style scoped>\n",
       "    .dataframe tbody tr th:only-of-type {\n",
       "        vertical-align: middle;\n",
       "    }\n",
       "\n",
       "    .dataframe tbody tr th {\n",
       "        vertical-align: top;\n",
       "    }\n",
       "\n",
       "    .dataframe thead th {\n",
       "        text-align: right;\n",
       "    }\n",
       "</style>\n",
       "<table border=\"1\" class=\"dataframe\">\n",
       "  <thead>\n",
       "    <tr style=\"text-align: right;\">\n",
       "      <th></th>\n",
       "      <th>age_sort</th>\n",
       "      <th>age</th>\n",
       "      <th>val</th>\n",
       "    </tr>\n",
       "  </thead>\n",
       "  <tbody>\n",
       "    <tr>\n",
       "      <th>0</th>\n",
       "      <td>0</td>\n",
       "      <td>1 to 4</td>\n",
       "      <td>8.765818</td>\n",
       "    </tr>\n",
       "    <tr>\n",
       "      <th>1</th>\n",
       "      <td>1</td>\n",
       "      <td>5 to 9</td>\n",
       "      <td>10.835682</td>\n",
       "    </tr>\n",
       "    <tr>\n",
       "      <th>2</th>\n",
       "      <td>2</td>\n",
       "      <td>10 to 14</td>\n",
       "      <td>20.038286</td>\n",
       "    </tr>\n",
       "    <tr>\n",
       "      <th>3</th>\n",
       "      <td>2</td>\n",
       "      <td>15 to 19</td>\n",
       "      <td>67.268573</td>\n",
       "    </tr>\n",
       "    <tr>\n",
       "      <th>4</th>\n",
       "      <td>2</td>\n",
       "      <td>20 to 24</td>\n",
       "      <td>148.062417</td>\n",
       "    </tr>\n",
       "    <tr>\n",
       "      <th>5</th>\n",
       "      <td>2</td>\n",
       "      <td>25 to 29</td>\n",
       "      <td>239.567453</td>\n",
       "    </tr>\n",
       "    <tr>\n",
       "      <th>6</th>\n",
       "      <td>2</td>\n",
       "      <td>30 to 34</td>\n",
       "      <td>354.423783</td>\n",
       "    </tr>\n",
       "    <tr>\n",
       "      <th>7</th>\n",
       "      <td>2</td>\n",
       "      <td>35 to 39</td>\n",
       "      <td>526.911023</td>\n",
       "    </tr>\n",
       "    <tr>\n",
       "      <th>8</th>\n",
       "      <td>2</td>\n",
       "      <td>40 to 44</td>\n",
       "      <td>799.254482</td>\n",
       "    </tr>\n",
       "    <tr>\n",
       "      <th>9</th>\n",
       "      <td>2</td>\n",
       "      <td>45 to 49</td>\n",
       "      <td>1225.871977</td>\n",
       "    </tr>\n",
       "    <tr>\n",
       "      <th>10</th>\n",
       "      <td>2</td>\n",
       "      <td>50 to 54</td>\n",
       "      <td>1838.175627</td>\n",
       "    </tr>\n",
       "    <tr>\n",
       "      <th>11</th>\n",
       "      <td>2</td>\n",
       "      <td>55 to 59</td>\n",
       "      <td>2528.474783</td>\n",
       "    </tr>\n",
       "    <tr>\n",
       "      <th>12</th>\n",
       "      <td>2</td>\n",
       "      <td>60 to 64</td>\n",
       "      <td>3292.017562</td>\n",
       "    </tr>\n",
       "    <tr>\n",
       "      <th>13</th>\n",
       "      <td>2</td>\n",
       "      <td>65 to 69</td>\n",
       "      <td>3899.192313</td>\n",
       "    </tr>\n",
       "    <tr>\n",
       "      <th>14</th>\n",
       "      <td>2</td>\n",
       "      <td>70 to 74</td>\n",
       "      <td>4566.715499</td>\n",
       "    </tr>\n",
       "    <tr>\n",
       "      <th>15</th>\n",
       "      <td>2</td>\n",
       "      <td>75 to 79</td>\n",
       "      <td>5018.310877</td>\n",
       "    </tr>\n",
       "    <tr>\n",
       "      <th>16</th>\n",
       "      <td>2</td>\n",
       "      <td>80 to 84</td>\n",
       "      <td>5230.715619</td>\n",
       "    </tr>\n",
       "    <tr>\n",
       "      <th>17</th>\n",
       "      <td>2</td>\n",
       "      <td>85 to 89</td>\n",
       "      <td>5261.932772</td>\n",
       "    </tr>\n",
       "    <tr>\n",
       "      <th>18</th>\n",
       "      <td>2</td>\n",
       "      <td>90 to 94</td>\n",
       "      <td>5301.208347</td>\n",
       "    </tr>\n",
       "  </tbody>\n",
       "</table>\n",
       "</div>"
      ],
      "text/plain": [
       "    age_sort       age          val\n",
       "0          0    1 to 4     8.765818\n",
       "1          1    5 to 9    10.835682\n",
       "2          2  10 to 14    20.038286\n",
       "3          2  15 to 19    67.268573\n",
       "4          2  20 to 24   148.062417\n",
       "5          2  25 to 29   239.567453\n",
       "6          2  30 to 34   354.423783\n",
       "7          2  35 to 39   526.911023\n",
       "8          2  40 to 44   799.254482\n",
       "9          2  45 to 49  1225.871977\n",
       "10         2  50 to 54  1838.175627\n",
       "11         2  55 to 59  2528.474783\n",
       "12         2  60 to 64  3292.017562\n",
       "13         2  65 to 69  3899.192313\n",
       "14         2  70 to 74  4566.715499\n",
       "15         2  75 to 79  5018.310877\n",
       "16         2  80 to 84  5230.715619\n",
       "17         2  85 to 89  5261.932772\n",
       "18         2  90 to 94  5301.208347"
      ]
     },
     "execution_count": 138,
     "metadata": {},
     "output_type": "execute_result"
    }
   ],
   "source": [
    "all_diabetes_age_dalys = df[df['measure'].str.contains('DALY')&\n",
    "          df['cause'].str.contains('Diabetes')]\n",
    "\n",
    "all_diabetes_age_dalys = all_diabetes_age_dalys.groupby(['age_sort','age'], as_index=False).agg({'val':'mean'})\n",
    "all_diabetes_age_dalys"
   ]
  },
  {
   "cell_type": "code",
   "execution_count": 139,
   "id": "074dea8b",
   "metadata": {},
   "outputs": [
    {
     "data": {
      "image/png": "[encoded data removed]",
      "text/plain": [
       "<Figure size 432x288 with 1 Axes>"
      ]
     },
     "metadata": {
      "needs_background": "light"
     },
     "output_type": "display_data"
    }
   ],
   "source": [
    "all_diabetes_age_dalys.plot(x=\"age\", y=\"val\", kind=\"bar\")\n",
    "plt.xticks(rotation=45)\n",
    "plt.show()"
   ]
  },
  {
   "cell_type": "markdown",
   "id": "820e0acf",
   "metadata": {},
   "source": [
    "# Get ratios of YLLs to deaths for both IV and diabetes (And DALYs)"
   ]
  },
  {
   "cell_type": "code",
   "execution_count": 140,
   "id": "7f1db02f",
   "metadata": {},
   "outputs": [],
   "source": [
    "#Get average age of death and average YLL for diabetes and get ratio - do the same for interpersonal violence"
   ]
  },
  {
   "cell_type": "code",
   "execution_count": 141,
   "id": "5c96368d",
   "metadata": {},
   "outputs": [
    {
     "data": {
      "text/plain": [
       "6.910472208706491"
      ]
     },
     "execution_count": 141,
     "metadata": {},
     "output_type": "execute_result"
    }
   ],
   "source": [
    "mean_violence_deaths = df.groupby(['measure', 'cause'], as_index=False).agg({'val':'mean'})\n",
    "\n",
    "mean_violence_deaths = mean_violence_deaths[mean_violence_deaths['cause'].str.contains('violence')]\n",
    "mean_violence_deaths = mean_violence_deaths[mean_violence_deaths['measure'].str.contains('Deaths')]\n",
    "mean_violence_deaths = mean_violence_deaths['val'].iloc[0]\n",
    "mean_violence_deaths"
   ]
  },
  {
   "cell_type": "code",
   "execution_count": 142,
   "id": "689e1b11",
   "metadata": {},
   "outputs": [
    {
     "data": {
      "text/plain": [
       "291.8679772760499"
      ]
     },
     "execution_count": 142,
     "metadata": {},
     "output_type": "execute_result"
    }
   ],
   "source": [
    "mean_violence_ylls = df.groupby(['measure', 'cause'], as_index=False).agg({'val':'mean'})\n",
    "\n",
    "mean_violence_ylls = mean_violence_ylls[mean_violence_ylls['cause'].str.contains('violence')]\n",
    "mean_violence_ylls = mean_violence_ylls[mean_violence_ylls['measure'].str.contains('YLL')]\n",
    "mean_violence_ylls = mean_violence_ylls['val'].iloc[0]\n",
    "mean_violence_ylls"
   ]
  },
  {
   "cell_type": "code",
   "execution_count": 143,
   "id": "48190b59",
   "metadata": {},
   "outputs": [
    {
     "data": {
      "text/plain": [
       "340.77125048628307"
      ]
     },
     "execution_count": 143,
     "metadata": {},
     "output_type": "execute_result"
    }
   ],
   "source": [
    "mean_violence_dalys = df.groupby(['measure', 'cause'], as_index=False).agg({'val':'mean'})\n",
    "\n",
    "mean_violence_dalys = mean_violence_dalys[mean_violence_dalys['cause'].str.contains('violence')]\n",
    "mean_violence_dalys = mean_violence_dalys[mean_violence_dalys['measure'].str.contains('DALY')]\n",
    "mean_violence_dalys = mean_violence_dalys['val'].iloc[0]\n",
    "mean_violence_dalys"
   ]
  },
  {
   "cell_type": "code",
   "execution_count": 144,
   "id": "8ae0f815",
   "metadata": {},
   "outputs": [
    {
     "name": "stdout",
     "output_type": "stream",
     "text": [
      "Mean diabetes death rate:  81.534 per 100,000\n"
     ]
    }
   ],
   "source": [
    "mean_diabetes_deaths = df.groupby(['measure', 'cause'], as_index=False).agg({'val':'mean'})\n",
    "mean_diabetes_deaths = mean_diabetes_deaths[mean_diabetes_deaths['cause'].str.contains('Diabetes')]\n",
    "mean_diabetes_deaths = mean_diabetes_deaths[mean_diabetes_deaths['measure'].str.contains('Deaths')]\n",
    "mean_diabetes_deaths = round(mean_diabetes_deaths['val'].iloc[0], 3)\n",
    "print('Mean diabetes death rate: ', mean_diabetes_deaths, 'per 100,000')"
   ]
  },
  {
   "cell_type": "code",
   "execution_count": 145,
   "id": "c88528a1",
   "metadata": {},
   "outputs": [
    {
     "name": "stdout",
     "output_type": "stream",
     "text": [
      "Mean diabetes YLL rate:  1085.675 per 100,000\n"
     ]
    }
   ],
   "source": [
    "mean_diabetes_ylls = df.groupby(['measure', 'cause'], as_index=False).agg({'val':'mean'})\n",
    "mean_diabetes_ylls = mean_diabetes_ylls[mean_diabetes_ylls['cause'].str.contains('Diabetes')]\n",
    "mean_diabetes_ylls = mean_diabetes_ylls[mean_diabetes_ylls['measure'].str.contains('YLLs')]\n",
    "mean_diabetes_ylls = round(mean_diabetes_ylls['val'].iloc[0], 3)\n",
    "print('Mean diabetes YLL rate: ', mean_diabetes_ylls, 'per 100,000')"
   ]
  },
  {
   "cell_type": "code",
   "execution_count": 146,
   "id": "b735c68e",
   "metadata": {},
   "outputs": [
    {
     "name": "stdout",
     "output_type": "stream",
     "text": [
      "Mean diabetes DALY rate:  2123.039 per 100,000\n"
     ]
    }
   ],
   "source": [
    "mean_diabetes_dalys = df.groupby(['measure', 'cause'], as_index=False).agg({'val':'mean'})\n",
    "mean_diabetes_dalys = mean_diabetes_dalys[mean_diabetes_dalys['cause'].str.contains('Diabetes')]\n",
    "mean_diabetes_dalys = mean_diabetes_dalys[mean_diabetes_dalys['measure'].str.contains('DALY')]\n",
    "mean_diabetes_dalys = round(mean_diabetes_dalys['val'].iloc[0], 3)\n",
    "print('Mean diabetes DALY rate: ', mean_diabetes_dalys, 'per 100,000')"
   ]
  },
  {
   "cell_type": "code",
   "execution_count": 147,
   "id": "b0e3b21f",
   "metadata": {},
   "outputs": [
    {
     "data": {
      "text/plain": [
       "13.315610665489242"
      ]
     },
     "execution_count": 147,
     "metadata": {},
     "output_type": "execute_result"
    }
   ],
   "source": [
    "diabetes_ratio = mean_diabetes_ylls/mean_diabetes_deaths\n",
    "diabetes_ratio"
   ]
  },
  {
   "cell_type": "code",
   "execution_count": 148,
   "id": "54b3647b",
   "metadata": {},
   "outputs": [
    {
     "data": {
      "text/plain": [
       "42.23560539152823"
      ]
     },
     "execution_count": 148,
     "metadata": {},
     "output_type": "execute_result"
    }
   ],
   "source": [
    "violence_ratio = mean_violence_ylls/mean_violence_deaths\n",
    "violence_ratio"
   ]
  },
  {
   "cell_type": "code",
   "execution_count": 149,
   "id": "c4642b93",
   "metadata": {},
   "outputs": [
    {
     "data": {
      "text/plain": [
       "3.171886476148814"
      ]
     },
     "execution_count": 149,
     "metadata": {},
     "output_type": "execute_result"
    }
   ],
   "source": [
    "#how much bigger is th violence ration to the diabetes ratio?\n",
    "violence_ratio/diabetes_ratio\n",
    "#We can see that the years of life lost for iv is greater in proportion to diabetes"
   ]
  },
  {
   "cell_type": "markdown",
   "id": "7e33bc91",
   "metadata": {},
   "source": [
    "# Results"
   ]
  },
  {
   "cell_type": "code",
   "execution_count": 150,
   "id": "63f3fc3b",
   "metadata": {},
   "outputs": [
    {
     "data": {
      "image/png": "[encoded data removed]",
      "text/plain": [
       "<Figure size 576x288 with 1 Axes>"
      ]
     },
     "metadata": {
      "needs_background": "light"
     },
     "output_type": "display_data"
    }
   ],
   "source": [
    "#deaths\n",
    "labels = all_violence_age_ylls['age'].tolist()\n",
    "violence = all_violence_age_deaths['val'].tolist()\n",
    "diabetes = all_diabetes_age_deaths['val'].tolist()\n",
    "\n",
    "x = np.arange(len(labels)) \n",
    "width = 0.35  \n",
    "\n",
    "fig, ax = plt.subplots(figsize=(8,4))\n",
    "rects1 = ax.bar(x - width/2, violence, width, color='tab:red', label='Violence')\n",
    "rects2 = ax.bar(x + width/2, diabetes, width, color='tab:blue', label='Diabetes')\n",
    "\n",
    "ax.set_ylabel('Deaths', fontsize=15)\n",
    "ax.set_title(\"Comparison of Deaths for interpersonal violence and diabetes by age group\")\n",
    "ax.set_xticks(x)\n",
    "ax.set_xticklabels(labels)\n",
    "ax.legend()\n",
    "\n",
    "plt.xticks(rotation=45)\n",
    "fig.tight_layout()\n",
    "fig.savefig('../../../graphs/comparson_for_deaths_for_violence_and_diabetes_by_age.png')\n",
    "plt.show()"
   ]
  },
  {
   "cell_type": "code",
   "execution_count": 167,
   "id": "259b7bd4",
   "metadata": {},
   "outputs": [
    {
     "data": {
      "image/png": "[encoded data removed]",
      "text/plain": [
       "<Figure size 576x288 with 1 Axes>"
      ]
     },
     "metadata": {
      "needs_background": "light"
     },
     "output_type": "display_data"
    }
   ],
   "source": [
    "#YLLs\n",
    "labels = all_violence_age_ylls['age'].tolist()\n",
    "violence = all_violence_age_ylls['val'].tolist()\n",
    "diabetes = all_diabetes_age_ylls['val'].tolist()\n",
    "\n",
    "x = np.arange(len(labels))  \n",
    "width = 0.35 \n",
    "\n",
    "fig, ax = plt.subplots(figsize=(8,4))\n",
    "rects1 = ax.bar(x - width/2, violence, width, color='tab:red', label='Violence')\n",
    "rects2 = ax.bar(x + width/2, diabetes, width, color='tab:blue', label='Diabetes')\n",
    "\n",
    "ax.set_ylabel('Years of Life Lost (YLL)', fontsize=15)\n",
    "\n",
    "ax.set_title(\"Comparison of YLLs for Interpersonal Violence\\n and Diabetes by Age Group\", fontsize=16)\n",
    "ax.set_xticks(x)\n",
    "ax.set_xticklabels(labels)\n",
    "ax.legend()\n",
    "\n",
    "plt.xticks(rotation=45)\n",
    "fig.tight_layout()\n",
    "fig.savefig('../../../graphs/comparson_for_YLLs_for_violence_and_diabetes_by_age.png')\n",
    "\n",
    "plt.show()"
   ]
  },
  {
   "cell_type": "code",
   "execution_count": 152,
   "id": "6e08649b",
   "metadata": {},
   "outputs": [
    {
     "data": {
      "image/png": "[encoded data removed]",
      "text/plain": [
       "<Figure size 576x288 with 1 Axes>"
      ]
     },
     "metadata": {
      "needs_background": "light"
     },
     "output_type": "display_data"
    }
   ],
   "source": [
    "labels = all_violence_age_dalys['age'].tolist()\n",
    "violence = all_violence_age_dalys['val'].tolist()\n",
    "diabetes = all_diabetes_age_dalys['val'].tolist()\n",
    "\n",
    "x = np.arange(len(labels))  \n",
    "width = 0.35 \n",
    "\n",
    "fig, ax = plt.subplots(figsize=(8,4))\n",
    "rects1 = ax.bar(x - width/2, violence, width, color='tab:red', label='Violence')\n",
    "rects2 = ax.bar(x + width/2, diabetes, width, color='tab:blue', label='Diabetes')\n",
    "\n",
    "ax.set_ylabel('DALYs')\n",
    "ax.set_title(\"Comparison of DALY's for Interpersonal Violence and Diabetes by Age Group\")\n",
    "ax.set_xticks(x)\n",
    "ax.set_xticklabels(labels)\n",
    "ax.legend()\n",
    "\n",
    "plt.xticks(rotation=45)\n",
    "fig.tight_layout()\n",
    "fig.savefig('../../../graphs/comparson_for_DALYs_for_violence_and_diabetes_by_age.png')\n",
    "plt.show()"
   ]
  },
  {
   "cell_type": "code",
   "execution_count": 153,
   "id": "d39a2ea5",
   "metadata": {},
   "outputs": [
    {
     "data": {
      "image/png": "[encoded data removed]",
      "text/plain": [
       "<Figure size 864x648 with 9 Axes>"
      ]
     },
     "metadata": {
      "needs_background": "light"
     },
     "output_type": "display_data"
    }
   ],
   "source": [
    "#Deaths\n",
    "data1 = america_diabetes_deaths['val']\n",
    "data11 = america_violence_deaths['val']\n",
    "\n",
    "data2 = mexico_diabetes_deaths['val']\n",
    "data22 = mexico_violence_deaths['val']\n",
    "\n",
    "data3 = japan_diabetes_deaths['val']\n",
    "data33 = japan_violence_deaths['val']\n",
    "\n",
    "data4 = indonesia_diabetes_deaths['val']\n",
    "data44 = indonesia_violence_deaths['val']\n",
    "\n",
    "data5 = kenya_diabetes_deaths['val']\n",
    "data55 = kenya_violence_deaths['val']\n",
    "\n",
    "data6 = brazil_diabetes_deaths['val']\n",
    "data66 = brazil_violence_deaths['val']\n",
    "\n",
    "data7 = uk_diabetes_deaths['val']\n",
    "data77 = uk_violence_deaths['val']\n",
    "\n",
    "\n",
    "\n",
    "america_data = [data1, data11]\n",
    "america_labels = ['Diabetes Deaths', 'Violence Deaths']\n",
    "\n",
    "mexico_data = [data2, data22]\n",
    "mexico_labels= ['', '']\n",
    "\n",
    "japan_data = [data3, data33]\n",
    "japan_labels= ['', '']\n",
    "\n",
    "indonesia_data = [data4, data44]\n",
    "indonesia_labels= ['Diabetes Deaths', 'Violence Deaths']\n",
    "\n",
    "kenya_data = [data5, data55]\n",
    "kenya_labels= ['', '']\n",
    "\n",
    "brazil_data = [data6, data66]\n",
    "brazil_labels= ['', '']\n",
    "\n",
    "uk_data = [data7, data77]\n",
    "uk_labels= ['Diabetes Deaths', 'Violence Deaths']\n",
    "\n",
    "\n",
    "\n",
    "fig, axs = plt.subplots(3, 3, figsize=(12,9))\n",
    "\n",
    "\n",
    "bplot1 = axs[0,0].boxplot(america_data,\n",
    "                     vert=False, \n",
    "                     patch_artist=True,  \n",
    "                     labels=america_labels) \n",
    "\n",
    "bplot2 = axs[0,1].boxplot(mexico_data,\n",
    "                     vert=False,  \n",
    "                     patch_artist=True, \n",
    "                     labels=mexico_labels) \n",
    "\n",
    "bplot3 = axs[0,2].boxplot(japan_data,\n",
    "                     vert=False,  \n",
    "                     patch_artist=True, \n",
    "                     labels=japan_labels)  \n",
    "\n",
    "bplot4 = axs[1,0].boxplot(indonesia_data,\n",
    "                     vert=False,  \n",
    "                     patch_artist=True, \n",
    "                     labels=indonesia_labels) \n",
    "\n",
    "bplot5 = axs[1,1].boxplot(kenya_data,\n",
    "                     vert=False,  \n",
    "                     patch_artist=True, \n",
    "                     labels=kenya_labels)\n",
    "\n",
    "bplot6 = axs[1,2].boxplot(brazil_data,\n",
    "                     vert=False,  \n",
    "                     patch_artist=True, \n",
    "                     labels=brazil_labels)\n",
    "\n",
    "bplot7 = axs[2,1].boxplot(uk_data,\n",
    "                     vert=False,  \n",
    "                     patch_artist=True, \n",
    "                     labels=uk_labels)\n",
    "fig.tight_layout(pad=2)\n",
    "\n",
    "axs[0, 0].set_title('United States')\n",
    "axs[0, 1].set_title('Mexico')\n",
    "axs[0, 2].set_title('Japan')\n",
    "axs[1, 0].set_title('Indonesia')\n",
    "axs[1, 1].set_title('Kenya')\n",
    "axs[1, 2].set_title('Brazil')\n",
    "axs[2, 1].set_title('United Kingdom')\n",
    "\n",
    "colors = ['tab:blue', 'tab:red']\n",
    "for bplot in (bplot1, bplot2, bplot3, bplot4, bplot5, bplot6, bplot7):\n",
    "    for patch, color in zip(bplot['boxes'], colors):\n",
    "        patch.set_facecolor(color)\n",
    "        \n",
    "\"\"\"\n",
    "Code Reference\n",
    "John Hunter, Darren Dale, Eric Firing, Michael Droettboom and the Matplotlib development team (Mar 31 2021).matplotlib.org. \n",
    "Available at: https://matplotlib.org/stable/gallery/statistics/boxplot_color.html#sphx-glr-gallery-statistics-boxplot-color-py (Accessed 10/4/21).\n",
    "\"\"\"\n",
    "\n",
    "axs[2,0].set_visible(False)\n",
    "axs[2,2].set_visible(False)\n",
    "fig.suptitle(\"Distribution of Deaths from Interpersonal Violence and Diabetes\", fontsize=18, y=1.05)\n",
    "fig.savefig('../../../graphs/distribution_of_deaths_for_violence_and_diabetes.png',  bbox_inches='tight')\n",
    "plt.show()"
   ]
  },
  {
   "cell_type": "code",
   "execution_count": 163,
   "id": "78377f9d",
   "metadata": {},
   "outputs": [
    {
     "data": {
      "image/png": "[encoded data removed]",
      "text/plain": [
       "<Figure size 864x648 with 9 Axes>"
      ]
     },
     "metadata": {
      "needs_background": "light"
     },
     "output_type": "display_data"
    }
   ],
   "source": [
    "#yll\n",
    "data1 = america_diabetes_ylls['val']\n",
    "data11 = america_violence_ylls['val']\n",
    "\n",
    "data2 = mexico_diabetes_ylls['val']\n",
    "data22 = mexico_violence_ylls['val']\n",
    "\n",
    "data3 = japan_diabetes_ylls['val']\n",
    "data33 = japan_violence_ylls['val']\n",
    "\n",
    "data4 = indonesia_diabetes_ylls['val']\n",
    "data44 = indonesia_violence_ylls['val']\n",
    "\n",
    "data5 = kenya_diabetes_ylls['val']\n",
    "data55 = kenya_violence_ylls['val']\n",
    "\n",
    "data6 = brazil_diabetes_ylls['val']\n",
    "data66 = brazil_violence_ylls['val']\n",
    "\n",
    "data7 = uk_diabetes_ylls['val']\n",
    "data77 = uk_violence_ylls['val']\n",
    "\n",
    "\n",
    "america_data = [data1, data11]\n",
    "america_labels = ['Diabetes YLL', 'Violence YLL']\n",
    "\n",
    "mexico_data = [data2, data22]\n",
    "mexico_labels= ['', '']\n",
    "\n",
    "japan_data = [data3, data33]\n",
    "japan_labels= ['', '']\n",
    "\n",
    "indonesia_data = [data4, data44]\n",
    "indonesia_labels= ['Diabetes YLL', 'Violence YLL']\n",
    "\n",
    "kenya_data = [data5, data55]\n",
    "kenya_labels= ['', '']\n",
    "\n",
    "brazil_data = [data6, data66]\n",
    "brazil_labels= ['', '']\n",
    "\n",
    "uk_data = [data7, data77]\n",
    "uk_labels= ['Diabetes YLL', 'Violence YLL']\n",
    "\n",
    "fig, axs = plt.subplots(3, 3, figsize=(12,9))\n",
    "\n",
    "test_labels = ['Diabetes YLL', 'Violence YLL', 'Diabetes YLL', 'Violence YLL', 'Diabetes YLL', 'Violence YLL']\n",
    "\n",
    "bplot1 = axs[0,0].boxplot(america_data,\n",
    "                     vert=False, \n",
    "                     patch_artist=True,  \n",
    "                     labels=america_labels) \n",
    "\n",
    "bplot2 = axs[0,1].boxplot(mexico_data,\n",
    "                     vert=False,  \n",
    "                     patch_artist=True, \n",
    "                     labels=mexico_labels) \n",
    "\n",
    "bplot3 = axs[0,2].boxplot(japan_data,\n",
    "                     vert=False,  \n",
    "                     patch_artist=True, \n",
    "                     labels=japan_labels)  \n",
    "\n",
    "bplot4 = axs[1,0].boxplot(indonesia_data,\n",
    "                     vert=False,  \n",
    "                     patch_artist=True, \n",
    "                     labels=indonesia_labels) \n",
    "\n",
    "bplot5 = axs[1,1].boxplot(kenya_data,\n",
    "                     vert=False,  \n",
    "                     patch_artist=True, \n",
    "                     labels=kenya_labels)\n",
    "\n",
    "bplot6 = axs[1,2].boxplot(brazil_data,\n",
    "                     vert=False,  \n",
    "                     patch_artist=True, \n",
    "                     labels=brazil_labels)\n",
    "\n",
    "bplot7 = axs[2,1].boxplot(uk_data,\n",
    "                     vert=False,  \n",
    "                     patch_artist=True, \n",
    "                     labels=uk_labels)\n",
    "fig.tight_layout(pad=2)\n",
    "\n",
    "axs[0, 0].set_title('United States', fontsize=16)\n",
    "axs[0, 1].set_title('Mexico', fontsize=16)\n",
    "axs[0, 2].set_title('Japan', fontsize=16)\n",
    "axs[1, 0].set_title('Indonesia', fontsize=16)\n",
    "axs[1, 1].set_title('Kenya', fontsize=16)\n",
    "axs[1, 2].set_title('Brazil', fontsize=16)\n",
    "axs[2, 1].set_title('United Kingdom', fontsize=16)\n",
    "\n",
    "colors = ['tab:blue', 'tab:red']\n",
    "for bplot in (bplot1, bplot2, bplot3, bplot4, bplot5, bplot6, bplot7):\n",
    "    for patch, color in zip(bplot['boxes'], colors):\n",
    "        patch.set_facecolor(color)\n",
    "\n",
    "\"\"\"\n",
    "Code Reference\n",
    "John Hunter, Darren Dale, Eric Firing, Michael Droettboom and the Matplotlib development team (Mar 31 2021).matplotlib.org. \n",
    "Available at: https://matplotlib.org/stable/gallery/statistics/boxplot_color.html#sphx-glr-gallery-statistics-boxplot-color-py (Accessed 10/4/21).\n",
    "\"\"\"\n",
    "        \n",
    "axs[2,0].set_visible(False)\n",
    "axs[2,2].set_visible(False)\n",
    "fig.suptitle(\"Distribution of Years of Life Lost per 100,000 from Regions within \\nCountries due to Interpersonal Violence and Diabetes\", fontsize=20, y=1.1)\n",
    "fig.savefig('../../../graphs/distribution_of_YLLs_for_violence_and_diabetes.png', bbox_inches='tight')\n",
    "plt.show()"
   ]
  },
  {
   "cell_type": "code",
   "execution_count": 155,
   "id": "1d2578cd",
   "metadata": {},
   "outputs": [
    {
     "data": {
      "image/png": "[encoded data removed]",
      "text/plain": [
       "<Figure size 504x216 with 2 Axes>"
      ]
     },
     "metadata": {
      "needs_background": "light"
     },
     "output_type": "display_data"
    }
   ],
   "source": [
    "#Just Mexico and Brazil\n",
    "\n",
    "\n",
    "data2 = mexico_diabetes_ylls['val']\n",
    "data22 = mexico_violence_ylls['val']\n",
    "\n",
    "data6 = brazil_diabetes_ylls['val']\n",
    "data66 = brazil_violence_ylls['val']\n",
    "\n",
    "mexico_data = [data2, data22]\n",
    "mexico_labels= ['Diabetes YLL', 'Violence YLL']\n",
    "\n",
    "fig, axs = plt.subplots(1, 2, figsize=(7,3))\n",
    "\n",
    "bplot2 = axs[0].boxplot(mexico_data,\n",
    "                     vert=False,  \n",
    "                     patch_artist=True, \n",
    "                     labels=mexico_labels) \n",
    "\n",
    "bplot6 = axs[1].boxplot(brazil_data,\n",
    "                     vert=False,  \n",
    "                     patch_artist=True, \n",
    "                     labels=brazil_labels)\n",
    "\n",
    "fig.tight_layout(pad=3)\n",
    "\n",
    "axs[0].set_title('Mexico', fontsize=13)\n",
    "\n",
    "axs[1].set_title('Brazil', fontsize=13)\n",
    "\n",
    "colors = ['tab:blue', 'tab:red']\n",
    "for bplot in (bplot2, bplot6):\n",
    "    for patch, color in zip(bplot['boxes'], colors):\n",
    "        patch.set_facecolor(color)\n",
    "        \n",
    "\"\"\"\n",
    "John Hunter, Darren Dale, Eric Firing, Michael Droettboom and the Matplotlib development team (Mar 31 2021).matplotlib.org. \n",
    "Available at: https://matplotlib.org/stable/gallery/statistics/boxplot_color.html#sphx-glr-gallery-statistics-boxplot-color-py (Accessed 10/4/21).\n",
    "\"\"\"\n",
    "        \n",
    "axs[0].set_xlabel(\"YLL's per 100,000\", fontsize=10, labelpad=12)\n",
    "axs[1].set_xlabel(\"YLL's per 100,000\", fontsize=10, labelpad=12)\n",
    "\n",
    "fig.suptitle(\"Distribution of Years of Life Lost per 100,000 of regions within Mexico\\n and Brazil due to Interpersonal Violence and Diabetes\", \n",
    "             fontsize=14, y=1.13)\n",
    "\n",
    "fig.savefig('../../../graphs/distribution_of_YLLs_for_violence_and_diabetes_Brazil_Mexico.png', bbox_inches='tight')\n",
    "plt.show()"
   ]
  },
  {
   "cell_type": "code",
   "execution_count": 156,
   "id": "a7193eef",
   "metadata": {},
   "outputs": [
    {
     "data": {
      "image/png": "[encoded data removed]",
      "text/plain": [
       "<Figure size 864x648 with 9 Axes>"
      ]
     },
     "metadata": {
      "needs_background": "light"
     },
     "output_type": "display_data"
    }
   ],
   "source": [
    "#daly\n",
    "data1 = america_diabetes_dalys['val']\n",
    "data11 = america_violence_dalys['val']\n",
    "\n",
    "data2 = mexico_diabetes_dalys['val']\n",
    "data22 = mexico_violence_dalys['val']\n",
    "\n",
    "data3 = japan_diabetes_dalys['val']\n",
    "data33 = japan_violence_dalys['val']\n",
    "\n",
    "data4 = indonesia_diabetes_dalys['val']\n",
    "data44 = indonesia_violence_dalys['val']\n",
    "\n",
    "data5 = kenya_diabetes_dalys['val']\n",
    "data55 = kenya_violence_dalys['val']\n",
    "\n",
    "data6 = brazil_diabetes_dalys['val']\n",
    "data66 = brazil_violence_dalys['val']\n",
    "\n",
    "data7 = uk_diabetes_dalys['val']\n",
    "data77 = uk_violence_dalys['val']\n",
    "\n",
    "\n",
    "\n",
    "america_data = [data1, data11]\n",
    "america_labels = ['Diabetes DALY', 'Violence DALY']\n",
    "\n",
    "mexico_data = [data2, data22]\n",
    "mexico_labels= ['', '']\n",
    "\n",
    "japan_data = [data3, data33]\n",
    "japan_labels= ['', '']\n",
    "\n",
    "indonesia_data = [data4, data44]\n",
    "indonesia_labels= ['Diabetes DALY', 'Violence DALY']\n",
    "\n",
    "kenya_data = [data5, data55]\n",
    "kenya_labels= ['', '']\n",
    "\n",
    "brazil_data = [data6, data66]\n",
    "brazil_labels= ['', '']\n",
    "\n",
    "uk_data = [data7, data77]\n",
    "uk_labels= ['Diabetes DALY', 'Violence DALY']\n",
    "\n",
    "fig, axs = plt.subplots(3, 3, figsize=(12,9))\n",
    "\n",
    "\n",
    "bplot1 = axs[0,0].boxplot(america_data,\n",
    "                     vert=False, \n",
    "                     patch_artist=True,  \n",
    "                     labels=america_labels) \n",
    "\n",
    "bplot2 = axs[0,1].boxplot(mexico_data,\n",
    "                     vert=False,  \n",
    "                     patch_artist=True, \n",
    "                     labels=mexico_labels) \n",
    "\n",
    "bplot3 = axs[0,2].boxplot(japan_data,\n",
    "                     vert=False,  \n",
    "                     patch_artist=True, \n",
    "                     labels=japan_labels)  \n",
    "\n",
    "bplot4 = axs[1,0].boxplot(indonesia_data,\n",
    "                     vert=False,  \n",
    "                     patch_artist=True, \n",
    "                     labels=indonesia_labels) \n",
    "\n",
    "bplot5 = axs[1,1].boxplot(kenya_data,\n",
    "                     vert=False,  \n",
    "                     patch_artist=True, \n",
    "                     labels=kenya_labels)\n",
    "\n",
    "bplot6 = axs[1,2].boxplot(brazil_data,\n",
    "                     vert=False,  \n",
    "                     patch_artist=True, \n",
    "                     labels=brazil_labels)\n",
    "\n",
    "bplot7 = axs[2,1].boxplot(uk_data,\n",
    "                     vert=False,  \n",
    "                     patch_artist=True, \n",
    "                     labels=uk_labels)\n",
    "fig.tight_layout(pad=2)\n",
    "\n",
    "axs[0, 0].set_title('United States')\n",
    "axs[0, 1].set_title('Mexico')\n",
    "axs[0, 2].set_title('Japan')\n",
    "axs[1, 0].set_title('Indonesia')\n",
    "axs[1, 1].set_title('Kenya')\n",
    "axs[1, 2].set_title('Brazil')\n",
    "axs[2, 1].set_title('United Kingdom')\n",
    "\n",
    "colors = ['tab:blue', 'tab:red']\n",
    "for bplot in (bplot1, bplot2, bplot3, bplot4, bplot5, bplot6, bplot7):\n",
    "    for patch, color in zip(bplot['boxes'], colors):\n",
    "        patch.set_facecolor(color)\n",
    "        \n",
    "\"\"\"\n",
    "John Hunter, Darren Dale, Eric Firing, Michael Droettboom and the Matplotlib development team (Mar 31 2021).matplotlib.org. \n",
    "Available at: https://matplotlib.org/stable/gallery/statistics/boxplot_color.html#sphx-glr-gallery-statistics-boxplot-color-py (Accessed 10/4/21).\n",
    "\"\"\"\n",
    "\n",
    "axs[2,0].set_visible(False)\n",
    "axs[2,2].set_visible(False)\n",
    "fig.suptitle(\"Distribution of DALYs from Interpersonal Violence and Diabetes\", fontsize=16, y=1.05)\n",
    "fig.savefig('../../../graphs/distribution_of_DALYs_for_violence_and_diabetes.png', bbox_inches='tight')\n",
    "plt.show()"
   ]
  },
  {
   "cell_type": "code",
   "execution_count": 157,
   "id": "21d15f68",
   "metadata": {},
   "outputs": [
    {
     "data": {
      "image/png": "[encoded data removed]",
      "text/plain": [
       "<Figure size 1080x288 with 1 Axes>"
      ]
     },
     "metadata": {
      "needs_background": "light"
     },
     "output_type": "display_data"
    }
   ],
   "source": [
    "labels = ['America', 'Mexico', 'Brazil', 'Japan', 'Kenya', 'Indonesia', 'United Kingdom']\n",
    "violence_means = [america_violence_deaths.mean().iloc[0],\n",
    "                  mexico_violence_deaths.mean().iloc[0],\n",
    "                  brazil_violence_deaths.mean().iloc[0], \n",
    "                  japan_violence_deaths.mean().iloc[0], \n",
    "                  kenya_violence_deaths.mean().iloc[0],\n",
    "                  indonesia_violence_deaths.mean().iloc[0], \n",
    "                  uk_violence_deaths.mean().iloc[0]]\n",
    "diabetes_means = [america_diabetes_deaths.mean().iloc[0],\n",
    "                  mexico_diabetes_deaths.mean().iloc[0],\n",
    "                  brazil_diabetes_deaths.mean().iloc[0], \n",
    "                  japan_diabetes_deaths.mean().iloc[0], \n",
    "                  kenya_diabetes_deaths.mean().iloc[0],\n",
    "                  indonesia_diabetes_deaths.mean().iloc[0], \n",
    "                  uk_diabetes_deaths.mean().iloc[0]]\n",
    "\n",
    "x = np.arange(len(labels)) \n",
    "width = 0.35\n",
    "\n",
    "fig, ax = plt.subplots(figsize=(15,4))\n",
    "rects1 = ax.bar(x - width/2, violence_means, width, color='tab:red', label='Interpersonal violence')\n",
    "rects2 = ax.bar(x + width/2, diabetes_means, width, color='tab:blue', label='Diabetes')\n",
    "\n",
    "ax.set_ylabel('Death rates per 100,000')\n",
    "ax.set_title('Death rates of Interpersonal Violence and Diabetes by Country')\n",
    "ax.set_xticks(x)\n",
    "ax.set_xticklabels(labels)\n",
    "ax.legend()\n",
    "\n",
    "fig.tight_layout()\n",
    "fig.savefig('../../../graphs/death_rates_of_violence_and_diabetes_by_country.png')\n",
    "plt.show()"
   ]
  },
  {
   "cell_type": "code",
   "execution_count": 158,
   "id": "e15ef877",
   "metadata": {},
   "outputs": [
    {
     "data": {
      "image/png": "[encoded data removed]",
      "text/plain": [
       "<Figure size 1080x288 with 1 Axes>"
      ]
     },
     "metadata": {
      "needs_background": "light"
     },
     "output_type": "display_data"
    }
   ],
   "source": [
    "labels = ['America', 'Mexico', 'Brazil', 'Japan', 'Kenya', 'Indonesia', 'United Kingdom']\n",
    "violence_means = [america_violence_ylls.mean().iloc[0],\n",
    "                  mexico_violence_ylls.mean().iloc[0],\n",
    "                  brazil_violence_ylls.mean().iloc[0], \n",
    "                  japan_violence_ylls.mean().iloc[0], \n",
    "                  kenya_violence_ylls.mean().iloc[0],\n",
    "                  indonesia_violence_ylls.mean().iloc[0], \n",
    "                  uk_violence_ylls.mean().iloc[0]]\n",
    "diabetes_means = [america_diabetes_ylls.mean().iloc[0],\n",
    "                  mexico_diabetes_ylls.mean().iloc[0],\n",
    "                  brazil_diabetes_ylls.mean().iloc[0], \n",
    "                  japan_diabetes_ylls.mean().iloc[0], \n",
    "                  kenya_diabetes_ylls.mean().iloc[0],\n",
    "                  indonesia_diabetes_ylls.mean().iloc[0], \n",
    "                  uk_diabetes_ylls.mean().iloc[0]]\n",
    "\n",
    "x = np.arange(len(labels)) \n",
    "width = 0.35\n",
    "\n",
    "fig, ax = plt.subplots(figsize=(15,4))\n",
    "rects1 = ax.bar(x - width/2, violence_means, width, color='tab:red', label='Interpersonal violence')\n",
    "rects2 = ax.bar(x + width/2, diabetes_means, width, color='tab:blue', label='Diabetes')\n",
    "\n",
    "ax.set_ylabel('Death rates per 100,000')\n",
    "ax.set_title('YLL rates of Interpersonal Violence and Diabetes by Country')\n",
    "ax.set_xticks(x)\n",
    "ax.set_xticklabels(labels)\n",
    "ax.legend()\n",
    "\n",
    "fig.tight_layout()\n",
    "fig.savefig('../../../graphs/YLL_rates_of_violence_and_diabetes_by_country.png')\n",
    "plt.show()"
   ]
  },
  {
   "cell_type": "code",
   "execution_count": 159,
   "id": "b63c3eb0",
   "metadata": {},
   "outputs": [
    {
     "data": {
      "image/png": "[encoded data removed]",
      "text/plain": [
       "<Figure size 1080x288 with 1 Axes>"
      ]
     },
     "metadata": {
      "needs_background": "light"
     },
     "output_type": "display_data"
    }
   ],
   "source": [
    "labels = ['America', 'Mexico', 'Brazil', 'Japan', 'Kenya', 'Indonesia', 'United Kingdom']\n",
    "violence_means = [america_violence_dalys.mean().iloc[0],\n",
    "                  mexico_violence_dalys.mean().iloc[0],\n",
    "                  brazil_violence_dalys.mean().iloc[0], \n",
    "                  japan_violence_dalys.mean().iloc[0], \n",
    "                  kenya_violence_dalys.mean().iloc[0],\n",
    "                  indonesia_violence_dalys.mean().iloc[0], \n",
    "                  uk_violence_dalys.mean().iloc[0]]\n",
    "diabetes_means = [america_diabetes_dalys.mean().iloc[0],\n",
    "                  mexico_diabetes_dalys.mean().iloc[0],\n",
    "                  brazil_diabetes_dalys.mean().iloc[0], \n",
    "                  japan_diabetes_dalys.mean().iloc[0], \n",
    "                  kenya_diabetes_dalys.mean().iloc[0],\n",
    "                  indonesia_diabetes_dalys.mean().iloc[0], \n",
    "                  uk_diabetes_dalys.mean().iloc[0]]\n",
    "\n",
    "x = np.arange(len(labels)) \n",
    "width = 0.35\n",
    "\n",
    "fig, ax = plt.subplots(figsize=(15,4))\n",
    "rects1 = ax.bar(x - width/2, violence_means, width, color='tab:red', label='Interpersonal violence')\n",
    "rects2 = ax.bar(x + width/2, diabetes_means, width, color='tab:blue', label='Diabetes')\n",
    "\n",
    "ax.set_ylabel('Death rates per 100,000')\n",
    "ax.set_title('DALY rates of Interpersonal Violence and Diabetes by Country')\n",
    "ax.set_xticks(x)\n",
    "ax.set_xticklabels(labels)\n",
    "ax.legend()\n",
    "\n",
    "fig.tight_layout()\n",
    "fig.savefig('../../../graphs/DALY_rates_of_violence_and_diabetes_by_country.png')\n",
    "plt.show()"
   ]
  }
 ],
 "metadata": {
  "kernelspec": {
   "display_name": "Python 3",
   "language": "python",
   "name": "python3"
  },
  "language_info": {
   "codemirror_mode": {
    "name": "ipython",
    "version": 3
   },
   "file_extension": ".py",
   "mimetype": "text/x-python",
   "name": "python",
   "nbconvert_exporter": "python",
   "pygments_lexer": "ipython3",
   "version": "3.8.8"
  }
 },
 "nbformat": 4,
 "nbformat_minor": 5
}
