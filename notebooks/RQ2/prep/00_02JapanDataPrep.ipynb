{
 "cells": [
  {
   "cell_type": "markdown",
   "id": "3dc2b23d",
   "metadata": {},
   "source": [
    "# Basic processing for japan data sets"
   ]
  },
  {
   "cell_type": "markdown",
   "id": "508a0088",
   "metadata": {},
   "source": [
    "# Setup"
   ]
  },
  {
   "cell_type": "markdown",
   "id": "a34c07a8",
   "metadata": {},
   "source": [
    "## Imports"
   ]
  },
  {
   "cell_type": "code",
   "execution_count": 2,
   "id": "a3a3e9d4",
   "metadata": {},
   "outputs": [],
   "source": [
    "import pandas as pd\n",
    "import numpy as np"
   ]
  },
  {
   "cell_type": "markdown",
   "id": "72b0fc72",
   "metadata": {},
   "source": [
    "## Parameters"
   ]
  },
  {
   "cell_type": "code",
   "execution_count": 3,
   "id": "4c957663",
   "metadata": {},
   "outputs": [],
   "source": [
    "JAPAN1_DATASET = \"../../../data/RQ2/raw/japan1.csv\"\n",
    "JAPAN2_DATASET = \"../../../data/RQ2/raw/japan2.csv\"\n",
    "JAPAN3_DATASET = \"../../../data/RQ2/raw/japan3.csv\"\n",
    "JAPAN4_DATASET = \"../../../data/RQ2/raw/japan4.csv\"\n",
    "\n",
    "PROCESSED_JUST_JAPAN_DATASET = \"../../../data/RQ2/processed/just_japan_df.csv\"\n",
    "PROCESSED_JAPAN_DATASET = \"../../../data/RQ2/processed/japan_df.csv\""
   ]
  },
  {
   "cell_type": "markdown",
   "id": "72166325",
   "metadata": {},
   "source": [
    "# Loading the Datasets"
   ]
  },
  {
   "cell_type": "code",
   "execution_count": 4,
   "id": "0f196dcd",
   "metadata": {},
   "outputs": [],
   "source": [
    "df1 = pd.read_csv(JAPAN1_DATASET)\n",
    "df2 = pd.read_csv(JAPAN2_DATASET)\n",
    "df3 = pd.read_csv(JAPAN3_DATASET)\n",
    "df4 = pd.read_csv(JAPAN4_DATASET)"
   ]
  },
  {
   "cell_type": "markdown",
   "id": "bf3c97a0",
   "metadata": {},
   "source": [
    "# Joining the Datasets"
   ]
  },
  {
   "cell_type": "code",
   "execution_count": 5,
   "id": "d5140e78",
   "metadata": {},
   "outputs": [
    {
     "data": {
      "text/plain": [
       "(1969920, 10)"
      ]
     },
     "execution_count": 5,
     "metadata": {},
     "output_type": "execute_result"
    }
   ],
   "source": [
    "japan_raw_df = df1.append([df2, df3, df4])\n",
    "japan_raw_df.shape"
   ]
  },
  {
   "cell_type": "code",
   "execution_count": 6,
   "id": "4809cc25",
   "metadata": {},
   "outputs": [
    {
     "data": {
      "text/html": [
       "<div>\n",
       "<style scoped>\n",
       "    .dataframe tbody tr th:only-of-type {\n",
       "        vertical-align: middle;\n",
       "    }\n",
       "\n",
       "    .dataframe tbody tr th {\n",
       "        vertical-align: top;\n",
       "    }\n",
       "\n",
       "    .dataframe thead th {\n",
       "        text-align: right;\n",
       "    }\n",
       "</style>\n",
       "<table border=\"1\" class=\"dataframe\">\n",
       "  <thead>\n",
       "    <tr style=\"text-align: right;\">\n",
       "      <th></th>\n",
       "      <th>measure</th>\n",
       "      <th>location</th>\n",
       "      <th>sex</th>\n",
       "      <th>age</th>\n",
       "      <th>cause</th>\n",
       "      <th>metric</th>\n",
       "      <th>year</th>\n",
       "      <th>val</th>\n",
       "      <th>upper</th>\n",
       "      <th>lower</th>\n",
       "    </tr>\n",
       "  </thead>\n",
       "  <tbody>\n",
       "    <tr>\n",
       "      <th>0</th>\n",
       "      <td>Incidence</td>\n",
       "      <td>Hokkaidō</td>\n",
       "      <td>Male</td>\n",
       "      <td>1 to 4</td>\n",
       "      <td>Interpersonal violence</td>\n",
       "      <td>Number</td>\n",
       "      <td>1990</td>\n",
       "      <td>281.570107</td>\n",
       "      <td>420.406339</td>\n",
       "      <td>173.041458</td>\n",
       "    </tr>\n",
       "    <tr>\n",
       "      <th>1</th>\n",
       "      <td>Incidence</td>\n",
       "      <td>Hokkaidō</td>\n",
       "      <td>Female</td>\n",
       "      <td>1 to 4</td>\n",
       "      <td>Interpersonal violence</td>\n",
       "      <td>Number</td>\n",
       "      <td>1990</td>\n",
       "      <td>291.142150</td>\n",
       "      <td>431.733003</td>\n",
       "      <td>176.891774</td>\n",
       "    </tr>\n",
       "    <tr>\n",
       "      <th>2</th>\n",
       "      <td>Incidence</td>\n",
       "      <td>Hokkaidō</td>\n",
       "      <td>Male</td>\n",
       "      <td>1 to 4</td>\n",
       "      <td>Interpersonal violence</td>\n",
       "      <td>Percent</td>\n",
       "      <td>1990</td>\n",
       "      <td>0.000336</td>\n",
       "      <td>0.000528</td>\n",
       "      <td>0.000199</td>\n",
       "    </tr>\n",
       "    <tr>\n",
       "      <th>3</th>\n",
       "      <td>Incidence</td>\n",
       "      <td>Hokkaidō</td>\n",
       "      <td>Female</td>\n",
       "      <td>1 to 4</td>\n",
       "      <td>Interpersonal violence</td>\n",
       "      <td>Percent</td>\n",
       "      <td>1990</td>\n",
       "      <td>0.000391</td>\n",
       "      <td>0.000608</td>\n",
       "      <td>0.000228</td>\n",
       "    </tr>\n",
       "    <tr>\n",
       "      <th>4</th>\n",
       "      <td>Incidence</td>\n",
       "      <td>Hokkaidō</td>\n",
       "      <td>Male</td>\n",
       "      <td>1 to 4</td>\n",
       "      <td>Interpersonal violence</td>\n",
       "      <td>Rate</td>\n",
       "      <td>1990</td>\n",
       "      <td>225.094436</td>\n",
       "      <td>336.083715</td>\n",
       "      <td>138.333823</td>\n",
       "    </tr>\n",
       "  </tbody>\n",
       "</table>\n",
       "</div>"
      ],
      "text/plain": [
       "     measure  location     sex     age                   cause   metric  year  \\\n",
       "0  Incidence  Hokkaidō    Male  1 to 4  Interpersonal violence   Number  1990   \n",
       "1  Incidence  Hokkaidō  Female  1 to 4  Interpersonal violence   Number  1990   \n",
       "2  Incidence  Hokkaidō    Male  1 to 4  Interpersonal violence  Percent  1990   \n",
       "3  Incidence  Hokkaidō  Female  1 to 4  Interpersonal violence  Percent  1990   \n",
       "4  Incidence  Hokkaidō    Male  1 to 4  Interpersonal violence     Rate  1990   \n",
       "\n",
       "          val       upper       lower  \n",
       "0  281.570107  420.406339  173.041458  \n",
       "1  291.142150  431.733003  176.891774  \n",
       "2    0.000336    0.000528    0.000199  \n",
       "3    0.000391    0.000608    0.000228  \n",
       "4  225.094436  336.083715  138.333823  "
      ]
     },
     "execution_count": 6,
     "metadata": {},
     "output_type": "execute_result"
    }
   ],
   "source": [
    "japan_raw_df.head()"
   ]
  },
  {
   "cell_type": "code",
   "execution_count": 7,
   "id": "54cecc7a",
   "metadata": {},
   "outputs": [
    {
     "data": {
      "text/plain": [
       "48"
      ]
     },
     "execution_count": 7,
     "metadata": {},
     "output_type": "execute_result"
    }
   ],
   "source": [
    "japan_raw_df['location'].nunique()"
   ]
  },
  {
   "cell_type": "code",
   "execution_count": 8,
   "id": "10c766e4",
   "metadata": {},
   "outputs": [
    {
     "data": {
      "text/plain": [
       "array(['Hokkaidō', 'Aomori', 'Kanagawa', 'Niigata', 'Ōsaka', 'Iwate',\n",
       "       'Toyama', 'Miyagi', 'Hyōgo', 'Fukuoka', 'Nara', 'Akita', 'Saga',\n",
       "       'Wakayama', 'Fukui', 'Ibaraki', 'Tottori', 'Nagasaki', 'Kagoshima',\n",
       "       'Japan', 'Okinawa', 'Shimane', 'Yamaguchi', 'Nagano', 'Kumamoto',\n",
       "       'Yamanashi', 'Tochigi', 'Kagawa', 'Okayama', 'Gifu', 'Ehime',\n",
       "       'Tokushima', 'Ōita', 'Hiroshima', 'Gunma', 'Shizuoka', 'Aichi',\n",
       "       'Chiba', 'Tōkyō', 'Kyōto', 'Miyazaki', 'Saitama', 'Ishikawa',\n",
       "       'Mie', 'Yamagata', 'Fukushima', 'Shiga', 'Kōchi'], dtype=object)"
      ]
     },
     "execution_count": 8,
     "metadata": {},
     "output_type": "execute_result"
    }
   ],
   "source": [
    "japan_raw_df['location'].unique()"
   ]
  },
  {
   "cell_type": "markdown",
   "id": "834f0489",
   "metadata": {},
   "source": [
    "# Clean the Dataset"
   ]
  },
  {
   "cell_type": "code",
   "execution_count": 9,
   "id": "d913656c",
   "metadata": {},
   "outputs": [
    {
     "data": {
      "text/plain": [
       "0"
      ]
     },
     "execution_count": 9,
     "metadata": {},
     "output_type": "execute_result"
    }
   ],
   "source": [
    "japan_raw_df.duplicated().sum()"
   ]
  },
  {
   "cell_type": "code",
   "execution_count": 10,
   "id": "afae6eae",
   "metadata": {},
   "outputs": [
    {
     "data": {
      "text/plain": [
       "array(['Incidence', 'Deaths', 'Prevalence',\n",
       "       'YLDs (Years Lived with Disability)', 'YLLs (Years of Life Lost)',\n",
       "       'DALYs (Disability-Adjusted Life Years)'], dtype=object)"
      ]
     },
     "execution_count": 10,
     "metadata": {},
     "output_type": "execute_result"
    }
   ],
   "source": [
    "japan_raw_df['measure'].unique()"
   ]
  },
  {
   "cell_type": "code",
   "execution_count": 11,
   "id": "a190f85e",
   "metadata": {},
   "outputs": [
    {
     "data": {
      "text/plain": [
       "47"
      ]
     },
     "execution_count": 11,
     "metadata": {},
     "output_type": "execute_result"
    }
   ],
   "source": [
    "japan_all_df = japan_raw_df[~japan_raw_df['location'].str.contains('Japan')]\n",
    "japan_all_df['location'].nunique()"
   ]
  },
  {
   "cell_type": "code",
   "execution_count": 12,
   "id": "fc100c53",
   "metadata": {},
   "outputs": [
    {
     "data": {
      "text/plain": [
       "(1928880, 10)"
      ]
     },
     "execution_count": 12,
     "metadata": {},
     "output_type": "execute_result"
    }
   ],
   "source": [
    "japan_all_df.shape"
   ]
  },
  {
   "cell_type": "code",
   "execution_count": 13,
   "id": "2cd3928a",
   "metadata": {},
   "outputs": [
    {
     "data": {
      "text/plain": [
       "(1928880, 8)"
      ]
     },
     "execution_count": 13,
     "metadata": {},
     "output_type": "execute_result"
    }
   ],
   "source": [
    "japan_df = japan_all_df.drop(['upper', 'lower'], axis=1)\n",
    "japan_df.shape"
   ]
  },
  {
   "cell_type": "markdown",
   "id": "1be8bdc4",
   "metadata": {},
   "source": [
    "# Saving the Datasets"
   ]
  },
  {
   "cell_type": "code",
   "execution_count": 14,
   "id": "d5e0de1b",
   "metadata": {},
   "outputs": [],
   "source": [
    "japan_df.to_csv(PROCESSED_JAPAN_DATASET, index=False)"
   ]
  }
 ],
 "metadata": {
  "kernelspec": {
   "display_name": "Python 3",
   "language": "python",
   "name": "python3"
  },
  "language_info": {
   "codemirror_mode": {
    "name": "ipython",
    "version": 3
   },
   "file_extension": ".py",
   "mimetype": "text/x-python",
   "name": "python",
   "nbconvert_exporter": "python",
   "pygments_lexer": "ipython3",
   "version": "3.8.8"
  }
 },
 "nbformat": 4,
 "nbformat_minor": 5
}
