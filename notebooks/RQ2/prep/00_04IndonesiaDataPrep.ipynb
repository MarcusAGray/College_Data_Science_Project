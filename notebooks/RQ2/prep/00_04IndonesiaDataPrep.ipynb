{
 "cells": [
  {
   "cell_type": "markdown",
   "id": "2171ce56",
   "metadata": {},
   "source": [
    "# Basic processing for indonesia data sets"
   ]
  },
  {
   "cell_type": "markdown",
   "id": "508a0088",
   "metadata": {},
   "source": [
    "# Setup"
   ]
  },
  {
   "cell_type": "markdown",
   "id": "a34c07a8",
   "metadata": {},
   "source": [
    "## Imports"
   ]
  },
  {
   "cell_type": "code",
   "execution_count": 2,
   "id": "a3a3e9d4",
   "metadata": {},
   "outputs": [],
   "source": [
    "import pandas as pd\n",
    "import numpy as np"
   ]
  },
  {
   "cell_type": "markdown",
   "id": "72b0fc72",
   "metadata": {},
   "source": [
    "## Parameters"
   ]
  },
  {
   "cell_type": "code",
   "execution_count": 3,
   "id": "4c957663",
   "metadata": {},
   "outputs": [],
   "source": [
    "INDONESIA1_DATASET = \"../../../data/RQ2/raw/indonesia1.csv\"\n",
    "INDONESIA2_DATASET = \"../../../data/RQ2/raw/indonesia2.csv\"\n",
    "INDONESIA3_DATASET = \"../../../data/RQ2/raw/indonesia3.csv\"\n",
    "INDONESIA4_DATASET = \"../../../data/RQ2/raw/indonesia4.csv\"\n",
    "INDONESIA5_DATASET = \"../../../data/RQ2/raw/indonesia5.csv\"\n",
    "INDONESIA6_DATASET = \"../../../data/RQ2/raw/indonesia6.csv\"\n",
    "\n",
    "PROCESSED_JUST_INDONESIA_DATASET = \"../../../data/RQ2/processed/just_indonesia_df.csv\"\n",
    "PROCESSED_INDONESIA_DATASET = \"../../../data/RQ2/processed/indonesia_df.csv\""
   ]
  },
  {
   "cell_type": "markdown",
   "id": "72166325",
   "metadata": {},
   "source": [
    "# Loading the Datasets"
   ]
  },
  {
   "cell_type": "code",
   "execution_count": 5,
   "id": "0f196dcd",
   "metadata": {},
   "outputs": [],
   "source": [
    "df1 = pd.read_csv(INDONESIA1_DATASET)\n",
    "df2 = pd.read_csv(INDONESIA2_DATASET)\n",
    "df3 = pd.read_csv(INDONESIA3_DATASET)\n",
    "df4 = pd.read_csv(INDONESIA4_DATASET)\n",
    "df5 = pd.read_csv(INDONESIA5_DATASET)\n",
    "df6 = pd.read_csv(INDONESIA6_DATASET)"
   ]
  },
  {
   "cell_type": "code",
   "execution_count": 6,
   "id": "d5140e78",
   "metadata": {},
   "outputs": [
    {
     "data": {
      "text/plain": [
       "(2835000, 10)"
      ]
     },
     "execution_count": 6,
     "metadata": {},
     "output_type": "execute_result"
    }
   ],
   "source": [
    "indonesia_raw_df = df1.append([df2, df3, df4, df5, df6])\n",
    "indonesia_raw_df.shape"
   ]
  },
  {
   "cell_type": "code",
   "execution_count": 7,
   "id": "4809cc25",
   "metadata": {},
   "outputs": [
    {
     "data": {
      "text/html": [
       "<div>\n",
       "<style scoped>\n",
       "    .dataframe tbody tr th:only-of-type {\n",
       "        vertical-align: middle;\n",
       "    }\n",
       "\n",
       "    .dataframe tbody tr th {\n",
       "        vertical-align: top;\n",
       "    }\n",
       "\n",
       "    .dataframe thead th {\n",
       "        text-align: right;\n",
       "    }\n",
       "</style>\n",
       "<table border=\"1\" class=\"dataframe\">\n",
       "  <thead>\n",
       "    <tr style=\"text-align: right;\">\n",
       "      <th></th>\n",
       "      <th>measure</th>\n",
       "      <th>location</th>\n",
       "      <th>sex</th>\n",
       "      <th>age</th>\n",
       "      <th>cause</th>\n",
       "      <th>metric</th>\n",
       "      <th>year</th>\n",
       "      <th>val</th>\n",
       "      <th>upper</th>\n",
       "      <th>lower</th>\n",
       "    </tr>\n",
       "  </thead>\n",
       "  <tbody>\n",
       "    <tr>\n",
       "      <th>0</th>\n",
       "      <td>YLLs (Years of Life Lost)</td>\n",
       "      <td>Papua</td>\n",
       "      <td>Male</td>\n",
       "      <td>1 to 4</td>\n",
       "      <td>Chronic kidney disease due to diabetes mellitu...</td>\n",
       "      <td>Number</td>\n",
       "      <td>1990</td>\n",
       "      <td>5.675840</td>\n",
       "      <td>14.555415</td>\n",
       "      <td>1.434353</td>\n",
       "    </tr>\n",
       "    <tr>\n",
       "      <th>1</th>\n",
       "      <td>YLLs (Years of Life Lost)</td>\n",
       "      <td>Papua</td>\n",
       "      <td>Female</td>\n",
       "      <td>1 to 4</td>\n",
       "      <td>Chronic kidney disease due to diabetes mellitu...</td>\n",
       "      <td>Number</td>\n",
       "      <td>1990</td>\n",
       "      <td>8.077531</td>\n",
       "      <td>21.701572</td>\n",
       "      <td>1.653067</td>\n",
       "    </tr>\n",
       "    <tr>\n",
       "      <th>2</th>\n",
       "      <td>YLLs (Years of Life Lost)</td>\n",
       "      <td>Papua</td>\n",
       "      <td>Male</td>\n",
       "      <td>1 to 4</td>\n",
       "      <td>Chronic kidney disease due to diabetes mellitu...</td>\n",
       "      <td>Percent</td>\n",
       "      <td>1990</td>\n",
       "      <td>0.000125</td>\n",
       "      <td>0.000330</td>\n",
       "      <td>0.000032</td>\n",
       "    </tr>\n",
       "    <tr>\n",
       "      <th>3</th>\n",
       "      <td>YLLs (Years of Life Lost)</td>\n",
       "      <td>Papua</td>\n",
       "      <td>Female</td>\n",
       "      <td>1 to 4</td>\n",
       "      <td>Chronic kidney disease due to diabetes mellitu...</td>\n",
       "      <td>Percent</td>\n",
       "      <td>1990</td>\n",
       "      <td>0.000166</td>\n",
       "      <td>0.000436</td>\n",
       "      <td>0.000034</td>\n",
       "    </tr>\n",
       "    <tr>\n",
       "      <th>4</th>\n",
       "      <td>YLLs (Years of Life Lost)</td>\n",
       "      <td>Papua</td>\n",
       "      <td>Male</td>\n",
       "      <td>1 to 4</td>\n",
       "      <td>Chronic kidney disease due to diabetes mellitu...</td>\n",
       "      <td>Rate</td>\n",
       "      <td>1990</td>\n",
       "      <td>8.156534</td>\n",
       "      <td>20.917035</td>\n",
       "      <td>2.061255</td>\n",
       "    </tr>\n",
       "  </tbody>\n",
       "</table>\n",
       "</div>"
      ],
      "text/plain": [
       "                     measure location     sex     age  \\\n",
       "0  YLLs (Years of Life Lost)    Papua    Male  1 to 4   \n",
       "1  YLLs (Years of Life Lost)    Papua  Female  1 to 4   \n",
       "2  YLLs (Years of Life Lost)    Papua    Male  1 to 4   \n",
       "3  YLLs (Years of Life Lost)    Papua  Female  1 to 4   \n",
       "4  YLLs (Years of Life Lost)    Papua    Male  1 to 4   \n",
       "\n",
       "                                               cause   metric  year       val  \\\n",
       "0  Chronic kidney disease due to diabetes mellitu...   Number  1990  5.675840   \n",
       "1  Chronic kidney disease due to diabetes mellitu...   Number  1990  8.077531   \n",
       "2  Chronic kidney disease due to diabetes mellitu...  Percent  1990  0.000125   \n",
       "3  Chronic kidney disease due to diabetes mellitu...  Percent  1990  0.000166   \n",
       "4  Chronic kidney disease due to diabetes mellitu...     Rate  1990  8.156534   \n",
       "\n",
       "       upper     lower  \n",
       "0  14.555415  1.434353  \n",
       "1  21.701572  1.653067  \n",
       "2   0.000330  0.000032  \n",
       "3   0.000436  0.000034  \n",
       "4  20.917035  2.061255  "
      ]
     },
     "execution_count": 7,
     "metadata": {},
     "output_type": "execute_result"
    }
   ],
   "source": [
    "indonesia_raw_df.head()"
   ]
  },
  {
   "cell_type": "code",
   "execution_count": 8,
   "id": "53664151",
   "metadata": {},
   "outputs": [
    {
     "data": {
      "text/plain": [
       "(1436400, 10)"
      ]
     },
     "execution_count": 8,
     "metadata": {},
     "output_type": "execute_result"
    }
   ],
   "source": [
    "indonesia_raw_df = indonesia_raw_df[~indonesia_raw_df['cause'].str.contains('kidney')]\n",
    "indonesia_raw_df.shape"
   ]
  },
  {
   "cell_type": "code",
   "execution_count": 9,
   "id": "513b2850",
   "metadata": {},
   "outputs": [
    {
     "data": {
      "text/plain": [
       "array(['Diabetes mellitus', 'Interpersonal violence'], dtype=object)"
      ]
     },
     "execution_count": 9,
     "metadata": {},
     "output_type": "execute_result"
    }
   ],
   "source": [
    "indonesia_raw_df['cause'].unique()"
   ]
  },
  {
   "cell_type": "code",
   "execution_count": 10,
   "id": "54cecc7a",
   "metadata": {},
   "outputs": [
    {
     "data": {
      "text/plain": [
       "35"
      ]
     },
     "execution_count": 10,
     "metadata": {},
     "output_type": "execute_result"
    }
   ],
   "source": [
    "indonesia_raw_df['location'].nunique()"
   ]
  },
  {
   "cell_type": "code",
   "execution_count": 11,
   "id": "ccdb95fd",
   "metadata": {},
   "outputs": [
    {
     "data": {
      "text/plain": [
       "array(['West Nusa Tenggara', 'West Sumatra', 'North Maluku', 'Riau',\n",
       "       'East Nusa Tenggara', 'North Sumatra', 'West Papua',\n",
       "       'South Sumatra', 'Papua', 'Lampung', 'North Sulawesi',\n",
       "       'Central Sulawesi', 'South Sulawesi', 'Southeast Sulawesi',\n",
       "       'West Sulawesi', 'Yogyakarta', 'Maluku', 'Jambi', 'Bengkulu',\n",
       "       'Central Kalimantan', 'Indonesia', 'South Kalimantan',\n",
       "       'West Kalimantan', 'Bangka-Belitung Islands', 'East Kalimantan',\n",
       "       'Aceh', 'Riau Islands', 'North Kalimantan', 'Gorontalo',\n",
       "       'Central Java', 'West Java', 'East Java', 'Jakarta', 'Banten',\n",
       "       'Bali'], dtype=object)"
      ]
     },
     "execution_count": 11,
     "metadata": {},
     "output_type": "execute_result"
    }
   ],
   "source": [
    "indonesia_raw_df['location'].unique()"
   ]
  },
  {
   "cell_type": "code",
   "execution_count": 12,
   "id": "d913656c",
   "metadata": {},
   "outputs": [
    {
     "data": {
      "text/plain": [
       "0"
      ]
     },
     "execution_count": 12,
     "metadata": {},
     "output_type": "execute_result"
    }
   ],
   "source": [
    "indonesia_raw_df.duplicated().sum()"
   ]
  },
  {
   "cell_type": "code",
   "execution_count": 13,
   "id": "afae6eae",
   "metadata": {},
   "outputs": [
    {
     "data": {
      "text/plain": [
       "array(['YLLs (Years of Life Lost)', 'Deaths', 'Incidence',\n",
       "       'DALYs (Disability-Adjusted Life Years)', 'Prevalence',\n",
       "       'YLDs (Years Lived with Disability)'], dtype=object)"
      ]
     },
     "execution_count": 13,
     "metadata": {},
     "output_type": "execute_result"
    }
   ],
   "source": [
    "indonesia_raw_df['measure'].unique()"
   ]
  },
  {
   "cell_type": "code",
   "execution_count": 14,
   "id": "a190f85e",
   "metadata": {},
   "outputs": [
    {
     "data": {
      "text/html": [
       "<div>\n",
       "<style scoped>\n",
       "    .dataframe tbody tr th:only-of-type {\n",
       "        vertical-align: middle;\n",
       "    }\n",
       "\n",
       "    .dataframe tbody tr th {\n",
       "        vertical-align: top;\n",
       "    }\n",
       "\n",
       "    .dataframe thead th {\n",
       "        text-align: right;\n",
       "    }\n",
       "</style>\n",
       "<table border=\"1\" class=\"dataframe\">\n",
       "  <thead>\n",
       "    <tr style=\"text-align: right;\">\n",
       "      <th></th>\n",
       "      <th>measure</th>\n",
       "      <th>location</th>\n",
       "      <th>sex</th>\n",
       "      <th>age</th>\n",
       "      <th>cause</th>\n",
       "      <th>metric</th>\n",
       "      <th>year</th>\n",
       "      <th>val</th>\n",
       "      <th>upper</th>\n",
       "      <th>lower</th>\n",
       "    </tr>\n",
       "  </thead>\n",
       "  <tbody>\n",
       "    <tr>\n",
       "      <th>1296</th>\n",
       "      <td>Deaths</td>\n",
       "      <td>Indonesia</td>\n",
       "      <td>Male</td>\n",
       "      <td>1 to 4</td>\n",
       "      <td>Diabetes mellitus</td>\n",
       "      <td>Number</td>\n",
       "      <td>1990</td>\n",
       "      <td>10.761841</td>\n",
       "      <td>18.622067</td>\n",
       "      <td>5.269082</td>\n",
       "    </tr>\n",
       "    <tr>\n",
       "      <th>1297</th>\n",
       "      <td>Deaths</td>\n",
       "      <td>Indonesia</td>\n",
       "      <td>Female</td>\n",
       "      <td>1 to 4</td>\n",
       "      <td>Diabetes mellitus</td>\n",
       "      <td>Number</td>\n",
       "      <td>1990</td>\n",
       "      <td>6.103323</td>\n",
       "      <td>11.195759</td>\n",
       "      <td>3.234698</td>\n",
       "    </tr>\n",
       "    <tr>\n",
       "      <th>1298</th>\n",
       "      <td>Deaths</td>\n",
       "      <td>Indonesia</td>\n",
       "      <td>Male</td>\n",
       "      <td>1 to 4</td>\n",
       "      <td>Diabetes mellitus</td>\n",
       "      <td>Percent</td>\n",
       "      <td>1990</td>\n",
       "      <td>0.000185</td>\n",
       "      <td>0.000301</td>\n",
       "      <td>0.000091</td>\n",
       "    </tr>\n",
       "    <tr>\n",
       "      <th>1299</th>\n",
       "      <td>Deaths</td>\n",
       "      <td>Indonesia</td>\n",
       "      <td>Female</td>\n",
       "      <td>1 to 4</td>\n",
       "      <td>Diabetes mellitus</td>\n",
       "      <td>Percent</td>\n",
       "      <td>1990</td>\n",
       "      <td>0.000111</td>\n",
       "      <td>0.000194</td>\n",
       "      <td>0.000061</td>\n",
       "    </tr>\n",
       "    <tr>\n",
       "      <th>1300</th>\n",
       "      <td>Deaths</td>\n",
       "      <td>Indonesia</td>\n",
       "      <td>Male</td>\n",
       "      <td>1 to 4</td>\n",
       "      <td>Diabetes mellitus</td>\n",
       "      <td>Rate</td>\n",
       "      <td>1990</td>\n",
       "      <td>0.116197</td>\n",
       "      <td>0.201065</td>\n",
       "      <td>0.056891</td>\n",
       "    </tr>\n",
       "  </tbody>\n",
       "</table>\n",
       "</div>"
      ],
      "text/plain": [
       "     measure   location     sex     age              cause   metric  year  \\\n",
       "1296  Deaths  Indonesia    Male  1 to 4  Diabetes mellitus   Number  1990   \n",
       "1297  Deaths  Indonesia  Female  1 to 4  Diabetes mellitus   Number  1990   \n",
       "1298  Deaths  Indonesia    Male  1 to 4  Diabetes mellitus  Percent  1990   \n",
       "1299  Deaths  Indonesia  Female  1 to 4  Diabetes mellitus  Percent  1990   \n",
       "1300  Deaths  Indonesia    Male  1 to 4  Diabetes mellitus     Rate  1990   \n",
       "\n",
       "            val      upper     lower  \n",
       "1296  10.761841  18.622067  5.269082  \n",
       "1297   6.103323  11.195759  3.234698  \n",
       "1298   0.000185   0.000301  0.000091  \n",
       "1299   0.000111   0.000194  0.000061  \n",
       "1300   0.116197   0.201065  0.056891  "
      ]
     },
     "execution_count": 14,
     "metadata": {},
     "output_type": "execute_result"
    }
   ],
   "source": [
    "just_indonesia_df = indonesia_raw_df[indonesia_raw_df['location'].str.contains('Indonesia')]\n",
    "indonesia_all_df = indonesia_raw_df[~indonesia_raw_df['location'].str.contains('Indonesia')]\n",
    "just_indonesia_df.head()"
   ]
  },
  {
   "cell_type": "code",
   "execution_count": 15,
   "id": "5d6c5df5",
   "metadata": {},
   "outputs": [
    {
     "data": {
      "text/plain": [
       "1"
      ]
     },
     "execution_count": 15,
     "metadata": {},
     "output_type": "execute_result"
    }
   ],
   "source": [
    "just_indonesia_df['location'].nunique()"
   ]
  },
  {
   "cell_type": "code",
   "execution_count": 16,
   "id": "fc100c53",
   "metadata": {},
   "outputs": [
    {
     "data": {
      "text/plain": [
       "(1395360, 10)"
      ]
     },
     "execution_count": 16,
     "metadata": {},
     "output_type": "execute_result"
    }
   ],
   "source": [
    "indonesia_all_df.shape"
   ]
  },
  {
   "cell_type": "code",
   "execution_count": 17,
   "id": "2cd3928a",
   "metadata": {},
   "outputs": [
    {
     "data": {
      "text/plain": [
       "(1395360, 8)"
      ]
     },
     "execution_count": 17,
     "metadata": {},
     "output_type": "execute_result"
    }
   ],
   "source": [
    "indonesia_df = indonesia_all_df.drop(['upper', 'lower'], axis=1)\n",
    "indonesia_df.shape"
   ]
  },
  {
   "cell_type": "markdown",
   "id": "1be8bdc4",
   "metadata": {},
   "source": [
    "# Saving the Datasets"
   ]
  },
  {
   "cell_type": "code",
   "execution_count": 18,
   "id": "d5e0de1b",
   "metadata": {},
   "outputs": [],
   "source": [
    "just_indonesia_df.to_csv(PROCESSED_JUST_INDONESIA_DATASET, index=False)\n",
    "indonesia_df.to_csv(PROCESSED_INDONESIA_DATASET, index=False)"
   ]
  }
 ],
 "metadata": {
  "kernelspec": {
   "display_name": "Python 3",
   "language": "python",
   "name": "python3"
  },
  "language_info": {
   "codemirror_mode": {
    "name": "ipython",
    "version": 3
   },
   "file_extension": ".py",
   "mimetype": "text/x-python",
   "name": "python",
   "nbconvert_exporter": "python",
   "pygments_lexer": "ipython3",
   "version": "3.8.8"
  }
 },
 "nbformat": 4,
 "nbformat_minor": 5
}
