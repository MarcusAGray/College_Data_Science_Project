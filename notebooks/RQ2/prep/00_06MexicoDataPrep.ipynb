{
 "cells": [
  {
   "cell_type": "markdown",
   "id": "a2766d29",
   "metadata": {},
   "source": [
    "# Basic processing for mexico data sets"
   ]
  },
  {
   "cell_type": "markdown",
   "id": "508a0088",
   "metadata": {},
   "source": [
    "# Setup"
   ]
  },
  {
   "cell_type": "markdown",
   "id": "a34c07a8",
   "metadata": {},
   "source": [
    "## Imports"
   ]
  },
  {
   "cell_type": "code",
   "execution_count": 2,
   "id": "a3a3e9d4",
   "metadata": {},
   "outputs": [],
   "source": [
    "import pandas as pd\n",
    "import numpy as np"
   ]
  },
  {
   "cell_type": "markdown",
   "id": "72b0fc72",
   "metadata": {},
   "source": [
    "## Parameters"
   ]
  },
  {
   "cell_type": "code",
   "execution_count": 3,
   "id": "4c957663",
   "metadata": {},
   "outputs": [],
   "source": [
    "MEXICO1_DATASET = \"../../../data/RQ2/raw/mexico1.csv\"\n",
    "MEXICO2_DATASET = \"../../../data/RQ2/raw/mexico2.csv\"\n",
    "MEXICO3_DATASET = \"../../../data/RQ2/raw/mexico3.csv\"\n",
    "\n",
    "PROCESSED_JUST_MEXICO_DATASET = \"../../../data/RQ2/processed/just_mexico_df.csv\"\n",
    "PROCESSED_MEXICO_DATASET = \"../../../data/RQ2/processed/mexico_df.csv\""
   ]
  },
  {
   "cell_type": "markdown",
   "id": "72166325",
   "metadata": {},
   "source": [
    "# Loading the datasets"
   ]
  },
  {
   "cell_type": "code",
   "execution_count": 5,
   "id": "0f196dcd",
   "metadata": {},
   "outputs": [],
   "source": [
    "df1 = pd.read_csv(MEXICO1_DATASET)\n",
    "df2 = pd.read_csv(MEXICO2_DATASET)\n",
    "df3 = pd.read_csv(MEXICO3_DATASET)"
   ]
  },
  {
   "cell_type": "code",
   "execution_count": 6,
   "id": "d5140e78",
   "metadata": {},
   "outputs": [
    {
     "data": {
      "text/plain": [
       "(1477440, 10)"
      ]
     },
     "execution_count": 6,
     "metadata": {},
     "output_type": "execute_result"
    }
   ],
   "source": [
    "mexico_raw_df = df1.append([df2, df3])\n",
    "mexico_raw_df.shape"
   ]
  },
  {
   "cell_type": "code",
   "execution_count": 7,
   "id": "4809cc25",
   "metadata": {},
   "outputs": [
    {
     "data": {
      "text/html": [
       "<div>\n",
       "<style scoped>\n",
       "    .dataframe tbody tr th:only-of-type {\n",
       "        vertical-align: middle;\n",
       "    }\n",
       "\n",
       "    .dataframe tbody tr th {\n",
       "        vertical-align: top;\n",
       "    }\n",
       "\n",
       "    .dataframe thead th {\n",
       "        text-align: right;\n",
       "    }\n",
       "</style>\n",
       "<table border=\"1\" class=\"dataframe\">\n",
       "  <thead>\n",
       "    <tr style=\"text-align: right;\">\n",
       "      <th></th>\n",
       "      <th>measure</th>\n",
       "      <th>location</th>\n",
       "      <th>sex</th>\n",
       "      <th>age</th>\n",
       "      <th>cause</th>\n",
       "      <th>metric</th>\n",
       "      <th>year</th>\n",
       "      <th>val</th>\n",
       "      <th>upper</th>\n",
       "      <th>lower</th>\n",
       "    </tr>\n",
       "  </thead>\n",
       "  <tbody>\n",
       "    <tr>\n",
       "      <th>0</th>\n",
       "      <td>Deaths</td>\n",
       "      <td>Nicaragua</td>\n",
       "      <td>Male</td>\n",
       "      <td>1 to 4</td>\n",
       "      <td>Diabetes mellitus</td>\n",
       "      <td>Number</td>\n",
       "      <td>1990</td>\n",
       "      <td>0.483758</td>\n",
       "      <td>0.873209</td>\n",
       "      <td>0.222760</td>\n",
       "    </tr>\n",
       "    <tr>\n",
       "      <th>1</th>\n",
       "      <td>Deaths</td>\n",
       "      <td>Nicaragua</td>\n",
       "      <td>Female</td>\n",
       "      <td>1 to 4</td>\n",
       "      <td>Diabetes mellitus</td>\n",
       "      <td>Number</td>\n",
       "      <td>1990</td>\n",
       "      <td>0.851169</td>\n",
       "      <td>1.568254</td>\n",
       "      <td>0.436445</td>\n",
       "    </tr>\n",
       "    <tr>\n",
       "      <th>2</th>\n",
       "      <td>Deaths</td>\n",
       "      <td>Nicaragua</td>\n",
       "      <td>Male</td>\n",
       "      <td>1 to 4</td>\n",
       "      <td>Diabetes mellitus</td>\n",
       "      <td>Percent</td>\n",
       "      <td>1990</td>\n",
       "      <td>0.000533</td>\n",
       "      <td>0.000933</td>\n",
       "      <td>0.000256</td>\n",
       "    </tr>\n",
       "    <tr>\n",
       "      <th>3</th>\n",
       "      <td>Deaths</td>\n",
       "      <td>Nicaragua</td>\n",
       "      <td>Female</td>\n",
       "      <td>1 to 4</td>\n",
       "      <td>Diabetes mellitus</td>\n",
       "      <td>Percent</td>\n",
       "      <td>1990</td>\n",
       "      <td>0.000987</td>\n",
       "      <td>0.001810</td>\n",
       "      <td>0.000512</td>\n",
       "    </tr>\n",
       "    <tr>\n",
       "      <th>4</th>\n",
       "      <td>Deaths</td>\n",
       "      <td>Nicaragua</td>\n",
       "      <td>Male</td>\n",
       "      <td>1 to 4</td>\n",
       "      <td>Diabetes mellitus</td>\n",
       "      <td>Rate</td>\n",
       "      <td>1990</td>\n",
       "      <td>0.178340</td>\n",
       "      <td>0.321913</td>\n",
       "      <td>0.082122</td>\n",
       "    </tr>\n",
       "  </tbody>\n",
       "</table>\n",
       "</div>"
      ],
      "text/plain": [
       "  measure   location     sex     age              cause   metric  year  \\\n",
       "0  Deaths  Nicaragua    Male  1 to 4  Diabetes mellitus   Number  1990   \n",
       "1  Deaths  Nicaragua  Female  1 to 4  Diabetes mellitus   Number  1990   \n",
       "2  Deaths  Nicaragua    Male  1 to 4  Diabetes mellitus  Percent  1990   \n",
       "3  Deaths  Nicaragua  Female  1 to 4  Diabetes mellitus  Percent  1990   \n",
       "4  Deaths  Nicaragua    Male  1 to 4  Diabetes mellitus     Rate  1990   \n",
       "\n",
       "        val     upper     lower  \n",
       "0  0.483758  0.873209  0.222760  \n",
       "1  0.851169  1.568254  0.436445  \n",
       "2  0.000533  0.000933  0.000256  \n",
       "3  0.000987  0.001810  0.000512  \n",
       "4  0.178340  0.321913  0.082122  "
      ]
     },
     "execution_count": 7,
     "metadata": {},
     "output_type": "execute_result"
    }
   ],
   "source": [
    "mexico_raw_df.head()"
   ]
  },
  {
   "cell_type": "code",
   "execution_count": 8,
   "id": "513b2850",
   "metadata": {},
   "outputs": [
    {
     "data": {
      "text/plain": [
       "array(['Diabetes mellitus', 'Interpersonal violence'], dtype=object)"
      ]
     },
     "execution_count": 8,
     "metadata": {},
     "output_type": "execute_result"
    }
   ],
   "source": [
    "mexico_raw_df['cause'].unique()"
   ]
  },
  {
   "cell_type": "code",
   "execution_count": 9,
   "id": "54cecc7a",
   "metadata": {},
   "outputs": [
    {
     "data": {
      "text/plain": [
       "36"
      ]
     },
     "execution_count": 9,
     "metadata": {},
     "output_type": "execute_result"
    }
   ],
   "source": [
    "mexico_raw_df['location'].nunique()"
   ]
  },
  {
   "cell_type": "code",
   "execution_count": 10,
   "id": "ccdb95fd",
   "metadata": {},
   "outputs": [
    {
     "data": {
      "text/plain": [
       "array(['Nicaragua', 'Mexico', 'Campeche', 'Oaxaca', 'Panama',\n",
       "       'Nuevo León', 'Baja California Sur', 'Chiapas', 'Colima',\n",
       "       'Quintana Roo', 'Puebla', 'Durango', 'Querétaro', 'Sonora',\n",
       "       'Mexico City', 'Aguascalientes', 'Tlaxcala', 'Hidalgo',\n",
       "       'Venezuela (Bolivarian Republic of)', 'Nayarit', 'Jalisco',\n",
       "       'San Luis Potosí', 'Sinaloa', 'Veracruz de Ignacio de la Llave',\n",
       "       'Michoacán de Ocampo', 'Guerrero', 'Zacatecas', 'Morelos',\n",
       "       'Tabasco', 'Coahuila', 'Chihuahua', 'Guanajuato',\n",
       "       'Baja California', 'México', 'Yucatán', 'Tamaulipas'], dtype=object)"
      ]
     },
     "execution_count": 10,
     "metadata": {},
     "output_type": "execute_result"
    }
   ],
   "source": [
    "mexico_raw_df['location'].unique()"
   ]
  },
  {
   "cell_type": "code",
   "execution_count": 11,
   "id": "d913656c",
   "metadata": {},
   "outputs": [
    {
     "data": {
      "text/plain": [
       "0"
      ]
     },
     "execution_count": 11,
     "metadata": {},
     "output_type": "execute_result"
    }
   ],
   "source": [
    "mexico_raw_df.duplicated().sum()"
   ]
  },
  {
   "cell_type": "code",
   "execution_count": 12,
   "id": "afae6eae",
   "metadata": {},
   "outputs": [
    {
     "data": {
      "text/plain": [
       "array(['Deaths', 'YLLs (Years of Life Lost)',\n",
       "       'YLDs (Years Lived with Disability)',\n",
       "       'DALYs (Disability-Adjusted Life Years)', 'Prevalence',\n",
       "       'Incidence'], dtype=object)"
      ]
     },
     "execution_count": 12,
     "metadata": {},
     "output_type": "execute_result"
    }
   ],
   "source": [
    "mexico_raw_df['measure'].unique()"
   ]
  },
  {
   "cell_type": "code",
   "execution_count": 13,
   "id": "a190f85e",
   "metadata": {},
   "outputs": [
    {
     "data": {
      "text/html": [
       "<div>\n",
       "<style scoped>\n",
       "    .dataframe tbody tr th:only-of-type {\n",
       "        vertical-align: middle;\n",
       "    }\n",
       "\n",
       "    .dataframe tbody tr th {\n",
       "        vertical-align: top;\n",
       "    }\n",
       "\n",
       "    .dataframe thead th {\n",
       "        text-align: right;\n",
       "    }\n",
       "</style>\n",
       "<table border=\"1\" class=\"dataframe\">\n",
       "  <thead>\n",
       "    <tr style=\"text-align: right;\">\n",
       "      <th></th>\n",
       "      <th>measure</th>\n",
       "      <th>location</th>\n",
       "      <th>sex</th>\n",
       "      <th>age</th>\n",
       "      <th>cause</th>\n",
       "      <th>metric</th>\n",
       "      <th>year</th>\n",
       "      <th>val</th>\n",
       "      <th>upper</th>\n",
       "      <th>lower</th>\n",
       "    </tr>\n",
       "  </thead>\n",
       "  <tbody>\n",
       "    <tr>\n",
       "      <th>114</th>\n",
       "      <td>Deaths</td>\n",
       "      <td>Mexico</td>\n",
       "      <td>Male</td>\n",
       "      <td>1 to 4</td>\n",
       "      <td>Interpersonal violence</td>\n",
       "      <td>Number</td>\n",
       "      <td>1990</td>\n",
       "      <td>213.875977</td>\n",
       "      <td>290.470621</td>\n",
       "      <td>150.162634</td>\n",
       "    </tr>\n",
       "    <tr>\n",
       "      <th>115</th>\n",
       "      <td>Deaths</td>\n",
       "      <td>Mexico</td>\n",
       "      <td>Female</td>\n",
       "      <td>1 to 4</td>\n",
       "      <td>Interpersonal violence</td>\n",
       "      <td>Number</td>\n",
       "      <td>1990</td>\n",
       "      <td>157.880845</td>\n",
       "      <td>213.597930</td>\n",
       "      <td>112.285763</td>\n",
       "    </tr>\n",
       "    <tr>\n",
       "      <th>116</th>\n",
       "      <td>Deaths</td>\n",
       "      <td>Mexico</td>\n",
       "      <td>Male</td>\n",
       "      <td>1 to 4</td>\n",
       "      <td>Interpersonal violence</td>\n",
       "      <td>Percent</td>\n",
       "      <td>1990</td>\n",
       "      <td>0.020391</td>\n",
       "      <td>0.023068</td>\n",
       "      <td>0.017664</td>\n",
       "    </tr>\n",
       "    <tr>\n",
       "      <th>117</th>\n",
       "      <td>Deaths</td>\n",
       "      <td>Mexico</td>\n",
       "      <td>Female</td>\n",
       "      <td>1 to 4</td>\n",
       "      <td>Interpersonal violence</td>\n",
       "      <td>Percent</td>\n",
       "      <td>1990</td>\n",
       "      <td>0.014488</td>\n",
       "      <td>0.016000</td>\n",
       "      <td>0.013034</td>\n",
       "    </tr>\n",
       "    <tr>\n",
       "      <th>118</th>\n",
       "      <td>Deaths</td>\n",
       "      <td>Mexico</td>\n",
       "      <td>Male</td>\n",
       "      <td>1 to 4</td>\n",
       "      <td>Interpersonal violence</td>\n",
       "      <td>Rate</td>\n",
       "      <td>1990</td>\n",
       "      <td>4.538203</td>\n",
       "      <td>6.163454</td>\n",
       "      <td>3.186279</td>\n",
       "    </tr>\n",
       "  </tbody>\n",
       "</table>\n",
       "</div>"
      ],
      "text/plain": [
       "    measure location     sex     age                   cause   metric  year  \\\n",
       "114  Deaths   Mexico    Male  1 to 4  Interpersonal violence   Number  1990   \n",
       "115  Deaths   Mexico  Female  1 to 4  Interpersonal violence   Number  1990   \n",
       "116  Deaths   Mexico    Male  1 to 4  Interpersonal violence  Percent  1990   \n",
       "117  Deaths   Mexico  Female  1 to 4  Interpersonal violence  Percent  1990   \n",
       "118  Deaths   Mexico    Male  1 to 4  Interpersonal violence     Rate  1990   \n",
       "\n",
       "            val       upper       lower  \n",
       "114  213.875977  290.470621  150.162634  \n",
       "115  157.880845  213.597930  112.285763  \n",
       "116    0.020391    0.023068    0.017664  \n",
       "117    0.014488    0.016000    0.013034  \n",
       "118    4.538203    6.163454    3.186279  "
      ]
     },
     "execution_count": 13,
     "metadata": {},
     "output_type": "execute_result"
    }
   ],
   "source": [
    "just_mexico_df = mexico_raw_df[mexico_raw_df['location'].str.fullmatch('Mexico')]\n",
    "mexico_all_df = mexico_raw_df[~mexico_raw_df['location'].str.fullmatch('Mexico')]\n",
    "just_mexico_df.head()"
   ]
  },
  {
   "cell_type": "code",
   "execution_count": 14,
   "id": "52f199c3",
   "metadata": {},
   "outputs": [
    {
     "data": {
      "text/plain": [
       "1"
      ]
     },
     "execution_count": 14,
     "metadata": {},
     "output_type": "execute_result"
    }
   ],
   "source": [
    "just_mexico_df['location'].nunique()"
   ]
  },
  {
   "cell_type": "code",
   "execution_count": 15,
   "id": "ea96929a",
   "metadata": {},
   "outputs": [
    {
     "data": {
      "text/plain": [
       "array(['Mexico'], dtype=object)"
      ]
     },
     "execution_count": 15,
     "metadata": {},
     "output_type": "execute_result"
    }
   ],
   "source": [
    "just_mexico_df['location'].unique()"
   ]
  },
  {
   "cell_type": "code",
   "execution_count": 16,
   "id": "fc100c53",
   "metadata": {},
   "outputs": [
    {
     "data": {
      "text/plain": [
       "(1436400, 10)"
      ]
     },
     "execution_count": 16,
     "metadata": {},
     "output_type": "execute_result"
    }
   ],
   "source": [
    "mexico_all_df.shape"
   ]
  },
  {
   "cell_type": "code",
   "execution_count": 17,
   "id": "2cd3928a",
   "metadata": {},
   "outputs": [
    {
     "data": {
      "text/plain": [
       "(1436400, 8)"
      ]
     },
     "execution_count": 17,
     "metadata": {},
     "output_type": "execute_result"
    }
   ],
   "source": [
    "mexico_df = mexico_all_df.drop(['upper', 'lower'], axis=1)\n",
    "mexico_df.shape"
   ]
  },
  {
   "cell_type": "markdown",
   "id": "1be8bdc4",
   "metadata": {},
   "source": [
    "# Saving the Datasets"
   ]
  },
  {
   "cell_type": "code",
   "execution_count": 18,
   "id": "d5e0de1b",
   "metadata": {},
   "outputs": [],
   "source": [
    "just_mexico_df.to_csv(PROCESSED_JUST_MEXICO_DATASET, index=False)\n",
    "mexico_df.to_csv(PROCESSED_MEXICO_DATASET, index=False)"
   ]
  }
 ],
 "metadata": {
  "kernelspec": {
   "display_name": "Python 3",
   "language": "python",
   "name": "python3"
  },
  "language_info": {
   "codemirror_mode": {
    "name": "ipython",
    "version": 3
   },
   "file_extension": ".py",
   "mimetype": "text/x-python",
   "name": "python",
   "nbconvert_exporter": "python",
   "pygments_lexer": "ipython3",
   "version": "3.8.8"
  }
 },
 "nbformat": 4,
 "nbformat_minor": 5
}
