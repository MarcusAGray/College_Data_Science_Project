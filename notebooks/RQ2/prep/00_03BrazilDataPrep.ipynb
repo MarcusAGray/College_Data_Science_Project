{
 "cells": [
  {
   "cell_type": "markdown",
   "id": "0204f426",
   "metadata": {},
   "source": [
    "# Basic processing for brazil data sets"
   ]
  },
  {
   "cell_type": "markdown",
   "id": "508a0088",
   "metadata": {},
   "source": [
    "# Setup"
   ]
  },
  {
   "cell_type": "markdown",
   "id": "a34c07a8",
   "metadata": {},
   "source": [
    "## Imports"
   ]
  },
  {
   "cell_type": "code",
   "execution_count": 2,
   "id": "a3a3e9d4",
   "metadata": {},
   "outputs": [],
   "source": [
    "import pandas as pd\n",
    "import numpy as np"
   ]
  },
  {
   "cell_type": "markdown",
   "id": "72b0fc72",
   "metadata": {},
   "source": [
    "## Parameters"
   ]
  },
  {
   "cell_type": "code",
   "execution_count": 3,
   "id": "4c957663",
   "metadata": {},
   "outputs": [],
   "source": [
    "BRAZIL1_DATASET = \"../../../data/RQ2/raw/brazil1.csv\"\n",
    "BRAZIL2_DATASET = \"../../../data/RQ2/raw/brazil2.csv\"\n",
    "BRAZIL3_DATASET = \"../../../data/RQ2/raw/brazil3.csv\"\n",
    "BRAZIL4_DATASET = \"../../../data/RQ2/raw/brazil4.csv\"\n",
    "BRAZIL5_DATASET = \"../../../data/RQ2/raw/brazil5.csv\"\n",
    "\n",
    "PROCESSED_JUST_BRAZIL_DATASET = \"../../../data/RQ2/processed/just_BRAZIL_df.csv\"\n",
    "PROCESSED_BRAZIL_DATASET = \"../../../data/RQ2/processed/BRAZIL_df.csv\""
   ]
  },
  {
   "cell_type": "markdown",
   "id": "72166325",
   "metadata": {},
   "source": [
    "# Loading the Datasets"
   ]
  },
  {
   "cell_type": "code",
   "execution_count": 5,
   "id": "0f196dcd",
   "metadata": {},
   "outputs": [],
   "source": [
    "df1 = pd.read_csv(BRAZIL1_DATASET)\n",
    "df2 = pd.read_csv(BRAZIL2_DATASET)\n",
    "df3 = pd.read_csv(BRAZIL3_DATASET)\n",
    "df4 = pd.read_csv(BRAZIL4_DATASET)\n",
    "df5 = pd.read_csv(BRAZIL5_DATASET)"
   ]
  },
  {
   "cell_type": "code",
   "execution_count": 6,
   "id": "d5140e78",
   "metadata": {},
   "outputs": [
    {
     "data": {
      "text/plain": [
       "(2268000, 10)"
      ]
     },
     "execution_count": 6,
     "metadata": {},
     "output_type": "execute_result"
    }
   ],
   "source": [
    "brazil_raw_df = df1.append([df2, df3, df4, df5])\n",
    "brazil_raw_df.shape"
   ]
  },
  {
   "cell_type": "code",
   "execution_count": 7,
   "id": "4809cc25",
   "metadata": {},
   "outputs": [
    {
     "data": {
      "text/html": [
       "<div>\n",
       "<style scoped>\n",
       "    .dataframe tbody tr th:only-of-type {\n",
       "        vertical-align: middle;\n",
       "    }\n",
       "\n",
       "    .dataframe tbody tr th {\n",
       "        vertical-align: top;\n",
       "    }\n",
       "\n",
       "    .dataframe thead th {\n",
       "        text-align: right;\n",
       "    }\n",
       "</style>\n",
       "<table border=\"1\" class=\"dataframe\">\n",
       "  <thead>\n",
       "    <tr style=\"text-align: right;\">\n",
       "      <th></th>\n",
       "      <th>measure</th>\n",
       "      <th>location</th>\n",
       "      <th>sex</th>\n",
       "      <th>age</th>\n",
       "      <th>cause</th>\n",
       "      <th>metric</th>\n",
       "      <th>year</th>\n",
       "      <th>val</th>\n",
       "      <th>upper</th>\n",
       "      <th>lower</th>\n",
       "    </tr>\n",
       "  </thead>\n",
       "  <tbody>\n",
       "    <tr>\n",
       "      <th>0</th>\n",
       "      <td>Deaths</td>\n",
       "      <td>Brazil</td>\n",
       "      <td>Male</td>\n",
       "      <td>1 to 4</td>\n",
       "      <td>Diabetes mellitus</td>\n",
       "      <td>Number</td>\n",
       "      <td>1990</td>\n",
       "      <td>32.811118</td>\n",
       "      <td>48.483189</td>\n",
       "      <td>18.170433</td>\n",
       "    </tr>\n",
       "    <tr>\n",
       "      <th>1</th>\n",
       "      <td>Deaths</td>\n",
       "      <td>Brazil</td>\n",
       "      <td>Female</td>\n",
       "      <td>1 to 4</td>\n",
       "      <td>Diabetes mellitus</td>\n",
       "      <td>Number</td>\n",
       "      <td>1990</td>\n",
       "      <td>45.996028</td>\n",
       "      <td>67.987637</td>\n",
       "      <td>26.205393</td>\n",
       "    </tr>\n",
       "    <tr>\n",
       "      <th>2</th>\n",
       "      <td>Deaths</td>\n",
       "      <td>Brazil</td>\n",
       "      <td>Male</td>\n",
       "      <td>1 to 4</td>\n",
       "      <td>Diabetes mellitus</td>\n",
       "      <td>Percent</td>\n",
       "      <td>1990</td>\n",
       "      <td>0.001783</td>\n",
       "      <td>0.002275</td>\n",
       "      <td>0.001000</td>\n",
       "    </tr>\n",
       "    <tr>\n",
       "      <th>3</th>\n",
       "      <td>Deaths</td>\n",
       "      <td>Brazil</td>\n",
       "      <td>Female</td>\n",
       "      <td>1 to 4</td>\n",
       "      <td>Diabetes mellitus</td>\n",
       "      <td>Percent</td>\n",
       "      <td>1990</td>\n",
       "      <td>0.002547</td>\n",
       "      <td>0.003411</td>\n",
       "      <td>0.001533</td>\n",
       "    </tr>\n",
       "    <tr>\n",
       "      <th>4</th>\n",
       "      <td>Deaths</td>\n",
       "      <td>Brazil</td>\n",
       "      <td>Male</td>\n",
       "      <td>1 to 4</td>\n",
       "      <td>Diabetes mellitus</td>\n",
       "      <td>Rate</td>\n",
       "      <td>1990</td>\n",
       "      <td>0.475332</td>\n",
       "      <td>0.702372</td>\n",
       "      <td>0.263234</td>\n",
       "    </tr>\n",
       "  </tbody>\n",
       "</table>\n",
       "</div>"
      ],
      "text/plain": [
       "  measure location     sex     age              cause   metric  year  \\\n",
       "0  Deaths   Brazil    Male  1 to 4  Diabetes mellitus   Number  1990   \n",
       "1  Deaths   Brazil  Female  1 to 4  Diabetes mellitus   Number  1990   \n",
       "2  Deaths   Brazil    Male  1 to 4  Diabetes mellitus  Percent  1990   \n",
       "3  Deaths   Brazil  Female  1 to 4  Diabetes mellitus  Percent  1990   \n",
       "4  Deaths   Brazil    Male  1 to 4  Diabetes mellitus     Rate  1990   \n",
       "\n",
       "         val      upper      lower  \n",
       "0  32.811118  48.483189  18.170433  \n",
       "1  45.996028  67.987637  26.205393  \n",
       "2   0.001783   0.002275   0.001000  \n",
       "3   0.002547   0.003411   0.001533  \n",
       "4   0.475332   0.702372   0.263234  "
      ]
     },
     "execution_count": 7,
     "metadata": {},
     "output_type": "execute_result"
    }
   ],
   "source": [
    "brazil_raw_df.head()"
   ]
  },
  {
   "cell_type": "code",
   "execution_count": 8,
   "id": "ddd3fb60",
   "metadata": {},
   "outputs": [
    {
     "data": {
      "text/plain": [
       "array(['Diabetes mellitus',\n",
       "       'Chronic kidney disease due to diabetes mellitus type 1',\n",
       "       'Chronic kidney disease due to diabetes mellitus type 2',\n",
       "       'Interpersonal violence'], dtype=object)"
      ]
     },
     "execution_count": 8,
     "metadata": {},
     "output_type": "execute_result"
    }
   ],
   "source": [
    "brazil_raw_df.cause.unique()"
   ]
  },
  {
   "cell_type": "code",
   "execution_count": 9,
   "id": "53664151",
   "metadata": {},
   "outputs": [
    {
     "data": {
      "text/plain": [
       "(1149120, 10)"
      ]
     },
     "execution_count": 9,
     "metadata": {},
     "output_type": "execute_result"
    }
   ],
   "source": [
    "brazil_raw_df = brazil_raw_df[~brazil_raw_df['cause'].str.contains('kidney')]\n",
    "brazil_raw_df.shape"
   ]
  },
  {
   "cell_type": "code",
   "execution_count": 10,
   "id": "513b2850",
   "metadata": {},
   "outputs": [
    {
     "data": {
      "text/plain": [
       "array(['Diabetes mellitus', 'Interpersonal violence'], dtype=object)"
      ]
     },
     "execution_count": 10,
     "metadata": {},
     "output_type": "execute_result"
    }
   ],
   "source": [
    "brazil_raw_df['cause'].unique()"
   ]
  },
  {
   "cell_type": "code",
   "execution_count": 11,
   "id": "54cecc7a",
   "metadata": {},
   "outputs": [
    {
     "data": {
      "text/plain": [
       "28"
      ]
     },
     "execution_count": 11,
     "metadata": {},
     "output_type": "execute_result"
    }
   ],
   "source": [
    "brazil_raw_df['location'].nunique()"
   ]
  },
  {
   "cell_type": "code",
   "execution_count": 12,
   "id": "ccdb95fd",
   "metadata": {},
   "outputs": [
    {
     "data": {
      "text/plain": [
       "array(['Brazil', 'Amazonas', 'Amapá', 'Alagoas', 'Distrito Federal',\n",
       "       'Paraíba', 'Bahia', 'Maranhão', 'Paraná', 'Pernambuco', 'Acre',\n",
       "       'Piaui', 'Mato Grosso', 'Rio Grande do Norte', 'Espírito Santo',\n",
       "       'Rio de Janeiro', 'Rondônia', 'Minas Gerais', 'Rio Grande do Sul',\n",
       "       'Roraima', 'Pará', 'Sergipe', 'São Paulo', 'Tocantins', 'Ceará',\n",
       "       'Goiás', 'Mato Grosso do Sul', 'Santa Catarina'], dtype=object)"
      ]
     },
     "execution_count": 12,
     "metadata": {},
     "output_type": "execute_result"
    }
   ],
   "source": [
    "brazil_raw_df['location'].unique()"
   ]
  },
  {
   "cell_type": "code",
   "execution_count": 13,
   "id": "d913656c",
   "metadata": {},
   "outputs": [
    {
     "data": {
      "text/plain": [
       "0"
      ]
     },
     "execution_count": 13,
     "metadata": {},
     "output_type": "execute_result"
    }
   ],
   "source": [
    "brazil_raw_df.duplicated().sum()"
   ]
  },
  {
   "cell_type": "code",
   "execution_count": 14,
   "id": "afae6eae",
   "metadata": {},
   "outputs": [
    {
     "data": {
      "text/plain": [
       "array(['Deaths', 'YLLs (Years of Life Lost)',\n",
       "       'DALYs (Disability-Adjusted Life Years)', 'Incidence',\n",
       "       'Prevalence', 'YLDs (Years Lived with Disability)'], dtype=object)"
      ]
     },
     "execution_count": 14,
     "metadata": {},
     "output_type": "execute_result"
    }
   ],
   "source": [
    "brazil_raw_df['measure'].unique()"
   ]
  },
  {
   "cell_type": "code",
   "execution_count": 15,
   "id": "a190f85e",
   "metadata": {},
   "outputs": [
    {
     "data": {
      "text/html": [
       "<div>\n",
       "<style scoped>\n",
       "    .dataframe tbody tr th:only-of-type {\n",
       "        vertical-align: middle;\n",
       "    }\n",
       "\n",
       "    .dataframe tbody tr th {\n",
       "        vertical-align: top;\n",
       "    }\n",
       "\n",
       "    .dataframe thead th {\n",
       "        text-align: right;\n",
       "    }\n",
       "</style>\n",
       "<table border=\"1\" class=\"dataframe\">\n",
       "  <thead>\n",
       "    <tr style=\"text-align: right;\">\n",
       "      <th></th>\n",
       "      <th>measure</th>\n",
       "      <th>location</th>\n",
       "      <th>sex</th>\n",
       "      <th>age</th>\n",
       "      <th>cause</th>\n",
       "      <th>metric</th>\n",
       "      <th>year</th>\n",
       "      <th>val</th>\n",
       "      <th>upper</th>\n",
       "      <th>lower</th>\n",
       "    </tr>\n",
       "  </thead>\n",
       "  <tbody>\n",
       "    <tr>\n",
       "      <th>0</th>\n",
       "      <td>Deaths</td>\n",
       "      <td>Brazil</td>\n",
       "      <td>Male</td>\n",
       "      <td>1 to 4</td>\n",
       "      <td>Diabetes mellitus</td>\n",
       "      <td>Number</td>\n",
       "      <td>1990</td>\n",
       "      <td>32.811118</td>\n",
       "      <td>48.483189</td>\n",
       "      <td>18.170433</td>\n",
       "    </tr>\n",
       "    <tr>\n",
       "      <th>1</th>\n",
       "      <td>Deaths</td>\n",
       "      <td>Brazil</td>\n",
       "      <td>Female</td>\n",
       "      <td>1 to 4</td>\n",
       "      <td>Diabetes mellitus</td>\n",
       "      <td>Number</td>\n",
       "      <td>1990</td>\n",
       "      <td>45.996028</td>\n",
       "      <td>67.987637</td>\n",
       "      <td>26.205393</td>\n",
       "    </tr>\n",
       "    <tr>\n",
       "      <th>2</th>\n",
       "      <td>Deaths</td>\n",
       "      <td>Brazil</td>\n",
       "      <td>Male</td>\n",
       "      <td>1 to 4</td>\n",
       "      <td>Diabetes mellitus</td>\n",
       "      <td>Percent</td>\n",
       "      <td>1990</td>\n",
       "      <td>0.001783</td>\n",
       "      <td>0.002275</td>\n",
       "      <td>0.001000</td>\n",
       "    </tr>\n",
       "    <tr>\n",
       "      <th>3</th>\n",
       "      <td>Deaths</td>\n",
       "      <td>Brazil</td>\n",
       "      <td>Female</td>\n",
       "      <td>1 to 4</td>\n",
       "      <td>Diabetes mellitus</td>\n",
       "      <td>Percent</td>\n",
       "      <td>1990</td>\n",
       "      <td>0.002547</td>\n",
       "      <td>0.003411</td>\n",
       "      <td>0.001533</td>\n",
       "    </tr>\n",
       "    <tr>\n",
       "      <th>4</th>\n",
       "      <td>Deaths</td>\n",
       "      <td>Brazil</td>\n",
       "      <td>Male</td>\n",
       "      <td>1 to 4</td>\n",
       "      <td>Diabetes mellitus</td>\n",
       "      <td>Rate</td>\n",
       "      <td>1990</td>\n",
       "      <td>0.475332</td>\n",
       "      <td>0.702372</td>\n",
       "      <td>0.263234</td>\n",
       "    </tr>\n",
       "  </tbody>\n",
       "</table>\n",
       "</div>"
      ],
      "text/plain": [
       "  measure location     sex     age              cause   metric  year  \\\n",
       "0  Deaths   Brazil    Male  1 to 4  Diabetes mellitus   Number  1990   \n",
       "1  Deaths   Brazil  Female  1 to 4  Diabetes mellitus   Number  1990   \n",
       "2  Deaths   Brazil    Male  1 to 4  Diabetes mellitus  Percent  1990   \n",
       "3  Deaths   Brazil  Female  1 to 4  Diabetes mellitus  Percent  1990   \n",
       "4  Deaths   Brazil    Male  1 to 4  Diabetes mellitus     Rate  1990   \n",
       "\n",
       "         val      upper      lower  \n",
       "0  32.811118  48.483189  18.170433  \n",
       "1  45.996028  67.987637  26.205393  \n",
       "2   0.001783   0.002275   0.001000  \n",
       "3   0.002547   0.003411   0.001533  \n",
       "4   0.475332   0.702372   0.263234  "
      ]
     },
     "execution_count": 15,
     "metadata": {},
     "output_type": "execute_result"
    }
   ],
   "source": [
    "just_brazil_df = brazil_raw_df[brazil_raw_df['location'].str.contains('Brazil')]\n",
    "brazil_all_df = brazil_raw_df[~brazil_raw_df['location'].str.contains('Brazil')]\n",
    "just_brazil_df.head()"
   ]
  },
  {
   "cell_type": "code",
   "execution_count": 16,
   "id": "cabdbb11",
   "metadata": {},
   "outputs": [
    {
     "data": {
      "text/plain": [
       "1"
      ]
     },
     "execution_count": 16,
     "metadata": {},
     "output_type": "execute_result"
    }
   ],
   "source": [
    "just_brazil_df['location'].nunique()"
   ]
  },
  {
   "cell_type": "code",
   "execution_count": 17,
   "id": "fc100c53",
   "metadata": {},
   "outputs": [
    {
     "data": {
      "text/plain": [
       "(1108080, 10)"
      ]
     },
     "execution_count": 17,
     "metadata": {},
     "output_type": "execute_result"
    }
   ],
   "source": [
    "brazil_all_df.shape"
   ]
  },
  {
   "cell_type": "code",
   "execution_count": 18,
   "id": "2cd3928a",
   "metadata": {},
   "outputs": [
    {
     "data": {
      "text/plain": [
       "(1108080, 8)"
      ]
     },
     "execution_count": 18,
     "metadata": {},
     "output_type": "execute_result"
    }
   ],
   "source": [
    "brazil_df = brazil_all_df.drop(['upper', 'lower'], axis=1)\n",
    "brazil_df.shape"
   ]
  },
  {
   "cell_type": "markdown",
   "id": "1be8bdc4",
   "metadata": {},
   "source": [
    "# Saving the Datasets"
   ]
  },
  {
   "cell_type": "code",
   "execution_count": 19,
   "id": "d5e0de1b",
   "metadata": {},
   "outputs": [],
   "source": [
    "just_brazil_df.to_csv(PROCESSED_JUST_BRAZIL_DATASET, index=False)\n",
    "brazil_df.to_csv(PROCESSED_BRAZIL_DATASET, index=False)"
   ]
  }
 ],
 "metadata": {
  "kernelspec": {
   "display_name": "Python 3",
   "language": "python",
   "name": "python3"
  },
  "language_info": {
   "codemirror_mode": {
    "name": "ipython",
    "version": 3
   },
   "file_extension": ".py",
   "mimetype": "text/x-python",
   "name": "python",
   "nbconvert_exporter": "python",
   "pygments_lexer": "ipython3",
   "version": "3.8.8"
  }
 },
 "nbformat": 4,
 "nbformat_minor": 5
}
