{
 "cells": [
  {
   "cell_type": "code",
   "execution_count": 1,
   "id": "ba8dc9c8",
   "metadata": {},
   "outputs": [
    {
     "data": {
      "text/plain": [
       "'\\nBasic processing for uk data sets\\n\\nLoads;  \\n\\namerica.csv\\nbrazil.csv\\n\\nProduces;\\ndf.csv\\n'"
      ]
     },
     "execution_count": 1,
     "metadata": {},
     "output_type": "execute_result"
    }
   ],
   "source": [
    "\"\"\"\n",
    "Look at distribution for all countries\n",
    "\n",
    "Loads;  \n",
    "\n",
    "\n",
    "\n",
    "Produces;\n",
    "\"\"\""
   ]
  },
  {
   "cell_type": "markdown",
   "id": "508a0088",
   "metadata": {},
   "source": [
    "# Setup"
   ]
  },
  {
   "cell_type": "markdown",
   "id": "a34c07a8",
   "metadata": {},
   "source": [
    "## Imports"
   ]
  },
  {
   "cell_type": "code",
   "execution_count": 52,
   "id": "a3a3e9d4",
   "metadata": {},
   "outputs": [],
   "source": [
    "import pandas as pd\n",
    "import numpy as np\n",
    "import matplotlib.pyplot as plt"
   ]
  },
  {
   "cell_type": "markdown",
   "id": "72b0fc72",
   "metadata": {},
   "source": [
    "## Parameters"
   ]
  },
  {
   "cell_type": "code",
   "execution_count": null,
   "id": "4c957663",
   "metadata": {},
   "outputs": [],
   "source": []
  },
  {
   "cell_type": "markdown",
   "id": "3019df86",
   "metadata": {},
   "source": [
    "Configuration"
   ]
  },
  {
   "cell_type": "code",
   "execution_count": null,
   "id": "843b4dfd",
   "metadata": {},
   "outputs": [],
   "source": []
  },
  {
   "cell_type": "markdown",
   "id": "72166325",
   "metadata": {},
   "source": [
    "### Loading the datasets"
   ]
  },
  {
   "cell_type": "code",
   "execution_count": 53,
   "id": "0f196dcd",
   "metadata": {},
   "outputs": [],
   "source": [
    "df = pd.read_csv(\"../../data/processed/df.csv\")"
   ]
  },
  {
   "cell_type": "code",
   "execution_count": 54,
   "id": "5d8c4683",
   "metadata": {},
   "outputs": [
    {
     "data": {
      "text/html": [
       "<div>\n",
       "<style scoped>\n",
       "    .dataframe tbody tr th:only-of-type {\n",
       "        vertical-align: middle;\n",
       "    }\n",
       "\n",
       "    .dataframe tbody tr th {\n",
       "        vertical-align: top;\n",
       "    }\n",
       "\n",
       "    .dataframe thead th {\n",
       "        text-align: right;\n",
       "    }\n",
       "</style>\n",
       "<table border=\"1\" class=\"dataframe\">\n",
       "  <thead>\n",
       "    <tr style=\"text-align: right;\">\n",
       "      <th></th>\n",
       "      <th>country</th>\n",
       "      <th>measure</th>\n",
       "      <th>location</th>\n",
       "      <th>sex</th>\n",
       "      <th>age_sort</th>\n",
       "      <th>age</th>\n",
       "      <th>cause</th>\n",
       "      <th>year</th>\n",
       "      <th>val</th>\n",
       "    </tr>\n",
       "  </thead>\n",
       "  <tbody>\n",
       "    <tr>\n",
       "      <th>0</th>\n",
       "      <td>United Kingdom</td>\n",
       "      <td>YLLs (Years of Life Lost)</td>\n",
       "      <td>Wigan</td>\n",
       "      <td>Male</td>\n",
       "      <td>0</td>\n",
       "      <td>1 to 4</td>\n",
       "      <td>Diabetes mellitus</td>\n",
       "      <td>2010</td>\n",
       "      <td>2.403586</td>\n",
       "    </tr>\n",
       "    <tr>\n",
       "      <th>1</th>\n",
       "      <td>United Kingdom</td>\n",
       "      <td>YLLs (Years of Life Lost)</td>\n",
       "      <td>Wigan</td>\n",
       "      <td>Female</td>\n",
       "      <td>0</td>\n",
       "      <td>1 to 4</td>\n",
       "      <td>Diabetes mellitus</td>\n",
       "      <td>2010</td>\n",
       "      <td>3.287731</td>\n",
       "    </tr>\n",
       "    <tr>\n",
       "      <th>2</th>\n",
       "      <td>United Kingdom</td>\n",
       "      <td>YLLs (Years of Life Lost)</td>\n",
       "      <td>Wigan</td>\n",
       "      <td>Male</td>\n",
       "      <td>1</td>\n",
       "      <td>5 to 9</td>\n",
       "      <td>Diabetes mellitus</td>\n",
       "      <td>2010</td>\n",
       "      <td>1.983731</td>\n",
       "    </tr>\n",
       "    <tr>\n",
       "      <th>3</th>\n",
       "      <td>United Kingdom</td>\n",
       "      <td>YLLs (Years of Life Lost)</td>\n",
       "      <td>Wigan</td>\n",
       "      <td>Female</td>\n",
       "      <td>1</td>\n",
       "      <td>5 to 9</td>\n",
       "      <td>Diabetes mellitus</td>\n",
       "      <td>2010</td>\n",
       "      <td>2.037679</td>\n",
       "    </tr>\n",
       "    <tr>\n",
       "      <th>4</th>\n",
       "      <td>United Kingdom</td>\n",
       "      <td>YLLs (Years of Life Lost)</td>\n",
       "      <td>Wigan</td>\n",
       "      <td>Male</td>\n",
       "      <td>2</td>\n",
       "      <td>10 to 14</td>\n",
       "      <td>Diabetes mellitus</td>\n",
       "      <td>2010</td>\n",
       "      <td>2.203710</td>\n",
       "    </tr>\n",
       "  </tbody>\n",
       "</table>\n",
       "</div>"
      ],
      "text/plain": [
       "          country                    measure location     sex  age_sort  \\\n",
       "0  United Kingdom  YLLs (Years of Life Lost)    Wigan    Male         0   \n",
       "1  United Kingdom  YLLs (Years of Life Lost)    Wigan  Female         0   \n",
       "2  United Kingdom  YLLs (Years of Life Lost)    Wigan    Male         1   \n",
       "3  United Kingdom  YLLs (Years of Life Lost)    Wigan  Female         1   \n",
       "4  United Kingdom  YLLs (Years of Life Lost)    Wigan    Male         2   \n",
       "\n",
       "        age              cause  year       val  \n",
       "0    1 to 4  Diabetes mellitus  2010  2.403586  \n",
       "1    1 to 4  Diabetes mellitus  2010  3.287731  \n",
       "2    5 to 9  Diabetes mellitus  2010  1.983731  \n",
       "3    5 to 9  Diabetes mellitus  2010  2.037679  \n",
       "4  10 to 14  Diabetes mellitus  2010  2.203710  "
      ]
     },
     "execution_count": 54,
     "metadata": {},
     "output_type": "execute_result"
    }
   ],
   "source": [
    "df.head()"
   ]
  },
  {
   "cell_type": "code",
   "execution_count": 55,
   "id": "1cc1b35e",
   "metadata": {},
   "outputs": [],
   "source": [
    "df = df[df['country'].str.fullmatch('America')]"
   ]
  },
  {
   "cell_type": "code",
   "execution_count": 56,
   "id": "10fc3437",
   "metadata": {},
   "outputs": [
    {
     "data": {
      "text/plain": [
       "(77520, 9)"
      ]
     },
     "execution_count": 56,
     "metadata": {},
     "output_type": "execute_result"
    }
   ],
   "source": [
    "df.shape"
   ]
  },
  {
   "cell_type": "markdown",
   "id": "737804ad",
   "metadata": {},
   "source": [
    "### Look at distribution of deaths for all time data"
   ]
  },
  {
   "cell_type": "markdown",
   "id": "87ab2c50",
   "metadata": {},
   "source": [
    "#### Distribution for interpersonal violence (Deaths)"
   ]
  },
  {
   "cell_type": "code",
   "execution_count": 57,
   "id": "434f2539",
   "metadata": {},
   "outputs": [],
   "source": [
    "violence_deaths = df[df['measure'].str.fullmatch('Deaths')&\n",
    "          df['cause'].str.fullmatch('Interpersonal violence')]"
   ]
  },
  {
   "cell_type": "code",
   "execution_count": 58,
   "id": "6988eafc",
   "metadata": {},
   "outputs": [],
   "source": [
    "violence_deaths = violence_deaths.groupby(['location'], as_index=False).agg({'val':'mean'})"
   ]
  },
  {
   "cell_type": "markdown",
   "id": "5f211fea",
   "metadata": {},
   "source": [
    "#### Distribution of diabetes for all countries (deaths)"
   ]
  },
  {
   "cell_type": "code",
   "execution_count": 59,
   "id": "1307a2ae",
   "metadata": {},
   "outputs": [],
   "source": [
    "diabetes_deaths = df[df['measure'].str.fullmatch('Deaths')&\n",
    "          df['cause'].str.contains('Diabetes')]"
   ]
  },
  {
   "cell_type": "code",
   "execution_count": 60,
   "id": "a3f06008",
   "metadata": {},
   "outputs": [],
   "source": [
    "diabetes_deaths = diabetes_deaths.groupby(['location'], as_index=False).agg({'val':'mean'})"
   ]
  },
  {
   "cell_type": "markdown",
   "id": "f610a739",
   "metadata": {},
   "source": [
    "### Distributions of iv for all countries (YLLs)"
   ]
  },
  {
   "cell_type": "code",
   "execution_count": 61,
   "id": "80c006d9",
   "metadata": {},
   "outputs": [],
   "source": [
    "violence_ylls = df[df['measure'].str.contains('YLL')&\n",
    "          df['cause'].str.contains('violence')]"
   ]
  },
  {
   "cell_type": "code",
   "execution_count": 62,
   "id": "0ff332f9",
   "metadata": {},
   "outputs": [],
   "source": [
    "violence_ylls = violence_ylls.groupby(['location'], as_index=False).agg({'val':'mean'})"
   ]
  },
  {
   "cell_type": "markdown",
   "id": "35b4d2cb",
   "metadata": {},
   "source": [
    "#### Distribution of diabetes for all countries (YLL's)"
   ]
  },
  {
   "cell_type": "code",
   "execution_count": 63,
   "id": "6bb49c02",
   "metadata": {},
   "outputs": [],
   "source": [
    "diabetes_ylls = df[df['measure'].str.contains('YLL')&\n",
    "          df['cause'].str.contains('Diabetes')]"
   ]
  },
  {
   "cell_type": "code",
   "execution_count": 64,
   "id": "edda1d87",
   "metadata": {},
   "outputs": [],
   "source": [
    "diabetes_ylls = diabetes_ylls.groupby(['location'], as_index=False).agg({'val':'mean'})"
   ]
  },
  {
   "cell_type": "code",
   "execution_count": 65,
   "id": "ffc73c16",
   "metadata": {},
   "outputs": [
    {
     "ename": "NameError",
     "evalue": "name 'ax2' is not defined",
     "output_type": "error",
     "traceback": [
      "\u001b[1;31m---------------------------------------------------------------------------\u001b[0m",
      "\u001b[1;31mNameError\u001b[0m                                 Traceback (most recent call last)",
      "\u001b[1;32m<ipython-input-65-bfd4ee9773c2>\u001b[0m in \u001b[0;36m<module>\u001b[1;34m\u001b[0m\n\u001b[0;32m     19\u001b[0m \u001b[1;33m\u001b[0m\u001b[0m\n\u001b[0;32m     20\u001b[0m \u001b[1;31m# notch shape box plot\u001b[0m\u001b[1;33m\u001b[0m\u001b[1;33m\u001b[0m\u001b[1;33m\u001b[0m\u001b[0m\n\u001b[1;32m---> 21\u001b[1;33m bplot2 = ax2.boxplot(all_data,\n\u001b[0m\u001b[0;32m     22\u001b[0m                      \u001b[0mnotch\u001b[0m\u001b[1;33m=\u001b[0m\u001b[1;32mTrue\u001b[0m\u001b[1;33m,\u001b[0m  \u001b[1;31m# notch shape\u001b[0m\u001b[1;33m\u001b[0m\u001b[1;33m\u001b[0m\u001b[0m\n\u001b[0;32m     23\u001b[0m                      \u001b[0mvert\u001b[0m\u001b[1;33m=\u001b[0m\u001b[1;32mTrue\u001b[0m\u001b[1;33m,\u001b[0m  \u001b[1;31m# vertical box alignment\u001b[0m\u001b[1;33m\u001b[0m\u001b[1;33m\u001b[0m\u001b[0m\n",
      "\u001b[1;31mNameError\u001b[0m: name 'ax2' is not defined"
     ]
    },
    {
     "data": {
      "image/png": "[encoded data removed]",
      "text/plain": [
       "<Figure size 648x288 with 1 Axes>"
      ]
     },
     "metadata": {
      "needs_background": "light"
     },
     "output_type": "display_data"
    }
   ],
   "source": [
    "\n",
    "data1 = violence_deaths['val']\n",
    "data2 = violence_ylls['val']\n",
    "data3 = diabetes_deaths['val']\n",
    "data4 = diabetes_ylls['val']\n",
    "\n",
    "\n",
    "all_data = [data1, data2, data3, data4]\n",
    "labels = ['Death by violence', 'YLLs by violence','Death by Diabetes', 'YLLs by Diabetes']\n",
    "\n",
    "#labels = ['United Kindom', 'Japan', 'Indonesia', 'United States', 'Kenya', 'america', 'Brazil']\n",
    "fig, ax1 = plt.subplots(figsize=(9, 4))\n",
    "\n",
    "# rectangular box plot\n",
    "bplot1 = ax1.boxplot(all_data,\n",
    "                     vert=False,  # vertical box alignment\n",
    "                     patch_artist=True,  # fill with color\n",
    "                     labels=labels)  # will be used to label x-ticks\n",
    "ax1.set_title(\"Distribution of Deaths and YLL's within america\")\n",
    "\n",
    "# notch shape box plot\n",
    "bplot2 = ax2.boxplot(all_data,\n",
    "                     notch=True,  # notch shape\n",
    "                     vert=True,  # vertical box alignment\n",
    "                     patch_artist=True,  # fill with color\n",
    "                     labels=labels)  # will be used to label x-ticks\n",
    "ax2.set_title('Notched box plot')\n",
    "\n",
    "# fill with colors\n",
    "colors = ['pink', 'lightblue', 'lightgreen', 'red', 'orange', 'lightgreen', 'lightblue']\n",
    "for bplot in (bplot1, bplot2):\n",
    "    for patch, color in zip(bplot['boxes'], colors):\n",
    "        patch.set_facecolor(color)\n",
    "\n",
    "# adding horizontal grid lines\n",
    "for ax in [ax1, ax2]:\n",
    "    #ax.xaxis.grid(True)\n",
    "    ax.set_xlabel('Death per 100,000')\n",
    "    #ax.set_ylabel('Observed values')\n",
    "\n",
    "plt.show()"
   ]
  },
  {
   "cell_type": "markdown",
   "id": "38747ece",
   "metadata": {},
   "source": [
    "### Explore distributions of demographs"
   ]
  },
  {
   "cell_type": "markdown",
   "id": "e886d3f0",
   "metadata": {},
   "source": [
    "### location (deaths)"
   ]
  },
  {
   "cell_type": "code",
   "execution_count": 66,
   "id": "4b6969cf",
   "metadata": {},
   "outputs": [],
   "source": [
    "violence_location_deaths = violence_deaths.groupby(['location'], as_index=False).agg({'val':'mean'})"
   ]
  },
  {
   "cell_type": "code",
   "execution_count": 67,
   "id": "ed7d1528",
   "metadata": {},
   "outputs": [
    {
     "data": {
      "image/png": "[encoded data removed]",
      "text/plain": [
       "<Figure size 432x288 with 1 Axes>"
      ]
     },
     "metadata": {
      "needs_background": "light"
     },
     "output_type": "display_data"
    }
   ],
   "source": [
    "#This may be better to put at start\n",
    "violence_location_deaths.plot(x=\"location\", y=\"val\", kind=\"bar\")\n",
    "plt.show()"
   ]
  },
  {
   "cell_type": "code",
   "execution_count": null,
   "id": "adf39975",
   "metadata": {},
   "outputs": [],
   "source": []
  },
  {
   "cell_type": "code",
   "execution_count": 68,
   "id": "8fd77b27",
   "metadata": {},
   "outputs": [],
   "source": [
    "diabetes_location_deaths = diabetes_deaths.groupby(['location'], as_index=False).agg({'val':'mean'})"
   ]
  },
  {
   "cell_type": "code",
   "execution_count": 69,
   "id": "8b9de37a",
   "metadata": {},
   "outputs": [
    {
     "data": {
      "image/png": "[encoded data removed]",
      "text/plain": [
       "<Figure size 432x288 with 1 Axes>"
      ]
     },
     "metadata": {
      "needs_background": "light"
     },
     "output_type": "display_data"
    }
   ],
   "source": [
    "#This may be better to put at start\n",
    "diabetes_location_deaths.plot(x=\"location\", y=\"val\", kind=\"bar\")\n",
    "plt.show()"
   ]
  },
  {
   "cell_type": "code",
   "execution_count": null,
   "id": "debdc323",
   "metadata": {},
   "outputs": [],
   "source": []
  },
  {
   "cell_type": "code",
   "execution_count": null,
   "id": "b061b49e",
   "metadata": {},
   "outputs": [],
   "source": []
  },
  {
   "cell_type": "code",
   "execution_count": null,
   "id": "ec05e00e",
   "metadata": {},
   "outputs": [],
   "source": []
  },
  {
   "cell_type": "markdown",
   "id": "696d1d2c",
   "metadata": {},
   "source": [
    "### All violence age"
   ]
  },
  {
   "cell_type": "markdown",
   "id": "b3a3af2d",
   "metadata": {},
   "source": [
    "### Deaths"
   ]
  },
  {
   "cell_type": "code",
   "execution_count": 79,
   "id": "5af22dc6",
   "metadata": {},
   "outputs": [],
   "source": [
    "#lets try to make bar charts - first single then double\n",
    "violence_age_deaths = df[df['measure'].str.contains('Deaths')&\n",
    "          df['cause'].str.contains('violence')]"
   ]
  },
  {
   "cell_type": "code",
   "execution_count": 80,
   "id": "56388037",
   "metadata": {},
   "outputs": [],
   "source": [
    "violence_age_deaths = violence_age_deaths.groupby(['age_sort','age'], as_index=False).agg({'val':'mean'})"
   ]
  },
  {
   "cell_type": "code",
   "execution_count": 81,
   "id": "a8fd9ae5",
   "metadata": {},
   "outputs": [
    {
     "data": {
      "image/png": "[encoded data removed]",
      "text/plain": [
       "<Figure size 432x288 with 1 Axes>"
      ]
     },
     "metadata": {
      "needs_background": "light"
     },
     "output_type": "display_data"
    }
   ],
   "source": [
    "#america_violence_age_deaths.plot(x=\"age\", y=[\"A\", \"B\", \"C\"], kind=\"bar\")\n",
    "violence_age_deaths.plot(x=\"age\", y=\"val\", kind=\"bar\")\n",
    "plt.show()"
   ]
  },
  {
   "cell_type": "markdown",
   "id": "ac6718de",
   "metadata": {},
   "source": [
    "### YLL"
   ]
  },
  {
   "cell_type": "code",
   "execution_count": 82,
   "id": "9e3f9d06",
   "metadata": {},
   "outputs": [],
   "source": [
    "#lets try to make bar charts - first single then double\n",
    "violence_age_ylls = df[df['measure'].str.contains('YLL')&\n",
    "          df['cause'].str.contains('violence')]"
   ]
  },
  {
   "cell_type": "code",
   "execution_count": 83,
   "id": "c5cd6798",
   "metadata": {},
   "outputs": [],
   "source": [
    "violence_age_ylls = violence_age_ylls.groupby(['age_sort','age'], as_index=False).agg({'val':'mean'})"
   ]
  },
  {
   "cell_type": "code",
   "execution_count": 84,
   "id": "755e34ab",
   "metadata": {},
   "outputs": [
    {
     "data": {
      "image/png": "[encoded data removed]",
      "text/plain": [
       "<Figure size 432x288 with 1 Axes>"
      ]
     },
     "metadata": {
      "needs_background": "light"
     },
     "output_type": "display_data"
    }
   ],
   "source": [
    "#america_violence_age_ylls.plot(x=\"age\", y=[\"A\", \"B\", \"C\"], kind=\"bar\")\n",
    "violence_age_ylls.plot(x=\"age\", y=\"val\", kind=\"bar\")\n",
    "plt.show()"
   ]
  },
  {
   "cell_type": "markdown",
   "id": "bfaa6664",
   "metadata": {},
   "source": [
    "### Diabetes"
   ]
  },
  {
   "cell_type": "markdown",
   "id": "75a3c067",
   "metadata": {},
   "source": [
    "### Deaths"
   ]
  },
  {
   "cell_type": "code",
   "execution_count": 85,
   "id": "72086ab6",
   "metadata": {},
   "outputs": [],
   "source": [
    "diabetes_age_deaths = df[df['measure'].str.contains('Deaths')&\n",
    "          df['cause'].str.contains('Diabetes')]"
   ]
  },
  {
   "cell_type": "code",
   "execution_count": 86,
   "id": "5a68a39f",
   "metadata": {},
   "outputs": [],
   "source": [
    "diabetes_age_deaths = diabetes_age_deaths.groupby(['age_sort','age'], as_index=False).agg({'val':'mean'})"
   ]
  },
  {
   "cell_type": "code",
   "execution_count": 87,
   "id": "0d8ffa1b",
   "metadata": {},
   "outputs": [
    {
     "data": {
      "image/png": "[encoded data removed]",
      "text/plain": [
       "<Figure size 432x288 with 1 Axes>"
      ]
     },
     "metadata": {
      "needs_background": "light"
     },
     "output_type": "display_data"
    }
   ],
   "source": [
    "diabetes_age_deaths.plot(x=\"age\", y=\"val\", kind=\"bar\")\n",
    "plt.show()"
   ]
  },
  {
   "cell_type": "markdown",
   "id": "9579a112",
   "metadata": {},
   "source": [
    "### YLLs"
   ]
  },
  {
   "cell_type": "code",
   "execution_count": 88,
   "id": "2beac11b",
   "metadata": {},
   "outputs": [],
   "source": [
    "diabetes_age_ylls = df[df['measure'].str.contains('YLL')&\n",
    "          df['cause'].str.contains('Diabetes')]"
   ]
  },
  {
   "cell_type": "code",
   "execution_count": 89,
   "id": "97a7e9f8",
   "metadata": {},
   "outputs": [],
   "source": [
    "diabetes_age_ylls = diabetes_age_ylls.groupby(['age_sort','age'], as_index=False).agg({'val':'mean'})"
   ]
  },
  {
   "cell_type": "code",
   "execution_count": 90,
   "id": "0b1e8cb3",
   "metadata": {},
   "outputs": [
    {
     "data": {
      "image/png": "[encoded data removed]",
      "text/plain": [
       "<Figure size 432x288 with 1 Axes>"
      ]
     },
     "metadata": {
      "needs_background": "light"
     },
     "output_type": "display_data"
    }
   ],
   "source": [
    "diabetes_age_ylls.plot(x=\"age\", y=\"val\", kind=\"bar\")\n",
    "plt.show()"
   ]
  },
  {
   "cell_type": "code",
   "execution_count": 91,
   "id": "a4ee5cd6",
   "metadata": {},
   "outputs": [],
   "source": [
    "#You can now put all these bar charts together at scale - show the harm"
   ]
  },
  {
   "cell_type": "code",
   "execution_count": 92,
   "id": "962d073b",
   "metadata": {},
   "outputs": [],
   "source": [
    "#What to do/say about locations?"
   ]
  },
  {
   "cell_type": "markdown",
   "id": "6abc5ff8",
   "metadata": {},
   "source": [
    "## Get ratios of YLLs to deaths for both IV and diabetes "
   ]
  },
  {
   "cell_type": "code",
   "execution_count": 93,
   "id": "adbb4ba6",
   "metadata": {},
   "outputs": [],
   "source": [
    "#Get average age of death and average YLL for diabetes and get ratio - do the same for interpersonal violence"
   ]
  },
  {
   "cell_type": "code",
   "execution_count": 94,
   "id": "fc98d76b",
   "metadata": {},
   "outputs": [
    {
     "data": {
      "text/plain": [
       "58.22491878538321"
      ]
     },
     "execution_count": 94,
     "metadata": {},
     "output_type": "execute_result"
    }
   ],
   "source": [
    "mean_diabetes_deaths = df.groupby(['measure', 'cause'], as_index=False).agg({'val':'mean'})\n",
    "\n",
    "mean_diabetes_deaths = mean_diabetes_deaths[mean_diabetes_deaths['cause'].str.contains('Diabetes')]\n",
    "mean_diabetes_deaths = mean_diabetes_deaths[mean_diabetes_deaths['measure'].str.contains('Deaths')]\n",
    "mean_diabetes_deaths = mean_diabetes_deaths['val'].iloc[0]\n",
    "mean_diabetes_deaths"
   ]
  },
  {
   "cell_type": "code",
   "execution_count": 95,
   "id": "3c784f8c",
   "metadata": {},
   "outputs": [
    {
     "data": {
      "text/plain": [
       "758.5618149048013"
      ]
     },
     "execution_count": 95,
     "metadata": {},
     "output_type": "execute_result"
    }
   ],
   "source": [
    "mean_diabetes_YLLs = df.groupby(['measure', 'cause'], as_index=False).agg({'val':'mean'})\n",
    "\n",
    "mean_diabetes_YLLs = mean_diabetes_YLLs[mean_diabetes_YLLs['cause'].str.contains('Diabetes')]\n",
    "mean_diabetes_YLLs = mean_diabetes_YLLs[mean_diabetes_YLLs['measure'].str.contains('YLLs')]\n",
    "mean_diabetes_YLLs = mean_diabetes_YLLs['val'].iloc[0]\n",
    "mean_diabetes_YLLs"
   ]
  },
  {
   "cell_type": "code",
   "execution_count": 96,
   "id": "8dfcc6d4",
   "metadata": {},
   "outputs": [
    {
     "data": {
      "text/plain": [
       "13.028130064051386"
      ]
     },
     "execution_count": 96,
     "metadata": {},
     "output_type": "execute_result"
    }
   ],
   "source": [
    "diabetes_ratio = mean_diabetes_YLLs/mean_diabetes_deaths\n",
    "diabetes_ratio"
   ]
  },
  {
   "cell_type": "code",
   "execution_count": null,
   "id": "459f5c15",
   "metadata": {},
   "outputs": [],
   "source": []
  },
  {
   "cell_type": "code",
   "execution_count": 97,
   "id": "46eb71e9",
   "metadata": {},
   "outputs": [
    {
     "data": {
      "text/plain": [
       "4.40209048896233"
      ]
     },
     "execution_count": 97,
     "metadata": {},
     "output_type": "execute_result"
    }
   ],
   "source": [
    "mean_violence_deaths = df.groupby(['measure', 'cause'], as_index=False).agg({'val':'mean'})\n",
    "\n",
    "mean_violence_deaths = mean_violence_deaths[mean_violence_deaths['cause'].str.contains('violence')]\n",
    "mean_violence_deaths = mean_violence_deaths[mean_violence_deaths['measure'].str.contains('Deaths')]\n",
    "mean_violence_deaths = mean_violence_deaths['val'].iloc[0]\n",
    "mean_violence_deaths"
   ]
  },
  {
   "cell_type": "code",
   "execution_count": 98,
   "id": "932003d2",
   "metadata": {},
   "outputs": [
    {
     "data": {
      "text/plain": [
       "228.34718036637378"
      ]
     },
     "execution_count": 98,
     "metadata": {},
     "output_type": "execute_result"
    }
   ],
   "source": [
    "mean_violence_YLLs = df.groupby(['measure', 'cause'], as_index=False).agg({'val':'mean'})\n",
    "\n",
    "mean_violence_YLLs = mean_violence_YLLs[mean_violence_YLLs['cause'].str.contains('violence')]\n",
    "mean_violence_YLLs = mean_violence_YLLs[mean_violence_YLLs['measure'].str.contains('YLLs')]\n",
    "mean_violence_YLLs = mean_violence_YLLs['val'].iloc[0]\n",
    "mean_violence_YLLs"
   ]
  },
  {
   "cell_type": "code",
   "execution_count": 99,
   "id": "f8f76352",
   "metadata": {},
   "outputs": [
    {
     "data": {
      "text/plain": [
       "51.87244127282815"
      ]
     },
     "execution_count": 99,
     "metadata": {},
     "output_type": "execute_result"
    }
   ],
   "source": [
    "violence_ratio = mean_violence_YLLs/mean_violence_deaths\n",
    "violence_ratio"
   ]
  },
  {
   "cell_type": "code",
   "execution_count": 100,
   "id": "2757e743",
   "metadata": {},
   "outputs": [
    {
     "data": {
      "text/plain": [
       "3.9815722607774813"
      ]
     },
     "execution_count": 100,
     "metadata": {},
     "output_type": "execute_result"
    }
   ],
   "source": [
    "#how much bigger is th violence ration to the diabetes ratio?\n",
    "violence_ratio/diabetes_ratio\n",
    "#We can see that the years of life lost for iv is greater in proportion to diabetes"
   ]
  },
  {
   "cell_type": "code",
   "execution_count": null,
   "id": "a386f5a4",
   "metadata": {},
   "outputs": [],
   "source": []
  }
 ],
 "metadata": {
  "kernelspec": {
   "display_name": "Python 3",
   "language": "python",
   "name": "python3"
  },
  "language_info": {
   "codemirror_mode": {
    "name": "ipython",
    "version": 3
   },
   "file_extension": ".py",
   "mimetype": "text/x-python",
   "name": "python",
   "nbconvert_exporter": "python",
   "pygments_lexer": "ipython3",
   "version": "3.8.8"
  }
 },
 "nbformat": 4,
 "nbformat_minor": 5
}
