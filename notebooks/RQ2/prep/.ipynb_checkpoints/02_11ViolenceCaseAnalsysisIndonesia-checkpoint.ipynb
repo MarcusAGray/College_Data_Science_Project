{
 "cells": [
  {
   "cell_type": "code",
   "execution_count": 1,
   "id": "ba8dc9c8",
   "metadata": {},
   "outputs": [
    {
     "data": {
      "text/plain": [
       "'\\nBasic processing for uk data sets\\nLoads;  \\n\\namerica.csv\\nbrazil.csv\\n\\nProduces;\\ndf.csv\\n'"
      ]
     },
     "execution_count": 1,
     "metadata": {},
     "output_type": "execute_result"
    }
   ],
   "source": [
    "\"\"\"\n",
    "Basic processing for uk data sets\n",
    "Loads;  \n",
    "\n",
    "america.csv\n",
    "brazil.csv\n",
    "\n",
    "Produces;\n",
    "df.csv\n",
    "\"\"\""
   ]
  },
  {
   "cell_type": "markdown",
   "id": "508a0088",
   "metadata": {},
   "source": [
    "# Setup"
   ]
  },
  {
   "cell_type": "markdown",
   "id": "a34c07a8",
   "metadata": {},
   "source": [
    "## Imports"
   ]
  },
  {
   "cell_type": "code",
   "execution_count": 2,
   "id": "a3a3e9d4",
   "metadata": {},
   "outputs": [],
   "source": [
    "import pandas as pd\n",
    "import numpy as np\n",
    "import matplotlib.pyplot as plt"
   ]
  },
  {
   "cell_type": "markdown",
   "id": "72b0fc72",
   "metadata": {},
   "source": [
    "## Parameters"
   ]
  },
  {
   "cell_type": "code",
   "execution_count": null,
   "id": "4c957663",
   "metadata": {},
   "outputs": [],
   "source": []
  },
  {
   "cell_type": "markdown",
   "id": "3019df86",
   "metadata": {},
   "source": [
    "Configuration"
   ]
  },
  {
   "cell_type": "code",
   "execution_count": null,
   "id": "843b4dfd",
   "metadata": {},
   "outputs": [],
   "source": []
  },
  {
   "cell_type": "markdown",
   "id": "72166325",
   "metadata": {},
   "source": [
    "### Loading the datasets"
   ]
  },
  {
   "cell_type": "code",
   "execution_count": 3,
   "id": "0f196dcd",
   "metadata": {},
   "outputs": [],
   "source": [
    "df = pd.read_csv(\"../../data/processed/df.csv\")"
   ]
  },
  {
   "cell_type": "code",
   "execution_count": 4,
   "id": "18307de2",
   "metadata": {},
   "outputs": [],
   "source": [
    "df = df[df['country'].str.fullmatch('Indonesia')]"
   ]
  },
  {
   "cell_type": "code",
   "execution_count": 5,
   "id": "5d8c4683",
   "metadata": {},
   "outputs": [
    {
     "data": {
      "text/html": [
       "<div>\n",
       "<style scoped>\n",
       "    .dataframe tbody tr th:only-of-type {\n",
       "        vertical-align: middle;\n",
       "    }\n",
       "\n",
       "    .dataframe tbody tr th {\n",
       "        vertical-align: top;\n",
       "    }\n",
       "\n",
       "    .dataframe thead th {\n",
       "        text-align: right;\n",
       "    }\n",
       "</style>\n",
       "<table border=\"1\" class=\"dataframe\">\n",
       "  <thead>\n",
       "    <tr style=\"text-align: right;\">\n",
       "      <th></th>\n",
       "      <th>country</th>\n",
       "      <th>measure</th>\n",
       "      <th>location</th>\n",
       "      <th>sex</th>\n",
       "      <th>age_sort</th>\n",
       "      <th>age</th>\n",
       "      <th>cause</th>\n",
       "      <th>year</th>\n",
       "      <th>val</th>\n",
       "    </tr>\n",
       "  </thead>\n",
       "  <tbody>\n",
       "    <tr>\n",
       "      <th>340480</th>\n",
       "      <td>Indonesia</td>\n",
       "      <td>Deaths</td>\n",
       "      <td>Central Sulawesi</td>\n",
       "      <td>Male</td>\n",
       "      <td>0</td>\n",
       "      <td>1 to 4</td>\n",
       "      <td>Interpersonal violence</td>\n",
       "      <td>2010</td>\n",
       "      <td>0.223045</td>\n",
       "    </tr>\n",
       "    <tr>\n",
       "      <th>340481</th>\n",
       "      <td>Indonesia</td>\n",
       "      <td>Deaths</td>\n",
       "      <td>Central Sulawesi</td>\n",
       "      <td>Female</td>\n",
       "      <td>0</td>\n",
       "      <td>1 to 4</td>\n",
       "      <td>Interpersonal violence</td>\n",
       "      <td>2010</td>\n",
       "      <td>0.561745</td>\n",
       "    </tr>\n",
       "    <tr>\n",
       "      <th>340482</th>\n",
       "      <td>Indonesia</td>\n",
       "      <td>Deaths</td>\n",
       "      <td>Central Sulawesi</td>\n",
       "      <td>Male</td>\n",
       "      <td>1</td>\n",
       "      <td>5 to 9</td>\n",
       "      <td>Interpersonal violence</td>\n",
       "      <td>2010</td>\n",
       "      <td>0.097282</td>\n",
       "    </tr>\n",
       "    <tr>\n",
       "      <th>340483</th>\n",
       "      <td>Indonesia</td>\n",
       "      <td>Deaths</td>\n",
       "      <td>Central Sulawesi</td>\n",
       "      <td>Female</td>\n",
       "      <td>1</td>\n",
       "      <td>5 to 9</td>\n",
       "      <td>Interpersonal violence</td>\n",
       "      <td>2010</td>\n",
       "      <td>0.443626</td>\n",
       "    </tr>\n",
       "    <tr>\n",
       "      <th>340484</th>\n",
       "      <td>Indonesia</td>\n",
       "      <td>Deaths</td>\n",
       "      <td>Central Sulawesi</td>\n",
       "      <td>Male</td>\n",
       "      <td>2</td>\n",
       "      <td>10 to 14</td>\n",
       "      <td>Interpersonal violence</td>\n",
       "      <td>2010</td>\n",
       "      <td>0.100504</td>\n",
       "    </tr>\n",
       "  </tbody>\n",
       "</table>\n",
       "</div>"
      ],
      "text/plain": [
       "          country measure          location     sex  age_sort       age  \\\n",
       "340480  Indonesia  Deaths  Central Sulawesi    Male         0    1 to 4   \n",
       "340481  Indonesia  Deaths  Central Sulawesi  Female         0    1 to 4   \n",
       "340482  Indonesia  Deaths  Central Sulawesi    Male         1    5 to 9   \n",
       "340483  Indonesia  Deaths  Central Sulawesi  Female         1    5 to 9   \n",
       "340484  Indonesia  Deaths  Central Sulawesi    Male         2  10 to 14   \n",
       "\n",
       "                         cause  year       val  \n",
       "340480  Interpersonal violence  2010  0.223045  \n",
       "340481  Interpersonal violence  2010  0.561745  \n",
       "340482  Interpersonal violence  2010  0.097282  \n",
       "340483  Interpersonal violence  2010  0.443626  \n",
       "340484  Interpersonal violence  2010  0.100504  "
      ]
     },
     "execution_count": 5,
     "metadata": {},
     "output_type": "execute_result"
    }
   ],
   "source": [
    "df.head()"
   ]
  },
  {
   "cell_type": "code",
   "execution_count": 6,
   "id": "10fc3437",
   "metadata": {},
   "outputs": [
    {
     "data": {
      "text/plain": [
       "(51680, 9)"
      ]
     },
     "execution_count": 6,
     "metadata": {},
     "output_type": "execute_result"
    }
   ],
   "source": [
    "df.shape"
   ]
  },
  {
   "cell_type": "code",
   "execution_count": 7,
   "id": "c2274329",
   "metadata": {},
   "outputs": [],
   "source": [
    "#look for demographs with the highest rates of violence - is the harm from violence greater than overall diabetes avg? 2)the harm from diabetes of that region and 2) higher than the harm nationwide?\n",
    "#Which of these demographs have a high consistency (across time and country)?\n",
    "\n",
    "#How many groups are there proportionally that should be more concerned of violent crime than diabetes?"
   ]
  },
  {
   "cell_type": "markdown",
   "id": "1560c1bd",
   "metadata": {},
   "source": [
    "### Calculate overall diabetes average"
   ]
  },
  {
   "cell_type": "code",
   "execution_count": 8,
   "id": "dbd71a2f",
   "metadata": {},
   "outputs": [
    {
     "data": {
      "text/plain": [
       "188.8820799753556"
      ]
     },
     "execution_count": 8,
     "metadata": {},
     "output_type": "execute_result"
    }
   ],
   "source": [
    "overall_diabetes_death_avg = df[df['measure'].str.contains('Deaths') &\n",
    "                 df['cause'].str.contains('Diabetes')]\n",
    "overall_diabetes_death_avg = overall_diabetes_death_avg['val'].mean()\n",
    "overall_diabetes_death_avg  "
   ]
  },
  {
   "cell_type": "markdown",
   "id": "755f55ed",
   "metadata": {},
   "source": [
    "### Create table of demographs with homicide rate higher than diabetes average"
   ]
  },
  {
   "cell_type": "code",
   "execution_count": 9,
   "id": "db2d024d",
   "metadata": {},
   "outputs": [
    {
     "data": {
      "text/plain": [
       "(0, 9)"
      ]
     },
     "execution_count": 9,
     "metadata": {},
     "output_type": "execute_result"
    }
   ],
   "source": [
    "#get rows with higher homicide rate than overall_diabetes_avg\n",
    "high_violence_death_rate_demos = df[df['measure'].str.contains('Deaths') &\n",
    "                  df['cause'].str.contains('Interpersonal violence')]\n",
    "\n",
    "high_violence_death_rate_demos = high_violence_death_rate_demos[high_violence_death_rate_demos['val'] > overall_diabetes_death_avg]\n",
    "high_violence_death_rate_demos = high_violence_death_rate_demos.sort_values(by=['val'], ascending=False)\n",
    "high_violence_death_rate_demos.shape"
   ]
  },
  {
   "cell_type": "markdown",
   "id": "c9a4a1b9",
   "metadata": {},
   "source": [
    "No sub demographs!"
   ]
  },
  {
   "cell_type": "markdown",
   "id": "caf315f8",
   "metadata": {},
   "source": [
    "## YLL rate Exploration"
   ]
  },
  {
   "cell_type": "markdown",
   "id": "956a4b23",
   "metadata": {},
   "source": [
    "### Calculate overall diabetes average for YLLs"
   ]
  },
  {
   "cell_type": "code",
   "execution_count": 14,
   "id": "1a1d3ec9",
   "metadata": {},
   "outputs": [
    {
     "data": {
      "text/plain": [
       "2953.237946088368"
      ]
     },
     "execution_count": 14,
     "metadata": {},
     "output_type": "execute_result"
    }
   ],
   "source": [
    "overall_diabetes_yll_avg = df[df['measure'].str.contains('YLL') &\n",
    "                 df['cause'].str.contains('Diabetes')]\n",
    "overall_diabetes_yll_avg = overall_diabetes_yll_avg['val'].mean()\n",
    "overall_diabetes_yll_avg  "
   ]
  },
  {
   "cell_type": "markdown",
   "id": "0cfac71b",
   "metadata": {},
   "source": [
    "### Create table of demographs with higher homicide rate"
   ]
  },
  {
   "cell_type": "code",
   "execution_count": 15,
   "id": "5d4f6f07",
   "metadata": {},
   "outputs": [
    {
     "data": {
      "text/plain": [
       "(0, 9)"
      ]
     },
     "execution_count": 15,
     "metadata": {},
     "output_type": "execute_result"
    }
   ],
   "source": [
    "#get rows with higher homicide rate than overall_diabetes_avg\n",
    "high_violence_yll_demos = df[df['measure'].str.contains('YLL') &\n",
    "                  df['cause'].str.contains('Interpersonal violence')]\n",
    "\n",
    "high_violence_yll_demos = high_violence_yll_demos[high_violence_yll_demos['val'] > overall_diabetes_yll_avg]\n",
    "high_violence_yll_demos = high_violence_yll_demos.sort_values(by=['val'], ascending=False)\n",
    "high_violence_yll_demos.shape"
   ]
  },
  {
   "cell_type": "markdown",
   "id": "d0ba55f7",
   "metadata": {},
   "source": [
    "No sub demographs!"
   ]
  }
 ],
 "metadata": {
  "kernelspec": {
   "display_name": "Python 3",
   "language": "python",
   "name": "python3"
  },
  "language_info": {
   "codemirror_mode": {
    "name": "ipython",
    "version": 3
   },
   "file_extension": ".py",
   "mimetype": "text/x-python",
   "name": "python",
   "nbconvert_exporter": "python",
   "pygments_lexer": "ipython3",
   "version": "3.8.8"
  }
 },
 "nbformat": 4,
 "nbformat_minor": 5
}
