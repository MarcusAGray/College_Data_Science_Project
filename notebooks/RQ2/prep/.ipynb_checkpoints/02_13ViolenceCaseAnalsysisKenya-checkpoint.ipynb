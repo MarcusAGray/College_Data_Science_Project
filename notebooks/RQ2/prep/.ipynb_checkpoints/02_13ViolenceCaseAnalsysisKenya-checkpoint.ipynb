{
 "cells": [
  {
   "cell_type": "code",
   "execution_count": 1,
   "id": "ba8dc9c8",
   "metadata": {},
   "outputs": [
    {
     "data": {
      "text/plain": [
       "'\\nBasic processing for uk data sets\\nLoads;  \\n\\namerica.csv\\nbrazil.csv\\n\\nProduces;\\ndf.csv\\n'"
      ]
     },
     "execution_count": 1,
     "metadata": {},
     "output_type": "execute_result"
    }
   ],
   "source": [
    "\"\"\"\n",
    "Basic processing for uk data sets\n",
    "Loads;  \n",
    "\n",
    "america.csv\n",
    "brazil.csv\n",
    "\n",
    "Produces;\n",
    "df.csv\n",
    "\"\"\""
   ]
  },
  {
   "cell_type": "markdown",
   "id": "508a0088",
   "metadata": {},
   "source": [
    "# Setup"
   ]
  },
  {
   "cell_type": "markdown",
   "id": "a34c07a8",
   "metadata": {},
   "source": [
    "## Imports"
   ]
  },
  {
   "cell_type": "code",
   "execution_count": 2,
   "id": "a3a3e9d4",
   "metadata": {},
   "outputs": [],
   "source": [
    "import pandas as pd\n",
    "import numpy as np\n",
    "import matplotlib.pyplot as plt"
   ]
  },
  {
   "cell_type": "markdown",
   "id": "72b0fc72",
   "metadata": {},
   "source": [
    "## Parameters"
   ]
  },
  {
   "cell_type": "code",
   "execution_count": null,
   "id": "4c957663",
   "metadata": {},
   "outputs": [],
   "source": []
  },
  {
   "cell_type": "markdown",
   "id": "3019df86",
   "metadata": {},
   "source": [
    "Configuration"
   ]
  },
  {
   "cell_type": "code",
   "execution_count": null,
   "id": "843b4dfd",
   "metadata": {},
   "outputs": [],
   "source": []
  },
  {
   "cell_type": "markdown",
   "id": "72166325",
   "metadata": {},
   "source": [
    "### Loading the datasets"
   ]
  },
  {
   "cell_type": "code",
   "execution_count": 3,
   "id": "0f196dcd",
   "metadata": {},
   "outputs": [],
   "source": [
    "df = pd.read_csv(\"../../data/processed/df.csv\")"
   ]
  },
  {
   "cell_type": "code",
   "execution_count": 4,
   "id": "18307de2",
   "metadata": {},
   "outputs": [],
   "source": [
    "df = df[df['country'].str.fullmatch('Kenya')]"
   ]
  },
  {
   "cell_type": "code",
   "execution_count": 5,
   "id": "5d8c4683",
   "metadata": {},
   "outputs": [
    {
     "data": {
      "text/html": [
       "<div>\n",
       "<style scoped>\n",
       "    .dataframe tbody tr th:only-of-type {\n",
       "        vertical-align: middle;\n",
       "    }\n",
       "\n",
       "    .dataframe tbody tr th {\n",
       "        vertical-align: top;\n",
       "    }\n",
       "\n",
       "    .dataframe thead th {\n",
       "        text-align: right;\n",
       "    }\n",
       "</style>\n",
       "<table border=\"1\" class=\"dataframe\">\n",
       "  <thead>\n",
       "    <tr style=\"text-align: right;\">\n",
       "      <th></th>\n",
       "      <th>country</th>\n",
       "      <th>measure</th>\n",
       "      <th>location</th>\n",
       "      <th>sex</th>\n",
       "      <th>age_sort</th>\n",
       "      <th>age</th>\n",
       "      <th>cause</th>\n",
       "      <th>year</th>\n",
       "      <th>val</th>\n",
       "    </tr>\n",
       "  </thead>\n",
       "  <tbody>\n",
       "    <tr>\n",
       "      <th>445360</th>\n",
       "      <td>Kenya</td>\n",
       "      <td>Deaths</td>\n",
       "      <td>Machakos</td>\n",
       "      <td>Male</td>\n",
       "      <td>0</td>\n",
       "      <td>1 to 4</td>\n",
       "      <td>Interpersonal violence</td>\n",
       "      <td>2010</td>\n",
       "      <td>0.588581</td>\n",
       "    </tr>\n",
       "    <tr>\n",
       "      <th>445361</th>\n",
       "      <td>Kenya</td>\n",
       "      <td>Deaths</td>\n",
       "      <td>Machakos</td>\n",
       "      <td>Female</td>\n",
       "      <td>0</td>\n",
       "      <td>1 to 4</td>\n",
       "      <td>Interpersonal violence</td>\n",
       "      <td>2010</td>\n",
       "      <td>0.419151</td>\n",
       "    </tr>\n",
       "    <tr>\n",
       "      <th>445362</th>\n",
       "      <td>Kenya</td>\n",
       "      <td>Deaths</td>\n",
       "      <td>Machakos</td>\n",
       "      <td>Male</td>\n",
       "      <td>1</td>\n",
       "      <td>5 to 9</td>\n",
       "      <td>Interpersonal violence</td>\n",
       "      <td>2010</td>\n",
       "      <td>0.468131</td>\n",
       "    </tr>\n",
       "    <tr>\n",
       "      <th>445363</th>\n",
       "      <td>Kenya</td>\n",
       "      <td>Deaths</td>\n",
       "      <td>Machakos</td>\n",
       "      <td>Female</td>\n",
       "      <td>1</td>\n",
       "      <td>5 to 9</td>\n",
       "      <td>Interpersonal violence</td>\n",
       "      <td>2010</td>\n",
       "      <td>0.345402</td>\n",
       "    </tr>\n",
       "    <tr>\n",
       "      <th>445364</th>\n",
       "      <td>Kenya</td>\n",
       "      <td>Deaths</td>\n",
       "      <td>Machakos</td>\n",
       "      <td>Male</td>\n",
       "      <td>2</td>\n",
       "      <td>10 to 14</td>\n",
       "      <td>Interpersonal violence</td>\n",
       "      <td>2010</td>\n",
       "      <td>1.206253</td>\n",
       "    </tr>\n",
       "  </tbody>\n",
       "</table>\n",
       "</div>"
      ],
      "text/plain": [
       "       country measure  location     sex  age_sort       age  \\\n",
       "445360   Kenya  Deaths  Machakos    Male         0    1 to 4   \n",
       "445361   Kenya  Deaths  Machakos  Female         0    1 to 4   \n",
       "445362   Kenya  Deaths  Machakos    Male         1    5 to 9   \n",
       "445363   Kenya  Deaths  Machakos  Female         1    5 to 9   \n",
       "445364   Kenya  Deaths  Machakos    Male         2  10 to 14   \n",
       "\n",
       "                         cause  year       val  \n",
       "445360  Interpersonal violence  2010  0.588581  \n",
       "445361  Interpersonal violence  2010  0.419151  \n",
       "445362  Interpersonal violence  2010  0.468131  \n",
       "445363  Interpersonal violence  2010  0.345402  \n",
       "445364  Interpersonal violence  2010  1.206253  "
      ]
     },
     "execution_count": 5,
     "metadata": {},
     "output_type": "execute_result"
    }
   ],
   "source": [
    "df.head()"
   ]
  },
  {
   "cell_type": "code",
   "execution_count": 6,
   "id": "10fc3437",
   "metadata": {},
   "outputs": [
    {
     "data": {
      "text/plain": [
       "(71440, 9)"
      ]
     },
     "execution_count": 6,
     "metadata": {},
     "output_type": "execute_result"
    }
   ],
   "source": [
    "df.shape"
   ]
  },
  {
   "cell_type": "code",
   "execution_count": 7,
   "id": "c2274329",
   "metadata": {},
   "outputs": [],
   "source": [
    "#look for demographs with the highest rates of violence - is the harm from violence greater than overall diabetes avg? 2)the harm from diabetes of that region and 2) higher than the harm nationwide?\n",
    "#Which of these demographs have a high consistency (across time and country)?\n",
    "\n",
    "#How many groups are there proportionally that should be more concerned of violent crime than diabetes?"
   ]
  },
  {
   "cell_type": "markdown",
   "id": "1560c1bd",
   "metadata": {},
   "source": [
    "### Calculate overall diabetes average"
   ]
  },
  {
   "cell_type": "code",
   "execution_count": 8,
   "id": "dbd71a2f",
   "metadata": {},
   "outputs": [
    {
     "data": {
      "text/plain": [
       "146.82772954939986"
      ]
     },
     "execution_count": 8,
     "metadata": {},
     "output_type": "execute_result"
    }
   ],
   "source": [
    "overall_diabetes_death_avg = df[df['measure'].str.contains('Deaths') &\n",
    "                 df['cause'].str.contains('Diabetes')]\n",
    "overall_diabetes_death_avg = overall_diabetes_death_avg['val'].mean()\n",
    "overall_diabetes_death_avg  "
   ]
  },
  {
   "cell_type": "markdown",
   "id": "755f55ed",
   "metadata": {},
   "source": [
    "### Create table of demographs with homicide rate higher than diabetes average"
   ]
  },
  {
   "cell_type": "code",
   "execution_count": 9,
   "id": "db2d024d",
   "metadata": {},
   "outputs": [
    {
     "data": {
      "text/plain": [
       "(8, 9)"
      ]
     },
     "execution_count": 9,
     "metadata": {},
     "output_type": "execute_result"
    }
   ],
   "source": [
    "#get rows with higher homicide rate than overall_diabetes_avg\n",
    "high_violence_death_rate_demos = df[df['measure'].str.contains('Deaths') &\n",
    "                  df['cause'].str.contains('Interpersonal violence')]\n",
    "\n",
    "high_violence_death_rate_demos = high_violence_death_rate_demos[high_violence_death_rate_demos['val'] > overall_diabetes_death_avg]\n",
    "high_violence_death_rate_demos = high_violence_death_rate_demos.sort_values(by=['val'], ascending=False)\n",
    "high_violence_death_rate_demos.shape"
   ]
  },
  {
   "cell_type": "code",
   "execution_count": 10,
   "id": "1af9cd18",
   "metadata": {},
   "outputs": [
    {
     "data": {
      "text/html": [
       "<div>\n",
       "<style scoped>\n",
       "    .dataframe tbody tr th:only-of-type {\n",
       "        vertical-align: middle;\n",
       "    }\n",
       "\n",
       "    .dataframe tbody tr th {\n",
       "        vertical-align: top;\n",
       "    }\n",
       "\n",
       "    .dataframe thead th {\n",
       "        text-align: right;\n",
       "    }\n",
       "</style>\n",
       "<table border=\"1\" class=\"dataframe\">\n",
       "  <thead>\n",
       "    <tr style=\"text-align: right;\">\n",
       "      <th></th>\n",
       "      <th>country</th>\n",
       "      <th>measure</th>\n",
       "      <th>location</th>\n",
       "      <th>sex</th>\n",
       "      <th>age_sort</th>\n",
       "      <th>age</th>\n",
       "      <th>cause</th>\n",
       "      <th>year</th>\n",
       "      <th>val</th>\n",
       "    </tr>\n",
       "  </thead>\n",
       "  <tbody>\n",
       "    <tr>\n",
       "      <th>447992</th>\n",
       "      <td>Kenya</td>\n",
       "      <td>Deaths</td>\n",
       "      <td>TanaRiver</td>\n",
       "      <td>Male</td>\n",
       "      <td>2</td>\n",
       "      <td>20 to 24</td>\n",
       "      <td>Interpersonal violence</td>\n",
       "      <td>2012</td>\n",
       "      <td>337.222488</td>\n",
       "    </tr>\n",
       "    <tr>\n",
       "      <th>447994</th>\n",
       "      <td>Kenya</td>\n",
       "      <td>Deaths</td>\n",
       "      <td>TanaRiver</td>\n",
       "      <td>Male</td>\n",
       "      <td>2</td>\n",
       "      <td>25 to 29</td>\n",
       "      <td>Interpersonal violence</td>\n",
       "      <td>2012</td>\n",
       "      <td>330.249439</td>\n",
       "    </tr>\n",
       "    <tr>\n",
       "      <th>447996</th>\n",
       "      <td>Kenya</td>\n",
       "      <td>Deaths</td>\n",
       "      <td>TanaRiver</td>\n",
       "      <td>Male</td>\n",
       "      <td>2</td>\n",
       "      <td>30 to 34</td>\n",
       "      <td>Interpersonal violence</td>\n",
       "      <td>2012</td>\n",
       "      <td>285.351315</td>\n",
       "    </tr>\n",
       "    <tr>\n",
       "      <th>447998</th>\n",
       "      <td>Kenya</td>\n",
       "      <td>Deaths</td>\n",
       "      <td>TanaRiver</td>\n",
       "      <td>Male</td>\n",
       "      <td>2</td>\n",
       "      <td>35 to 39</td>\n",
       "      <td>Interpersonal violence</td>\n",
       "      <td>2012</td>\n",
       "      <td>252.659433</td>\n",
       "    </tr>\n",
       "    <tr>\n",
       "      <th>448000</th>\n",
       "      <td>Kenya</td>\n",
       "      <td>Deaths</td>\n",
       "      <td>TanaRiver</td>\n",
       "      <td>Male</td>\n",
       "      <td>2</td>\n",
       "      <td>40 to 44</td>\n",
       "      <td>Interpersonal violence</td>\n",
       "      <td>2012</td>\n",
       "      <td>212.541193</td>\n",
       "    </tr>\n",
       "  </tbody>\n",
       "</table>\n",
       "</div>"
      ],
      "text/plain": [
       "       country measure   location   sex  age_sort       age  \\\n",
       "447992   Kenya  Deaths  TanaRiver  Male         2  20 to 24   \n",
       "447994   Kenya  Deaths  TanaRiver  Male         2  25 to 29   \n",
       "447996   Kenya  Deaths  TanaRiver  Male         2  30 to 34   \n",
       "447998   Kenya  Deaths  TanaRiver  Male         2  35 to 39   \n",
       "448000   Kenya  Deaths  TanaRiver  Male         2  40 to 44   \n",
       "\n",
       "                         cause  year         val  \n",
       "447992  Interpersonal violence  2012  337.222488  \n",
       "447994  Interpersonal violence  2012  330.249439  \n",
       "447996  Interpersonal violence  2012  285.351315  \n",
       "447998  Interpersonal violence  2012  252.659433  \n",
       "448000  Interpersonal violence  2012  212.541193  "
      ]
     },
     "execution_count": 10,
     "metadata": {},
     "output_type": "execute_result"
    }
   ],
   "source": [
    "high_violence_death_rate_demos.head()"
   ]
  },
  {
   "cell_type": "code",
   "execution_count": 11,
   "id": "86918258",
   "metadata": {},
   "outputs": [],
   "source": [
    "#May have to regard district of columnbia as an outlier"
   ]
  },
  {
   "cell_type": "markdown",
   "id": "f9822a7c",
   "metadata": {},
   "source": [
    "## Death Rate exploration"
   ]
  },
  {
   "cell_type": "code",
   "execution_count": 12,
   "id": "88d67525",
   "metadata": {},
   "outputs": [],
   "source": [
    "gender = high_violence_death_rate_demos.groupby(['sex'], as_index=False).agg({'val':'mean'})"
   ]
  },
  {
   "cell_type": "code",
   "execution_count": 13,
   "id": "b98f87c2",
   "metadata": {},
   "outputs": [
    {
     "data": {
      "image/png": "[encoded data removed]",
      "text/plain": [
       "<Figure size 432x288 with 1 Axes>"
      ]
     },
     "metadata": {
      "needs_background": "light"
     },
     "output_type": "display_data"
    }
   ],
   "source": [
    "gender.plot(x=\"sex\", y=\"val\", kind=\"bar\")\n",
    "plt.show()"
   ]
  },
  {
   "cell_type": "code",
   "execution_count": 14,
   "id": "10c8b06d",
   "metadata": {},
   "outputs": [],
   "source": [
    "age = high_violence_death_rate_demos.groupby(['age'], as_index=False).agg({'val':'mean'})"
   ]
  },
  {
   "cell_type": "code",
   "execution_count": 15,
   "id": "6ecf64fe",
   "metadata": {},
   "outputs": [
    {
     "data": {
      "image/png": "[encoded data removed]",
      "text/plain": [
       "<Figure size 432x288 with 1 Axes>"
      ]
     },
     "metadata": {
      "needs_background": "light"
     },
     "output_type": "display_data"
    }
   ],
   "source": [
    "age.plot(x=\"age\", y=\"val\", kind=\"bar\")\n",
    "plt.show()"
   ]
  },
  {
   "cell_type": "code",
   "execution_count": 16,
   "id": "985299e6",
   "metadata": {},
   "outputs": [],
   "source": [
    "#location what proportions of the regions have been consistent through time\n",
    "#We can look at locations that have held within them one demograph that has a higher homicide rate than diabetes death rate\n",
    "#And we can examine how consistent across time these region have sustained such a demograph"
   ]
  },
  {
   "cell_type": "code",
   "execution_count": 17,
   "id": "358d8b85",
   "metadata": {},
   "outputs": [
    {
     "data": {
      "text/html": [
       "<div>\n",
       "<style scoped>\n",
       "    .dataframe tbody tr th:only-of-type {\n",
       "        vertical-align: middle;\n",
       "    }\n",
       "\n",
       "    .dataframe tbody tr th {\n",
       "        vertical-align: top;\n",
       "    }\n",
       "\n",
       "    .dataframe thead th {\n",
       "        text-align: right;\n",
       "    }\n",
       "</style>\n",
       "<table border=\"1\" class=\"dataframe\">\n",
       "  <thead>\n",
       "    <tr style=\"text-align: right;\">\n",
       "      <th></th>\n",
       "      <th>location</th>\n",
       "      <th>year</th>\n",
       "      <th>val</th>\n",
       "    </tr>\n",
       "  </thead>\n",
       "  <tbody>\n",
       "    <tr>\n",
       "      <th>0</th>\n",
       "      <td>TanaRiver</td>\n",
       "      <td>8</td>\n",
       "      <td>241.916122</td>\n",
       "    </tr>\n",
       "  </tbody>\n",
       "</table>\n",
       "</div>"
      ],
      "text/plain": [
       "    location  year         val\n",
       "0  TanaRiver     8  241.916122"
      ]
     },
     "execution_count": 17,
     "metadata": {},
     "output_type": "execute_result"
    }
   ],
   "source": [
    "locations_containing_high_violence_demos = high_violence_death_rate_demos.groupby(['location', 'year'], as_index=False).agg({'year': 'count', 'val':'mean'})\n",
    "locations_containing_high_violence_demos.head(20)"
   ]
  },
  {
   "cell_type": "code",
   "execution_count": 18,
   "id": "23a2d773",
   "metadata": {},
   "outputs": [
    {
     "data": {
      "text/plain": [
       "count    1.0\n",
       "mean     1.0\n",
       "std      NaN\n",
       "min      1.0\n",
       "25%      1.0\n",
       "50%      1.0\n",
       "75%      1.0\n",
       "max      1.0\n",
       "Name: val, dtype: float64"
      ]
     },
     "execution_count": 18,
     "metadata": {},
     "output_type": "execute_result"
    }
   ],
   "source": [
    "location_by_year_frequency = locations_containing_high_violence_demos.groupby('location').count()\n",
    "location_by_year_frequency['val'].describe()"
   ]
  },
  {
   "cell_type": "code",
   "execution_count": 19,
   "id": "9a7cf548",
   "metadata": {},
   "outputs": [
    {
     "data": {
      "text/html": [
       "<div>\n",
       "<style scoped>\n",
       "    .dataframe tbody tr th:only-of-type {\n",
       "        vertical-align: middle;\n",
       "    }\n",
       "\n",
       "    .dataframe tbody tr th {\n",
       "        vertical-align: top;\n",
       "    }\n",
       "\n",
       "    .dataframe thead th {\n",
       "        text-align: right;\n",
       "    }\n",
       "</style>\n",
       "<table border=\"1\" class=\"dataframe\">\n",
       "  <thead>\n",
       "    <tr style=\"text-align: right;\">\n",
       "      <th></th>\n",
       "      <th>year</th>\n",
       "      <th>val</th>\n",
       "    </tr>\n",
       "    <tr>\n",
       "      <th>location</th>\n",
       "      <th></th>\n",
       "      <th></th>\n",
       "    </tr>\n",
       "  </thead>\n",
       "  <tbody>\n",
       "    <tr>\n",
       "      <th>TanaRiver</th>\n",
       "      <td>1</td>\n",
       "      <td>1</td>\n",
       "    </tr>\n",
       "  </tbody>\n",
       "</table>\n",
       "</div>"
      ],
      "text/plain": [
       "           year  val\n",
       "location            \n",
       "TanaRiver     1    1"
      ]
     },
     "execution_count": 19,
     "metadata": {},
     "output_type": "execute_result"
    }
   ],
   "source": [
    "location_by_year_frequency"
   ]
  },
  {
   "cell_type": "code",
   "execution_count": 20,
   "id": "39b11901",
   "metadata": {},
   "outputs": [],
   "source": [
    "#Try to find out by homw much frequency of demos with homicide rate higher than ddiabetes agerage\n",
    "#location_demo_frequency = locations_containing_high_violence_demos.groupby('location').agg('year':'mean')# or try to measure distribution\n",
    "#location_by_year_frequency['val'].describe()"
   ]
  },
  {
   "cell_type": "code",
   "execution_count": 21,
   "id": "bd0edb1e",
   "metadata": {},
   "outputs": [
    {
     "data": {
      "text/plain": [
       "country\n",
       "Kenya    8\n",
       "Name: val, dtype: int64"
      ]
     },
     "execution_count": 21,
     "metadata": {},
     "output_type": "execute_result"
    }
   ],
   "source": [
    "country_filter = high_violence_death_rate_demos.groupby('country').count()['val']\n",
    "country_filter\n",
    "#So the uk and japan don't have any internal region with crime rateo over diabetes average"
   ]
  },
  {
   "cell_type": "code",
   "execution_count": 22,
   "id": "ec0768b1",
   "metadata": {},
   "outputs": [
    {
     "data": {
      "text/html": [
       "<div>\n",
       "<style scoped>\n",
       "    .dataframe tbody tr th:only-of-type {\n",
       "        vertical-align: middle;\n",
       "    }\n",
       "\n",
       "    .dataframe tbody tr th {\n",
       "        vertical-align: top;\n",
       "    }\n",
       "\n",
       "    .dataframe thead th {\n",
       "        text-align: right;\n",
       "    }\n",
       "</style>\n",
       "<table border=\"1\" class=\"dataframe\">\n",
       "  <thead>\n",
       "    <tr style=\"text-align: right;\">\n",
       "      <th></th>\n",
       "      <th>location</th>\n",
       "      <th>val</th>\n",
       "    </tr>\n",
       "  </thead>\n",
       "  <tbody>\n",
       "    <tr>\n",
       "      <th>0</th>\n",
       "      <td>TanaRiver</td>\n",
       "      <td>8</td>\n",
       "    </tr>\n",
       "  </tbody>\n",
       "</table>\n",
       "</div>"
      ],
      "text/plain": [
       "    location  val\n",
       "0  TanaRiver    8"
      ]
     },
     "execution_count": 22,
     "metadata": {},
     "output_type": "execute_result"
    }
   ],
   "source": [
    "location_filter = high_violence_death_rate_demos.groupby('location', as_index=False).count()\n",
    "location_filter = location_filter[['location', 'val']]\n",
    "location_filter"
   ]
  },
  {
   "cell_type": "code",
   "execution_count": 23,
   "id": "dc9d71f3",
   "metadata": {},
   "outputs": [
    {
     "data": {
      "text/html": [
       "<div>\n",
       "<style scoped>\n",
       "    .dataframe tbody tr th:only-of-type {\n",
       "        vertical-align: middle;\n",
       "    }\n",
       "\n",
       "    .dataframe tbody tr th {\n",
       "        vertical-align: top;\n",
       "    }\n",
       "\n",
       "    .dataframe thead th {\n",
       "        text-align: right;\n",
       "    }\n",
       "</style>\n",
       "<table border=\"1\" class=\"dataframe\">\n",
       "  <thead>\n",
       "    <tr style=\"text-align: right;\">\n",
       "      <th></th>\n",
       "      <th>sex</th>\n",
       "      <th>country</th>\n",
       "      <th>measure</th>\n",
       "      <th>location</th>\n",
       "      <th>age_sort</th>\n",
       "      <th>age</th>\n",
       "      <th>cause</th>\n",
       "      <th>year</th>\n",
       "      <th>val</th>\n",
       "    </tr>\n",
       "  </thead>\n",
       "  <tbody>\n",
       "    <tr>\n",
       "      <th>0</th>\n",
       "      <td>Male</td>\n",
       "      <td>8</td>\n",
       "      <td>8</td>\n",
       "      <td>8</td>\n",
       "      <td>8</td>\n",
       "      <td>8</td>\n",
       "      <td>8</td>\n",
       "      <td>8</td>\n",
       "      <td>8</td>\n",
       "    </tr>\n",
       "  </tbody>\n",
       "</table>\n",
       "</div>"
      ],
      "text/plain": [
       "    sex  country  measure  location  age_sort  age  cause  year  val\n",
       "0  Male        8        8         8         8    8      8     8    8"
      ]
     },
     "execution_count": 23,
     "metadata": {},
     "output_type": "execute_result"
    }
   ],
   "source": [
    "gender_filter = high_violence_death_rate_demos.groupby('sex', as_index=False).count()\n",
    "gender_filter"
   ]
  },
  {
   "cell_type": "code",
   "execution_count": 24,
   "id": "4b11e358",
   "metadata": {},
   "outputs": [
    {
     "data": {
      "text/html": [
       "<div>\n",
       "<style scoped>\n",
       "    .dataframe tbody tr th:only-of-type {\n",
       "        vertical-align: middle;\n",
       "    }\n",
       "\n",
       "    .dataframe tbody tr th {\n",
       "        vertical-align: top;\n",
       "    }\n",
       "\n",
       "    .dataframe thead th {\n",
       "        text-align: right;\n",
       "    }\n",
       "</style>\n",
       "<table border=\"1\" class=\"dataframe\">\n",
       "  <thead>\n",
       "    <tr style=\"text-align: right;\">\n",
       "      <th></th>\n",
       "      <th>age</th>\n",
       "      <th>val</th>\n",
       "    </tr>\n",
       "  </thead>\n",
       "  <tbody>\n",
       "    <tr>\n",
       "      <th>0</th>\n",
       "      <td>15 to 19</td>\n",
       "      <td>1</td>\n",
       "    </tr>\n",
       "    <tr>\n",
       "      <th>1</th>\n",
       "      <td>20 to 24</td>\n",
       "      <td>1</td>\n",
       "    </tr>\n",
       "    <tr>\n",
       "      <th>2</th>\n",
       "      <td>25 to 29</td>\n",
       "      <td>1</td>\n",
       "    </tr>\n",
       "    <tr>\n",
       "      <th>3</th>\n",
       "      <td>30 to 34</td>\n",
       "      <td>1</td>\n",
       "    </tr>\n",
       "    <tr>\n",
       "      <th>4</th>\n",
       "      <td>35 to 39</td>\n",
       "      <td>1</td>\n",
       "    </tr>\n",
       "    <tr>\n",
       "      <th>5</th>\n",
       "      <td>40 to 44</td>\n",
       "      <td>1</td>\n",
       "    </tr>\n",
       "    <tr>\n",
       "      <th>6</th>\n",
       "      <td>45 to 49</td>\n",
       "      <td>1</td>\n",
       "    </tr>\n",
       "    <tr>\n",
       "      <th>7</th>\n",
       "      <td>50 to 54</td>\n",
       "      <td>1</td>\n",
       "    </tr>\n",
       "  </tbody>\n",
       "</table>\n",
       "</div>"
      ],
      "text/plain": [
       "        age  val\n",
       "0  15 to 19    1\n",
       "1  20 to 24    1\n",
       "2  25 to 29    1\n",
       "3  30 to 34    1\n",
       "4  35 to 39    1\n",
       "5  40 to 44    1\n",
       "6  45 to 49    1\n",
       "7  50 to 54    1"
      ]
     },
     "execution_count": 24,
     "metadata": {},
     "output_type": "execute_result"
    }
   ],
   "source": [
    "age_filter = high_violence_death_rate_demos.groupby('age', as_index=False).count()\n",
    "age_filter = age_filter[['age', 'val']]\n",
    "age_filter"
   ]
  },
  {
   "cell_type": "code",
   "execution_count": 25,
   "id": "6b766d40",
   "metadata": {},
   "outputs": [
    {
     "name": "stdout",
     "output_type": "stream",
     "text": [
      "Total number of sub groups:  35720\n",
      "Number of sub groups with higher violence death rate than diabetes death rate:  8\n"
     ]
    }
   ],
   "source": [
    "#we campare number of demographs (using deaths) vs the total number of demographs that have a higher iv homicide rate than \n",
    "#overall overall average.\n",
    "newdf = df[df['measure'].str.contains(\"Deaths\")]\n",
    "print(\"Total number of sub groups: \", len(newdf))\n",
    "print(\"Number of sub groups with higher violence death rate than diabetes death rate: \", len(high_violence_death_rate_demos))"
   ]
  },
  {
   "cell_type": "markdown",
   "id": "0d1b9311",
   "metadata": {},
   "source": [
    "### Create table that lets us compare high homicde demographs to their corresponding diabetes death rates"
   ]
  },
  {
   "cell_type": "code",
   "execution_count": 26,
   "id": "f01f3e01",
   "metadata": {},
   "outputs": [],
   "source": [
    "diabetes_death = df[df['measure'].str.contains('Deaths') &\n",
    "             df['cause'].str.contains('Diabetes')]"
   ]
  },
  {
   "cell_type": "code",
   "execution_count": 27,
   "id": "fea04275",
   "metadata": {},
   "outputs": [
    {
     "data": {
      "text/plain": [
       "(35720, 9)"
      ]
     },
     "execution_count": 27,
     "metadata": {},
     "output_type": "execute_result"
    }
   ],
   "source": [
    "#https://stackoverflow.com/questions/54006298/select-rows-of-a-dataframe-based-on-another-dataframe-in-python\n",
    "\n",
    "#create a new df using multiindex to combine the high homicide demographs with their corresponding diabetes deaths\n",
    "#This cell get the diabetes rows\n",
    "diabetes_death = diabetes_death[diabetes_death.set_index(['country','location', 'sex', 'age', 'year']).index.isin(high_violence_death_rate_demos.set_index(['country', 'location', 'sex', 'age', 'year']).index)]\n",
    "newdf.shape"
   ]
  },
  {
   "cell_type": "code",
   "execution_count": 28,
   "id": "072266f4",
   "metadata": {},
   "outputs": [
    {
     "data": {
      "text/html": [
       "<div>\n",
       "<style scoped>\n",
       "    .dataframe tbody tr th:only-of-type {\n",
       "        vertical-align: middle;\n",
       "    }\n",
       "\n",
       "    .dataframe tbody tr th {\n",
       "        vertical-align: top;\n",
       "    }\n",
       "\n",
       "    .dataframe thead th {\n",
       "        text-align: right;\n",
       "    }\n",
       "</style>\n",
       "<table border=\"1\" class=\"dataframe\">\n",
       "  <thead>\n",
       "    <tr style=\"text-align: right;\">\n",
       "      <th></th>\n",
       "      <th>country</th>\n",
       "      <th>measure</th>\n",
       "      <th>location</th>\n",
       "      <th>sex</th>\n",
       "      <th>age_sort</th>\n",
       "      <th>age</th>\n",
       "      <th>cause</th>\n",
       "      <th>year</th>\n",
       "      <th>val</th>\n",
       "    </tr>\n",
       "  </thead>\n",
       "  <tbody>\n",
       "    <tr>\n",
       "      <th>453240</th>\n",
       "      <td>Kenya</td>\n",
       "      <td>Deaths</td>\n",
       "      <td>TanaRiver</td>\n",
       "      <td>Male</td>\n",
       "      <td>2</td>\n",
       "      <td>15 to 19</td>\n",
       "      <td>Diabetes mellitus</td>\n",
       "      <td>2012</td>\n",
       "      <td>1.058427</td>\n",
       "    </tr>\n",
       "    <tr>\n",
       "      <th>447990</th>\n",
       "      <td>Kenya</td>\n",
       "      <td>Deaths</td>\n",
       "      <td>TanaRiver</td>\n",
       "      <td>Male</td>\n",
       "      <td>2</td>\n",
       "      <td>15 to 19</td>\n",
       "      <td>Interpersonal violence</td>\n",
       "      <td>2012</td>\n",
       "      <td>176.703149</td>\n",
       "    </tr>\n",
       "    <tr>\n",
       "      <th>453242</th>\n",
       "      <td>Kenya</td>\n",
       "      <td>Deaths</td>\n",
       "      <td>TanaRiver</td>\n",
       "      <td>Male</td>\n",
       "      <td>2</td>\n",
       "      <td>20 to 24</td>\n",
       "      <td>Diabetes mellitus</td>\n",
       "      <td>2012</td>\n",
       "      <td>2.982179</td>\n",
       "    </tr>\n",
       "    <tr>\n",
       "      <th>447992</th>\n",
       "      <td>Kenya</td>\n",
       "      <td>Deaths</td>\n",
       "      <td>TanaRiver</td>\n",
       "      <td>Male</td>\n",
       "      <td>2</td>\n",
       "      <td>20 to 24</td>\n",
       "      <td>Interpersonal violence</td>\n",
       "      <td>2012</td>\n",
       "      <td>337.222488</td>\n",
       "    </tr>\n",
       "    <tr>\n",
       "      <th>453244</th>\n",
       "      <td>Kenya</td>\n",
       "      <td>Deaths</td>\n",
       "      <td>TanaRiver</td>\n",
       "      <td>Male</td>\n",
       "      <td>2</td>\n",
       "      <td>25 to 29</td>\n",
       "      <td>Diabetes mellitus</td>\n",
       "      <td>2012</td>\n",
       "      <td>2.343736</td>\n",
       "    </tr>\n",
       "    <tr>\n",
       "      <th>447994</th>\n",
       "      <td>Kenya</td>\n",
       "      <td>Deaths</td>\n",
       "      <td>TanaRiver</td>\n",
       "      <td>Male</td>\n",
       "      <td>2</td>\n",
       "      <td>25 to 29</td>\n",
       "      <td>Interpersonal violence</td>\n",
       "      <td>2012</td>\n",
       "      <td>330.249439</td>\n",
       "    </tr>\n",
       "    <tr>\n",
       "      <th>453246</th>\n",
       "      <td>Kenya</td>\n",
       "      <td>Deaths</td>\n",
       "      <td>TanaRiver</td>\n",
       "      <td>Male</td>\n",
       "      <td>2</td>\n",
       "      <td>30 to 34</td>\n",
       "      <td>Diabetes mellitus</td>\n",
       "      <td>2012</td>\n",
       "      <td>4.315011</td>\n",
       "    </tr>\n",
       "    <tr>\n",
       "      <th>447996</th>\n",
       "      <td>Kenya</td>\n",
       "      <td>Deaths</td>\n",
       "      <td>TanaRiver</td>\n",
       "      <td>Male</td>\n",
       "      <td>2</td>\n",
       "      <td>30 to 34</td>\n",
       "      <td>Interpersonal violence</td>\n",
       "      <td>2012</td>\n",
       "      <td>285.351315</td>\n",
       "    </tr>\n",
       "    <tr>\n",
       "      <th>453248</th>\n",
       "      <td>Kenya</td>\n",
       "      <td>Deaths</td>\n",
       "      <td>TanaRiver</td>\n",
       "      <td>Male</td>\n",
       "      <td>2</td>\n",
       "      <td>35 to 39</td>\n",
       "      <td>Diabetes mellitus</td>\n",
       "      <td>2012</td>\n",
       "      <td>7.684227</td>\n",
       "    </tr>\n",
       "    <tr>\n",
       "      <th>447998</th>\n",
       "      <td>Kenya</td>\n",
       "      <td>Deaths</td>\n",
       "      <td>TanaRiver</td>\n",
       "      <td>Male</td>\n",
       "      <td>2</td>\n",
       "      <td>35 to 39</td>\n",
       "      <td>Interpersonal violence</td>\n",
       "      <td>2012</td>\n",
       "      <td>252.659433</td>\n",
       "    </tr>\n",
       "    <tr>\n",
       "      <th>453250</th>\n",
       "      <td>Kenya</td>\n",
       "      <td>Deaths</td>\n",
       "      <td>TanaRiver</td>\n",
       "      <td>Male</td>\n",
       "      <td>2</td>\n",
       "      <td>40 to 44</td>\n",
       "      <td>Diabetes mellitus</td>\n",
       "      <td>2012</td>\n",
       "      <td>15.740253</td>\n",
       "    </tr>\n",
       "    <tr>\n",
       "      <th>448000</th>\n",
       "      <td>Kenya</td>\n",
       "      <td>Deaths</td>\n",
       "      <td>TanaRiver</td>\n",
       "      <td>Male</td>\n",
       "      <td>2</td>\n",
       "      <td>40 to 44</td>\n",
       "      <td>Interpersonal violence</td>\n",
       "      <td>2012</td>\n",
       "      <td>212.541193</td>\n",
       "    </tr>\n",
       "    <tr>\n",
       "      <th>453252</th>\n",
       "      <td>Kenya</td>\n",
       "      <td>Deaths</td>\n",
       "      <td>TanaRiver</td>\n",
       "      <td>Male</td>\n",
       "      <td>2</td>\n",
       "      <td>45 to 49</td>\n",
       "      <td>Diabetes mellitus</td>\n",
       "      <td>2012</td>\n",
       "      <td>34.992822</td>\n",
       "    </tr>\n",
       "    <tr>\n",
       "      <th>448002</th>\n",
       "      <td>Kenya</td>\n",
       "      <td>Deaths</td>\n",
       "      <td>TanaRiver</td>\n",
       "      <td>Male</td>\n",
       "      <td>2</td>\n",
       "      <td>45 to 49</td>\n",
       "      <td>Interpersonal violence</td>\n",
       "      <td>2012</td>\n",
       "      <td>180.765326</td>\n",
       "    </tr>\n",
       "    <tr>\n",
       "      <th>453254</th>\n",
       "      <td>Kenya</td>\n",
       "      <td>Deaths</td>\n",
       "      <td>TanaRiver</td>\n",
       "      <td>Male</td>\n",
       "      <td>2</td>\n",
       "      <td>50 to 54</td>\n",
       "      <td>Diabetes mellitus</td>\n",
       "      <td>2012</td>\n",
       "      <td>76.369036</td>\n",
       "    </tr>\n",
       "    <tr>\n",
       "      <th>448004</th>\n",
       "      <td>Kenya</td>\n",
       "      <td>Deaths</td>\n",
       "      <td>TanaRiver</td>\n",
       "      <td>Male</td>\n",
       "      <td>2</td>\n",
       "      <td>50 to 54</td>\n",
       "      <td>Interpersonal violence</td>\n",
       "      <td>2012</td>\n",
       "      <td>159.836634</td>\n",
       "    </tr>\n",
       "  </tbody>\n",
       "</table>\n",
       "</div>"
      ],
      "text/plain": [
       "       country measure   location   sex  age_sort       age  \\\n",
       "453240   Kenya  Deaths  TanaRiver  Male         2  15 to 19   \n",
       "447990   Kenya  Deaths  TanaRiver  Male         2  15 to 19   \n",
       "453242   Kenya  Deaths  TanaRiver  Male         2  20 to 24   \n",
       "447992   Kenya  Deaths  TanaRiver  Male         2  20 to 24   \n",
       "453244   Kenya  Deaths  TanaRiver  Male         2  25 to 29   \n",
       "447994   Kenya  Deaths  TanaRiver  Male         2  25 to 29   \n",
       "453246   Kenya  Deaths  TanaRiver  Male         2  30 to 34   \n",
       "447996   Kenya  Deaths  TanaRiver  Male         2  30 to 34   \n",
       "453248   Kenya  Deaths  TanaRiver  Male         2  35 to 39   \n",
       "447998   Kenya  Deaths  TanaRiver  Male         2  35 to 39   \n",
       "453250   Kenya  Deaths  TanaRiver  Male         2  40 to 44   \n",
       "448000   Kenya  Deaths  TanaRiver  Male         2  40 to 44   \n",
       "453252   Kenya  Deaths  TanaRiver  Male         2  45 to 49   \n",
       "448002   Kenya  Deaths  TanaRiver  Male         2  45 to 49   \n",
       "453254   Kenya  Deaths  TanaRiver  Male         2  50 to 54   \n",
       "448004   Kenya  Deaths  TanaRiver  Male         2  50 to 54   \n",
       "\n",
       "                         cause  year         val  \n",
       "453240       Diabetes mellitus  2012    1.058427  \n",
       "447990  Interpersonal violence  2012  176.703149  \n",
       "453242       Diabetes mellitus  2012    2.982179  \n",
       "447992  Interpersonal violence  2012  337.222488  \n",
       "453244       Diabetes mellitus  2012    2.343736  \n",
       "447994  Interpersonal violence  2012  330.249439  \n",
       "453246       Diabetes mellitus  2012    4.315011  \n",
       "447996  Interpersonal violence  2012  285.351315  \n",
       "453248       Diabetes mellitus  2012    7.684227  \n",
       "447998  Interpersonal violence  2012  252.659433  \n",
       "453250       Diabetes mellitus  2012   15.740253  \n",
       "448000  Interpersonal violence  2012  212.541193  \n",
       "453252       Diabetes mellitus  2012   34.992822  \n",
       "448002  Interpersonal violence  2012  180.765326  \n",
       "453254       Diabetes mellitus  2012   76.369036  \n",
       "448004  Interpersonal violence  2012  159.836634  "
      ]
     },
     "execution_count": 28,
     "metadata": {},
     "output_type": "execute_result"
    }
   ],
   "source": [
    "#combine the tables \n",
    "higher_violence_death_rate_with_diabetes = diabetes_death.append(high_violence_death_rate_demos)\n",
    "higher_violence_death_rate_with_diabetes = higher_violence_death_rate_with_diabetes.sort_values(by=['location', 'sex', 'age', 'year'])\n",
    "higher_violence_death_rate_with_diabetes.head(40)"
   ]
  },
  {
   "cell_type": "code",
   "execution_count": 29,
   "id": "17688c6d",
   "metadata": {},
   "outputs": [
    {
     "data": {
      "text/plain": [
       "(16, 9)"
      ]
     },
     "execution_count": 29,
     "metadata": {},
     "output_type": "execute_result"
    }
   ],
   "source": [
    "higher_violence_death_rate_with_diabetes.shape"
   ]
  },
  {
   "cell_type": "markdown",
   "id": "caf315f8",
   "metadata": {},
   "source": [
    "## YLL rate Exploration"
   ]
  },
  {
   "cell_type": "markdown",
   "id": "956a4b23",
   "metadata": {},
   "source": [
    "### Calculate overall diabetes average for YLLs"
   ]
  },
  {
   "cell_type": "code",
   "execution_count": 30,
   "id": "1a1d3ec9",
   "metadata": {},
   "outputs": [
    {
     "data": {
      "text/plain": [
       "1879.5038365937764"
      ]
     },
     "execution_count": 30,
     "metadata": {},
     "output_type": "execute_result"
    }
   ],
   "source": [
    "overall_diabetes_yll_avg = df[df['measure'].str.contains('YLL') &\n",
    "                 df['cause'].str.contains('Diabetes')]\n",
    "overall_diabetes_yll_avg = overall_diabetes_yll_avg['val'].mean()\n",
    "overall_diabetes_yll_avg  "
   ]
  },
  {
   "cell_type": "markdown",
   "id": "0cfac71b",
   "metadata": {},
   "source": [
    "### Create table of demographs with higher homicide rate"
   ]
  },
  {
   "cell_type": "code",
   "execution_count": 31,
   "id": "5d4f6f07",
   "metadata": {},
   "outputs": [
    {
     "data": {
      "text/plain": [
       "(521, 9)"
      ]
     },
     "execution_count": 31,
     "metadata": {},
     "output_type": "execute_result"
    }
   ],
   "source": [
    "#get rows with higher homicide rate than overall_diabetes_avg\n",
    "high_violence_yll_demos = df[df['measure'].str.contains('YLL') &\n",
    "                  df['cause'].str.contains('Interpersonal violence')]\n",
    "\n",
    "high_violence_yll_demos = high_violence_yll_demos[high_violence_yll_demos['val'] > overall_diabetes_yll_avg]\n",
    "high_violence_yll_demos = high_violence_yll_demos.sort_values(by=['val'], ascending=False)\n",
    "high_violence_yll_demos.shape"
   ]
  },
  {
   "cell_type": "markdown",
   "id": "44947c31",
   "metadata": {},
   "source": [
    "## YLL Rate exploration"
   ]
  },
  {
   "cell_type": "code",
   "execution_count": 32,
   "id": "aad551f7",
   "metadata": {},
   "outputs": [],
   "source": [
    "gender = high_violence_yll_demos.groupby(['sex'], as_index=False).agg({'val':'mean'})"
   ]
  },
  {
   "cell_type": "code",
   "execution_count": 33,
   "id": "7a3090e2",
   "metadata": {},
   "outputs": [
    {
     "data": {
      "image/png": "[encoded data removed]",
      "text/plain": [
       "<Figure size 432x288 with 1 Axes>"
      ]
     },
     "metadata": {
      "needs_background": "light"
     },
     "output_type": "display_data"
    }
   ],
   "source": [
    "gender.plot(x=\"sex\", y=\"val\", kind=\"bar\")\n",
    "plt.show()"
   ]
  },
  {
   "cell_type": "code",
   "execution_count": 34,
   "id": "d26f1970",
   "metadata": {},
   "outputs": [],
   "source": [
    "age = high_violence_yll_demos.groupby(['age'], as_index=False).agg({'val':'mean'})"
   ]
  },
  {
   "cell_type": "code",
   "execution_count": 35,
   "id": "62954be4",
   "metadata": {},
   "outputs": [
    {
     "data": {
      "image/png": "[encoded data removed]",
      "text/plain": [
       "<Figure size 432x288 with 1 Axes>"
      ]
     },
     "metadata": {
      "needs_background": "light"
     },
     "output_type": "display_data"
    }
   ],
   "source": [
    "age.plot(x=\"age\", y=\"val\", kind=\"bar\")\n",
    "plt.show()"
   ]
  },
  {
   "cell_type": "code",
   "execution_count": 36,
   "id": "fc7c92f1",
   "metadata": {},
   "outputs": [],
   "source": [
    "#location what proportions of the regions have been consistent through time\n",
    "#We can look at locations that have held within them one demograph that has a higher homicide rate than diabetes death rate\n",
    "#And we can examine how consistent across time these region have sustained such a demograph"
   ]
  },
  {
   "cell_type": "code",
   "execution_count": 37,
   "id": "a7ad9019",
   "metadata": {},
   "outputs": [
    {
     "data": {
      "text/html": [
       "<div>\n",
       "<style scoped>\n",
       "    .dataframe tbody tr th:only-of-type {\n",
       "        vertical-align: middle;\n",
       "    }\n",
       "\n",
       "    .dataframe tbody tr th {\n",
       "        vertical-align: top;\n",
       "    }\n",
       "\n",
       "    .dataframe thead th {\n",
       "        text-align: right;\n",
       "    }\n",
       "</style>\n",
       "<table border=\"1\" class=\"dataframe\">\n",
       "  <thead>\n",
       "    <tr style=\"text-align: right;\">\n",
       "      <th></th>\n",
       "      <th>location</th>\n",
       "      <th>year</th>\n",
       "      <th>val</th>\n",
       "    </tr>\n",
       "  </thead>\n",
       "  <tbody>\n",
       "    <tr>\n",
       "      <th>0</th>\n",
       "      <td>Baringo</td>\n",
       "      <td>1</td>\n",
       "      <td>1916.238453</td>\n",
       "    </tr>\n",
       "    <tr>\n",
       "      <th>1</th>\n",
       "      <td>Baringo</td>\n",
       "      <td>1</td>\n",
       "      <td>1909.898774</td>\n",
       "    </tr>\n",
       "    <tr>\n",
       "      <th>2</th>\n",
       "      <td>Baringo</td>\n",
       "      <td>1</td>\n",
       "      <td>1889.548056</td>\n",
       "    </tr>\n",
       "    <tr>\n",
       "      <th>3</th>\n",
       "      <td>Baringo</td>\n",
       "      <td>2</td>\n",
       "      <td>2110.007954</td>\n",
       "    </tr>\n",
       "    <tr>\n",
       "      <th>4</th>\n",
       "      <td>Baringo</td>\n",
       "      <td>3</td>\n",
       "      <td>2209.432598</td>\n",
       "    </tr>\n",
       "    <tr>\n",
       "      <th>5</th>\n",
       "      <td>Elgeyo-Marakwet</td>\n",
       "      <td>1</td>\n",
       "      <td>1997.480473</td>\n",
       "    </tr>\n",
       "    <tr>\n",
       "      <th>6</th>\n",
       "      <td>Elgeyo-Marakwet</td>\n",
       "      <td>1</td>\n",
       "      <td>1978.113035</td>\n",
       "    </tr>\n",
       "    <tr>\n",
       "      <th>7</th>\n",
       "      <td>Elgeyo-Marakwet</td>\n",
       "      <td>1</td>\n",
       "      <td>1900.056467</td>\n",
       "    </tr>\n",
       "    <tr>\n",
       "      <th>8</th>\n",
       "      <td>Elgeyo-Marakwet</td>\n",
       "      <td>8</td>\n",
       "      <td>3133.381956</td>\n",
       "    </tr>\n",
       "    <tr>\n",
       "      <th>9</th>\n",
       "      <td>Garissa</td>\n",
       "      <td>1</td>\n",
       "      <td>1922.538188</td>\n",
       "    </tr>\n",
       "    <tr>\n",
       "      <th>10</th>\n",
       "      <td>Garissa</td>\n",
       "      <td>1</td>\n",
       "      <td>1923.252189</td>\n",
       "    </tr>\n",
       "    <tr>\n",
       "      <th>11</th>\n",
       "      <td>Garissa</td>\n",
       "      <td>1</td>\n",
       "      <td>1903.294284</td>\n",
       "    </tr>\n",
       "    <tr>\n",
       "      <th>12</th>\n",
       "      <td>Garissa</td>\n",
       "      <td>1</td>\n",
       "      <td>1902.159503</td>\n",
       "    </tr>\n",
       "    <tr>\n",
       "      <th>13</th>\n",
       "      <td>Garissa</td>\n",
       "      <td>1</td>\n",
       "      <td>1903.263821</td>\n",
       "    </tr>\n",
       "    <tr>\n",
       "      <th>14</th>\n",
       "      <td>Garissa</td>\n",
       "      <td>1</td>\n",
       "      <td>1894.798822</td>\n",
       "    </tr>\n",
       "    <tr>\n",
       "      <th>15</th>\n",
       "      <td>Garissa</td>\n",
       "      <td>1</td>\n",
       "      <td>1903.127139</td>\n",
       "    </tr>\n",
       "    <tr>\n",
       "      <th>16</th>\n",
       "      <td>Garissa</td>\n",
       "      <td>1</td>\n",
       "      <td>1889.251275</td>\n",
       "    </tr>\n",
       "    <tr>\n",
       "      <th>17</th>\n",
       "      <td>Garissa</td>\n",
       "      <td>1</td>\n",
       "      <td>1880.111287</td>\n",
       "    </tr>\n",
       "    <tr>\n",
       "      <th>18</th>\n",
       "      <td>HomaBay</td>\n",
       "      <td>9</td>\n",
       "      <td>3323.466050</td>\n",
       "    </tr>\n",
       "    <tr>\n",
       "      <th>19</th>\n",
       "      <td>HomaBay</td>\n",
       "      <td>9</td>\n",
       "      <td>3368.943932</td>\n",
       "    </tr>\n",
       "  </tbody>\n",
       "</table>\n",
       "</div>"
      ],
      "text/plain": [
       "           location  year          val\n",
       "0           Baringo     1  1916.238453\n",
       "1           Baringo     1  1909.898774\n",
       "2           Baringo     1  1889.548056\n",
       "3           Baringo     2  2110.007954\n",
       "4           Baringo     3  2209.432598\n",
       "5   Elgeyo-Marakwet     1  1997.480473\n",
       "6   Elgeyo-Marakwet     1  1978.113035\n",
       "7   Elgeyo-Marakwet     1  1900.056467\n",
       "8   Elgeyo-Marakwet     8  3133.381956\n",
       "9           Garissa     1  1922.538188\n",
       "10          Garissa     1  1923.252189\n",
       "11          Garissa     1  1903.294284\n",
       "12          Garissa     1  1902.159503\n",
       "13          Garissa     1  1903.263821\n",
       "14          Garissa     1  1894.798822\n",
       "15          Garissa     1  1903.127139\n",
       "16          Garissa     1  1889.251275\n",
       "17          Garissa     1  1880.111287\n",
       "18          HomaBay     9  3323.466050\n",
       "19          HomaBay     9  3368.943932"
      ]
     },
     "execution_count": 37,
     "metadata": {},
     "output_type": "execute_result"
    }
   ],
   "source": [
    "locations_containing_high_violence_demos = high_violence_yll_demos.groupby(['location', 'year'], as_index=False).agg({'year': 'count', 'val':'mean'})\n",
    "locations_containing_high_violence_demos.head(20)\n",
    "#38 demos in each region (for one year)"
   ]
  },
  {
   "cell_type": "code",
   "execution_count": 38,
   "id": "9a31379b",
   "metadata": {},
   "outputs": [
    {
     "data": {
      "text/plain": [
       "count    24.000000\n",
       "mean      7.083333\n",
       "std       3.282585\n",
       "min       1.000000\n",
       "25%       4.000000\n",
       "50%       9.000000\n",
       "75%      10.000000\n",
       "max      10.000000\n",
       "Name: val, dtype: float64"
      ]
     },
     "execution_count": 38,
     "metadata": {},
     "output_type": "execute_result"
    }
   ],
   "source": [
    "location_by_year_frequency = locations_containing_high_violence_demos.groupby('location').count()\n",
    "location_by_year_frequency['val'].describe()\n",
    "#We can see average is 7 - so locations sustaining over diabetes average deaths rates likely to keep doing so"
   ]
  },
  {
   "cell_type": "code",
   "execution_count": 39,
   "id": "699ce8f4",
   "metadata": {},
   "outputs": [
    {
     "data": {
      "text/html": [
       "<div>\n",
       "<style scoped>\n",
       "    .dataframe tbody tr th:only-of-type {\n",
       "        vertical-align: middle;\n",
       "    }\n",
       "\n",
       "    .dataframe tbody tr th {\n",
       "        vertical-align: top;\n",
       "    }\n",
       "\n",
       "    .dataframe thead th {\n",
       "        text-align: right;\n",
       "    }\n",
       "</style>\n",
       "<table border=\"1\" class=\"dataframe\">\n",
       "  <thead>\n",
       "    <tr style=\"text-align: right;\">\n",
       "      <th></th>\n",
       "      <th>year</th>\n",
       "      <th>val</th>\n",
       "    </tr>\n",
       "    <tr>\n",
       "      <th>location</th>\n",
       "      <th></th>\n",
       "      <th></th>\n",
       "    </tr>\n",
       "  </thead>\n",
       "  <tbody>\n",
       "    <tr>\n",
       "      <th>Baringo</th>\n",
       "      <td>5</td>\n",
       "      <td>5</td>\n",
       "    </tr>\n",
       "    <tr>\n",
       "      <th>Elgeyo-Marakwet</th>\n",
       "      <td>4</td>\n",
       "      <td>4</td>\n",
       "    </tr>\n",
       "    <tr>\n",
       "      <th>Garissa</th>\n",
       "      <td>9</td>\n",
       "      <td>9</td>\n",
       "    </tr>\n",
       "    <tr>\n",
       "      <th>HomaBay</th>\n",
       "      <td>10</td>\n",
       "      <td>10</td>\n",
       "    </tr>\n",
       "    <tr>\n",
       "      <th>Isiolo</th>\n",
       "      <td>2</td>\n",
       "      <td>2</td>\n",
       "    </tr>\n",
       "    <tr>\n",
       "      <th>Kiambu</th>\n",
       "      <td>9</td>\n",
       "      <td>9</td>\n",
       "    </tr>\n",
       "    <tr>\n",
       "      <th>Kisumu</th>\n",
       "      <td>10</td>\n",
       "      <td>10</td>\n",
       "    </tr>\n",
       "    <tr>\n",
       "      <th>Kwale</th>\n",
       "      <td>9</td>\n",
       "      <td>9</td>\n",
       "    </tr>\n",
       "    <tr>\n",
       "      <th>Mandera</th>\n",
       "      <td>8</td>\n",
       "      <td>8</td>\n",
       "    </tr>\n",
       "    <tr>\n",
       "      <th>Marsabit</th>\n",
       "      <td>3</td>\n",
       "      <td>3</td>\n",
       "    </tr>\n",
       "    <tr>\n",
       "      <th>Migori</th>\n",
       "      <td>10</td>\n",
       "      <td>10</td>\n",
       "    </tr>\n",
       "    <tr>\n",
       "      <th>Mombasa</th>\n",
       "      <td>1</td>\n",
       "      <td>1</td>\n",
       "    </tr>\n",
       "    <tr>\n",
       "      <th>Nairobi</th>\n",
       "      <td>10</td>\n",
       "      <td>10</td>\n",
       "    </tr>\n",
       "    <tr>\n",
       "      <th>Nandi</th>\n",
       "      <td>4</td>\n",
       "      <td>4</td>\n",
       "    </tr>\n",
       "    <tr>\n",
       "      <th>Narok</th>\n",
       "      <td>10</td>\n",
       "      <td>10</td>\n",
       "    </tr>\n",
       "    <tr>\n",
       "      <th>Nyamira</th>\n",
       "      <td>10</td>\n",
       "      <td>10</td>\n",
       "    </tr>\n",
       "    <tr>\n",
       "      <th>Nyandarua</th>\n",
       "      <td>10</td>\n",
       "      <td>10</td>\n",
       "    </tr>\n",
       "    <tr>\n",
       "      <th>Samburu</th>\n",
       "      <td>3</td>\n",
       "      <td>3</td>\n",
       "    </tr>\n",
       "    <tr>\n",
       "      <th>TaitaTaveta</th>\n",
       "      <td>5</td>\n",
       "      <td>5</td>\n",
       "    </tr>\n",
       "    <tr>\n",
       "      <th>TanaRiver</th>\n",
       "      <td>10</td>\n",
       "      <td>10</td>\n",
       "    </tr>\n",
       "    <tr>\n",
       "      <th>TharakaNithi</th>\n",
       "      <td>10</td>\n",
       "      <td>10</td>\n",
       "    </tr>\n",
       "    <tr>\n",
       "      <th>Turkana</th>\n",
       "      <td>6</td>\n",
       "      <td>6</td>\n",
       "    </tr>\n",
       "    <tr>\n",
       "      <th>Wajir</th>\n",
       "      <td>10</td>\n",
       "      <td>10</td>\n",
       "    </tr>\n",
       "    <tr>\n",
       "      <th>WestPokot</th>\n",
       "      <td>2</td>\n",
       "      <td>2</td>\n",
       "    </tr>\n",
       "  </tbody>\n",
       "</table>\n",
       "</div>"
      ],
      "text/plain": [
       "                 year  val\n",
       "location                  \n",
       "Baringo             5    5\n",
       "Elgeyo-Marakwet     4    4\n",
       "Garissa             9    9\n",
       "HomaBay            10   10\n",
       "Isiolo              2    2\n",
       "Kiambu              9    9\n",
       "Kisumu             10   10\n",
       "Kwale               9    9\n",
       "Mandera             8    8\n",
       "Marsabit            3    3\n",
       "Migori             10   10\n",
       "Mombasa             1    1\n",
       "Nairobi            10   10\n",
       "Nandi               4    4\n",
       "Narok              10   10\n",
       "Nyamira            10   10\n",
       "Nyandarua          10   10\n",
       "Samburu             3    3\n",
       "TaitaTaveta         5    5\n",
       "TanaRiver          10   10\n",
       "TharakaNithi       10   10\n",
       "Turkana             6    6\n",
       "Wajir              10   10\n",
       "WestPokot           2    2"
      ]
     },
     "execution_count": 39,
     "metadata": {},
     "output_type": "execute_result"
    }
   ],
   "source": [
    "location_by_year_frequency"
   ]
  },
  {
   "cell_type": "markdown",
   "id": "5158e2da",
   "metadata": {},
   "source": [
    "### Take high_violence_ylls_demos and filter on the consistent demographs"
   ]
  },
  {
   "cell_type": "code",
   "execution_count": 40,
   "id": "1fcedd93",
   "metadata": {},
   "outputs": [
    {
     "data": {
      "text/plain": [
       "country\n",
       "Kenya    521\n",
       "Name: val, dtype: int64"
      ]
     },
     "execution_count": 40,
     "metadata": {},
     "output_type": "execute_result"
    }
   ],
   "source": [
    "high_violence_yll_demos.groupby('country').count()['val']"
   ]
  },
  {
   "cell_type": "code",
   "execution_count": 41,
   "id": "f8a62fa1",
   "metadata": {},
   "outputs": [
    {
     "data": {
      "text/html": [
       "<div>\n",
       "<style scoped>\n",
       "    .dataframe tbody tr th:only-of-type {\n",
       "        vertical-align: middle;\n",
       "    }\n",
       "\n",
       "    .dataframe tbody tr th {\n",
       "        vertical-align: top;\n",
       "    }\n",
       "\n",
       "    .dataframe thead th {\n",
       "        text-align: right;\n",
       "    }\n",
       "</style>\n",
       "<table border=\"1\" class=\"dataframe\">\n",
       "  <thead>\n",
       "    <tr style=\"text-align: right;\">\n",
       "      <th></th>\n",
       "      <th>location</th>\n",
       "      <th>val</th>\n",
       "    </tr>\n",
       "  </thead>\n",
       "  <tbody>\n",
       "    <tr>\n",
       "      <th>0</th>\n",
       "      <td>Baringo</td>\n",
       "      <td>8</td>\n",
       "    </tr>\n",
       "    <tr>\n",
       "      <th>1</th>\n",
       "      <td>Elgeyo-Marakwet</td>\n",
       "      <td>11</td>\n",
       "    </tr>\n",
       "    <tr>\n",
       "      <th>2</th>\n",
       "      <td>Garissa</td>\n",
       "      <td>9</td>\n",
       "    </tr>\n",
       "    <tr>\n",
       "      <th>3</th>\n",
       "      <td>HomaBay</td>\n",
       "      <td>90</td>\n",
       "    </tr>\n",
       "    <tr>\n",
       "      <th>4</th>\n",
       "      <td>Isiolo</td>\n",
       "      <td>3</td>\n",
       "    </tr>\n",
       "    <tr>\n",
       "      <th>5</th>\n",
       "      <td>Kiambu</td>\n",
       "      <td>13</td>\n",
       "    </tr>\n",
       "    <tr>\n",
       "      <th>6</th>\n",
       "      <td>Kisumu</td>\n",
       "      <td>101</td>\n",
       "    </tr>\n",
       "    <tr>\n",
       "      <th>7</th>\n",
       "      <td>Kwale</td>\n",
       "      <td>9</td>\n",
       "    </tr>\n",
       "    <tr>\n",
       "      <th>8</th>\n",
       "      <td>Mandera</td>\n",
       "      <td>17</td>\n",
       "    </tr>\n",
       "    <tr>\n",
       "      <th>9</th>\n",
       "      <td>Marsabit</td>\n",
       "      <td>21</td>\n",
       "    </tr>\n",
       "    <tr>\n",
       "      <th>10</th>\n",
       "      <td>Migori</td>\n",
       "      <td>10</td>\n",
       "    </tr>\n",
       "    <tr>\n",
       "      <th>11</th>\n",
       "      <td>Mombasa</td>\n",
       "      <td>1</td>\n",
       "    </tr>\n",
       "    <tr>\n",
       "      <th>12</th>\n",
       "      <td>Nairobi</td>\n",
       "      <td>20</td>\n",
       "    </tr>\n",
       "    <tr>\n",
       "      <th>13</th>\n",
       "      <td>Nandi</td>\n",
       "      <td>4</td>\n",
       "    </tr>\n",
       "    <tr>\n",
       "      <th>14</th>\n",
       "      <td>Narok</td>\n",
       "      <td>17</td>\n",
       "    </tr>\n",
       "    <tr>\n",
       "      <th>15</th>\n",
       "      <td>Nyamira</td>\n",
       "      <td>40</td>\n",
       "    </tr>\n",
       "    <tr>\n",
       "      <th>16</th>\n",
       "      <td>Nyandarua</td>\n",
       "      <td>12</td>\n",
       "    </tr>\n",
       "    <tr>\n",
       "      <th>17</th>\n",
       "      <td>Samburu</td>\n",
       "      <td>5</td>\n",
       "    </tr>\n",
       "    <tr>\n",
       "      <th>18</th>\n",
       "      <td>TaitaTaveta</td>\n",
       "      <td>5</td>\n",
       "    </tr>\n",
       "    <tr>\n",
       "      <th>19</th>\n",
       "      <td>TanaRiver</td>\n",
       "      <td>50</td>\n",
       "    </tr>\n",
       "    <tr>\n",
       "      <th>20</th>\n",
       "      <td>TharakaNithi</td>\n",
       "      <td>20</td>\n",
       "    </tr>\n",
       "    <tr>\n",
       "      <th>21</th>\n",
       "      <td>Turkana</td>\n",
       "      <td>34</td>\n",
       "    </tr>\n",
       "    <tr>\n",
       "      <th>22</th>\n",
       "      <td>Wajir</td>\n",
       "      <td>16</td>\n",
       "    </tr>\n",
       "    <tr>\n",
       "      <th>23</th>\n",
       "      <td>WestPokot</td>\n",
       "      <td>5</td>\n",
       "    </tr>\n",
       "  </tbody>\n",
       "</table>\n",
       "</div>"
      ],
      "text/plain": [
       "           location  val\n",
       "0           Baringo    8\n",
       "1   Elgeyo-Marakwet   11\n",
       "2           Garissa    9\n",
       "3           HomaBay   90\n",
       "4            Isiolo    3\n",
       "5            Kiambu   13\n",
       "6            Kisumu  101\n",
       "7             Kwale    9\n",
       "8           Mandera   17\n",
       "9          Marsabit   21\n",
       "10           Migori   10\n",
       "11          Mombasa    1\n",
       "12          Nairobi   20\n",
       "13            Nandi    4\n",
       "14            Narok   17\n",
       "15          Nyamira   40\n",
       "16        Nyandarua   12\n",
       "17          Samburu    5\n",
       "18      TaitaTaveta    5\n",
       "19        TanaRiver   50\n",
       "20     TharakaNithi   20\n",
       "21          Turkana   34\n",
       "22            Wajir   16\n",
       "23        WestPokot    5"
      ]
     },
     "execution_count": 41,
     "metadata": {},
     "output_type": "execute_result"
    }
   ],
   "source": [
    "location_filter = high_violence_yll_demos.groupby('location', as_index=False).count()\n",
    "location_filter = location_filter[['location', 'val']]\n",
    "location_filter"
   ]
  },
  {
   "cell_type": "code",
   "execution_count": 42,
   "id": "4b7b4288",
   "metadata": {},
   "outputs": [
    {
     "data": {
      "text/html": [
       "<div>\n",
       "<style scoped>\n",
       "    .dataframe tbody tr th:only-of-type {\n",
       "        vertical-align: middle;\n",
       "    }\n",
       "\n",
       "    .dataframe tbody tr th {\n",
       "        vertical-align: top;\n",
       "    }\n",
       "\n",
       "    .dataframe thead th {\n",
       "        text-align: right;\n",
       "    }\n",
       "</style>\n",
       "<table border=\"1\" class=\"dataframe\">\n",
       "  <thead>\n",
       "    <tr style=\"text-align: right;\">\n",
       "      <th></th>\n",
       "      <th>sex</th>\n",
       "      <th>val</th>\n",
       "    </tr>\n",
       "  </thead>\n",
       "  <tbody>\n",
       "    <tr>\n",
       "      <th>0</th>\n",
       "      <td>Female</td>\n",
       "      <td>4</td>\n",
       "    </tr>\n",
       "    <tr>\n",
       "      <th>1</th>\n",
       "      <td>Male</td>\n",
       "      <td>517</td>\n",
       "    </tr>\n",
       "  </tbody>\n",
       "</table>\n",
       "</div>"
      ],
      "text/plain": [
       "      sex  val\n",
       "0  Female    4\n",
       "1    Male  517"
      ]
     },
     "execution_count": 42,
     "metadata": {},
     "output_type": "execute_result"
    }
   ],
   "source": [
    "gender_filter = high_violence_yll_demos.groupby('sex', as_index=False).count()\n",
    "gender_filter = gender_filter[['sex', 'val']]\n",
    "gender_filter"
   ]
  },
  {
   "cell_type": "code",
   "execution_count": 43,
   "id": "336a3833",
   "metadata": {},
   "outputs": [
    {
     "data": {
      "text/html": [
       "<div>\n",
       "<style scoped>\n",
       "    .dataframe tbody tr th:only-of-type {\n",
       "        vertical-align: middle;\n",
       "    }\n",
       "\n",
       "    .dataframe tbody tr th {\n",
       "        vertical-align: top;\n",
       "    }\n",
       "\n",
       "    .dataframe thead th {\n",
       "        text-align: right;\n",
       "    }\n",
       "</style>\n",
       "<table border=\"1\" class=\"dataframe\">\n",
       "  <thead>\n",
       "    <tr style=\"text-align: right;\">\n",
       "      <th></th>\n",
       "      <th>age</th>\n",
       "      <th>val</th>\n",
       "    </tr>\n",
       "  </thead>\n",
       "  <tbody>\n",
       "    <tr>\n",
       "      <th>0</th>\n",
       "      <td>15 to 19</td>\n",
       "      <td>25</td>\n",
       "    </tr>\n",
       "    <tr>\n",
       "      <th>1</th>\n",
       "      <td>20 to 24</td>\n",
       "      <td>171</td>\n",
       "    </tr>\n",
       "    <tr>\n",
       "      <th>2</th>\n",
       "      <td>25 to 29</td>\n",
       "      <td>94</td>\n",
       "    </tr>\n",
       "    <tr>\n",
       "      <th>3</th>\n",
       "      <td>30 to 34</td>\n",
       "      <td>52</td>\n",
       "    </tr>\n",
       "    <tr>\n",
       "      <th>4</th>\n",
       "      <td>35 to 39</td>\n",
       "      <td>45</td>\n",
       "    </tr>\n",
       "    <tr>\n",
       "      <th>5</th>\n",
       "      <td>40 to 44</td>\n",
       "      <td>31</td>\n",
       "    </tr>\n",
       "    <tr>\n",
       "      <th>6</th>\n",
       "      <td>45 to 49</td>\n",
       "      <td>29</td>\n",
       "    </tr>\n",
       "    <tr>\n",
       "      <th>7</th>\n",
       "      <td>50 to 54</td>\n",
       "      <td>33</td>\n",
       "    </tr>\n",
       "    <tr>\n",
       "      <th>8</th>\n",
       "      <td>55 to 59</td>\n",
       "      <td>23</td>\n",
       "    </tr>\n",
       "    <tr>\n",
       "      <th>9</th>\n",
       "      <td>60 to 64</td>\n",
       "      <td>7</td>\n",
       "    </tr>\n",
       "    <tr>\n",
       "      <th>10</th>\n",
       "      <td>65 to 69</td>\n",
       "      <td>10</td>\n",
       "    </tr>\n",
       "    <tr>\n",
       "      <th>11</th>\n",
       "      <td>70 to 74</td>\n",
       "      <td>1</td>\n",
       "    </tr>\n",
       "  </tbody>\n",
       "</table>\n",
       "</div>"
      ],
      "text/plain": [
       "         age  val\n",
       "0   15 to 19   25\n",
       "1   20 to 24  171\n",
       "2   25 to 29   94\n",
       "3   30 to 34   52\n",
       "4   35 to 39   45\n",
       "5   40 to 44   31\n",
       "6   45 to 49   29\n",
       "7   50 to 54   33\n",
       "8   55 to 59   23\n",
       "9   60 to 64    7\n",
       "10  65 to 69   10\n",
       "11  70 to 74    1"
      ]
     },
     "execution_count": 43,
     "metadata": {},
     "output_type": "execute_result"
    }
   ],
   "source": [
    "age_filter = high_violence_yll_demos.groupby('age', as_index=False).count()\n",
    "age_filter = age_filter[['age', 'val']]\n",
    "age_filter"
   ]
  },
  {
   "cell_type": "code",
   "execution_count": 44,
   "id": "1cc658c3",
   "metadata": {},
   "outputs": [
    {
     "name": "stdout",
     "output_type": "stream",
     "text": [
      "Total number of sub groups:  35720\n",
      "Number of sub groups with higher violence death rate than diabetes death rate:  521\n"
     ]
    }
   ],
   "source": [
    "#we campare number of demographs (using deaths) vs the total number of demographs that have a higher iv homicide rate than \n",
    "#overall overall average.\n",
    "newdf = df[df['measure'].str.contains(\"YLL\")]\n",
    "print(\"Total number of sub groups: \", len(newdf))\n",
    "print(\"Number of sub groups with higher violence death rate than diabetes death rate: \", len(high_violence_yll_demos))"
   ]
  },
  {
   "cell_type": "markdown",
   "id": "758ee875",
   "metadata": {},
   "source": [
    "### Create table that lets us compare high homicde demographs to their corresponding diabetes yll rates"
   ]
  },
  {
   "cell_type": "code",
   "execution_count": 45,
   "id": "7296b5fa",
   "metadata": {},
   "outputs": [],
   "source": [
    "diabetes_ylls = df[df['measure'].str.contains('YLL') &\n",
    "             df['cause'].str.contains('Diabetes')]"
   ]
  },
  {
   "cell_type": "code",
   "execution_count": 46,
   "id": "bc5a9d51",
   "metadata": {},
   "outputs": [
    {
     "data": {
      "text/plain": [
       "(521, 9)"
      ]
     },
     "execution_count": 46,
     "metadata": {},
     "output_type": "execute_result"
    }
   ],
   "source": [
    "#https://stackoverflow.com/questions/54006298/select-rows-of-a-dataframe-based-on-another-dataframe-in-python\n",
    "\n",
    "#create a new df using multiindex to combine the high homicide demographs with their corresponding diabetes deaths\n",
    "#This cell get the diabetes rows\n",
    "diabetes_ylls = diabetes_ylls[diabetes_ylls.set_index(['country','location', 'sex', 'age', 'year']).index.isin(high_violence_yll_demos.set_index(['country', 'location', 'sex', 'age', 'year']).index)]\n",
    "diabetes_ylls.shape"
   ]
  },
  {
   "cell_type": "code",
   "execution_count": 47,
   "id": "744446e8",
   "metadata": {},
   "outputs": [
    {
     "data": {
      "text/html": [
       "<div>\n",
       "<style scoped>\n",
       "    .dataframe tbody tr th:only-of-type {\n",
       "        vertical-align: middle;\n",
       "    }\n",
       "\n",
       "    .dataframe tbody tr th {\n",
       "        vertical-align: top;\n",
       "    }\n",
       "\n",
       "    .dataframe thead th {\n",
       "        text-align: right;\n",
       "    }\n",
       "</style>\n",
       "<table border=\"1\" class=\"dataframe\">\n",
       "  <thead>\n",
       "    <tr style=\"text-align: right;\">\n",
       "      <th></th>\n",
       "      <th>country</th>\n",
       "      <th>measure</th>\n",
       "      <th>location</th>\n",
       "      <th>sex</th>\n",
       "      <th>age_sort</th>\n",
       "      <th>age</th>\n",
       "      <th>cause</th>\n",
       "      <th>year</th>\n",
       "      <th>val</th>\n",
       "    </tr>\n",
       "  </thead>\n",
       "  <tbody>\n",
       "    <tr>\n",
       "      <th>462648</th>\n",
       "      <td>Kenya</td>\n",
       "      <td>YLLs (Years of Life Lost)</td>\n",
       "      <td>Baringo</td>\n",
       "      <td>Male</td>\n",
       "      <td>2</td>\n",
       "      <td>20 to 24</td>\n",
       "      <td>Diabetes mellitus</td>\n",
       "      <td>2010</td>\n",
       "      <td>158.428127</td>\n",
       "    </tr>\n",
       "    <tr>\n",
       "      <th>462350</th>\n",
       "      <td>Kenya</td>\n",
       "      <td>YLLs (Years of Life Lost)</td>\n",
       "      <td>Baringo</td>\n",
       "      <td>Male</td>\n",
       "      <td>2</td>\n",
       "      <td>20 to 24</td>\n",
       "      <td>Interpersonal violence</td>\n",
       "      <td>2010</td>\n",
       "      <td>1916.238453</td>\n",
       "    </tr>\n",
       "    <tr>\n",
       "      <th>467930</th>\n",
       "      <td>Kenya</td>\n",
       "      <td>YLLs (Years of Life Lost)</td>\n",
       "      <td>Baringo</td>\n",
       "      <td>Male</td>\n",
       "      <td>2</td>\n",
       "      <td>20 to 24</td>\n",
       "      <td>Diabetes mellitus</td>\n",
       "      <td>2011</td>\n",
       "      <td>154.840530</td>\n",
       "    </tr>\n",
       "    <tr>\n",
       "      <th>463334</th>\n",
       "      <td>Kenya</td>\n",
       "      <td>YLLs (Years of Life Lost)</td>\n",
       "      <td>Baringo</td>\n",
       "      <td>Male</td>\n",
       "      <td>2</td>\n",
       "      <td>20 to 24</td>\n",
       "      <td>Interpersonal violence</td>\n",
       "      <td>2011</td>\n",
       "      <td>1909.898774</td>\n",
       "    </tr>\n",
       "    <tr>\n",
       "      <th>463864</th>\n",
       "      <td>Kenya</td>\n",
       "      <td>YLLs (Years of Life Lost)</td>\n",
       "      <td>Baringo</td>\n",
       "      <td>Male</td>\n",
       "      <td>2</td>\n",
       "      <td>20 to 24</td>\n",
       "      <td>Diabetes mellitus</td>\n",
       "      <td>2012</td>\n",
       "      <td>147.648231</td>\n",
       "    </tr>\n",
       "    <tr>\n",
       "      <th>469070</th>\n",
       "      <td>Kenya</td>\n",
       "      <td>YLLs (Years of Life Lost)</td>\n",
       "      <td>Baringo</td>\n",
       "      <td>Male</td>\n",
       "      <td>2</td>\n",
       "      <td>20 to 24</td>\n",
       "      <td>Interpersonal violence</td>\n",
       "      <td>2012</td>\n",
       "      <td>1889.548056</td>\n",
       "    </tr>\n",
       "    <tr>\n",
       "      <th>473250</th>\n",
       "      <td>Kenya</td>\n",
       "      <td>YLLs (Years of Life Lost)</td>\n",
       "      <td>Baringo</td>\n",
       "      <td>Male</td>\n",
       "      <td>2</td>\n",
       "      <td>20 to 24</td>\n",
       "      <td>Diabetes mellitus</td>\n",
       "      <td>2014</td>\n",
       "      <td>133.210899</td>\n",
       "    </tr>\n",
       "    <tr>\n",
       "      <th>468576</th>\n",
       "      <td>Kenya</td>\n",
       "      <td>YLLs (Years of Life Lost)</td>\n",
       "      <td>Baringo</td>\n",
       "      <td>Male</td>\n",
       "      <td>2</td>\n",
       "      <td>20 to 24</td>\n",
       "      <td>Interpersonal violence</td>\n",
       "      <td>2014</td>\n",
       "      <td>2230.151008</td>\n",
       "    </tr>\n",
       "    <tr>\n",
       "      <th>477962</th>\n",
       "      <td>Kenya</td>\n",
       "      <td>YLLs (Years of Life Lost)</td>\n",
       "      <td>Baringo</td>\n",
       "      <td>Male</td>\n",
       "      <td>2</td>\n",
       "      <td>20 to 24</td>\n",
       "      <td>Diabetes mellitus</td>\n",
       "      <td>2015</td>\n",
       "      <td>130.114712</td>\n",
       "    </tr>\n",
       "    <tr>\n",
       "      <th>474048</th>\n",
       "      <td>Kenya</td>\n",
       "      <td>YLLs (Years of Life Lost)</td>\n",
       "      <td>Baringo</td>\n",
       "      <td>Male</td>\n",
       "      <td>2</td>\n",
       "      <td>20 to 24</td>\n",
       "      <td>Interpersonal violence</td>\n",
       "      <td>2015</td>\n",
       "      <td>2446.867738</td>\n",
       "    </tr>\n",
       "    <tr>\n",
       "      <th>473252</th>\n",
       "      <td>Kenya</td>\n",
       "      <td>YLLs (Years of Life Lost)</td>\n",
       "      <td>Baringo</td>\n",
       "      <td>Male</td>\n",
       "      <td>2</td>\n",
       "      <td>25 to 29</td>\n",
       "      <td>Diabetes mellitus</td>\n",
       "      <td>2014</td>\n",
       "      <td>85.997064</td>\n",
       "    </tr>\n",
       "    <tr>\n",
       "      <th>468578</th>\n",
       "      <td>Kenya</td>\n",
       "      <td>YLLs (Years of Life Lost)</td>\n",
       "      <td>Baringo</td>\n",
       "      <td>Male</td>\n",
       "      <td>2</td>\n",
       "      <td>25 to 29</td>\n",
       "      <td>Interpersonal violence</td>\n",
       "      <td>2014</td>\n",
       "      <td>1989.864899</td>\n",
       "    </tr>\n",
       "    <tr>\n",
       "      <th>477964</th>\n",
       "      <td>Kenya</td>\n",
       "      <td>YLLs (Years of Life Lost)</td>\n",
       "      <td>Baringo</td>\n",
       "      <td>Male</td>\n",
       "      <td>2</td>\n",
       "      <td>25 to 29</td>\n",
       "      <td>Diabetes mellitus</td>\n",
       "      <td>2015</td>\n",
       "      <td>84.343855</td>\n",
       "    </tr>\n",
       "    <tr>\n",
       "      <th>474050</th>\n",
       "      <td>Kenya</td>\n",
       "      <td>YLLs (Years of Life Lost)</td>\n",
       "      <td>Baringo</td>\n",
       "      <td>Male</td>\n",
       "      <td>2</td>\n",
       "      <td>25 to 29</td>\n",
       "      <td>Interpersonal violence</td>\n",
       "      <td>2015</td>\n",
       "      <td>2226.384619</td>\n",
       "    </tr>\n",
       "    <tr>\n",
       "      <th>477966</th>\n",
       "      <td>Kenya</td>\n",
       "      <td>YLLs (Years of Life Lost)</td>\n",
       "      <td>Baringo</td>\n",
       "      <td>Male</td>\n",
       "      <td>2</td>\n",
       "      <td>30 to 34</td>\n",
       "      <td>Diabetes mellitus</td>\n",
       "      <td>2015</td>\n",
       "      <td>148.786928</td>\n",
       "    </tr>\n",
       "    <tr>\n",
       "      <th>474052</th>\n",
       "      <td>Kenya</td>\n",
       "      <td>YLLs (Years of Life Lost)</td>\n",
       "      <td>Baringo</td>\n",
       "      <td>Male</td>\n",
       "      <td>2</td>\n",
       "      <td>30 to 34</td>\n",
       "      <td>Interpersonal violence</td>\n",
       "      <td>2015</td>\n",
       "      <td>1955.045439</td>\n",
       "    </tr>\n",
       "    <tr>\n",
       "      <th>479898</th>\n",
       "      <td>Kenya</td>\n",
       "      <td>YLLs (Years of Life Lost)</td>\n",
       "      <td>Elgeyo-Marakwet</td>\n",
       "      <td>Male</td>\n",
       "      <td>2</td>\n",
       "      <td>15 to 19</td>\n",
       "      <td>Diabetes mellitus</td>\n",
       "      <td>2016</td>\n",
       "      <td>43.722526</td>\n",
       "    </tr>\n",
       "    <tr>\n",
       "      <th>480050</th>\n",
       "      <td>Kenya</td>\n",
       "      <td>YLLs (Years of Life Lost)</td>\n",
       "      <td>Elgeyo-Marakwet</td>\n",
       "      <td>Male</td>\n",
       "      <td>2</td>\n",
       "      <td>15 to 19</td>\n",
       "      <td>Interpersonal violence</td>\n",
       "      <td>2016</td>\n",
       "      <td>2682.897581</td>\n",
       "    </tr>\n",
       "    <tr>\n",
       "      <th>462762</th>\n",
       "      <td>Kenya</td>\n",
       "      <td>YLLs (Years of Life Lost)</td>\n",
       "      <td>Elgeyo-Marakwet</td>\n",
       "      <td>Male</td>\n",
       "      <td>2</td>\n",
       "      <td>20 to 24</td>\n",
       "      <td>Diabetes mellitus</td>\n",
       "      <td>2010</td>\n",
       "      <td>129.804739</td>\n",
       "    </tr>\n",
       "    <tr>\n",
       "      <th>462838</th>\n",
       "      <td>Kenya</td>\n",
       "      <td>YLLs (Years of Life Lost)</td>\n",
       "      <td>Elgeyo-Marakwet</td>\n",
       "      <td>Male</td>\n",
       "      <td>2</td>\n",
       "      <td>20 to 24</td>\n",
       "      <td>Interpersonal violence</td>\n",
       "      <td>2010</td>\n",
       "      <td>1997.480473</td>\n",
       "    </tr>\n",
       "  </tbody>\n",
       "</table>\n",
       "</div>"
      ],
      "text/plain": [
       "       country                    measure         location   sex  age_sort  \\\n",
       "462648   Kenya  YLLs (Years of Life Lost)          Baringo  Male         2   \n",
       "462350   Kenya  YLLs (Years of Life Lost)          Baringo  Male         2   \n",
       "467930   Kenya  YLLs (Years of Life Lost)          Baringo  Male         2   \n",
       "463334   Kenya  YLLs (Years of Life Lost)          Baringo  Male         2   \n",
       "463864   Kenya  YLLs (Years of Life Lost)          Baringo  Male         2   \n",
       "469070   Kenya  YLLs (Years of Life Lost)          Baringo  Male         2   \n",
       "473250   Kenya  YLLs (Years of Life Lost)          Baringo  Male         2   \n",
       "468576   Kenya  YLLs (Years of Life Lost)          Baringo  Male         2   \n",
       "477962   Kenya  YLLs (Years of Life Lost)          Baringo  Male         2   \n",
       "474048   Kenya  YLLs (Years of Life Lost)          Baringo  Male         2   \n",
       "473252   Kenya  YLLs (Years of Life Lost)          Baringo  Male         2   \n",
       "468578   Kenya  YLLs (Years of Life Lost)          Baringo  Male         2   \n",
       "477964   Kenya  YLLs (Years of Life Lost)          Baringo  Male         2   \n",
       "474050   Kenya  YLLs (Years of Life Lost)          Baringo  Male         2   \n",
       "477966   Kenya  YLLs (Years of Life Lost)          Baringo  Male         2   \n",
       "474052   Kenya  YLLs (Years of Life Lost)          Baringo  Male         2   \n",
       "479898   Kenya  YLLs (Years of Life Lost)  Elgeyo-Marakwet  Male         2   \n",
       "480050   Kenya  YLLs (Years of Life Lost)  Elgeyo-Marakwet  Male         2   \n",
       "462762   Kenya  YLLs (Years of Life Lost)  Elgeyo-Marakwet  Male         2   \n",
       "462838   Kenya  YLLs (Years of Life Lost)  Elgeyo-Marakwet  Male         2   \n",
       "\n",
       "             age                   cause  year          val  \n",
       "462648  20 to 24       Diabetes mellitus  2010   158.428127  \n",
       "462350  20 to 24  Interpersonal violence  2010  1916.238453  \n",
       "467930  20 to 24       Diabetes mellitus  2011   154.840530  \n",
       "463334  20 to 24  Interpersonal violence  2011  1909.898774  \n",
       "463864  20 to 24       Diabetes mellitus  2012   147.648231  \n",
       "469070  20 to 24  Interpersonal violence  2012  1889.548056  \n",
       "473250  20 to 24       Diabetes mellitus  2014   133.210899  \n",
       "468576  20 to 24  Interpersonal violence  2014  2230.151008  \n",
       "477962  20 to 24       Diabetes mellitus  2015   130.114712  \n",
       "474048  20 to 24  Interpersonal violence  2015  2446.867738  \n",
       "473252  25 to 29       Diabetes mellitus  2014    85.997064  \n",
       "468578  25 to 29  Interpersonal violence  2014  1989.864899  \n",
       "477964  25 to 29       Diabetes mellitus  2015    84.343855  \n",
       "474050  25 to 29  Interpersonal violence  2015  2226.384619  \n",
       "477966  30 to 34       Diabetes mellitus  2015   148.786928  \n",
       "474052  30 to 34  Interpersonal violence  2015  1955.045439  \n",
       "479898  15 to 19       Diabetes mellitus  2016    43.722526  \n",
       "480050  15 to 19  Interpersonal violence  2016  2682.897581  \n",
       "462762  20 to 24       Diabetes mellitus  2010   129.804739  \n",
       "462838  20 to 24  Interpersonal violence  2010  1997.480473  "
      ]
     },
     "execution_count": 47,
     "metadata": {},
     "output_type": "execute_result"
    }
   ],
   "source": [
    "#combine the tables \n",
    "higher_violence_ylls_with_diabetes = diabetes_ylls.append(high_violence_yll_demos)\n",
    "higher_violence_ylls_with_diabetes = higher_violence_ylls_with_diabetes.sort_values(by=['location', 'sex', 'age', 'year'])\n",
    "higher_violence_ylls_with_diabetes.head(20)"
   ]
  },
  {
   "cell_type": "code",
   "execution_count": 48,
   "id": "f99aa62a",
   "metadata": {},
   "outputs": [
    {
     "data": {
      "text/plain": [
       "(1042, 9)"
      ]
     },
     "execution_count": 48,
     "metadata": {},
     "output_type": "execute_result"
    }
   ],
   "source": [
    "higher_violence_ylls_with_diabetes.shape"
   ]
  },
  {
   "cell_type": "code",
   "execution_count": 49,
   "id": "a3042a67",
   "metadata": {},
   "outputs": [],
   "source": [
    "#could show distribution of high homicide locations"
   ]
  },
  {
   "cell_type": "code",
   "execution_count": 50,
   "id": "d67288bd",
   "metadata": {},
   "outputs": [],
   "source": [
    "#make observation of this data = doesn't seem like high crime rate is follow by high diabetes - so maybe not common cause like poor hospitals."
   ]
  },
  {
   "cell_type": "code",
   "execution_count": 51,
   "id": "52b1a6ad",
   "metadata": {},
   "outputs": [],
   "source": [
    "#Can perhaps remark on how geographical location seems very important - not just 'Brazil' but specific location in brazil"
   ]
  },
  {
   "cell_type": "code",
   "execution_count": 52,
   "id": "afa9691b",
   "metadata": {},
   "outputs": [],
   "source": [
    "#Now should do the above for specific countries"
   ]
  }
 ],
 "metadata": {
  "kernelspec": {
   "display_name": "Python 3",
   "language": "python",
   "name": "python3"
  },
  "language_info": {
   "codemirror_mode": {
    "name": "ipython",
    "version": 3
   },
   "file_extension": ".py",
   "mimetype": "text/x-python",
   "name": "python",
   "nbconvert_exporter": "python",
   "pygments_lexer": "ipython3",
   "version": "3.8.8"
  }
 },
 "nbformat": 4,
 "nbformat_minor": 5
}
