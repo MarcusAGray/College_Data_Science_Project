{
 "cells": [
  {
   "cell_type": "markdown",
   "id": "273a14d6",
   "metadata": {},
   "source": [
    "# Basic processing for kenya data sets"
   ]
  },
  {
   "cell_type": "markdown",
   "id": "508a0088",
   "metadata": {},
   "source": [
    "# Setup"
   ]
  },
  {
   "cell_type": "markdown",
   "id": "a34c07a8",
   "metadata": {},
   "source": [
    "## Imports"
   ]
  },
  {
   "cell_type": "code",
   "execution_count": 2,
   "id": "a3a3e9d4",
   "metadata": {},
   "outputs": [],
   "source": [
    "import pandas as pd\n",
    "import numpy as np"
   ]
  },
  {
   "cell_type": "markdown",
   "id": "72b0fc72",
   "metadata": {},
   "source": [
    "## Parameters"
   ]
  },
  {
   "cell_type": "code",
   "execution_count": 3,
   "id": "4c957663",
   "metadata": {},
   "outputs": [],
   "source": [
    "KENYA1_DATASET = \"../../../data/RQ2/raw/kenya1.csv\"\n",
    "KENYA2_DATASET = \"../../../data/RQ2/raw/kenya2.csv\"\n",
    "KENYA3_DATASET = \"../../../data/RQ2/raw/kenya3.csv\"\n",
    "KENYA4_DATASET = \"../../../data/RQ2/raw/kenya4.csv\"\n",
    "KENYA5_DATASET = \"../../../data/RQ2/raw/kenya5.csv\"\n",
    "KENYA6_DATASET = \"../../../data/RQ2/raw/kenya6.csv\"\n",
    "KENYA7_DATASET = \"../../../data/RQ2/raw/kenya7.csv\"\n",
    "KENYA8_DATASET = \"../../../data/RQ2/raw/kenya8.csv\"\n",
    "KENYA9_DATASET = \"../../../data/RQ2/raw/kenya9.csv\"\n",
    "\n",
    "PROCESSED_JUST_KENYA_DATASET = \"../../../data/RQ2/processed/just_kenya_df.csv\"\n",
    "PROCESSED_KENYA_DATASET = \"../../../data/RQ2/processed/kenya_df.csv\""
   ]
  },
  {
   "cell_type": "markdown",
   "id": "72166325",
   "metadata": {},
   "source": [
    "# Loading the Datasets"
   ]
  },
  {
   "cell_type": "code",
   "execution_count": 5,
   "id": "0f196dcd",
   "metadata": {},
   "outputs": [],
   "source": [
    "df1 = pd.read_csv(KENYA1_DATASET)\n",
    "df2 = pd.read_csv(KENYA2_DATASET)\n",
    "df3 = pd.read_csv(KENYA3_DATASET)\n",
    "df4 = pd.read_csv(KENYA4_DATASET)\n",
    "df5 = pd.read_csv(KENYA5_DATASET)\n",
    "df6 = pd.read_csv(KENYA6_DATASET)\n",
    "df7 = pd.read_csv(KENYA7_DATASET)\n",
    "df8 = pd.read_csv(KENYA8_DATASET)\n",
    "df9 = pd.read_csv(KENYA9_DATASET)"
   ]
  },
  {
   "cell_type": "code",
   "execution_count": 6,
   "id": "d5140e78",
   "metadata": {},
   "outputs": [
    {
     "data": {
      "text/plain": [
       "(3888000, 10)"
      ]
     },
     "execution_count": 6,
     "metadata": {},
     "output_type": "execute_result"
    }
   ],
   "source": [
    "kenya_raw_df = df1.append([df2, df3, df4, df5, df6, df7, df8, df9])\n",
    "kenya_raw_df.shape"
   ]
  },
  {
   "cell_type": "code",
   "execution_count": 7,
   "id": "4809cc25",
   "metadata": {},
   "outputs": [
    {
     "data": {
      "text/html": [
       "<div>\n",
       "<style scoped>\n",
       "    .dataframe tbody tr th:only-of-type {\n",
       "        vertical-align: middle;\n",
       "    }\n",
       "\n",
       "    .dataframe tbody tr th {\n",
       "        vertical-align: top;\n",
       "    }\n",
       "\n",
       "    .dataframe thead th {\n",
       "        text-align: right;\n",
       "    }\n",
       "</style>\n",
       "<table border=\"1\" class=\"dataframe\">\n",
       "  <thead>\n",
       "    <tr style=\"text-align: right;\">\n",
       "      <th></th>\n",
       "      <th>measure</th>\n",
       "      <th>location</th>\n",
       "      <th>sex</th>\n",
       "      <th>age</th>\n",
       "      <th>cause</th>\n",
       "      <th>metric</th>\n",
       "      <th>year</th>\n",
       "      <th>val</th>\n",
       "      <th>upper</th>\n",
       "      <th>lower</th>\n",
       "    </tr>\n",
       "  </thead>\n",
       "  <tbody>\n",
       "    <tr>\n",
       "      <th>0</th>\n",
       "      <td>Deaths</td>\n",
       "      <td>Makueni</td>\n",
       "      <td>Male</td>\n",
       "      <td>1 to 4</td>\n",
       "      <td>Interpersonal violence</td>\n",
       "      <td>Number</td>\n",
       "      <td>1990</td>\n",
       "      <td>0.231336</td>\n",
       "      <td>0.608340</td>\n",
       "      <td>0.073563</td>\n",
       "    </tr>\n",
       "    <tr>\n",
       "      <th>1</th>\n",
       "      <td>Deaths</td>\n",
       "      <td>Makueni</td>\n",
       "      <td>Female</td>\n",
       "      <td>1 to 4</td>\n",
       "      <td>Interpersonal violence</td>\n",
       "      <td>Number</td>\n",
       "      <td>1990</td>\n",
       "      <td>0.450095</td>\n",
       "      <td>1.198621</td>\n",
       "      <td>0.105132</td>\n",
       "    </tr>\n",
       "    <tr>\n",
       "      <th>2</th>\n",
       "      <td>Deaths</td>\n",
       "      <td>Makueni</td>\n",
       "      <td>Male</td>\n",
       "      <td>1 to 4</td>\n",
       "      <td>Interpersonal violence</td>\n",
       "      <td>Percent</td>\n",
       "      <td>1990</td>\n",
       "      <td>0.001057</td>\n",
       "      <td>0.002660</td>\n",
       "      <td>0.000366</td>\n",
       "    </tr>\n",
       "    <tr>\n",
       "      <th>3</th>\n",
       "      <td>Deaths</td>\n",
       "      <td>Makueni</td>\n",
       "      <td>Female</td>\n",
       "      <td>1 to 4</td>\n",
       "      <td>Interpersonal violence</td>\n",
       "      <td>Percent</td>\n",
       "      <td>1990</td>\n",
       "      <td>0.001299</td>\n",
       "      <td>0.003423</td>\n",
       "      <td>0.000308</td>\n",
       "    </tr>\n",
       "    <tr>\n",
       "      <th>4</th>\n",
       "      <td>Deaths</td>\n",
       "      <td>Makueni</td>\n",
       "      <td>Male</td>\n",
       "      <td>1 to 4</td>\n",
       "      <td>Interpersonal violence</td>\n",
       "      <td>Rate</td>\n",
       "      <td>1990</td>\n",
       "      <td>0.634043</td>\n",
       "      <td>1.667336</td>\n",
       "      <td>0.201621</td>\n",
       "    </tr>\n",
       "  </tbody>\n",
       "</table>\n",
       "</div>"
      ],
      "text/plain": [
       "  measure location     sex     age                   cause   metric  year  \\\n",
       "0  Deaths  Makueni    Male  1 to 4  Interpersonal violence   Number  1990   \n",
       "1  Deaths  Makueni  Female  1 to 4  Interpersonal violence   Number  1990   \n",
       "2  Deaths  Makueni    Male  1 to 4  Interpersonal violence  Percent  1990   \n",
       "3  Deaths  Makueni  Female  1 to 4  Interpersonal violence  Percent  1990   \n",
       "4  Deaths  Makueni    Male  1 to 4  Interpersonal violence     Rate  1990   \n",
       "\n",
       "        val     upper     lower  \n",
       "0  0.231336  0.608340  0.073563  \n",
       "1  0.450095  1.198621  0.105132  \n",
       "2  0.001057  0.002660  0.000366  \n",
       "3  0.001299  0.003423  0.000308  \n",
       "4  0.634043  1.667336  0.201621  "
      ]
     },
     "execution_count": 7,
     "metadata": {},
     "output_type": "execute_result"
    }
   ],
   "source": [
    "kenya_raw_df.head()"
   ]
  },
  {
   "cell_type": "code",
   "execution_count": 8,
   "id": "53664151",
   "metadata": {},
   "outputs": [
    {
     "data": {
      "text/plain": [
       "(1969920, 10)"
      ]
     },
     "execution_count": 8,
     "metadata": {},
     "output_type": "execute_result"
    }
   ],
   "source": [
    "kenya_raw_df = kenya_raw_df[~kenya_raw_df['cause'].str.contains('kidney')]\n",
    "kenya_raw_df.shape"
   ]
  },
  {
   "cell_type": "code",
   "execution_count": 9,
   "id": "513b2850",
   "metadata": {},
   "outputs": [
    {
     "data": {
      "text/plain": [
       "array(['Interpersonal violence', 'Diabetes mellitus'], dtype=object)"
      ]
     },
     "execution_count": 9,
     "metadata": {},
     "output_type": "execute_result"
    }
   ],
   "source": [
    "kenya_raw_df['cause'].unique()"
   ]
  },
  {
   "cell_type": "code",
   "execution_count": 10,
   "id": "54cecc7a",
   "metadata": {},
   "outputs": [
    {
     "data": {
      "text/plain": [
       "48"
      ]
     },
     "execution_count": 10,
     "metadata": {},
     "output_type": "execute_result"
    }
   ],
   "source": [
    "kenya_raw_df['location'].nunique()"
   ]
  },
  {
   "cell_type": "code",
   "execution_count": 11,
   "id": "ccdb95fd",
   "metadata": {},
   "outputs": [
    {
     "data": {
      "text/plain": [
       "array(['Makueni', 'TaitaTaveta', 'Mandera', 'Meru', \"Murang'a\",\n",
       "       'TanaRiver', 'Lamu', 'Turkana', 'TransNzoia', 'Migori', 'Machakos',\n",
       "       'TharakaNithi', 'Vihiga', 'Mombasa', 'Nandi', 'Wajir', 'Nairobi',\n",
       "       'UasinGishu', 'WestPokot', 'Nyandarua', 'Marsabit', 'Nakuru',\n",
       "       'Nyamira', 'Samburu', 'Nyeri', 'Narok', 'Siaya', 'HomaBay',\n",
       "       'Kenya', 'Kajiado', 'Isiolo', 'Kakamega', 'Kericho', 'Baringo',\n",
       "       'Kilifi', 'Kiambu', 'Bomet', 'Kirinyaga', 'Bungoma', 'Busia',\n",
       "       'Kisii', 'Kisumu', 'Kitui', 'Embu', 'Garissa', 'Kwale', 'Laikipia',\n",
       "       'Elgeyo-Marakwet'], dtype=object)"
      ]
     },
     "execution_count": 11,
     "metadata": {},
     "output_type": "execute_result"
    }
   ],
   "source": [
    "kenya_raw_df['location'].unique()"
   ]
  },
  {
   "cell_type": "code",
   "execution_count": 12,
   "id": "d913656c",
   "metadata": {},
   "outputs": [
    {
     "data": {
      "text/plain": [
       "0"
      ]
     },
     "execution_count": 12,
     "metadata": {},
     "output_type": "execute_result"
    }
   ],
   "source": [
    "kenya_raw_df.duplicated().sum()"
   ]
  },
  {
   "cell_type": "code",
   "execution_count": 13,
   "id": "afae6eae",
   "metadata": {},
   "outputs": [
    {
     "data": {
      "text/plain": [
       "array(['Deaths', 'YLLs (Years of Life Lost)', 'Incidence',\n",
       "       'DALYs (Disability-Adjusted Life Years)', 'Prevalence',\n",
       "       'YLDs (Years Lived with Disability)'], dtype=object)"
      ]
     },
     "execution_count": 13,
     "metadata": {},
     "output_type": "execute_result"
    }
   ],
   "source": [
    "kenya_raw_df['measure'].unique()"
   ]
  },
  {
   "cell_type": "code",
   "execution_count": 14,
   "id": "a190f85e",
   "metadata": {},
   "outputs": [
    {
     "data": {
      "text/html": [
       "<div>\n",
       "<style scoped>\n",
       "    .dataframe tbody tr th:only-of-type {\n",
       "        vertical-align: middle;\n",
       "    }\n",
       "\n",
       "    .dataframe tbody tr th {\n",
       "        vertical-align: top;\n",
       "    }\n",
       "\n",
       "    .dataframe thead th {\n",
       "        text-align: right;\n",
       "    }\n",
       "</style>\n",
       "<table border=\"1\" class=\"dataframe\">\n",
       "  <thead>\n",
       "    <tr style=\"text-align: right;\">\n",
       "      <th></th>\n",
       "      <th>measure</th>\n",
       "      <th>location</th>\n",
       "      <th>sex</th>\n",
       "      <th>age</th>\n",
       "      <th>cause</th>\n",
       "      <th>metric</th>\n",
       "      <th>year</th>\n",
       "      <th>val</th>\n",
       "      <th>upper</th>\n",
       "      <th>lower</th>\n",
       "    </tr>\n",
       "  </thead>\n",
       "  <tbody>\n",
       "    <tr>\n",
       "      <th>245</th>\n",
       "      <td>YLLs (Years of Life Lost)</td>\n",
       "      <td>Kenya</td>\n",
       "      <td>Male</td>\n",
       "      <td>1 to 4</td>\n",
       "      <td>Diabetes mellitus</td>\n",
       "      <td>Number</td>\n",
       "      <td>1990</td>\n",
       "      <td>407.451711</td>\n",
       "      <td>607.247945</td>\n",
       "      <td>258.076478</td>\n",
       "    </tr>\n",
       "    <tr>\n",
       "      <th>246</th>\n",
       "      <td>YLLs (Years of Life Lost)</td>\n",
       "      <td>Kenya</td>\n",
       "      <td>Female</td>\n",
       "      <td>1 to 4</td>\n",
       "      <td>Diabetes mellitus</td>\n",
       "      <td>Number</td>\n",
       "      <td>1990</td>\n",
       "      <td>292.453025</td>\n",
       "      <td>454.901946</td>\n",
       "      <td>174.526268</td>\n",
       "    </tr>\n",
       "    <tr>\n",
       "      <th>247</th>\n",
       "      <td>YLLs (Years of Life Lost)</td>\n",
       "      <td>Kenya</td>\n",
       "      <td>Male</td>\n",
       "      <td>1 to 4</td>\n",
       "      <td>Diabetes mellitus</td>\n",
       "      <td>Percent</td>\n",
       "      <td>1990</td>\n",
       "      <td>0.000310</td>\n",
       "      <td>0.000433</td>\n",
       "      <td>0.000199</td>\n",
       "    </tr>\n",
       "    <tr>\n",
       "      <th>248</th>\n",
       "      <td>YLLs (Years of Life Lost)</td>\n",
       "      <td>Kenya</td>\n",
       "      <td>Female</td>\n",
       "      <td>1 to 4</td>\n",
       "      <td>Diabetes mellitus</td>\n",
       "      <td>Percent</td>\n",
       "      <td>1990</td>\n",
       "      <td>0.000235</td>\n",
       "      <td>0.000366</td>\n",
       "      <td>0.000141</td>\n",
       "    </tr>\n",
       "    <tr>\n",
       "      <th>249</th>\n",
       "      <td>YLLs (Years of Life Lost)</td>\n",
       "      <td>Kenya</td>\n",
       "      <td>Male</td>\n",
       "      <td>1 to 4</td>\n",
       "      <td>Diabetes mellitus</td>\n",
       "      <td>Rate</td>\n",
       "      <td>1990</td>\n",
       "      <td>23.823279</td>\n",
       "      <td>35.505157</td>\n",
       "      <td>15.089464</td>\n",
       "    </tr>\n",
       "  </tbody>\n",
       "</table>\n",
       "</div>"
      ],
      "text/plain": [
       "                       measure location     sex     age              cause  \\\n",
       "245  YLLs (Years of Life Lost)    Kenya    Male  1 to 4  Diabetes mellitus   \n",
       "246  YLLs (Years of Life Lost)    Kenya  Female  1 to 4  Diabetes mellitus   \n",
       "247  YLLs (Years of Life Lost)    Kenya    Male  1 to 4  Diabetes mellitus   \n",
       "248  YLLs (Years of Life Lost)    Kenya  Female  1 to 4  Diabetes mellitus   \n",
       "249  YLLs (Years of Life Lost)    Kenya    Male  1 to 4  Diabetes mellitus   \n",
       "\n",
       "      metric  year         val       upper       lower  \n",
       "245   Number  1990  407.451711  607.247945  258.076478  \n",
       "246   Number  1990  292.453025  454.901946  174.526268  \n",
       "247  Percent  1990    0.000310    0.000433    0.000199  \n",
       "248  Percent  1990    0.000235    0.000366    0.000141  \n",
       "249     Rate  1990   23.823279   35.505157   15.089464  "
      ]
     },
     "execution_count": 14,
     "metadata": {},
     "output_type": "execute_result"
    }
   ],
   "source": [
    "just_kenya_df = kenya_raw_df[kenya_raw_df['location'].str.contains('Kenya')]\n",
    "kenya_all_df = kenya_raw_df[~kenya_raw_df['location'].str.contains('Kenya')]\n",
    "just_kenya_df.head()"
   ]
  },
  {
   "cell_type": "code",
   "execution_count": 15,
   "id": "5d6c5df5",
   "metadata": {},
   "outputs": [
    {
     "data": {
      "text/plain": [
       "1"
      ]
     },
     "execution_count": 15,
     "metadata": {},
     "output_type": "execute_result"
    }
   ],
   "source": [
    "just_kenya_df['location'].nunique()"
   ]
  },
  {
   "cell_type": "code",
   "execution_count": 16,
   "id": "fc100c53",
   "metadata": {},
   "outputs": [
    {
     "data": {
      "text/plain": [
       "(1928880, 10)"
      ]
     },
     "execution_count": 16,
     "metadata": {},
     "output_type": "execute_result"
    }
   ],
   "source": [
    "kenya_all_df.shape"
   ]
  },
  {
   "cell_type": "code",
   "execution_count": 17,
   "id": "2cd3928a",
   "metadata": {},
   "outputs": [
    {
     "data": {
      "text/plain": [
       "(1928880, 8)"
      ]
     },
     "execution_count": 17,
     "metadata": {},
     "output_type": "execute_result"
    }
   ],
   "source": [
    "kenya_df = kenya_all_df.drop(['upper', 'lower'], axis=1)\n",
    "kenya_df.shape"
   ]
  },
  {
   "cell_type": "markdown",
   "id": "1be8bdc4",
   "metadata": {},
   "source": [
    "# Saving the Datasets"
   ]
  },
  {
   "cell_type": "code",
   "execution_count": 18,
   "id": "d5e0de1b",
   "metadata": {},
   "outputs": [],
   "source": [
    "just_kenya_df.to_csv(PROCESSED_JUST_KENYA_DATASET, index=False)\n",
    "kenya_df.to_csv(PROCESSED_KENYA_DATASET, index=False)"
   ]
  }
 ],
 "metadata": {
  "kernelspec": {
   "display_name": "Python 3",
   "language": "python",
   "name": "python3"
  },
  "language_info": {
   "codemirror_mode": {
    "name": "ipython",
    "version": 3
   },
   "file_extension": ".py",
   "mimetype": "text/x-python",
   "name": "python",
   "nbconvert_exporter": "python",
   "pygments_lexer": "ipython3",
   "version": "3.8.8"
  }
 },
 "nbformat": 4,
 "nbformat_minor": 5
}
