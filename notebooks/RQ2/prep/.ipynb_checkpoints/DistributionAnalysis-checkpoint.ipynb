{
 "cells": [
  {
   "cell_type": "code",
   "execution_count": 1,
   "id": "ba8dc9c8",
   "metadata": {},
   "outputs": [
    {
     "data": {
      "text/plain": [
       "'\\nNotebook will probably be unused\\n\\n\\nLook at distribution for all countries\\n\\nLoads;  \\n\\n\\n\\nProduces;\\n'"
      ]
     },
     "execution_count": 1,
     "metadata": {},
     "output_type": "execute_result"
    }
   ],
   "source": [
    "\"\"\"\n",
    "Notebook will probably be unused\n",
    "\n",
    "\n",
    "Look at distribution for all countries\n",
    "\n",
    "Loads;  \n",
    "\n",
    "\n",
    "\n",
    "Produces;\n",
    "\"\"\""
   ]
  },
  {
   "cell_type": "markdown",
   "id": "508a0088",
   "metadata": {},
   "source": [
    "# Setup"
   ]
  },
  {
   "cell_type": "markdown",
   "id": "a34c07a8",
   "metadata": {},
   "source": [
    "## Imports"
   ]
  },
  {
   "cell_type": "code",
   "execution_count": 186,
   "id": "a3a3e9d4",
   "metadata": {},
   "outputs": [],
   "source": [
    "import pandas as pd\n",
    "import numpy as np\n",
    "import matplotlib.pyplot as plt\n",
    "import datetime"
   ]
  },
  {
   "cell_type": "markdown",
   "id": "72b0fc72",
   "metadata": {},
   "source": [
    "## Parameters"
   ]
  },
  {
   "cell_type": "code",
   "execution_count": null,
   "id": "4c957663",
   "metadata": {},
   "outputs": [],
   "source": []
  },
  {
   "cell_type": "markdown",
   "id": "3019df86",
   "metadata": {},
   "source": [
    "Configuration"
   ]
  },
  {
   "cell_type": "code",
   "execution_count": 187,
   "id": "843b4dfd",
   "metadata": {},
   "outputs": [],
   "source": [
    "%matplotlib inline"
   ]
  },
  {
   "cell_type": "markdown",
   "id": "72166325",
   "metadata": {},
   "source": [
    "### Loading the datasets"
   ]
  },
  {
   "cell_type": "code",
   "execution_count": 191,
   "id": "0f196dcd",
   "metadata": {},
   "outputs": [],
   "source": [
    "df = pd.read_csv(\"../../data/processed/df.csv\")"
   ]
  },
  {
   "cell_type": "code",
   "execution_count": 193,
   "id": "1336f248",
   "metadata": {},
   "outputs": [],
   "source": [
    "df['year'] = pd.to_datetime(df['year'], format=\"%Y\")"
   ]
  },
  {
   "cell_type": "code",
   "execution_count": 194,
   "id": "5d8c4683",
   "metadata": {},
   "outputs": [
    {
     "data": {
      "text/html": [
       "<div>\n",
       "<style scoped>\n",
       "    .dataframe tbody tr th:only-of-type {\n",
       "        vertical-align: middle;\n",
       "    }\n",
       "\n",
       "    .dataframe tbody tr th {\n",
       "        vertical-align: top;\n",
       "    }\n",
       "\n",
       "    .dataframe thead th {\n",
       "        text-align: right;\n",
       "    }\n",
       "</style>\n",
       "<table border=\"1\" class=\"dataframe\">\n",
       "  <thead>\n",
       "    <tr style=\"text-align: right;\">\n",
       "      <th></th>\n",
       "      <th>country</th>\n",
       "      <th>measure</th>\n",
       "      <th>location</th>\n",
       "      <th>sex</th>\n",
       "      <th>age_sort</th>\n",
       "      <th>age</th>\n",
       "      <th>cause</th>\n",
       "      <th>year</th>\n",
       "      <th>val</th>\n",
       "    </tr>\n",
       "  </thead>\n",
       "  <tbody>\n",
       "    <tr>\n",
       "      <th>0</th>\n",
       "      <td>United Kingdom</td>\n",
       "      <td>YLLs (Years of Life Lost)</td>\n",
       "      <td>Wigan</td>\n",
       "      <td>Male</td>\n",
       "      <td>0</td>\n",
       "      <td>1 to 4</td>\n",
       "      <td>Diabetes mellitus</td>\n",
       "      <td>2010-01-01</td>\n",
       "      <td>2.403586</td>\n",
       "    </tr>\n",
       "    <tr>\n",
       "      <th>1</th>\n",
       "      <td>United Kingdom</td>\n",
       "      <td>YLLs (Years of Life Lost)</td>\n",
       "      <td>Wigan</td>\n",
       "      <td>Female</td>\n",
       "      <td>0</td>\n",
       "      <td>1 to 4</td>\n",
       "      <td>Diabetes mellitus</td>\n",
       "      <td>2010-01-01</td>\n",
       "      <td>3.287731</td>\n",
       "    </tr>\n",
       "    <tr>\n",
       "      <th>2</th>\n",
       "      <td>United Kingdom</td>\n",
       "      <td>YLLs (Years of Life Lost)</td>\n",
       "      <td>Wigan</td>\n",
       "      <td>Male</td>\n",
       "      <td>1</td>\n",
       "      <td>5 to 9</td>\n",
       "      <td>Diabetes mellitus</td>\n",
       "      <td>2010-01-01</td>\n",
       "      <td>1.983731</td>\n",
       "    </tr>\n",
       "    <tr>\n",
       "      <th>3</th>\n",
       "      <td>United Kingdom</td>\n",
       "      <td>YLLs (Years of Life Lost)</td>\n",
       "      <td>Wigan</td>\n",
       "      <td>Female</td>\n",
       "      <td>1</td>\n",
       "      <td>5 to 9</td>\n",
       "      <td>Diabetes mellitus</td>\n",
       "      <td>2010-01-01</td>\n",
       "      <td>2.037679</td>\n",
       "    </tr>\n",
       "    <tr>\n",
       "      <th>4</th>\n",
       "      <td>United Kingdom</td>\n",
       "      <td>YLLs (Years of Life Lost)</td>\n",
       "      <td>Wigan</td>\n",
       "      <td>Male</td>\n",
       "      <td>2</td>\n",
       "      <td>10 to 14</td>\n",
       "      <td>Diabetes mellitus</td>\n",
       "      <td>2010-01-01</td>\n",
       "      <td>2.203710</td>\n",
       "    </tr>\n",
       "  </tbody>\n",
       "</table>\n",
       "</div>"
      ],
      "text/plain": [
       "          country                    measure location     sex  age_sort  \\\n",
       "0  United Kingdom  YLLs (Years of Life Lost)    Wigan    Male         0   \n",
       "1  United Kingdom  YLLs (Years of Life Lost)    Wigan  Female         0   \n",
       "2  United Kingdom  YLLs (Years of Life Lost)    Wigan    Male         1   \n",
       "3  United Kingdom  YLLs (Years of Life Lost)    Wigan  Female         1   \n",
       "4  United Kingdom  YLLs (Years of Life Lost)    Wigan    Male         2   \n",
       "\n",
       "        age              cause       year       val  \n",
       "0    1 to 4  Diabetes mellitus 2010-01-01  2.403586  \n",
       "1    1 to 4  Diabetes mellitus 2010-01-01  3.287731  \n",
       "2    5 to 9  Diabetes mellitus 2010-01-01  1.983731  \n",
       "3    5 to 9  Diabetes mellitus 2010-01-01  2.037679  \n",
       "4  10 to 14  Diabetes mellitus 2010-01-01  2.203710  "
      ]
     },
     "execution_count": 194,
     "metadata": {},
     "output_type": "execute_result"
    }
   ],
   "source": [
    "df.head()"
   ]
  },
  {
   "cell_type": "code",
   "execution_count": 195,
   "id": "db7a9f5d",
   "metadata": {},
   "outputs": [],
   "source": [
    "#Just got 10 years from analysis - may have to do datetime later\n",
    "#Only getting the last 10 year\n",
    "#df = df[(df['year'] >= '2010-01-01')]\n",
    "#df"
   ]
  },
  {
   "cell_type": "code",
   "execution_count": 196,
   "id": "10fc3437",
   "metadata": {},
   "outputs": [
    {
     "data": {
      "text/plain": [
       "(598880, 9)"
      ]
     },
     "execution_count": 196,
     "metadata": {},
     "output_type": "execute_result"
    }
   ],
   "source": [
    "df.shape"
   ]
  },
  {
   "cell_type": "markdown",
   "id": "737804ad",
   "metadata": {},
   "source": [
    "### Look at distribution of deaths for all data"
   ]
  },
  {
   "cell_type": "markdown",
   "id": "87ab2c50",
   "metadata": {},
   "source": [
    "#### Distribution for interpersonal violence (Deaths)"
   ]
  },
  {
   "cell_type": "code",
   "execution_count": 197,
   "id": "434f2539",
   "metadata": {},
   "outputs": [],
   "source": [
    "america_violence_deaths = df[df['country'].str.fullmatch('America')&\n",
    "          df['measure'].str.fullmatch('Deaths')&\n",
    "          df['cause'].str.fullmatch('Interpersonal violence')]"
   ]
  },
  {
   "cell_type": "code",
   "execution_count": 198,
   "id": "6988eafc",
   "metadata": {},
   "outputs": [],
   "source": [
    "america_violence_deaths = america_violence_deaths.groupby(['location'], as_index=False).agg({'val':'mean'})"
   ]
  },
  {
   "cell_type": "code",
   "execution_count": 199,
   "id": "6bb7dfb9",
   "metadata": {},
   "outputs": [],
   "source": [
    "mexico_violence_deaths = df[df['country'].str.fullmatch('Mexico')&\n",
    "          df['measure'].str.fullmatch('Deaths')&\n",
    "          df['cause'].str.fullmatch('Interpersonal violence')]"
   ]
  },
  {
   "cell_type": "code",
   "execution_count": 200,
   "id": "d7d1ba30",
   "metadata": {},
   "outputs": [],
   "source": [
    "mexico_violence_deaths = mexico_violence_deaths.groupby(['location'], as_index=False).agg({'val':'mean'})"
   ]
  },
  {
   "cell_type": "code",
   "execution_count": 201,
   "id": "132d2a4c",
   "metadata": {},
   "outputs": [],
   "source": [
    "japan_violence_deaths = df[df['country'].str.fullmatch('Japan')&\n",
    "          df['measure'].str.fullmatch('Deaths')&\n",
    "          df['cause'].str.fullmatch('Interpersonal violence')]"
   ]
  },
  {
   "cell_type": "code",
   "execution_count": 202,
   "id": "0e08d0b8",
   "metadata": {},
   "outputs": [],
   "source": [
    "japan_violence_deaths = japan_violence_deaths.groupby(['location'], as_index=False).agg({'val':'mean'})"
   ]
  },
  {
   "cell_type": "code",
   "execution_count": 203,
   "id": "b0887eff",
   "metadata": {},
   "outputs": [],
   "source": [
    "indonesia_violence_deaths = df[df['country'].str.fullmatch('Indonesia')&\n",
    "          df['measure'].str.fullmatch('Deaths')&\n",
    "          df['cause'].str.fullmatch('Interpersonal violence')]"
   ]
  },
  {
   "cell_type": "code",
   "execution_count": 204,
   "id": "580db6d4",
   "metadata": {},
   "outputs": [],
   "source": [
    "indonesia_violence_deaths = indonesia_violence_deaths.groupby(['location'], as_index=False).agg({'val':'mean'})"
   ]
  },
  {
   "cell_type": "code",
   "execution_count": 205,
   "id": "a980ac76",
   "metadata": {},
   "outputs": [],
   "source": [
    "kenya_violence_deaths = df[df['country'].str.fullmatch('Kenya')&\n",
    "          df['measure'].str.fullmatch('Deaths')&\n",
    "          df['cause'].str.fullmatch('Interpersonal violence')]"
   ]
  },
  {
   "cell_type": "code",
   "execution_count": 206,
   "id": "83e07ff5",
   "metadata": {},
   "outputs": [],
   "source": [
    "kenya_violence_deaths = kenya_violence_deaths.groupby(['location'], as_index=False).agg({'val':'mean'})"
   ]
  },
  {
   "cell_type": "code",
   "execution_count": 207,
   "id": "8fabc8d5",
   "metadata": {},
   "outputs": [],
   "source": [
    "brazil_violence_deaths = df[df['country'].str.fullmatch('Brazil')&\n",
    "          df['measure'].str.fullmatch('Deaths')&\n",
    "          df['cause'].str.fullmatch('Interpersonal violence')]"
   ]
  },
  {
   "cell_type": "code",
   "execution_count": 208,
   "id": "86351c0b",
   "metadata": {},
   "outputs": [],
   "source": [
    "brazil_violence_deaths = brazil_violence_deaths.groupby(['location'], as_index=False).agg({'val':'mean'})"
   ]
  },
  {
   "cell_type": "code",
   "execution_count": 209,
   "id": "f002a781",
   "metadata": {},
   "outputs": [],
   "source": [
    "uk_violence_deaths = df[df['country'].str.fullmatch('United Kingdom')&\n",
    "          df['measure'].str.fullmatch('Deaths')&\n",
    "          df['cause'].str.fullmatch('Interpersonal violence')]"
   ]
  },
  {
   "cell_type": "code",
   "execution_count": 210,
   "id": "e96e00ee",
   "metadata": {},
   "outputs": [],
   "source": [
    "uk_violence_deaths = uk_violence_deaths.groupby(['location'], as_index=False).agg({'val':'mean'})"
   ]
  },
  {
   "cell_type": "code",
   "execution_count": 211,
   "id": "a63515d9",
   "metadata": {},
   "outputs": [
    {
     "data": {
      "image/png": "[encoded data removed]",
      "text/plain": [
       "<Figure size 648x288 with 1 Axes>"
      ]
     },
     "metadata": {
      "needs_background": "light"
     },
     "output_type": "display_data"
    }
   ],
   "source": [
    "data1 = america_violence_deaths['val']\n",
    "data2 = mexico_violence_deaths['val']\n",
    "data3 = japan_violence_deaths['val']\n",
    "data4 = indonesia_violence_deaths['val']\n",
    "data5 = kenya_violence_deaths['val']\n",
    "data6 = brazil_violence_deaths['val']\n",
    "data7 = uk_violence_deaths['val']\n",
    "\n",
    "\n",
    "all_data = [data7, data3, data4, data1, data5, data2, data6]\n",
    "labels = ['United Kindom', 'Japan', 'Indonesia', 'United States', 'Kenya', 'Mexico', 'Brazil']\n",
    "fig, ax  = plt.subplots(figsize=(9, 4))\n",
    "\n",
    "\n",
    "bplot1 = ax.boxplot(all_data, vert=False, patch_artist=True, labels=labels)  \n",
    "\n",
    "ax.set_title('Distribution of Deaths between Countries by Interpersonal Violence')\n",
    "\n",
    "ax.set_xlabel('Homicide per 100,000')\n",
    "\n",
    "plt.show()"
   ]
  },
  {
   "cell_type": "markdown",
   "id": "5f211fea",
   "metadata": {},
   "source": [
    "#### Distribution of diabetes for all countries (deaths)"
   ]
  },
  {
   "cell_type": "code",
   "execution_count": 212,
   "id": "1307a2ae",
   "metadata": {},
   "outputs": [],
   "source": [
    "america_diabetes_deaths = df[df['country'].str.fullmatch('America')&\n",
    "          df['measure'].str.fullmatch('Deaths')&\n",
    "          df['cause'].str.contains('Diabetes')]"
   ]
  },
  {
   "cell_type": "code",
   "execution_count": 213,
   "id": "a3f06008",
   "metadata": {},
   "outputs": [],
   "source": [
    "america_diabetes_deaths = america_diabetes_deaths.groupby(['location'], as_index=False).agg({'val':'mean'})"
   ]
  },
  {
   "cell_type": "code",
   "execution_count": 214,
   "id": "cf9ca24e",
   "metadata": {},
   "outputs": [],
   "source": [
    "mexico_diabetes_deaths = df[df['country'].str.fullmatch('Mexico')&\n",
    "          df['measure'].str.fullmatch('Deaths')&\n",
    "          df['cause'].str.contains('Diabetes')]"
   ]
  },
  {
   "cell_type": "code",
   "execution_count": 215,
   "id": "1feb750a",
   "metadata": {},
   "outputs": [],
   "source": [
    "mexico_diabetes_deaths = mexico_diabetes_deaths.groupby(['location'], as_index=False).agg({'val':'mean'})"
   ]
  },
  {
   "cell_type": "code",
   "execution_count": 216,
   "id": "8a9e5644",
   "metadata": {},
   "outputs": [],
   "source": [
    "japan_diabetes_deaths = df[df['country'].str.fullmatch('Japan')&\n",
    "          df['measure'].str.fullmatch('Deaths')&\n",
    "          df['cause'].str.contains('Diabetes')]"
   ]
  },
  {
   "cell_type": "code",
   "execution_count": 217,
   "id": "9af3b162",
   "metadata": {},
   "outputs": [],
   "source": [
    "japan_diabetes_deaths = japan_diabetes_deaths.groupby(['location'], as_index=False).agg({'val':'mean'})"
   ]
  },
  {
   "cell_type": "code",
   "execution_count": 218,
   "id": "0a763c62",
   "metadata": {},
   "outputs": [],
   "source": [
    "indonesia_diabetes_deaths = df[df['country'].str.fullmatch('Indonesia')&\n",
    "          df['measure'].str.fullmatch('Deaths')&\n",
    "          df['cause'].str.contains('Diabetes')]"
   ]
  },
  {
   "cell_type": "code",
   "execution_count": 219,
   "id": "945053c3",
   "metadata": {},
   "outputs": [],
   "source": [
    "indonesia_diabetes_deaths = indonesia_diabetes_deaths.groupby(['location'], as_index=False).agg({'val':'mean'})"
   ]
  },
  {
   "cell_type": "code",
   "execution_count": 220,
   "id": "efdbaff1",
   "metadata": {},
   "outputs": [],
   "source": [
    "kenya_diabetes_deaths = df[df['country'].str.fullmatch('Kenya')&\n",
    "          df['measure'].str.fullmatch('Deaths')&\n",
    "          df['cause'].str.contains('Diabetes')]"
   ]
  },
  {
   "cell_type": "code",
   "execution_count": 221,
   "id": "73a78a8a",
   "metadata": {},
   "outputs": [],
   "source": [
    "kenya_diabetes_deaths = kenya_diabetes_deaths.groupby(['location'], as_index=False).agg({'val':'mean'})"
   ]
  },
  {
   "cell_type": "code",
   "execution_count": 222,
   "id": "3d19c494",
   "metadata": {},
   "outputs": [],
   "source": [
    "brazil_diabetes_deaths = df[df['country'].str.fullmatch('Brazil')&\n",
    "          df['measure'].str.fullmatch('Deaths')&\n",
    "          df['cause'].str.contains('Diabetes')]"
   ]
  },
  {
   "cell_type": "code",
   "execution_count": 223,
   "id": "faea3d51",
   "metadata": {},
   "outputs": [],
   "source": [
    "brazil_diabetes_deaths = brazil_diabetes_deaths.groupby(['location'], as_index=False).agg({'val':'mean'})"
   ]
  },
  {
   "cell_type": "code",
   "execution_count": 224,
   "id": "e8e63f14",
   "metadata": {},
   "outputs": [],
   "source": [
    "uk_diabetes_deaths = df[df['country'].str.fullmatch('United Kingdom')&\n",
    "          df['measure'].str.fullmatch('Deaths')&\n",
    "          df['cause'].str.contains('Diabetes')]"
   ]
  },
  {
   "cell_type": "code",
   "execution_count": 225,
   "id": "32b28938",
   "metadata": {},
   "outputs": [],
   "source": [
    "uk_diabetes_deaths = uk_diabetes_deaths.groupby(['location'], as_index=False).agg({'val':'mean'})"
   ]
  },
  {
   "cell_type": "code",
   "execution_count": 226,
   "id": "06d62917",
   "metadata": {},
   "outputs": [
    {
     "data": {
      "image/png": "[encoded data removed]",
      "text/plain": [
       "<Figure size 648x288 with 1 Axes>"
      ]
     },
     "metadata": {
      "needs_background": "light"
     },
     "output_type": "display_data"
    }
   ],
   "source": [
    "data1 = america_diabetes_deaths['val']\n",
    "data2 = mexico_diabetes_deaths['val']\n",
    "data3 = japan_diabetes_deaths['val']\n",
    "data4 = indonesia_diabetes_deaths['val']\n",
    "data5 = kenya_diabetes_deaths['val']\n",
    "data6 = brazil_diabetes_deaths['val']\n",
    "data7 = uk_diabetes_deaths['val']\n",
    "\n",
    "all_data = [data3, data7, data1, data6, data5, data4, data2]\n",
    "labels = ['Japan', 'United Kindom', 'United States', 'Brazil', 'Kenya', 'Indonesia', 'Mexico']\n",
    "\n",
    "fig, ax = plt.subplots(figsize=(9, 4))\n",
    "\n",
    "bplot = ax.boxplot(all_data, vert=False, patch_artist=True, labels=labels)  \n",
    "ax.set_title('Distribution of Deaths between Countries by Diabetes')\n",
    "\n",
    "ax.set_xlabel('Death due to Diabetes per 100,000')\n",
    "\n",
    "plt.show()"
   ]
  },
  {
   "cell_type": "markdown",
   "id": "f9d5fa4f",
   "metadata": {},
   "source": [
    "### Look at distribution of YLL's for all data"
   ]
  },
  {
   "cell_type": "markdown",
   "id": "f610a739",
   "metadata": {},
   "source": [
    "#### Distribution of interpersonal violence  (YLLs)"
   ]
  },
  {
   "cell_type": "code",
   "execution_count": 227,
   "id": "80c006d9",
   "metadata": {},
   "outputs": [],
   "source": [
    "america_violence_YLL = df[df['country'].str.contains('America')&\n",
    "          df['measure'].str.contains('YLL')&\n",
    "          df['cause'].str.contains('violence')]"
   ]
  },
  {
   "cell_type": "code",
   "execution_count": 228,
   "id": "0ff332f9",
   "metadata": {},
   "outputs": [],
   "source": [
    "america_violence_YLL = america_violence_YLL.groupby(['location'], as_index=False).agg({'val':'mean'})"
   ]
  },
  {
   "cell_type": "code",
   "execution_count": 229,
   "id": "01a12e66",
   "metadata": {},
   "outputs": [],
   "source": [
    "mexico_violence_YLL = df[df['country'].str.contains('Mexico')&\n",
    "          df['measure'].str.contains('YLL')&\n",
    "          df['cause'].str.contains('violence')]"
   ]
  },
  {
   "cell_type": "code",
   "execution_count": 230,
   "id": "9b9ea5be",
   "metadata": {},
   "outputs": [],
   "source": [
    "mexico_violence_YLL = mexico_violence_YLL.groupby(['location'], as_index=False).agg({'val':'mean'})"
   ]
  },
  {
   "cell_type": "code",
   "execution_count": 231,
   "id": "cebf0bd3",
   "metadata": {},
   "outputs": [],
   "source": [
    "japan_violence_YLL = df[df['country'].str.contains('Japan')&\n",
    "          df['measure'].str.contains('YLL')&\n",
    "          df['cause'].str.contains('violence')]"
   ]
  },
  {
   "cell_type": "code",
   "execution_count": 232,
   "id": "3d08286a",
   "metadata": {},
   "outputs": [],
   "source": [
    "japan_violence_YLL = japan_violence_YLL.groupby(['location'], as_index=False).agg({'val':'mean'})"
   ]
  },
  {
   "cell_type": "code",
   "execution_count": 233,
   "id": "a79bf887",
   "metadata": {},
   "outputs": [],
   "source": [
    "indonesia_violence_YLL = df[df['country'].str.contains('Indonesia')&\n",
    "          df['measure'].str.contains('YLL')&\n",
    "          df['cause'].str.contains('violence')]"
   ]
  },
  {
   "cell_type": "code",
   "execution_count": 234,
   "id": "280c46d0",
   "metadata": {},
   "outputs": [],
   "source": [
    "indonesia_violence_YLL = indonesia_violence_YLL.groupby(['location'], as_index=False).agg({'val':'mean'})"
   ]
  },
  {
   "cell_type": "code",
   "execution_count": 235,
   "id": "e6f41133",
   "metadata": {},
   "outputs": [],
   "source": [
    "kenya_violence_YLL = df[df['country'].str.contains('Kenya')&\n",
    "          df['measure'].str.contains('YLL')&\n",
    "          df['cause'].str.contains('violence')]"
   ]
  },
  {
   "cell_type": "code",
   "execution_count": 236,
   "id": "c736ee8b",
   "metadata": {},
   "outputs": [],
   "source": [
    "kenya_violence_YLL = kenya_violence_YLL.groupby(['location'], as_index=False).agg({'val':'mean'})"
   ]
  },
  {
   "cell_type": "code",
   "execution_count": 237,
   "id": "b2720b42",
   "metadata": {},
   "outputs": [],
   "source": [
    "brazil_violence_YLL = df[df['country'].str.contains('Brazil')&\n",
    "          df['measure'].str.contains('YLL')&\n",
    "          df['cause'].str.contains('violence')]"
   ]
  },
  {
   "cell_type": "code",
   "execution_count": 238,
   "id": "2aa3672c",
   "metadata": {},
   "outputs": [],
   "source": [
    "brazil_violence_YLL = brazil_violence_YLL.groupby(['location'], as_index=False).agg({'val':'mean'})"
   ]
  },
  {
   "cell_type": "code",
   "execution_count": 239,
   "id": "e3eb8338",
   "metadata": {},
   "outputs": [],
   "source": [
    "uk_violence_YLL = df[df['country'].str.contains('United Kingdom')&\n",
    "          df['measure'].str.contains('YLL')&\n",
    "          df['cause'].str.contains('violence')]"
   ]
  },
  {
   "cell_type": "code",
   "execution_count": 240,
   "id": "0fbd6de0",
   "metadata": {},
   "outputs": [],
   "source": [
    "uk_violence_YLL = uk_violence_YLL.groupby(['location'], as_index=False).agg({'val':'mean'})"
   ]
  },
  {
   "cell_type": "code",
   "execution_count": 241,
   "id": "a55a7fb7",
   "metadata": {
    "scrolled": true
   },
   "outputs": [
    {
     "data": {
      "image/png": "[encoded data removed]",
      "text/plain": [
       "<Figure size 648x288 with 1 Axes>"
      ]
     },
     "metadata": {
      "needs_background": "light"
     },
     "output_type": "display_data"
    }
   ],
   "source": [
    "data1 = america_violence_YLL['val']\n",
    "data2 = mexico_violence_YLL['val']\n",
    "data3 = japan_violence_YLL['val']\n",
    "data4 = indonesia_violence_YLL['val']\n",
    "data5 = kenya_violence_YLL['val']\n",
    "data6 = brazil_violence_YLL['val']\n",
    "data7 = uk_violence_YLL['val']\n",
    "\n",
    "all_data = [data7, data3, data4, data1, data5, data2, data6]\n",
    "labels = ['United Kindom', 'Japan', 'Indonesia', 'United States', 'Kenya', 'Mexico', 'Brazil']\n",
    "\n",
    "fig, ax  = plt.subplots(figsize=(9, 4))\n",
    "\n",
    "bplot = ax.boxplot(all_data, vert=False, patch_artist=True, labels=labels) \n",
    "ax.set_title('Distribution of YLL between Countries by violence')\n",
    "\n",
    "ax.set_xlabel('Homicide per 100,000')\n",
    "\n",
    "plt.show()"
   ]
  },
  {
   "cell_type": "markdown",
   "id": "35b4d2cb",
   "metadata": {},
   "source": [
    "#### Distribution of diabetes (YLL's)"
   ]
  },
  {
   "cell_type": "code",
   "execution_count": 242,
   "id": "6bb49c02",
   "metadata": {},
   "outputs": [],
   "source": [
    "america_diabetes_YLL = df[df['country'].str.contains('America')&\n",
    "          df['measure'].str.contains('YLL')&\n",
    "          df['cause'].str.contains('Diabetes')]"
   ]
  },
  {
   "cell_type": "code",
   "execution_count": 243,
   "id": "edda1d87",
   "metadata": {},
   "outputs": [],
   "source": [
    "america_diabetes_YLL = america_diabetes_YLL.groupby(['location'], as_index=False).agg({'val':'mean'})"
   ]
  },
  {
   "cell_type": "code",
   "execution_count": 244,
   "id": "416c4468",
   "metadata": {},
   "outputs": [],
   "source": [
    "mexico_diabetes_YLL = df[df['country'].str.contains('Mexico')&\n",
    "          df['measure'].str.contains('YLL')&\n",
    "          df['cause'].str.contains('Diabetes')]"
   ]
  },
  {
   "cell_type": "code",
   "execution_count": 245,
   "id": "eb0486d3",
   "metadata": {},
   "outputs": [],
   "source": [
    "mexico_diabetes_YLL = mexico_diabetes_YLL.groupby(['location'], as_index=False).agg({'val':'mean'})"
   ]
  },
  {
   "cell_type": "code",
   "execution_count": 246,
   "id": "be270241",
   "metadata": {},
   "outputs": [],
   "source": [
    "japan_diabetes_YLL = df[df['country'].str.contains('Japan')&\n",
    "          df['measure'].str.contains('YLL')&\n",
    "          df['cause'].str.contains('Diabetes')]"
   ]
  },
  {
   "cell_type": "code",
   "execution_count": 247,
   "id": "6bc1480c",
   "metadata": {},
   "outputs": [],
   "source": [
    "japan_diabetes_YLL = japan_diabetes_YLL.groupby(['location'], as_index=False).agg({'val':'mean'})"
   ]
  },
  {
   "cell_type": "code",
   "execution_count": 248,
   "id": "b97b825c",
   "metadata": {},
   "outputs": [],
   "source": [
    "indonesia_diabetes_YLL = df[df['country'].str.contains('Indonesia')&\n",
    "          df['measure'].str.contains('YLL')&\n",
    "          df['cause'].str.contains('Diabetes')]"
   ]
  },
  {
   "cell_type": "code",
   "execution_count": 249,
   "id": "63e5cb27",
   "metadata": {},
   "outputs": [],
   "source": [
    "indonesia_diabetes_YLL = indonesia_diabetes_YLL.groupby(['location'], as_index=False).agg({'val':'mean'})"
   ]
  },
  {
   "cell_type": "code",
   "execution_count": 250,
   "id": "d0f51325",
   "metadata": {},
   "outputs": [],
   "source": [
    "kenya_diabetes_YLL = df[df['country'].str.contains('Kenya')&\n",
    "          df['measure'].str.contains('YLL')&\n",
    "          df['cause'].str.contains('Diabetes')]"
   ]
  },
  {
   "cell_type": "code",
   "execution_count": 251,
   "id": "bbe00f82",
   "metadata": {},
   "outputs": [],
   "source": [
    "kenya_diabetes_YLL = kenya_diabetes_YLL.groupby(['location'], as_index=False).agg({'val':'mean'})"
   ]
  },
  {
   "cell_type": "code",
   "execution_count": 252,
   "id": "80d39113",
   "metadata": {},
   "outputs": [],
   "source": [
    "brazil_diabetes_YLL = df[df['country'].str.contains('Brazil')&\n",
    "          df['measure'].str.contains('YLL')&\n",
    "          df['cause'].str.contains('Diabetes')]"
   ]
  },
  {
   "cell_type": "code",
   "execution_count": 253,
   "id": "89fd5aad",
   "metadata": {},
   "outputs": [],
   "source": [
    "brazil_diabetes_YLL = brazil_diabetes_YLL.groupby(['location'], as_index=False).agg({'val':'mean'})"
   ]
  },
  {
   "cell_type": "code",
   "execution_count": 254,
   "id": "ba5f9748",
   "metadata": {},
   "outputs": [],
   "source": [
    "uk_diabetes_YLL = df[df['country'].str.contains('United Kingdom')&\n",
    "          df['measure'].str.contains('YLL')&\n",
    "          df['cause'].str.contains('Diabetes')]"
   ]
  },
  {
   "cell_type": "code",
   "execution_count": 255,
   "id": "3505da1d",
   "metadata": {},
   "outputs": [],
   "source": [
    "uk_diabetes_YLL = uk_diabetes_YLL.groupby(['location'], as_index=False).agg({'val':'mean'})"
   ]
  },
  {
   "cell_type": "code",
   "execution_count": 256,
   "id": "2eef8cf5",
   "metadata": {},
   "outputs": [
    {
     "data": {
      "image/png": "[encoded data removed]",
      "text/plain": [
       "<Figure size 648x288 with 1 Axes>"
      ]
     },
     "metadata": {
      "needs_background": "light"
     },
     "output_type": "display_data"
    }
   ],
   "source": [
    "data1 = america_diabetes_YLL['val']\n",
    "data2 = mexico_diabetes_YLL['val']\n",
    "data3 = japan_diabetes_YLL['val']\n",
    "data4 = indonesia_diabetes_YLL['val']\n",
    "data5 = kenya_diabetes_YLL['val']\n",
    "data6 = brazil_diabetes_YLL['val']\n",
    "data7 = uk_diabetes_YLL['val']\n",
    "\n",
    "all_data = [data7, data3, data4, data1, data5, data2, data6]\n",
    "labels = ['United Kindom', 'Japan', 'Indonesia', 'United States', 'Kenya', 'Mexico', 'Brazil']\n",
    "fig, ax  = plt.subplots(figsize=(9, 4))\n",
    "\n",
    "bplot = ax.boxplot(all_data, vert=False, patch_artist=True, labels=labels) \n",
    "ax.set_title('Distribution of YLL between Countries by Diabetes')\n",
    "\n",
    "ax.set_xlabel('Homicide per 100,000')\n",
    "\n",
    "plt.show()"
   ]
  },
  {
   "cell_type": "code",
   "execution_count": 257,
   "id": "805e394d",
   "metadata": {},
   "outputs": [],
   "source": [
    "#How to explain difference in YLLs - can divide by age group"
   ]
  },
  {
   "cell_type": "markdown",
   "id": "38747ece",
   "metadata": {},
   "source": [
    "## Explore distributions of demographs"
   ]
  },
  {
   "cell_type": "markdown",
   "id": "0ba4726f",
   "metadata": {},
   "source": [
    "#### Country"
   ]
  },
  {
   "cell_type": "code",
   "execution_count": 258,
   "id": "f7b2872a",
   "metadata": {},
   "outputs": [],
   "source": [
    "#only violence yll and diabetes death for country below"
   ]
  },
  {
   "cell_type": "code",
   "execution_count": 259,
   "id": "d274b3d4",
   "metadata": {},
   "outputs": [],
   "source": [
    "all_violence_country_ylls = df[df['measure'].str.contains('YLL')&\n",
    "          df['cause'].str.contains('violence')]"
   ]
  },
  {
   "cell_type": "code",
   "execution_count": 260,
   "id": "0d992c3e",
   "metadata": {},
   "outputs": [],
   "source": [
    "all_violence_country_ylls = all_violence_country_ylls.groupby(['country'], as_index=False).agg({'val':'mean'})"
   ]
  },
  {
   "cell_type": "code",
   "execution_count": 261,
   "id": "b7f18197",
   "metadata": {},
   "outputs": [
    {
     "data": {
      "image/png": "[encoded data removed]",
      "text/plain": [
       "<Figure size 432x288 with 1 Axes>"
      ]
     },
     "metadata": {
      "needs_background": "light"
     },
     "output_type": "display_data"
    }
   ],
   "source": [
    "#This may be better to put at start\n",
    "all_violence_country_ylls.plot(x=\"country\", y=\"val\", kind=\"bar\")\n",
    "plt.show()"
   ]
  },
  {
   "cell_type": "code",
   "execution_count": 262,
   "id": "23eeec22",
   "metadata": {},
   "outputs": [],
   "source": [
    "all_diabetes_country_deaths = df[df['measure'].str.contains('Deaths')&\n",
    "          df['cause'].str.contains('Diabetes')]"
   ]
  },
  {
   "cell_type": "code",
   "execution_count": 263,
   "id": "7a35d95e",
   "metadata": {},
   "outputs": [],
   "source": [
    "all_diabetes_country_deaths = all_diabetes_country_deaths.groupby(['country'], as_index=False).agg({'val':'mean'})"
   ]
  },
  {
   "cell_type": "code",
   "execution_count": 264,
   "id": "0eac42f7",
   "metadata": {},
   "outputs": [
    {
     "data": {
      "image/png": "[encoded data removed]",
      "text/plain": [
       "<Figure size 432x288 with 1 Axes>"
      ]
     },
     "metadata": {
      "needs_background": "light"
     },
     "output_type": "display_data"
    }
   ],
   "source": [
    "#This may be better to put at start\n",
    "all_diabetes_country_deaths.plot(x=\"country\", y=\"val\", kind=\"bar\")\n",
    "plt.show()"
   ]
  },
  {
   "cell_type": "markdown",
   "id": "3623f1dd",
   "metadata": {},
   "source": [
    "### Gender (Deaths)"
   ]
  },
  {
   "cell_type": "markdown",
   "id": "b4bcc0a8",
   "metadata": {},
   "source": [
    "#### Interpersonal violence"
   ]
  },
  {
   "cell_type": "code",
   "execution_count": 265,
   "id": "6acc4641",
   "metadata": {},
   "outputs": [],
   "source": [
    "all_violence_gender_deaths = df[df['measure'].str.contains('Deaths')&\n",
    "          df['cause'].str.contains('violence')]"
   ]
  },
  {
   "cell_type": "code",
   "execution_count": 266,
   "id": "eb54ce2c",
   "metadata": {},
   "outputs": [
    {
     "data": {
      "text/html": [
       "<div>\n",
       "<style scoped>\n",
       "    .dataframe tbody tr th:only-of-type {\n",
       "        vertical-align: middle;\n",
       "    }\n",
       "\n",
       "    .dataframe tbody tr th {\n",
       "        vertical-align: top;\n",
       "    }\n",
       "\n",
       "    .dataframe thead th {\n",
       "        text-align: right;\n",
       "    }\n",
       "</style>\n",
       "<table border=\"1\" class=\"dataframe\">\n",
       "  <thead>\n",
       "    <tr style=\"text-align: right;\">\n",
       "      <th></th>\n",
       "      <th>sex</th>\n",
       "      <th>val</th>\n",
       "    </tr>\n",
       "  </thead>\n",
       "  <tbody>\n",
       "    <tr>\n",
       "      <th>0</th>\n",
       "      <td>Female</td>\n",
       "      <td>2.455908</td>\n",
       "    </tr>\n",
       "    <tr>\n",
       "      <th>1</th>\n",
       "      <td>Male</td>\n",
       "      <td>11.365036</td>\n",
       "    </tr>\n",
       "  </tbody>\n",
       "</table>\n",
       "</div>"
      ],
      "text/plain": [
       "      sex        val\n",
       "0  Female   2.455908\n",
       "1    Male  11.365036"
      ]
     },
     "execution_count": 266,
     "metadata": {},
     "output_type": "execute_result"
    }
   ],
   "source": [
    "all_violence_gender_deaths = all_violence_gender_deaths.groupby(['sex'], as_index=False).agg({'val':'mean'})\n",
    "all_violence_gender_deaths"
   ]
  },
  {
   "cell_type": "code",
   "execution_count": 267,
   "id": "280cce3f",
   "metadata": {},
   "outputs": [
    {
     "data": {
      "image/png": "[encoded data removed]",
      "text/plain": [
       "<Figure size 432x288 with 1 Axes>"
      ]
     },
     "metadata": {
      "needs_background": "light"
     },
     "output_type": "display_data"
    }
   ],
   "source": [
    "all_violence_gender_deaths.plot(x=\"sex\", y=\"val\", kind=\"bar\")\n",
    "plt.show()"
   ]
  },
  {
   "cell_type": "code",
   "execution_count": 268,
   "id": "4b96f030",
   "metadata": {},
   "outputs": [],
   "source": [
    "america_violence_gender_deaths = df[df['country'].str.contains('America')&\n",
    "          df['measure'].str.contains('Deaths')&\n",
    "          df['cause'].str.contains('violence')]"
   ]
  },
  {
   "cell_type": "code",
   "execution_count": 269,
   "id": "fa946593",
   "metadata": {},
   "outputs": [],
   "source": [
    "america_violence_gender_deaths = america_violence_gender_deaths.groupby(['sex'], as_index=False).agg({'val':'mean'})"
   ]
  },
  {
   "cell_type": "code",
   "execution_count": 270,
   "id": "c41f74a3",
   "metadata": {},
   "outputs": [],
   "source": [
    "brazil_violence_gender_deaths = df[df['country'].str.contains('Brazil')&\n",
    "          df['measure'].str.contains('Deaths')&\n",
    "          df['cause'].str.contains('violence')]"
   ]
  },
  {
   "cell_type": "code",
   "execution_count": 271,
   "id": "3aec3beb",
   "metadata": {},
   "outputs": [],
   "source": [
    "brazil_violence_gender_deaths = brazil_violence_gender_deaths.groupby(['sex'], as_index=False).agg({'val':'mean'})"
   ]
  },
  {
   "cell_type": "code",
   "execution_count": 272,
   "id": "aea7f6d0",
   "metadata": {},
   "outputs": [],
   "source": [
    "japan_violence_gender_deaths = df[df['country'].str.contains('Japan')&\n",
    "          df['measure'].str.contains('Deaths')&\n",
    "          df['cause'].str.contains('violence')]"
   ]
  },
  {
   "cell_type": "code",
   "execution_count": 273,
   "id": "931cdc3d",
   "metadata": {},
   "outputs": [],
   "source": [
    "japan_violence_gender_deaths = japan_violence_gender_deaths.groupby(['sex'], as_index=False).agg({'val':'mean'})"
   ]
  },
  {
   "cell_type": "code",
   "execution_count": 274,
   "id": "ee3bbfd8",
   "metadata": {},
   "outputs": [],
   "source": [
    "kenya_violence_gender_deaths = df[df['country'].str.contains('Kenya')&\n",
    "          df['measure'].str.contains('Deaths')&\n",
    "          df['cause'].str.contains('violence')]"
   ]
  },
  {
   "cell_type": "code",
   "execution_count": 275,
   "id": "b720c331",
   "metadata": {},
   "outputs": [],
   "source": [
    "kenya_violence_gender_deaths = kenya_violence_gender_deaths.groupby(['sex'], as_index=False).agg({'val':'mean'})"
   ]
  },
  {
   "cell_type": "code",
   "execution_count": 276,
   "id": "6a56c415",
   "metadata": {},
   "outputs": [],
   "source": [
    "indonesia_violence_gender_deaths = df[df['country'].str.contains('Indonesia')&\n",
    "          df['measure'].str.contains('Deaths')&\n",
    "          df['cause'].str.contains('violence')]"
   ]
  },
  {
   "cell_type": "code",
   "execution_count": 277,
   "id": "594e3870",
   "metadata": {},
   "outputs": [],
   "source": [
    "indonesia_violence_gender_deaths = indonesia_violence_gender_deaths.groupby(['sex'], as_index=False).agg({'val':'mean'})"
   ]
  },
  {
   "cell_type": "code",
   "execution_count": 278,
   "id": "507a07d9",
   "metadata": {},
   "outputs": [],
   "source": [
    "mexico_violence_gender_deaths = df[df['country'].str.contains('Mexico')&\n",
    "          df['measure'].str.contains('Deaths')&\n",
    "          df['cause'].str.contains('violence')]"
   ]
  },
  {
   "cell_type": "code",
   "execution_count": 279,
   "id": "5351fc11",
   "metadata": {},
   "outputs": [],
   "source": [
    "mexico_violence_gender_deaths = mexico_violence_gender_deaths.groupby(['sex'], as_index=False).agg({'val':'mean'})"
   ]
  },
  {
   "cell_type": "code",
   "execution_count": 280,
   "id": "e5ef82b7",
   "metadata": {},
   "outputs": [],
   "source": [
    "uk_violence_gender_deaths = df[df['country'].str.contains('United Kingdom')&\n",
    "          df['measure'].str.contains('Deaths')&\n",
    "          df['cause'].str.contains('violence')]"
   ]
  },
  {
   "cell_type": "code",
   "execution_count": 281,
   "id": "119252cc",
   "metadata": {},
   "outputs": [],
   "source": [
    "uk_violence_gender_deaths = uk_violence_gender_deaths.groupby(['sex'], as_index=False).agg({'val':'mean'})"
   ]
  },
  {
   "cell_type": "code",
   "execution_count": 282,
   "id": "2b7a12e3",
   "metadata": {},
   "outputs": [
    {
     "data": {
      "image/png": "[encoded data removed]",
      "text/plain": [
       "<Figure size 648x288 with 1 Axes>"
      ]
     },
     "metadata": {
      "needs_background": "light"
     },
     "output_type": "display_data"
    }
   ],
   "source": [
    "#Might be best to take this away - since we cannot do this (easily) for age - maybe best look at total instead\n",
    "#Is there not one for diabetes\n",
    "#might be best to put this in results\n",
    "\n",
    "labels = ['America', 'Brazil', 'Japan', 'Kenya', 'Indonesia', 'Mexico', 'United Kingdom']\n",
    "male_means = [america_violence_gender_deaths.iloc[1,1], \n",
    "             brazil_violence_gender_deaths.iloc[1,1],\n",
    "             japan_violence_gender_deaths.iloc[1,1],\n",
    "             kenya_violence_gender_deaths.iloc[1,1],\n",
    "             indonesia_violence_gender_deaths.iloc[1,1],\n",
    "             mexico_violence_gender_deaths.iloc[1,1],\n",
    "             uk_violence_gender_deaths.iloc[1,1]]\n",
    "female_means = [america_violence_gender_deaths.iloc[0,1], \n",
    "               brazil_violence_gender_deaths.iloc[0,1],\n",
    "               japan_violence_gender_deaths.iloc[0,1],\n",
    "               kenya_violence_gender_deaths.iloc[0,1], \n",
    "               indonesia_violence_gender_deaths.iloc[0,1],\n",
    "               mexico_violence_gender_deaths.iloc[0,1],\n",
    "               uk_violence_gender_deaths.iloc[0,1]]\n",
    "\n",
    "x = np.arange(len(labels)) \n",
    "width = 0.35 \n",
    "\n",
    "fig, ax = plt.subplots(figsize=(9,4))\n",
    "rects1 = ax.bar(x - width/2, male_means, width, label='male')\n",
    "rects2 = ax.bar(x + width/2, female_means, width, label='female')\n",
    "\n",
    "ax.set_ylabel('Deaths')\n",
    "ax.set_title('Mean Rate of Deaths by Gender of Interpersonal Violence by Country')\n",
    "ax.set_xticks(x)\n",
    "ax.set_xticklabels(labels)\n",
    "ax.legend()\n",
    "\n",
    "\n",
    "fig.tight_layout()\n",
    "\n",
    "plt.show()"
   ]
  },
  {
   "cell_type": "markdown",
   "id": "9bc828a6",
   "metadata": {},
   "source": [
    "#### Diabetes"
   ]
  },
  {
   "cell_type": "code",
   "execution_count": 283,
   "id": "19a95b63",
   "metadata": {},
   "outputs": [],
   "source": [
    "all_diabetes_gender_deaths = df[df['measure'].str.contains('Deaths')&\n",
    "          df['cause'].str.contains('Diabetes')]"
   ]
  },
  {
   "cell_type": "code",
   "execution_count": 284,
   "id": "6fdc3b69",
   "metadata": {},
   "outputs": [
    {
     "data": {
      "text/html": [
       "<div>\n",
       "<style scoped>\n",
       "    .dataframe tbody tr th:only-of-type {\n",
       "        vertical-align: middle;\n",
       "    }\n",
       "\n",
       "    .dataframe tbody tr th {\n",
       "        vertical-align: top;\n",
       "    }\n",
       "\n",
       "    .dataframe thead th {\n",
       "        text-align: right;\n",
       "    }\n",
       "</style>\n",
       "<table border=\"1\" class=\"dataframe\">\n",
       "  <thead>\n",
       "    <tr style=\"text-align: right;\">\n",
       "      <th></th>\n",
       "      <th>sex</th>\n",
       "      <th>val</th>\n",
       "    </tr>\n",
       "  </thead>\n",
       "  <tbody>\n",
       "    <tr>\n",
       "      <th>0</th>\n",
       "      <td>Female</td>\n",
       "      <td>78.478061</td>\n",
       "    </tr>\n",
       "    <tr>\n",
       "      <th>1</th>\n",
       "      <td>Male</td>\n",
       "      <td>84.590870</td>\n",
       "    </tr>\n",
       "  </tbody>\n",
       "</table>\n",
       "</div>"
      ],
      "text/plain": [
       "      sex        val\n",
       "0  Female  78.478061\n",
       "1    Male  84.590870"
      ]
     },
     "execution_count": 284,
     "metadata": {},
     "output_type": "execute_result"
    }
   ],
   "source": [
    "all_diabetes_gender_deaths = all_diabetes_gender_deaths.groupby(['sex'], as_index=False).agg({'val':'mean'})\n",
    "all_diabetes_gender_deaths"
   ]
  },
  {
   "cell_type": "code",
   "execution_count": 285,
   "id": "e326e886",
   "metadata": {},
   "outputs": [
    {
     "data": {
      "image/png": "[encoded data removed]",
      "text/plain": [
       "<Figure size 432x288 with 1 Axes>"
      ]
     },
     "metadata": {
      "needs_background": "light"
     },
     "output_type": "display_data"
    }
   ],
   "source": [
    "all_diabetes_gender_deaths.plot(x=\"sex\", y=\"val\", kind=\"bar\")\n",
    "plt.show()"
   ]
  },
  {
   "cell_type": "code",
   "execution_count": 286,
   "id": "f9138621",
   "metadata": {},
   "outputs": [],
   "source": [
    "america_diabetes_gender_deaths = df[df['country'].str.contains('America')&\n",
    "          df['measure'].str.contains('Deaths')&\n",
    "          df['cause'].str.contains('Diabetes')]"
   ]
  },
  {
   "cell_type": "code",
   "execution_count": 287,
   "id": "c275fd6e",
   "metadata": {},
   "outputs": [],
   "source": [
    "america_diabetes_gender_deaths = america_diabetes_gender_deaths.groupby(['sex'], as_index=False).agg({'val':'mean'})"
   ]
  },
  {
   "cell_type": "code",
   "execution_count": 288,
   "id": "90142013",
   "metadata": {},
   "outputs": [],
   "source": [
    "brazil_diabetes_gender_deaths = df[df['country'].str.contains('Brazil')&\n",
    "          df['measure'].str.contains('Deaths')&\n",
    "          df['cause'].str.contains('Diabetes')]"
   ]
  },
  {
   "cell_type": "code",
   "execution_count": 289,
   "id": "a4c98bc4",
   "metadata": {},
   "outputs": [],
   "source": [
    "brazil_diabetes_gender_deaths = brazil_diabetes_gender_deaths.groupby(['sex'], as_index=False).agg({'val':'mean'})"
   ]
  },
  {
   "cell_type": "code",
   "execution_count": 290,
   "id": "0777b0c9",
   "metadata": {},
   "outputs": [],
   "source": [
    "japan_diabetes_gender_deaths = df[df['country'].str.contains('Japan')&\n",
    "          df['measure'].str.contains('Deaths')&\n",
    "          df['cause'].str.contains('Diabetes')]"
   ]
  },
  {
   "cell_type": "code",
   "execution_count": 291,
   "id": "ef7b2368",
   "metadata": {},
   "outputs": [],
   "source": [
    "japan_diabetes_gender_deaths = japan_diabetes_gender_deaths.groupby(['sex'], as_index=False).agg({'val':'mean'})"
   ]
  },
  {
   "cell_type": "code",
   "execution_count": 292,
   "id": "56c9742d",
   "metadata": {},
   "outputs": [],
   "source": [
    "kenya_diabetes_gender_deaths = df[df['country'].str.contains('Kenya')&\n",
    "          df['measure'].str.contains('Deaths')&\n",
    "          df['cause'].str.contains('Diabetes')]"
   ]
  },
  {
   "cell_type": "code",
   "execution_count": 293,
   "id": "026775c4",
   "metadata": {},
   "outputs": [],
   "source": [
    "kenya_diabetes_gender_deaths = kenya_diabetes_gender_deaths.groupby(['sex'], as_index=False).agg({'val':'mean'})"
   ]
  },
  {
   "cell_type": "code",
   "execution_count": 294,
   "id": "76b704d4",
   "metadata": {},
   "outputs": [],
   "source": [
    "indonesia_diabetes_gender_deaths = df[df['country'].str.contains('Indonesia')&\n",
    "          df['measure'].str.contains('Deaths')&\n",
    "          df['cause'].str.contains('Diabetes')]"
   ]
  },
  {
   "cell_type": "code",
   "execution_count": 295,
   "id": "46dd4914",
   "metadata": {},
   "outputs": [],
   "source": [
    "indonesia_diabetes_gender_deaths = indonesia_diabetes_gender_deaths.groupby(['sex'], as_index=False).agg({'val':'mean'})"
   ]
  },
  {
   "cell_type": "code",
   "execution_count": 296,
   "id": "db591257",
   "metadata": {},
   "outputs": [],
   "source": [
    "mexico_diabetes_gender_deaths = df[df['country'].str.contains('Mexico')&\n",
    "          df['measure'].str.contains('Deaths')&\n",
    "          df['cause'].str.contains('Diabetes')]"
   ]
  },
  {
   "cell_type": "code",
   "execution_count": 297,
   "id": "42f89030",
   "metadata": {},
   "outputs": [],
   "source": [
    "mexico_diabetes_gender_deaths = mexico_diabetes_gender_deaths.groupby(['sex'], as_index=False).agg({'val':'mean'})"
   ]
  },
  {
   "cell_type": "code",
   "execution_count": 298,
   "id": "b4ce7ca6",
   "metadata": {},
   "outputs": [],
   "source": [
    "uk_diabetes_gender_deaths = df[df['country'].str.contains('United Kingdom')&\n",
    "          df['measure'].str.contains('Deaths')&\n",
    "          df['cause'].str.contains('Diabetes')]"
   ]
  },
  {
   "cell_type": "code",
   "execution_count": 299,
   "id": "c1e85e3e",
   "metadata": {},
   "outputs": [],
   "source": [
    "uk_diabetes_gender_deaths = uk_diabetes_gender_deaths.groupby(['sex'], as_index=False).agg({'val':'mean'})"
   ]
  },
  {
   "cell_type": "code",
   "execution_count": 300,
   "id": "16eb30a8",
   "metadata": {},
   "outputs": [
    {
     "data": {
      "image/png": "[encoded data removed]",
      "text/plain": [
       "<Figure size 648x288 with 1 Axes>"
      ]
     },
     "metadata": {
      "needs_background": "light"
     },
     "output_type": "display_data"
    }
   ],
   "source": [
    "labels = ['America', 'Brazil', 'Japan', 'Kenya', 'Indonesia', 'Mexico', 'United Kingdom']\n",
    "male_means = [america_diabetes_gender_deaths.iloc[1,1], \n",
    "             brazil_diabetes_gender_deaths.iloc[1,1],\n",
    "             japan_diabetes_gender_deaths.iloc[1,1],\n",
    "             kenya_diabetes_gender_deaths.iloc[1,1],\n",
    "             indonesia_diabetes_gender_deaths.iloc[1,1],\n",
    "             mexico_diabetes_gender_deaths.iloc[1,1],\n",
    "             uk_diabetes_gender_deaths.iloc[1,1]]\n",
    "female_means = [america_diabetes_gender_deaths.iloc[0,1], \n",
    "               brazil_diabetes_gender_deaths.iloc[0,1],\n",
    "               japan_diabetes_gender_deaths.iloc[0,1],\n",
    "               kenya_diabetes_gender_deaths.iloc[0,1], \n",
    "               indonesia_diabetes_gender_deaths.iloc[0,1],\n",
    "               mexico_diabetes_gender_deaths.iloc[0,1],\n",
    "               uk_diabetes_gender_deaths.iloc[0,1]]\n",
    "\n",
    "x = np.arange(len(labels))\n",
    "width = 0.35 \n",
    "\n",
    "fig, ax = plt.subplots(figsize=(9,4))\n",
    "rects1 = ax.bar(x - width/2, male_means, width, label='male')\n",
    "rects2 = ax.bar(x + width/2, female_means, width, label='female')\n",
    "\n",
    "ax.set_ylabel('Deaths')\n",
    "ax.set_title('Mean Rate of Deaths by Gender of Diabetes by Country')\n",
    "ax.set_xticks(x)\n",
    "ax.set_xticklabels(labels)\n",
    "ax.legend()\n",
    "\n",
    "\n",
    "fig.tight_layout()\n",
    "\n",
    "plt.show()"
   ]
  },
  {
   "cell_type": "code",
   "execution_count": 301,
   "id": "64590c65",
   "metadata": {},
   "outputs": [],
   "source": [
    "#is it the case that disparaties in diabetes are least on country level and then widen as you narrow down in goegraphical location\n",
    "#and for iv the opposite is true - very high disparty at high geographical level and less disparaty when going down to \n",
    "#more specific regions."
   ]
  },
  {
   "cell_type": "markdown",
   "id": "6219b1af",
   "metadata": {},
   "source": [
    "### Gender (YLLs)"
   ]
  },
  {
   "cell_type": "markdown",
   "id": "de3e1e57",
   "metadata": {},
   "source": [
    "### violence"
   ]
  },
  {
   "cell_type": "code",
   "execution_count": 302,
   "id": "4898d3c8",
   "metadata": {},
   "outputs": [],
   "source": [
    "all_violence_gender_ylls = df[df['measure'].str.contains('YLL')&\n",
    "          df['cause'].str.contains('violence')]"
   ]
  },
  {
   "cell_type": "code",
   "execution_count": 303,
   "id": "d026cf1b",
   "metadata": {},
   "outputs": [
    {
     "data": {
      "text/html": [
       "<div>\n",
       "<style scoped>\n",
       "    .dataframe tbody tr th:only-of-type {\n",
       "        vertical-align: middle;\n",
       "    }\n",
       "\n",
       "    .dataframe tbody tr th {\n",
       "        vertical-align: top;\n",
       "    }\n",
       "\n",
       "    .dataframe thead th {\n",
       "        text-align: right;\n",
       "    }\n",
       "</style>\n",
       "<table border=\"1\" class=\"dataframe\">\n",
       "  <thead>\n",
       "    <tr style=\"text-align: right;\">\n",
       "      <th></th>\n",
       "      <th>sex</th>\n",
       "      <th>val</th>\n",
       "    </tr>\n",
       "  </thead>\n",
       "  <tbody>\n",
       "    <tr>\n",
       "      <th>0</th>\n",
       "      <td>Female</td>\n",
       "      <td>85.544482</td>\n",
       "    </tr>\n",
       "    <tr>\n",
       "      <th>1</th>\n",
       "      <td>Male</td>\n",
       "      <td>498.191472</td>\n",
       "    </tr>\n",
       "  </tbody>\n",
       "</table>\n",
       "</div>"
      ],
      "text/plain": [
       "      sex         val\n",
       "0  Female   85.544482\n",
       "1    Male  498.191472"
      ]
     },
     "execution_count": 303,
     "metadata": {},
     "output_type": "execute_result"
    }
   ],
   "source": [
    "all_violence_gender_ylls = all_violence_gender_ylls.groupby(['sex'], as_index=False).agg({'val':'mean'})\n",
    "all_violence_gender_ylls"
   ]
  },
  {
   "cell_type": "code",
   "execution_count": 304,
   "id": "0e92d9c9",
   "metadata": {},
   "outputs": [
    {
     "data": {
      "image/png": "[encoded data removed]",
      "text/plain": [
       "<Figure size 432x288 with 1 Axes>"
      ]
     },
     "metadata": {
      "needs_background": "light"
     },
     "output_type": "display_data"
    }
   ],
   "source": [
    "all_violence_gender_ylls.plot(x=\"sex\", y=\"val\", kind=\"bar\")\n",
    "plt.show()"
   ]
  },
  {
   "cell_type": "code",
   "execution_count": 305,
   "id": "f8774a2e",
   "metadata": {},
   "outputs": [],
   "source": [
    "all_diabetes_gender_ylls = df[df['measure'].str.contains('YLL')&\n",
    "          df['cause'].str.contains('Diabetes')]"
   ]
  },
  {
   "cell_type": "code",
   "execution_count": 306,
   "id": "c3850b85",
   "metadata": {},
   "outputs": [
    {
     "data": {
      "text/html": [
       "<div>\n",
       "<style scoped>\n",
       "    .dataframe tbody tr th:only-of-type {\n",
       "        vertical-align: middle;\n",
       "    }\n",
       "\n",
       "    .dataframe tbody tr th {\n",
       "        vertical-align: top;\n",
       "    }\n",
       "\n",
       "    .dataframe thead th {\n",
       "        text-align: right;\n",
       "    }\n",
       "</style>\n",
       "<table border=\"1\" class=\"dataframe\">\n",
       "  <thead>\n",
       "    <tr style=\"text-align: right;\">\n",
       "      <th></th>\n",
       "      <th>sex</th>\n",
       "      <th>val</th>\n",
       "    </tr>\n",
       "  </thead>\n",
       "  <tbody>\n",
       "    <tr>\n",
       "      <th>0</th>\n",
       "      <td>Female</td>\n",
       "      <td>1025.861559</td>\n",
       "    </tr>\n",
       "    <tr>\n",
       "      <th>1</th>\n",
       "      <td>Male</td>\n",
       "      <td>1145.487637</td>\n",
       "    </tr>\n",
       "  </tbody>\n",
       "</table>\n",
       "</div>"
      ],
      "text/plain": [
       "      sex          val\n",
       "0  Female  1025.861559\n",
       "1    Male  1145.487637"
      ]
     },
     "execution_count": 306,
     "metadata": {},
     "output_type": "execute_result"
    }
   ],
   "source": [
    "all_diabetes_gender_ylls = all_diabetes_gender_ylls.groupby(['sex'], as_index=False).agg({'val':'mean'})\n",
    "all_diabetes_gender_ylls"
   ]
  },
  {
   "cell_type": "code",
   "execution_count": 307,
   "id": "bd64214d",
   "metadata": {},
   "outputs": [
    {
     "data": {
      "image/png": "[encoded data removed]",
      "text/plain": [
       "<Figure size 432x288 with 1 Axes>"
      ]
     },
     "metadata": {
      "needs_background": "light"
     },
     "output_type": "display_data"
    }
   ],
   "source": [
    "all_diabetes_gender_ylls.plot(x=\"sex\", y=\"val\", kind=\"bar\")\n",
    "plt.show()"
   ]
  },
  {
   "cell_type": "code",
   "execution_count": 308,
   "id": "37ac3ad6",
   "metadata": {},
   "outputs": [],
   "source": [
    "#lets try to make bar charts - first single then double\n",
    "\n",
    "america_violence_gender_ylls = df[df['country'].str.contains('America')&\n",
    "          df['measure'].str.contains('YLL')&\n",
    "          df['cause'].str.contains('violence')]"
   ]
  },
  {
   "cell_type": "code",
   "execution_count": 309,
   "id": "242f481c",
   "metadata": {},
   "outputs": [],
   "source": [
    "america_violence_gender_ylls = america_violence_gender_ylls.groupby(['sex'], as_index=False).agg({'val':'mean'})"
   ]
  },
  {
   "cell_type": "code",
   "execution_count": 310,
   "id": "4dcb9058",
   "metadata": {},
   "outputs": [],
   "source": [
    "brazil_violence_gender_ylls = df[df['country'].str.contains('Brazil')&\n",
    "          df['measure'].str.contains('YLL')&\n",
    "          df['cause'].str.contains('violence')]"
   ]
  },
  {
   "cell_type": "code",
   "execution_count": 311,
   "id": "dde4f207",
   "metadata": {},
   "outputs": [],
   "source": [
    "brazil_violence_gender_ylls = brazil_violence_gender_ylls.groupby(['sex'], as_index=False).agg({'val':'mean'})"
   ]
  },
  {
   "cell_type": "code",
   "execution_count": 312,
   "id": "e5180396",
   "metadata": {},
   "outputs": [],
   "source": [
    "japan_violence_gender_ylls = df[df['country'].str.contains('Japan')&\n",
    "          df['measure'].str.contains('YLL')&\n",
    "          df['cause'].str.contains('violence')]"
   ]
  },
  {
   "cell_type": "code",
   "execution_count": 313,
   "id": "44ed9cc6",
   "metadata": {},
   "outputs": [],
   "source": [
    "japan_violence_gender_ylls = japan_violence_gender_ylls.groupby(['sex'], as_index=False).agg({'val':'mean'})"
   ]
  },
  {
   "cell_type": "code",
   "execution_count": 314,
   "id": "2ac7d3b2",
   "metadata": {},
   "outputs": [],
   "source": [
    "kenya_violence_gender_ylls = df[df['country'].str.contains('Kenya')&\n",
    "          df['measure'].str.contains('YLL')&\n",
    "          df['cause'].str.contains('violence')]"
   ]
  },
  {
   "cell_type": "code",
   "execution_count": 315,
   "id": "c1781912",
   "metadata": {},
   "outputs": [],
   "source": [
    "kenya_violence_gender_ylls = kenya_violence_gender_ylls.groupby(['sex'], as_index=False).agg({'val':'mean'})"
   ]
  },
  {
   "cell_type": "code",
   "execution_count": 316,
   "id": "58843b6a",
   "metadata": {},
   "outputs": [],
   "source": [
    "indonesia_violence_gender_ylls = df[df['country'].str.contains('Indonesia')&\n",
    "          df['measure'].str.contains('YLL')&\n",
    "          df['cause'].str.contains('violence')]"
   ]
  },
  {
   "cell_type": "code",
   "execution_count": 317,
   "id": "ff48d3c6",
   "metadata": {},
   "outputs": [],
   "source": [
    "indonesia_violence_gender_ylls = indonesia_violence_gender_ylls.groupby(['sex'], as_index=False).agg({'val':'mean'})"
   ]
  },
  {
   "cell_type": "code",
   "execution_count": 318,
   "id": "076a9a2a",
   "metadata": {},
   "outputs": [],
   "source": [
    "mexico_violence_gender_ylls = df[df['country'].str.contains('Mexico')&\n",
    "          df['measure'].str.contains('YLL')&\n",
    "          df['cause'].str.contains('violence')]"
   ]
  },
  {
   "cell_type": "code",
   "execution_count": 319,
   "id": "d737fbb1",
   "metadata": {},
   "outputs": [],
   "source": [
    "mexico_violence_gender_ylls = mexico_violence_gender_ylls.groupby(['sex'], as_index=False).agg({'val':'mean'})"
   ]
  },
  {
   "cell_type": "code",
   "execution_count": 320,
   "id": "c5926ad9",
   "metadata": {},
   "outputs": [],
   "source": [
    "uk_violence_gender_ylls = df[df['country'].str.contains('United Kingdom')&\n",
    "          df['measure'].str.contains('YLL')&\n",
    "          df['cause'].str.contains('violence')]"
   ]
  },
  {
   "cell_type": "code",
   "execution_count": 321,
   "id": "50c195df",
   "metadata": {},
   "outputs": [],
   "source": [
    "uk_violence_gender_ylls = uk_violence_gender_ylls.groupby(['sex'], as_index=False).agg({'val':'mean'})"
   ]
  },
  {
   "cell_type": "code",
   "execution_count": 322,
   "id": "daa92241",
   "metadata": {},
   "outputs": [
    {
     "data": {
      "image/png": "[encoded data removed]",
      "text/plain": [
       "<Figure size 648x288 with 1 Axes>"
      ]
     },
     "metadata": {
      "needs_background": "light"
     },
     "output_type": "display_data"
    }
   ],
   "source": [
    "\n",
    "labels = ['America', 'Brazil', 'Japan', 'Kenya', 'Indonesia', 'Mexico', 'United Kingdom']\n",
    "male_means = [america_violence_gender_ylls.iloc[1,1], \n",
    "             brazil_violence_gender_ylls.iloc[1,1],\n",
    "             japan_violence_gender_ylls.iloc[1,1],\n",
    "             kenya_violence_gender_ylls.iloc[1,1],\n",
    "             indonesia_violence_gender_ylls.iloc[1,1],\n",
    "             mexico_violence_gender_ylls.iloc[1,1],\n",
    "             uk_violence_gender_ylls.iloc[1,1]]\n",
    "female_means = [america_violence_gender_ylls.iloc[0,1], \n",
    "               brazil_violence_gender_ylls.iloc[0,1],\n",
    "               japan_violence_gender_ylls.iloc[0,1],\n",
    "               kenya_violence_gender_ylls.iloc[0,1], \n",
    "               indonesia_violence_gender_ylls.iloc[0,1],\n",
    "               mexico_violence_gender_ylls.iloc[0,1],\n",
    "               uk_violence_gender_ylls.iloc[0,1]]\n",
    "\n",
    "x = np.arange(len(labels))  \n",
    "width = 0.35 \n",
    "\n",
    "fig, ax = plt.subplots(figsize=(9,4))\n",
    "rects1 = ax.bar(x - width/2, male_means, width, label='Male')\n",
    "rects2 = ax.bar(x + width/2, female_means, width, label='Female')\n",
    "\n",
    "# Add some text for labels, title and custom x-axis tick labels, etc.\n",
    "ax.set_ylabel('YLL')\n",
    "ax.set_title('Years of Life Lost by Gender from Interpersonal Violence by Country')\n",
    "ax.set_xticks(x)\n",
    "ax.set_xticklabels(labels)\n",
    "ax.legend()\n",
    "\n",
    "\n",
    "\n",
    "fig.tight_layout()\n",
    "\n",
    "plt.show()"
   ]
  },
  {
   "cell_type": "markdown",
   "id": "696d1d2c",
   "metadata": {},
   "source": [
    "### All violence age"
   ]
  },
  {
   "cell_type": "code",
   "execution_count": 323,
   "id": "635c41fa",
   "metadata": {},
   "outputs": [],
   "source": [
    "all_violence_country_deaths = df[df['measure'].str.contains('Deaths')&\n",
    "          df['cause'].str.contains('violence')]"
   ]
  },
  {
   "cell_type": "code",
   "execution_count": 324,
   "id": "91ed0e51",
   "metadata": {},
   "outputs": [],
   "source": [
    "all_violence_country_deaths = all_violence_country_deaths.groupby(['country'], as_index=False).agg({'val':'mean'})"
   ]
  },
  {
   "cell_type": "code",
   "execution_count": 325,
   "id": "f10270f6",
   "metadata": {},
   "outputs": [
    {
     "data": {
      "image/png": "[encoded data removed]",
      "text/plain": [
       "<Figure size 432x288 with 1 Axes>"
      ]
     },
     "metadata": {
      "needs_background": "light"
     },
     "output_type": "display_data"
    }
   ],
   "source": [
    "all_violence_country_deaths.plot(x=\"country\", y=\"val\", kind=\"bar\")\n",
    "plt.show()"
   ]
  },
  {
   "cell_type": "markdown",
   "id": "e129e513",
   "metadata": {},
   "source": [
    "#### Deaths"
   ]
  },
  {
   "cell_type": "code",
   "execution_count": 326,
   "id": "5af22dc6",
   "metadata": {},
   "outputs": [],
   "source": [
    "#lets try to make bar charts - first single then double\n",
    "all_violence_age_deaths = df[df['measure'].str.contains('Deaths')&\n",
    "          df['cause'].str.contains('violence')]"
   ]
  },
  {
   "cell_type": "code",
   "execution_count": 327,
   "id": "56388037",
   "metadata": {},
   "outputs": [
    {
     "data": {
      "text/html": [
       "<div>\n",
       "<style scoped>\n",
       "    .dataframe tbody tr th:only-of-type {\n",
       "        vertical-align: middle;\n",
       "    }\n",
       "\n",
       "    .dataframe tbody tr th {\n",
       "        vertical-align: top;\n",
       "    }\n",
       "\n",
       "    .dataframe thead th {\n",
       "        text-align: right;\n",
       "    }\n",
       "</style>\n",
       "<table border=\"1\" class=\"dataframe\">\n",
       "  <thead>\n",
       "    <tr style=\"text-align: right;\">\n",
       "      <th></th>\n",
       "      <th>age_sort</th>\n",
       "      <th>age</th>\n",
       "      <th>val</th>\n",
       "    </tr>\n",
       "  </thead>\n",
       "  <tbody>\n",
       "    <tr>\n",
       "      <th>0</th>\n",
       "      <td>0</td>\n",
       "      <td>1 to 4</td>\n",
       "      <td>0.985361</td>\n",
       "    </tr>\n",
       "    <tr>\n",
       "      <th>1</th>\n",
       "      <td>1</td>\n",
       "      <td>5 to 9</td>\n",
       "      <td>0.524197</td>\n",
       "    </tr>\n",
       "    <tr>\n",
       "      <th>2</th>\n",
       "      <td>2</td>\n",
       "      <td>10 to 14</td>\n",
       "      <td>1.045526</td>\n",
       "    </tr>\n",
       "    <tr>\n",
       "      <th>3</th>\n",
       "      <td>2</td>\n",
       "      <td>15 to 19</td>\n",
       "      <td>8.298407</td>\n",
       "    </tr>\n",
       "    <tr>\n",
       "      <th>4</th>\n",
       "      <td>2</td>\n",
       "      <td>20 to 24</td>\n",
       "      <td>12.718020</td>\n",
       "    </tr>\n",
       "    <tr>\n",
       "      <th>5</th>\n",
       "      <td>2</td>\n",
       "      <td>25 to 29</td>\n",
       "      <td>11.873879</td>\n",
       "    </tr>\n",
       "    <tr>\n",
       "      <th>6</th>\n",
       "      <td>2</td>\n",
       "      <td>30 to 34</td>\n",
       "      <td>10.735435</td>\n",
       "    </tr>\n",
       "    <tr>\n",
       "      <th>7</th>\n",
       "      <td>2</td>\n",
       "      <td>35 to 39</td>\n",
       "      <td>9.856952</td>\n",
       "    </tr>\n",
       "    <tr>\n",
       "      <th>8</th>\n",
       "      <td>2</td>\n",
       "      <td>40 to 44</td>\n",
       "      <td>8.923485</td>\n",
       "    </tr>\n",
       "    <tr>\n",
       "      <th>9</th>\n",
       "      <td>2</td>\n",
       "      <td>45 to 49</td>\n",
       "      <td>8.056049</td>\n",
       "    </tr>\n",
       "    <tr>\n",
       "      <th>10</th>\n",
       "      <td>2</td>\n",
       "      <td>50 to 54</td>\n",
       "      <td>7.918881</td>\n",
       "    </tr>\n",
       "    <tr>\n",
       "      <th>11</th>\n",
       "      <td>2</td>\n",
       "      <td>55 to 59</td>\n",
       "      <td>7.278414</td>\n",
       "    </tr>\n",
       "    <tr>\n",
       "      <th>12</th>\n",
       "      <td>2</td>\n",
       "      <td>60 to 64</td>\n",
       "      <td>6.787711</td>\n",
       "    </tr>\n",
       "    <tr>\n",
       "      <th>13</th>\n",
       "      <td>2</td>\n",
       "      <td>65 to 69</td>\n",
       "      <td>7.422731</td>\n",
       "    </tr>\n",
       "    <tr>\n",
       "      <th>14</th>\n",
       "      <td>2</td>\n",
       "      <td>70 to 74</td>\n",
       "      <td>7.267436</td>\n",
       "    </tr>\n",
       "    <tr>\n",
       "      <th>15</th>\n",
       "      <td>2</td>\n",
       "      <td>75 to 79</td>\n",
       "      <td>7.681078</td>\n",
       "    </tr>\n",
       "    <tr>\n",
       "      <th>16</th>\n",
       "      <td>2</td>\n",
       "      <td>80 to 84</td>\n",
       "      <td>4.663375</td>\n",
       "    </tr>\n",
       "    <tr>\n",
       "      <th>17</th>\n",
       "      <td>2</td>\n",
       "      <td>85 to 89</td>\n",
       "      <td>4.810600</td>\n",
       "    </tr>\n",
       "    <tr>\n",
       "      <th>18</th>\n",
       "      <td>2</td>\n",
       "      <td>90 to 94</td>\n",
       "      <td>4.451434</td>\n",
       "    </tr>\n",
       "  </tbody>\n",
       "</table>\n",
       "</div>"
      ],
      "text/plain": [
       "    age_sort       age        val\n",
       "0          0    1 to 4   0.985361\n",
       "1          1    5 to 9   0.524197\n",
       "2          2  10 to 14   1.045526\n",
       "3          2  15 to 19   8.298407\n",
       "4          2  20 to 24  12.718020\n",
       "5          2  25 to 29  11.873879\n",
       "6          2  30 to 34  10.735435\n",
       "7          2  35 to 39   9.856952\n",
       "8          2  40 to 44   8.923485\n",
       "9          2  45 to 49   8.056049\n",
       "10         2  50 to 54   7.918881\n",
       "11         2  55 to 59   7.278414\n",
       "12         2  60 to 64   6.787711\n",
       "13         2  65 to 69   7.422731\n",
       "14         2  70 to 74   7.267436\n",
       "15         2  75 to 79   7.681078\n",
       "16         2  80 to 84   4.663375\n",
       "17         2  85 to 89   4.810600\n",
       "18         2  90 to 94   4.451434"
      ]
     },
     "execution_count": 327,
     "metadata": {},
     "output_type": "execute_result"
    }
   ],
   "source": [
    "all_violence_age_deaths = all_violence_age_deaths.groupby(['age_sort','age'], as_index=False).agg({'val':'mean'})\n",
    "all_violence_age_deaths"
   ]
  },
  {
   "cell_type": "code",
   "execution_count": 328,
   "id": "a8fd9ae5",
   "metadata": {},
   "outputs": [
    {
     "data": {
      "image/png": "[encoded data removed]",
      "text/plain": [
       "<Figure size 432x288 with 1 Axes>"
      ]
     },
     "metadata": {
      "needs_background": "light"
     },
     "output_type": "display_data"
    }
   ],
   "source": [
    "all_violence_age_deaths.plot(x=\"age\", y=\"val\", kind=\"bar\")\n",
    "plt.show()"
   ]
  },
  {
   "cell_type": "markdown",
   "id": "a97500a8",
   "metadata": {},
   "source": [
    "#### YLL"
   ]
  },
  {
   "cell_type": "code",
   "execution_count": 329,
   "id": "ec656bf5",
   "metadata": {},
   "outputs": [],
   "source": [
    "all_violence_age_ylls = df[df['measure'].str.contains('YLL')&\n",
    "          df['cause'].str.contains('violence')]"
   ]
  },
  {
   "cell_type": "code",
   "execution_count": 330,
   "id": "e8d62159",
   "metadata": {},
   "outputs": [
    {
     "data": {
      "text/html": [
       "<div>\n",
       "<style scoped>\n",
       "    .dataframe tbody tr th:only-of-type {\n",
       "        vertical-align: middle;\n",
       "    }\n",
       "\n",
       "    .dataframe tbody tr th {\n",
       "        vertical-align: top;\n",
       "    }\n",
       "\n",
       "    .dataframe thead th {\n",
       "        text-align: right;\n",
       "    }\n",
       "</style>\n",
       "<table border=\"1\" class=\"dataframe\">\n",
       "  <thead>\n",
       "    <tr style=\"text-align: right;\">\n",
       "      <th></th>\n",
       "      <th>age_sort</th>\n",
       "      <th>age</th>\n",
       "      <th>val</th>\n",
       "    </tr>\n",
       "  </thead>\n",
       "  <tbody>\n",
       "    <tr>\n",
       "      <th>0</th>\n",
       "      <td>0</td>\n",
       "      <td>1 to 4</td>\n",
       "      <td>84.976255</td>\n",
       "    </tr>\n",
       "    <tr>\n",
       "      <th>1</th>\n",
       "      <td>1</td>\n",
       "      <td>5 to 9</td>\n",
       "      <td>42.939710</td>\n",
       "    </tr>\n",
       "    <tr>\n",
       "      <th>2</th>\n",
       "      <td>2</td>\n",
       "      <td>10 to 14</td>\n",
       "      <td>79.965862</td>\n",
       "    </tr>\n",
       "    <tr>\n",
       "      <th>3</th>\n",
       "      <td>2</td>\n",
       "      <td>15 to 19</td>\n",
       "      <td>593.085702</td>\n",
       "    </tr>\n",
       "    <tr>\n",
       "      <th>4</th>\n",
       "      <td>2</td>\n",
       "      <td>20 to 24</td>\n",
       "      <td>849.207602</td>\n",
       "    </tr>\n",
       "    <tr>\n",
       "      <th>5</th>\n",
       "      <td>2</td>\n",
       "      <td>25 to 29</td>\n",
       "      <td>734.962745</td>\n",
       "    </tr>\n",
       "    <tr>\n",
       "      <th>6</th>\n",
       "      <td>2</td>\n",
       "      <td>30 to 34</td>\n",
       "      <td>611.061486</td>\n",
       "    </tr>\n",
       "    <tr>\n",
       "      <th>7</th>\n",
       "      <td>2</td>\n",
       "      <td>35 to 39</td>\n",
       "      <td>512.003104</td>\n",
       "    </tr>\n",
       "    <tr>\n",
       "      <th>8</th>\n",
       "      <td>2</td>\n",
       "      <td>40 to 44</td>\n",
       "      <td>419.225775</td>\n",
       "    </tr>\n",
       "    <tr>\n",
       "      <th>9</th>\n",
       "      <td>2</td>\n",
       "      <td>45 to 49</td>\n",
       "      <td>339.133932</td>\n",
       "    </tr>\n",
       "    <tr>\n",
       "      <th>10</th>\n",
       "      <td>2</td>\n",
       "      <td>50 to 54</td>\n",
       "      <td>295.239758</td>\n",
       "    </tr>\n",
       "    <tr>\n",
       "      <th>11</th>\n",
       "      <td>2</td>\n",
       "      <td>55 to 59</td>\n",
       "      <td>236.994222</td>\n",
       "    </tr>\n",
       "    <tr>\n",
       "      <th>12</th>\n",
       "      <td>2</td>\n",
       "      <td>60 to 64</td>\n",
       "      <td>189.584025</td>\n",
       "    </tr>\n",
       "    <tr>\n",
       "      <th>13</th>\n",
       "      <td>2</td>\n",
       "      <td>65 to 69</td>\n",
       "      <td>173.856678</td>\n",
       "    </tr>\n",
       "    <tr>\n",
       "      <th>14</th>\n",
       "      <td>2</td>\n",
       "      <td>70 to 74</td>\n",
       "      <td>139.159499</td>\n",
       "    </tr>\n",
       "    <tr>\n",
       "      <th>15</th>\n",
       "      <td>2</td>\n",
       "      <td>75 to 79</td>\n",
       "      <td>116.364656</td>\n",
       "    </tr>\n",
       "    <tr>\n",
       "      <th>16</th>\n",
       "      <td>2</td>\n",
       "      <td>80 to 84</td>\n",
       "      <td>54.320832</td>\n",
       "    </tr>\n",
       "    <tr>\n",
       "      <th>17</th>\n",
       "      <td>2</td>\n",
       "      <td>85 to 89</td>\n",
       "      <td>42.771457</td>\n",
       "    </tr>\n",
       "    <tr>\n",
       "      <th>18</th>\n",
       "      <td>2</td>\n",
       "      <td>90 to 94</td>\n",
       "      <td>30.638268</td>\n",
       "    </tr>\n",
       "  </tbody>\n",
       "</table>\n",
       "</div>"
      ],
      "text/plain": [
       "    age_sort       age         val\n",
       "0          0    1 to 4   84.976255\n",
       "1          1    5 to 9   42.939710\n",
       "2          2  10 to 14   79.965862\n",
       "3          2  15 to 19  593.085702\n",
       "4          2  20 to 24  849.207602\n",
       "5          2  25 to 29  734.962745\n",
       "6          2  30 to 34  611.061486\n",
       "7          2  35 to 39  512.003104\n",
       "8          2  40 to 44  419.225775\n",
       "9          2  45 to 49  339.133932\n",
       "10         2  50 to 54  295.239758\n",
       "11         2  55 to 59  236.994222\n",
       "12         2  60 to 64  189.584025\n",
       "13         2  65 to 69  173.856678\n",
       "14         2  70 to 74  139.159499\n",
       "15         2  75 to 79  116.364656\n",
       "16         2  80 to 84   54.320832\n",
       "17         2  85 to 89   42.771457\n",
       "18         2  90 to 94   30.638268"
      ]
     },
     "execution_count": 330,
     "metadata": {},
     "output_type": "execute_result"
    }
   ],
   "source": [
    "all_violence_age_ylls = all_violence_age_ylls.groupby(['age_sort','age'], as_index=False).agg({'val':'mean'})\n",
    "all_violence_age_ylls"
   ]
  },
  {
   "cell_type": "code",
   "execution_count": 331,
   "id": "2c5d5420",
   "metadata": {},
   "outputs": [
    {
     "data": {
      "image/png": "[encoded data removed]",
      "text/plain": [
       "<Figure size 432x288 with 1 Axes>"
      ]
     },
     "metadata": {
      "needs_background": "light"
     },
     "output_type": "display_data"
    }
   ],
   "source": [
    "all_violence_age_ylls.plot(x=\"age\", y=\"val\", kind=\"bar\")\n",
    "plt.show()"
   ]
  },
  {
   "cell_type": "markdown",
   "id": "98138115",
   "metadata": {},
   "source": [
    "### Diabetes"
   ]
  },
  {
   "cell_type": "markdown",
   "id": "57024bc6",
   "metadata": {},
   "source": [
    "### Deaths"
   ]
  },
  {
   "cell_type": "code",
   "execution_count": 332,
   "id": "72086ab6",
   "metadata": {},
   "outputs": [],
   "source": [
    "all_diabetes_age_deaths = df[df['measure'].str.contains('Deaths')&\n",
    "          df['cause'].str.contains('Diabetes')]"
   ]
  },
  {
   "cell_type": "code",
   "execution_count": 333,
   "id": "5a68a39f",
   "metadata": {},
   "outputs": [
    {
     "data": {
      "text/html": [
       "<div>\n",
       "<style scoped>\n",
       "    .dataframe tbody tr th:only-of-type {\n",
       "        vertical-align: middle;\n",
       "    }\n",
       "\n",
       "    .dataframe tbody tr th {\n",
       "        vertical-align: top;\n",
       "    }\n",
       "\n",
       "    .dataframe thead th {\n",
       "        text-align: right;\n",
       "    }\n",
       "</style>\n",
       "<table border=\"1\" class=\"dataframe\">\n",
       "  <thead>\n",
       "    <tr style=\"text-align: right;\">\n",
       "      <th></th>\n",
       "      <th>age_sort</th>\n",
       "      <th>age</th>\n",
       "      <th>val</th>\n",
       "    </tr>\n",
       "  </thead>\n",
       "  <tbody>\n",
       "    <tr>\n",
       "      <th>0</th>\n",
       "      <td>0</td>\n",
       "      <td>1 to 4</td>\n",
       "      <td>0.085520</td>\n",
       "    </tr>\n",
       "    <tr>\n",
       "      <th>1</th>\n",
       "      <td>1</td>\n",
       "      <td>5 to 9</td>\n",
       "      <td>0.056168</td>\n",
       "    </tr>\n",
       "    <tr>\n",
       "      <th>2</th>\n",
       "      <td>2</td>\n",
       "      <td>10 to 14</td>\n",
       "      <td>0.102151</td>\n",
       "    </tr>\n",
       "    <tr>\n",
       "      <th>3</th>\n",
       "      <td>2</td>\n",
       "      <td>15 to 19</td>\n",
       "      <td>0.364570</td>\n",
       "    </tr>\n",
       "    <tr>\n",
       "      <th>4</th>\n",
       "      <td>2</td>\n",
       "      <td>20 to 24</td>\n",
       "      <td>0.695700</td>\n",
       "    </tr>\n",
       "    <tr>\n",
       "      <th>5</th>\n",
       "      <td>2</td>\n",
       "      <td>25 to 29</td>\n",
       "      <td>1.074337</td>\n",
       "    </tr>\n",
       "    <tr>\n",
       "      <th>6</th>\n",
       "      <td>2</td>\n",
       "      <td>30 to 34</td>\n",
       "      <td>1.891457</td>\n",
       "    </tr>\n",
       "    <tr>\n",
       "      <th>7</th>\n",
       "      <td>2</td>\n",
       "      <td>35 to 39</td>\n",
       "      <td>3.438362</td>\n",
       "    </tr>\n",
       "    <tr>\n",
       "      <th>8</th>\n",
       "      <td>2</td>\n",
       "      <td>40 to 44</td>\n",
       "      <td>6.598764</td>\n",
       "    </tr>\n",
       "    <tr>\n",
       "      <th>9</th>\n",
       "      <td>2</td>\n",
       "      <td>45 to 49</td>\n",
       "      <td>12.338504</td>\n",
       "    </tr>\n",
       "    <tr>\n",
       "      <th>10</th>\n",
       "      <td>2</td>\n",
       "      <td>50 to 54</td>\n",
       "      <td>22.718570</td>\n",
       "    </tr>\n",
       "    <tr>\n",
       "      <th>11</th>\n",
       "      <td>2</td>\n",
       "      <td>55 to 59</td>\n",
       "      <td>37.379834</td>\n",
       "    </tr>\n",
       "    <tr>\n",
       "      <th>12</th>\n",
       "      <td>2</td>\n",
       "      <td>60 to 64</td>\n",
       "      <td>58.427479</td>\n",
       "    </tr>\n",
       "    <tr>\n",
       "      <th>13</th>\n",
       "      <td>2</td>\n",
       "      <td>65 to 69</td>\n",
       "      <td>80.996324</td>\n",
       "    </tr>\n",
       "    <tr>\n",
       "      <th>14</th>\n",
       "      <td>2</td>\n",
       "      <td>70 to 74</td>\n",
       "      <td>119.630482</td>\n",
       "    </tr>\n",
       "    <tr>\n",
       "      <th>15</th>\n",
       "      <td>2</td>\n",
       "      <td>75 to 79</td>\n",
       "      <td>172.512579</td>\n",
       "    </tr>\n",
       "    <tr>\n",
       "      <th>16</th>\n",
       "      <td>2</td>\n",
       "      <td>80 to 84</td>\n",
       "      <td>242.591658</td>\n",
       "    </tr>\n",
       "    <tr>\n",
       "      <th>17</th>\n",
       "      <td>2</td>\n",
       "      <td>85 to 89</td>\n",
       "      <td>331.223390</td>\n",
       "    </tr>\n",
       "    <tr>\n",
       "      <th>18</th>\n",
       "      <td>2</td>\n",
       "      <td>90 to 94</td>\n",
       "      <td>457.028989</td>\n",
       "    </tr>\n",
       "  </tbody>\n",
       "</table>\n",
       "</div>"
      ],
      "text/plain": [
       "    age_sort       age         val\n",
       "0          0    1 to 4    0.085520\n",
       "1          1    5 to 9    0.056168\n",
       "2          2  10 to 14    0.102151\n",
       "3          2  15 to 19    0.364570\n",
       "4          2  20 to 24    0.695700\n",
       "5          2  25 to 29    1.074337\n",
       "6          2  30 to 34    1.891457\n",
       "7          2  35 to 39    3.438362\n",
       "8          2  40 to 44    6.598764\n",
       "9          2  45 to 49   12.338504\n",
       "10         2  50 to 54   22.718570\n",
       "11         2  55 to 59   37.379834\n",
       "12         2  60 to 64   58.427479\n",
       "13         2  65 to 69   80.996324\n",
       "14         2  70 to 74  119.630482\n",
       "15         2  75 to 79  172.512579\n",
       "16         2  80 to 84  242.591658\n",
       "17         2  85 to 89  331.223390\n",
       "18         2  90 to 94  457.028989"
      ]
     },
     "execution_count": 333,
     "metadata": {},
     "output_type": "execute_result"
    }
   ],
   "source": [
    "all_diabetes_age_deaths = all_diabetes_age_deaths.groupby(['age_sort','age'], as_index=False).agg({'val':'mean'})\n",
    "all_diabetes_age_deaths"
   ]
  },
  {
   "cell_type": "code",
   "execution_count": 334,
   "id": "0d8ffa1b",
   "metadata": {},
   "outputs": [
    {
     "data": {
      "image/png": "[encoded data removed]",
      "text/plain": [
       "<Figure size 432x288 with 1 Axes>"
      ]
     },
     "metadata": {
      "needs_background": "light"
     },
     "output_type": "display_data"
    }
   ],
   "source": [
    "all_diabetes_age_deaths.plot(x=\"age\", y=\"val\", kind=\"bar\")\n",
    "plt.show()"
   ]
  },
  {
   "cell_type": "markdown",
   "id": "9c4eff30",
   "metadata": {},
   "source": [
    "### YLLs"
   ]
  },
  {
   "cell_type": "code",
   "execution_count": 335,
   "id": "f5cccca1",
   "metadata": {},
   "outputs": [],
   "source": [
    "all_diabetes_age_ylls = df[df['measure'].str.contains('YLL')&\n",
    "          df['cause'].str.contains('Diabetes')]"
   ]
  },
  {
   "cell_type": "code",
   "execution_count": 336,
   "id": "4cf55eb8",
   "metadata": {},
   "outputs": [
    {
     "data": {
      "text/html": [
       "<div>\n",
       "<style scoped>\n",
       "    .dataframe tbody tr th:only-of-type {\n",
       "        vertical-align: middle;\n",
       "    }\n",
       "\n",
       "    .dataframe tbody tr th {\n",
       "        vertical-align: top;\n",
       "    }\n",
       "\n",
       "    .dataframe thead th {\n",
       "        text-align: right;\n",
       "    }\n",
       "</style>\n",
       "<table border=\"1\" class=\"dataframe\">\n",
       "  <thead>\n",
       "    <tr style=\"text-align: right;\">\n",
       "      <th></th>\n",
       "      <th>age_sort</th>\n",
       "      <th>age</th>\n",
       "      <th>val</th>\n",
       "    </tr>\n",
       "  </thead>\n",
       "  <tbody>\n",
       "    <tr>\n",
       "      <th>0</th>\n",
       "      <td>0</td>\n",
       "      <td>1 to 4</td>\n",
       "      <td>7.356101</td>\n",
       "    </tr>\n",
       "    <tr>\n",
       "      <th>1</th>\n",
       "      <td>1</td>\n",
       "      <td>5 to 9</td>\n",
       "      <td>4.590628</td>\n",
       "    </tr>\n",
       "    <tr>\n",
       "      <th>2</th>\n",
       "      <td>2</td>\n",
       "      <td>10 to 14</td>\n",
       "      <td>7.802835</td>\n",
       "    </tr>\n",
       "    <tr>\n",
       "      <th>3</th>\n",
       "      <td>2</td>\n",
       "      <td>15 to 19</td>\n",
       "      <td>26.027773</td>\n",
       "    </tr>\n",
       "    <tr>\n",
       "      <th>4</th>\n",
       "      <td>2</td>\n",
       "      <td>20 to 24</td>\n",
       "      <td>46.293871</td>\n",
       "    </tr>\n",
       "    <tr>\n",
       "      <th>5</th>\n",
       "      <td>2</td>\n",
       "      <td>25 to 29</td>\n",
       "      <td>66.187114</td>\n",
       "    </tr>\n",
       "    <tr>\n",
       "      <th>6</th>\n",
       "      <td>2</td>\n",
       "      <td>30 to 34</td>\n",
       "      <td>107.107094</td>\n",
       "    </tr>\n",
       "    <tr>\n",
       "      <th>7</th>\n",
       "      <td>2</td>\n",
       "      <td>35 to 39</td>\n",
       "      <td>177.635204</td>\n",
       "    </tr>\n",
       "    <tr>\n",
       "      <th>8</th>\n",
       "      <td>2</td>\n",
       "      <td>40 to 44</td>\n",
       "      <td>308.452268</td>\n",
       "    </tr>\n",
       "    <tr>\n",
       "      <th>9</th>\n",
       "      <td>2</td>\n",
       "      <td>45 to 49</td>\n",
       "      <td>516.902891</td>\n",
       "    </tr>\n",
       "    <tr>\n",
       "      <th>10</th>\n",
       "      <td>2</td>\n",
       "      <td>50 to 54</td>\n",
       "      <td>843.907261</td>\n",
       "    </tr>\n",
       "    <tr>\n",
       "      <th>11</th>\n",
       "      <td>2</td>\n",
       "      <td>55 to 59</td>\n",
       "      <td>1213.347625</td>\n",
       "    </tr>\n",
       "    <tr>\n",
       "      <th>12</th>\n",
       "      <td>2</td>\n",
       "      <td>60 to 64</td>\n",
       "      <td>1627.704968</td>\n",
       "    </tr>\n",
       "    <tr>\n",
       "      <th>13</th>\n",
       "      <td>2</td>\n",
       "      <td>65 to 69</td>\n",
       "      <td>1894.193240</td>\n",
       "    </tr>\n",
       "    <tr>\n",
       "      <th>14</th>\n",
       "      <td>2</td>\n",
       "      <td>70 to 74</td>\n",
       "      <td>2286.918544</td>\n",
       "    </tr>\n",
       "    <tr>\n",
       "      <th>15</th>\n",
       "      <td>2</td>\n",
       "      <td>75 to 79</td>\n",
       "      <td>2608.621803</td>\n",
       "    </tr>\n",
       "    <tr>\n",
       "      <th>16</th>\n",
       "      <td>2</td>\n",
       "      <td>80 to 84</td>\n",
       "      <td>2816.473145</td>\n",
       "    </tr>\n",
       "    <tr>\n",
       "      <th>17</th>\n",
       "      <td>2</td>\n",
       "      <td>85 to 89</td>\n",
       "      <td>2932.441431</td>\n",
       "    </tr>\n",
       "    <tr>\n",
       "      <th>18</th>\n",
       "      <td>2</td>\n",
       "      <td>90 to 94</td>\n",
       "      <td>3135.853570</td>\n",
       "    </tr>\n",
       "  </tbody>\n",
       "</table>\n",
       "</div>"
      ],
      "text/plain": [
       "    age_sort       age          val\n",
       "0          0    1 to 4     7.356101\n",
       "1          1    5 to 9     4.590628\n",
       "2          2  10 to 14     7.802835\n",
       "3          2  15 to 19    26.027773\n",
       "4          2  20 to 24    46.293871\n",
       "5          2  25 to 29    66.187114\n",
       "6          2  30 to 34   107.107094\n",
       "7          2  35 to 39   177.635204\n",
       "8          2  40 to 44   308.452268\n",
       "9          2  45 to 49   516.902891\n",
       "10         2  50 to 54   843.907261\n",
       "11         2  55 to 59  1213.347625\n",
       "12         2  60 to 64  1627.704968\n",
       "13         2  65 to 69  1894.193240\n",
       "14         2  70 to 74  2286.918544\n",
       "15         2  75 to 79  2608.621803\n",
       "16         2  80 to 84  2816.473145\n",
       "17         2  85 to 89  2932.441431\n",
       "18         2  90 to 94  3135.853570"
      ]
     },
     "execution_count": 336,
     "metadata": {},
     "output_type": "execute_result"
    }
   ],
   "source": [
    "all_diabetes_age_ylls = all_diabetes_age_ylls.groupby(['age_sort','age'], as_index=False).agg({'val':'mean'})\n",
    "all_diabetes_age_ylls"
   ]
  },
  {
   "cell_type": "code",
   "execution_count": 337,
   "id": "0f998a7e",
   "metadata": {},
   "outputs": [
    {
     "data": {
      "image/png": "[encoded data removed]",
      "text/plain": [
       "<Figure size 432x288 with 1 Axes>"
      ]
     },
     "metadata": {
      "needs_background": "light"
     },
     "output_type": "display_data"
    }
   ],
   "source": [
    "all_diabetes_age_ylls.plot(x=\"age\", y=\"val\", kind=\"bar\")\n",
    "plt.show()"
   ]
  },
  {
   "cell_type": "markdown",
   "id": "6abc5ff8",
   "metadata": {},
   "source": [
    "## Get ratios of YLLs to deaths for both IV and diabetes "
   ]
  },
  {
   "cell_type": "code",
   "execution_count": 338,
   "id": "adbb4ba6",
   "metadata": {},
   "outputs": [],
   "source": [
    "#Get average age of death and average YLL for diabetes and get ratio - do the same for interpersonal violence"
   ]
  },
  {
   "cell_type": "code",
   "execution_count": 339,
   "id": "fc98d76b",
   "metadata": {},
   "outputs": [
    {
     "name": "stdout",
     "output_type": "stream",
     "text": [
      "Mean diabetes death rate:  81.534 per 100,000\n"
     ]
    }
   ],
   "source": [
    "mean_diabetes_deaths = df.groupby(['measure', 'cause'], as_index=False).agg({'val':'mean'})\n",
    "mean_diabetes_deaths = mean_diabetes_deaths[mean_diabetes_deaths['cause'].str.contains('Diabetes')]\n",
    "mean_diabetes_deaths = mean_diabetes_deaths[mean_diabetes_deaths['measure'].str.contains('Deaths')]\n",
    "mean_diabetes_deaths = round(mean_diabetes_deaths['val'].iloc[0], 3)\n",
    "print('Mean diabetes death rate: ', mean_diabetes_deaths, 'per 100,000')"
   ]
  },
  {
   "cell_type": "code",
   "execution_count": 340,
   "id": "3c784f8c",
   "metadata": {},
   "outputs": [
    {
     "name": "stdout",
     "output_type": "stream",
     "text": [
      "Mean diabetes YLL rate:  1085.675 per 100,000\n"
     ]
    }
   ],
   "source": [
    "mean_diabetes_YLLs = df.groupby(['measure', 'cause'], as_index=False).agg({'val':'mean'})\n",
    "mean_diabetes_YLLs = mean_diabetes_YLLs[mean_diabetes_YLLs['cause'].str.contains('Diabetes')]\n",
    "mean_diabetes_YLLs = mean_diabetes_YLLs[mean_diabetes_YLLs['measure'].str.contains('YLLs')]\n",
    "mean_diabetes_YLLs = round(mean_diabetes_YLLs['val'].iloc[0], 3)\n",
    "print('Mean diabetes YLL rate: ', mean_diabetes_YLLs, 'per 100,000')"
   ]
  },
  {
   "cell_type": "code",
   "execution_count": 341,
   "id": "8dfcc6d4",
   "metadata": {},
   "outputs": [
    {
     "data": {
      "text/plain": [
       "13.315610665489242"
      ]
     },
     "execution_count": 341,
     "metadata": {},
     "output_type": "execute_result"
    }
   ],
   "source": [
    "diabetes_ratio = mean_diabetes_YLLs/mean_diabetes_deaths\n",
    "diabetes_ratio"
   ]
  },
  {
   "cell_type": "code",
   "execution_count": 342,
   "id": "46eb71e9",
   "metadata": {},
   "outputs": [
    {
     "data": {
      "text/plain": [
       "6.910472208706491"
      ]
     },
     "execution_count": 342,
     "metadata": {},
     "output_type": "execute_result"
    }
   ],
   "source": [
    "mean_violence_deaths = df.groupby(['measure', 'cause'], as_index=False).agg({'val':'mean'})\n",
    "\n",
    "mean_violence_deaths = mean_violence_deaths[mean_violence_deaths['cause'].str.contains('violence')]\n",
    "mean_violence_deaths = mean_violence_deaths[mean_violence_deaths['measure'].str.contains('Deaths')]\n",
    "mean_violence_deaths = mean_violence_deaths['val'].iloc[0]\n",
    "mean_violence_deaths"
   ]
  },
  {
   "cell_type": "code",
   "execution_count": 343,
   "id": "932003d2",
   "metadata": {},
   "outputs": [
    {
     "data": {
      "text/plain": [
       "291.8679772760499"
      ]
     },
     "execution_count": 343,
     "metadata": {},
     "output_type": "execute_result"
    }
   ],
   "source": [
    "mean_violence_YLLs = df.groupby(['measure', 'cause'], as_index=False).agg({'val':'mean'})\n",
    "\n",
    "mean_violence_YLLs = mean_violence_YLLs[mean_violence_YLLs['cause'].str.contains('violence')]\n",
    "mean_violence_YLLs = mean_violence_YLLs[mean_violence_YLLs['measure'].str.contains('YLLs')]\n",
    "mean_violence_YLLs = mean_violence_YLLs['val'].iloc[0]\n",
    "mean_violence_YLLs"
   ]
  },
  {
   "cell_type": "code",
   "execution_count": 344,
   "id": "f8f76352",
   "metadata": {},
   "outputs": [
    {
     "data": {
      "text/plain": [
       "42.23560539152823"
      ]
     },
     "execution_count": 344,
     "metadata": {},
     "output_type": "execute_result"
    }
   ],
   "source": [
    "violence_ratio = mean_violence_YLLs/mean_violence_deaths\n",
    "violence_ratio"
   ]
  },
  {
   "cell_type": "code",
   "execution_count": 345,
   "id": "2757e743",
   "metadata": {},
   "outputs": [
    {
     "data": {
      "text/plain": [
       "3.171886476148814"
      ]
     },
     "execution_count": 345,
     "metadata": {},
     "output_type": "execute_result"
    }
   ],
   "source": [
    "#how much bigger is th violence ration to the diabetes ratio?\n",
    "violence_ratio/diabetes_ratio\n",
    "#We can see that the years of life lost for iv is greater in proportion to diabetes"
   ]
  },
  {
   "cell_type": "markdown",
   "id": "74f992b5",
   "metadata": {},
   "source": [
    "### Compare in 10 year blocks"
   ]
  },
  {
   "cell_type": "markdown",
   "id": "c7bc3324",
   "metadata": {},
   "source": [
    "This section seems like uneeded (and repeated) code"
   ]
  },
  {
   "cell_type": "code",
   "execution_count": 159,
   "id": "51c4d0e7",
   "metadata": {},
   "outputs": [],
   "source": [
    "#decade1 = [1990, 1991, 1992, 1993, 1994, 1995, 1996, 1997, 1998, 1999]\n",
    "#decade2 = [2000, 2001, 2002, 2003, 2004, 2005, 2006, 2007, 2008, 2009]\n",
    "#decade3 = [2010, 2011, 2012, 2013, 2014, 2015, 2016, 2017, 2018, 2019]\n"
   ]
  },
  {
   "cell_type": "code",
   "execution_count": 160,
   "id": "a3da22cc",
   "metadata": {},
   "outputs": [
    {
     "data": {
      "text/plain": [
       "array([], dtype='datetime64[ns]')"
      ]
     },
     "execution_count": 160,
     "metadata": {},
     "output_type": "execute_result"
    }
   ],
   "source": [
    "#america_violence_deaths = df[df['country'].str.fullmatch('America')&\n",
    "#          df['measure'].str.fullmatch('Deaths')&\n",
    "#          df['cause'].str.fullmatch('Interpersonal violence') &\n",
    "#          df['year'].isin(decade1)]\n",
    "\n",
    "#america_violence_deaths.year.unique()"
   ]
  },
  {
   "cell_type": "code",
   "execution_count": 161,
   "id": "57e27d92",
   "metadata": {},
   "outputs": [],
   "source": [
    "#america_violence_deaths = america_violence_deaths.groupby(['location'], as_index=False).agg({'val':'mean'})"
   ]
  },
  {
   "cell_type": "code",
   "execution_count": 162,
   "id": "9565a46c",
   "metadata": {},
   "outputs": [],
   "source": [
    "#mexico_violence_deaths = df[df['country'].str.fullmatch('Mexico')&\n",
    "#          df['measure'].str.fullmatch('Deaths')&\n",
    "#          df['cause'].str.fullmatch('Interpersonal violence')]"
   ]
  },
  {
   "cell_type": "code",
   "execution_count": 163,
   "id": "6fb209f3",
   "metadata": {},
   "outputs": [],
   "source": [
    "#mexico_violence_deaths = mexico_violence_deaths.groupby(['location'], as_index=False).agg({'val':'mean'})"
   ]
  },
  {
   "cell_type": "code",
   "execution_count": 164,
   "id": "13b3a98c",
   "metadata": {},
   "outputs": [],
   "source": [
    "#japan_violence_deaths = df[df['country'].str.fullmatch('Japan')&\n",
    "#          df['measure'].str.fullmatch('Deaths')&\n",
    "#          df['cause'].str.fullmatch('Interpersonal violence')]"
   ]
  },
  {
   "cell_type": "code",
   "execution_count": 165,
   "id": "fd099410",
   "metadata": {},
   "outputs": [],
   "source": [
    "#japan_violence_deaths = japan_violence_deaths.groupby(['location'], as_index=False).agg({'val':'mean'})"
   ]
  },
  {
   "cell_type": "code",
   "execution_count": 166,
   "id": "56f9ccad",
   "metadata": {},
   "outputs": [],
   "source": [
    "#indonesia_violence_deaths = df[df['country'].str.fullmatch('Indonesia')&\n",
    "#          df['measure'].str.fullmatch('Deaths')&\n",
    "#          df['cause'].str.fullmatch('Interpersonal violence')]"
   ]
  },
  {
   "cell_type": "code",
   "execution_count": 167,
   "id": "d47978ed",
   "metadata": {},
   "outputs": [],
   "source": [
    "#indonesia_violence_deaths = indonesia_violence_deaths.groupby(['location'], as_index=False).agg({'val':'mean'})"
   ]
  },
  {
   "cell_type": "code",
   "execution_count": 168,
   "id": "086c195a",
   "metadata": {},
   "outputs": [],
   "source": [
    "#kenya_violence_deaths = df[df['country'].str.fullmatch('Kenya')&\n",
    "#          df['measure'].str.fullmatch('Deaths')&\n",
    "#          df['cause'].str.fullmatch('Interpersonal violence')]"
   ]
  },
  {
   "cell_type": "code",
   "execution_count": 169,
   "id": "daa9c4f0",
   "metadata": {},
   "outputs": [],
   "source": [
    "#kenya_violence_deaths = kenya_violence_deaths.groupby(['location'], as_index=False).agg({'val':'mean'})"
   ]
  },
  {
   "cell_type": "code",
   "execution_count": 170,
   "id": "d905191d",
   "metadata": {},
   "outputs": [],
   "source": [
    "#brazil_violence_deaths = df[df['country'].str.fullmatch('Brazil')&\n",
    "#          df['measure'].str.fullmatch('Deaths')&\n",
    "#          df['cause'].str.fullmatch('Interpersonal violence')]"
   ]
  },
  {
   "cell_type": "code",
   "execution_count": 171,
   "id": "47c9e165",
   "metadata": {},
   "outputs": [],
   "source": [
    "#brazil_violence_deaths = brazil_violence_deaths.groupby(['location'], as_index=False).agg({'val':'mean'})"
   ]
  },
  {
   "cell_type": "code",
   "execution_count": 172,
   "id": "11c7d4c7",
   "metadata": {},
   "outputs": [],
   "source": [
    "#uk_violence_deaths = df[df['country'].str.fullmatch('United Kingdom')&\n",
    "#          df['measure'].str.fullmatch('Deaths')&\n",
    "#          df['cause'].str.fullmatch('Interpersonal violence')]"
   ]
  },
  {
   "cell_type": "code",
   "execution_count": 173,
   "id": "843295aa",
   "metadata": {},
   "outputs": [],
   "source": [
    "#uk_violence_deaths = uk_violence_deaths.groupby(['location'], as_index=False).agg({'val':'mean'})"
   ]
  },
  {
   "cell_type": "code",
   "execution_count": 348,
   "id": "3e87f4a2",
   "metadata": {},
   "outputs": [
    {
     "data": {
      "image/png": "[encoded data removed]",
      "text/plain": [
       "<Figure size 648x288 with 1 Axes>"
      ]
     },
     "metadata": {
      "needs_background": "light"
     },
     "output_type": "display_data"
    }
   ],
   "source": [
    "data1 = america_violence_deaths['val']\n",
    "data2 = mexico_violence_deaths['val']\n",
    "data3 = japan_violence_deaths['val']\n",
    "data4 = indonesia_violence_deaths['val']\n",
    "data5 = kenya_violence_deaths['val']\n",
    "data6 = brazil_violence_deaths['val']\n",
    "data7 = uk_violence_deaths['val']\n",
    "\n",
    "all_data = [data7, data3, data4, data1, data5, data2, data6]\n",
    "labels = ['United Kindom', 'Japan', 'Indonesia', 'United States', 'Kenya', 'Mexico', 'Brazil']\n",
    "fig, ax  = plt.subplots(figsize=(9, 4))\n",
    "\n",
    "# rectangular box plot\n",
    "bplot = ax.boxplot(all_data, vert=False, patch_artist=True, labels=labels) \n",
    "\n",
    "ax.set_title('Distribution of Deaths between Countries by Interpersonal Violence')\n",
    "\n",
    "colors = ['pink', 'lightblue', 'lightgreen', 'red', 'orange', 'lightgreen', 'lightblue']\n",
    "\n",
    "for patch, color in zip(bplot['boxes'], colors):\n",
    "    patch.set_facecolor(color)\n",
    "\n",
    "ax.set_xlabel('Homicide per 100,000')\n",
    "\n",
    "plt.show()"
   ]
  },
  {
   "cell_type": "markdown",
   "id": "fb37588b",
   "metadata": {},
   "source": [
    "### Visualisatons"
   ]
  },
  {
   "cell_type": "code",
   "execution_count": 349,
   "id": "9ffe84e9",
   "metadata": {},
   "outputs": [
    {
     "data": {
      "image/png": "[encoded data removed]",
      "text/plain": [
       "<Figure size 432x288 with 1 Axes>"
      ]
     },
     "metadata": {
      "needs_background": "light"
     },
     "output_type": "display_data"
    }
   ],
   "source": [
    "data1 = america_violence_YLL['val']\n",
    "data2 = mexico_violence_YLL['val']\n",
    "data3 = japan_violence_YLL['val']\n",
    "data4 = indonesia_violence_YLL['val']\n",
    "data5 = kenya_violence_YLL['val']\n",
    "data6 = brazil_violence_YLL['val']\n",
    "data7 = uk_violence_YLL['val']\n",
    "\n",
    "data1 = america_diabetes_YLL['val']\n",
    "data2 = mexico_diabetes_YLL['val']\n",
    "data3 = japan_diabetes_YLL['val']\n",
    "data4 = indonesia_diabetes_YLL['val']\n",
    "data5 = kenya_diabetes_YLL['val']\n",
    "data6 = brazil_diabetes_YLL['val']\n",
    "data7 = uk_diabetes_YLL['val']\n",
    "\n",
    "data = [data1, data2]\n",
    "df = pd.DataFrame(data, index=['Age of pregnant female', 'Age of pregnant male'])\n",
    "\n",
    "df.T.boxplot()\n",
    "plt.subplots_adjust(bottom=0.25)\n",
    "plt.xticks(rotation=25)\n",
    "plt.show()"
   ]
  },
  {
   "cell_type": "code",
   "execution_count": 350,
   "id": "fa06e4da",
   "metadata": {},
   "outputs": [
    {
     "data": {
      "image/png": "[encoded data removed]",
      "text/plain": [
       "<Figure size 576x288 with 1 Axes>"
      ]
     },
     "metadata": {
      "needs_background": "light"
     },
     "output_type": "display_data"
    }
   ],
   "source": [
    "labels = all_violence_age_ylls['age'].tolist()\n",
    "violence = all_violence_age_ylls['val'].tolist()\n",
    "diabetes = all_diabetes_age_ylls['val'].tolist()\n",
    "\n",
    "x = np.arange(len(labels))  # the label locations\n",
    "width = 0.35  # the width of the bars\n",
    "\n",
    "fig, ax = plt.subplots(figsize=(8,4))\n",
    "rects1 = ax.bar(x - width/2, violence, width, color='tab:red', label='Violence')\n",
    "rects2 = ax.bar(x + width/2, diabetes, width, color='tab:blue', label='Diabetes')\n",
    "\n",
    "# Add some text for labels, title and custom x-axis tick labels, etc.\n",
    "ax.set_ylabel('Years of Life Lost (YLL)')\n",
    "ax.set_title(\"Comparison of YLL's for Interpersonal Violence and Diabetes by Age Group\")\n",
    "ax.set_xticks(x)\n",
    "ax.set_xticklabels(labels)\n",
    "ax.legend()\n",
    "\n",
    "plt.xticks(rotation=45)\n",
    "fig.tight_layout()\n",
    "\n",
    "plt.show()"
   ]
  },
  {
   "cell_type": "code",
   "execution_count": 351,
   "id": "6372dc83",
   "metadata": {},
   "outputs": [
    {
     "data": {
      "image/png": "[encoded data removed]",
      "text/plain": [
       "<Figure size 576x288 with 1 Axes>"
      ]
     },
     "metadata": {
      "needs_background": "light"
     },
     "output_type": "display_data"
    }
   ],
   "source": [
    "labels = all_violence_age_ylls['age'].tolist()\n",
    "violence = all_violence_age_deaths['val'].tolist()\n",
    "diabetes = all_diabetes_age_deaths['val'].tolist()\n",
    "\n",
    "x = np.arange(len(labels))  # the label locations\n",
    "width = 0.35  # the width of the bars\n",
    "\n",
    "fig, ax = plt.subplots(figsize=(8,4))\n",
    "rects1 = ax.bar(x - width/2, violence, width, color='tab:red', label='Violence')\n",
    "rects2 = ax.bar(x + width/2, diabetes, width, color='tab:blue', label='Diabetes')\n",
    "\n",
    "# Add some text for labels, title and custom x-axis tick labels, etc.\n",
    "ax.set_ylabel('Deaths')\n",
    "ax.set_title(\"Comparison of Deaths for interpersonal violence and diabetes by age group\")\n",
    "ax.set_xticks(x)\n",
    "ax.set_xticklabels(labels)\n",
    "ax.legend()\n",
    "\n",
    "#ax.bar_label(rects1, padding=3)\n",
    "#ax.bar_label(rects2, padding=3)\n",
    "plt.xticks(rotation=45)\n",
    "fig.tight_layout()\n",
    "\n",
    "plt.show()"
   ]
  },
  {
   "cell_type": "code",
   "execution_count": 352,
   "id": "dd10dc36",
   "metadata": {},
   "outputs": [
    {
     "data": {
      "image/png": "[encoded data removed]",
      "text/plain": [
       "<Figure size 864x648 with 9 Axes>"
      ]
     },
     "metadata": {
      "needs_background": "light"
     },
     "output_type": "display_data"
    }
   ],
   "source": [
    "data1 = america_diabetes_YLL['val']\n",
    "data11 = america_violence_YLL['val']\n",
    "\n",
    "data2 = mexico_diabetes_YLL['val']\n",
    "data22 = mexico_violence_YLL['val']\n",
    "\n",
    "data3 = japan_diabetes_YLL['val']\n",
    "data33 = japan_violence_YLL['val']\n",
    "\n",
    "data4 = indonesia_diabetes_YLL['val']\n",
    "data44 = indonesia_violence_YLL['val']\n",
    "\n",
    "data5 = kenya_diabetes_YLL['val']\n",
    "data55 = kenya_violence_YLL['val']\n",
    "\n",
    "data6 = brazil_diabetes_YLL['val']\n",
    "data66 = brazil_violence_YLL['val']\n",
    "\n",
    "data7 = uk_diabetes_YLL['val']\n",
    "data77 = uk_violence_YLL['val']\n",
    "\n",
    "\n",
    "\n",
    "america_data = [data1, data11]\n",
    "america_labels = ['Diabetes YLL', 'Violence YLL']\n",
    "\n",
    "mexico_data = [data2, data22]\n",
    "mexico_labels= ['', '']\n",
    "\n",
    "japan_data = [data3, data33]\n",
    "japan_labels= ['', '']\n",
    "\n",
    "indonesia_data = [data4, data44]\n",
    "indonesia_labels= ['Diabetes YLL', 'Violence YLL']\n",
    "\n",
    "kenya_data = [data5, data55]\n",
    "kenya_labels= ['', '']\n",
    "\n",
    "brazil_data = [data6, data66]\n",
    "brazil_labels= ['', '']\n",
    "\n",
    "uk_data = [data7, data77]\n",
    "uk_labels= ['Diabetes YLL', 'Violence YLL']\n",
    "\n",
    "fig, axs = plt.subplots(3, 3, figsize=(12,9))\n",
    "\n",
    "\n",
    "bplot1 = axs[0,0].boxplot(america_data,\n",
    "                     vert=False, \n",
    "                     patch_artist=True,  \n",
    "                     labels=america_labels) \n",
    "\n",
    "bplot2 = axs[0,1].boxplot(mexico_data,\n",
    "                     vert=False,  \n",
    "                     patch_artist=True, \n",
    "                     labels=mexico_labels) \n",
    "\n",
    "bplot3 = axs[0,2].boxplot(japan_data,\n",
    "                     vert=False,  \n",
    "                     patch_artist=True, \n",
    "                     labels=japan_labels)  \n",
    "\n",
    "bplot4 = axs[1,0].boxplot(indonesia_data,\n",
    "                     vert=False,  \n",
    "                     patch_artist=True, \n",
    "                     labels=indonesia_labels) \n",
    "\n",
    "bplot5 = axs[1,1].boxplot(kenya_data,\n",
    "                     vert=False,  \n",
    "                     patch_artist=True, \n",
    "                     labels=kenya_labels)\n",
    "\n",
    "bplot6 = axs[1,2].boxplot(brazil_data,\n",
    "                     vert=False,  \n",
    "                     patch_artist=True, \n",
    "                     labels=brazil_labels)\n",
    "\n",
    "bplot7 = axs[2,1].boxplot(uk_data,\n",
    "                     vert=False,  \n",
    "                     patch_artist=True, \n",
    "                     labels=uk_labels)\n",
    "#fig.tight_layout()\n",
    "fig.tight_layout(pad=2)\n",
    "\n",
    "#axs[0, 1].plot(x, y, 'tab:orange')\n",
    "axs[0, 0].set_title('United States')\n",
    "axs[0, 1].set_title('Mexico')\n",
    "axs[0, 2].set_title('Japan')\n",
    "axs[1, 0].set_title('Indonesia')\n",
    "axs[1, 1].set_title('Kenya')\n",
    "axs[1, 2].set_title('Brazil')\n",
    "axs[2, 1].set_title('United Kingdom')\n",
    "\n",
    "colors = ['tab:blue', 'tab:red']\n",
    "for bplot in (bplot1, bplot2, bplot3, bplot4, bplot5, bplot6, bplot7):\n",
    "    for patch, color in zip(bplot['boxes'], colors):\n",
    "        patch.set_facecolor(color)\n",
    "\n",
    "axs[2,0].set_visible(False)\n",
    "axs[2,2].set_visible(False)\n",
    "fig.suptitle(\"Distribution of Years of Life Lost from Interpersonal Violence and Diabetes\", fontsize=16, y=1.05)\n",
    "plt.show()"
   ]
  },
  {
   "cell_type": "code",
   "execution_count": 353,
   "id": "8c8c8dff",
   "metadata": {},
   "outputs": [
    {
     "data": {
      "image/png": "[encoded data removed]",
      "text/plain": [
       "<Figure size 1080x288 with 1 Axes>"
      ]
     },
     "metadata": {
      "needs_background": "light"
     },
     "output_type": "display_data"
    }
   ],
   "source": [
    "labels = ['America', 'Mexico', 'Brazil', 'Japan', 'Kenya', 'Indonesia', 'United Kingdom']\n",
    "violence_means = [america_violence_deaths.mean().iloc[0],\n",
    "                  mexico_violence_deaths.mean().iloc[0],\n",
    "                  brazil_violence_deaths.mean().iloc[0], \n",
    "                  japan_violence_deaths.mean().iloc[0], \n",
    "                  kenya_violence_deaths.mean().iloc[0],\n",
    "                  indonesia_violence_deaths.mean().iloc[0], \n",
    "                  uk_violence_deaths.mean().iloc[0]]\n",
    "diabetes_means = [america_diabetes_deaths.mean().iloc[0],\n",
    "                  mexico_diabetes_deaths.mean().iloc[0],\n",
    "                  brazil_diabetes_deaths.mean().iloc[0], \n",
    "                  japan_diabetes_deaths.mean().iloc[0], \n",
    "                  kenya_diabetes_deaths.mean().iloc[0],\n",
    "                  indonesia_diabetes_deaths.mean().iloc[0], \n",
    "                  uk_diabetes_deaths.mean().iloc[0]]\n",
    "\n",
    "x = np.arange(len(labels))  # the label locations\n",
    "width = 0.35  # the width of the bars\n",
    "\n",
    "fig, ax = plt.subplots(figsize=(15,4))\n",
    "rects1 = ax.bar(x - width/2, violence_means, width, color='tab:red', label='Interpersonal violence')\n",
    "rects2 = ax.bar(x + width/2, diabetes_means, width, color='tab:blue', label='Diabetes')\n",
    "\n",
    "# Add some text for labels, title and custom x-axis tick labels, etc.\n",
    "ax.set_ylabel('Death rates per 100,000')\n",
    "ax.set_title('Death rates of Interpersonal Violence and Diabetes by Country')\n",
    "ax.set_xticks(x)\n",
    "ax.set_xticklabels(labels)\n",
    "ax.legend()\n",
    "\n",
    "\n",
    "fig.tight_layout()\n",
    "\n",
    "plt.show()"
   ]
  }
 ],
 "metadata": {
  "kernelspec": {
   "display_name": "Python 3",
   "language": "python",
   "name": "python3"
  },
  "language_info": {
   "codemirror_mode": {
    "name": "ipython",
    "version": 3
   },
   "file_extension": ".py",
   "mimetype": "text/x-python",
   "name": "python",
   "nbconvert_exporter": "python",
   "pygments_lexer": "ipython3",
   "version": "3.8.8"
  }
 },
 "nbformat": 4,
 "nbformat_minor": 5
}
