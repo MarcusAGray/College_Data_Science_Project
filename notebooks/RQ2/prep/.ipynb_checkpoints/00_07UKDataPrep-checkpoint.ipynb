{
 "cells": [
  {
   "cell_type": "markdown",
   "id": "76532567",
   "metadata": {},
   "source": [
    "# Basic processing for uk data sets"
   ]
  },
  {
   "cell_type": "markdown",
   "id": "508a0088",
   "metadata": {},
   "source": [
    "# Setup"
   ]
  },
  {
   "cell_type": "markdown",
   "id": "a34c07a8",
   "metadata": {},
   "source": [
    "## Imports"
   ]
  },
  {
   "cell_type": "code",
   "execution_count": 2,
   "id": "a3a3e9d4",
   "metadata": {},
   "outputs": [],
   "source": [
    "import pandas as pd\n",
    "import numpy as np"
   ]
  },
  {
   "cell_type": "markdown",
   "id": "72b0fc72",
   "metadata": {},
   "source": [
    "## Parameters"
   ]
  },
  {
   "cell_type": "code",
   "execution_count": 3,
   "id": "4c957663",
   "metadata": {},
   "outputs": [],
   "source": [
    "UK1_DATASET = \"../../../data/RQ2/raw/uk1.csv\"\n",
    "UK2_DATASET = \"../../../data/RQ2/raw/uk2.csv\"\n",
    "UK3_DATASET = \"../../../data/RQ2/raw/uk3.csv\"\n",
    "UK4_DATASET = \"../../../data/RQ2/raw/uk4.csv\"\n",
    "UK5_DATASET = \"../../../data/RQ2/raw/uk5.csv\"\n",
    "UK6_DATASET = \"../../../data/RQ2/raw/uk6.csv\"\n",
    "UK7_DATASET = \"../../../data/RQ2/raw/uk7.csv\"\n",
    "UK8_DATASET = \"../../../data/RQ2/raw/uk8.csv\"\n",
    "UK9_DATASET = \"../../../data/RQ2/raw/uk9.csv\"\n",
    "UK10_DATASET = \"../../../data/RQ2/raw/uk10.csv\"\n",
    "UK11_DATASET = \"../../../data/RQ2/raw/uk11.csv\"\n",
    "UK12_DATASET = \"../../../data/RQ2/raw/uk12.csv\"\n",
    "UK13_DATASET = \"../../../data/RQ2/raw/uk13.csv\"\n",
    "UK14_DATASET = \"../../../data/RQ2/raw/uk14.csv\"\n",
    "UK15_DATASET = \"../../../data/RQ2/raw/uk15.csv\"\n",
    "\n",
    "\n",
    "PROCESSED_JUST_UK_DATASET = \"../../../data/RQ2/processed/just_uk_df.csv\"\n",
    "PROCESSED_UK_DATASET = \"../../../data/RQ2/processed/uk_df.csv\""
   ]
  },
  {
   "cell_type": "markdown",
   "id": "72166325",
   "metadata": {},
   "source": [
    "# Loading the Datasets"
   ]
  },
  {
   "cell_type": "code",
   "execution_count": 4,
   "id": "0f196dcd",
   "metadata": {},
   "outputs": [],
   "source": [
    "df1 = pd.read_csv(UK1_DATASET)\n",
    "df2 = pd.read_csv(UK2_DATASET)\n",
    "df3 = pd.read_csv(UK3_DATASET)\n",
    "df4 = pd.read_csv(UK4_DATASET)\n",
    "df5 = pd.read_csv(UK5_DATASET)\n",
    "df6 = pd.read_csv(UK6_DATASET)\n",
    "df7 = pd.read_csv(UK7_DATASET)\n",
    "df8 = pd.read_csv(UK8_DATASET)\n",
    "df9 = pd.read_csv(UK9_DATASET)\n",
    "df10 = pd.read_csv(UK10_DATASET)\n",
    "df11 = pd.read_csv(UK11_DATASET)\n",
    "df12 = pd.read_csv(UK12_DATASET)\n",
    "df13 = pd.read_csv(UK13_DATASET)\n",
    "df14 = pd.read_csv(UK14_DATASET)\n",
    "df15 = pd.read_csv(UK15_DATASET)"
   ]
  },
  {
   "cell_type": "code",
   "execution_count": 5,
   "id": "d5140e78",
   "metadata": {},
   "outputs": [
    {
     "data": {
      "text/plain": [
       "(6730560, 10)"
      ]
     },
     "execution_count": 5,
     "metadata": {},
     "output_type": "execute_result"
    }
   ],
   "source": [
    "uk_raw_df = df1.append([df2, df3, df4, df5, df6, df7, df8, df9, df10, df11, df12, df13, df14, df15])\n",
    "uk_raw_df.shape"
   ]
  },
  {
   "cell_type": "code",
   "execution_count": 6,
   "id": "4809cc25",
   "metadata": {},
   "outputs": [
    {
     "data": {
      "text/html": [
       "<div>\n",
       "<style scoped>\n",
       "    .dataframe tbody tr th:only-of-type {\n",
       "        vertical-align: middle;\n",
       "    }\n",
       "\n",
       "    .dataframe tbody tr th {\n",
       "        vertical-align: top;\n",
       "    }\n",
       "\n",
       "    .dataframe thead th {\n",
       "        text-align: right;\n",
       "    }\n",
       "</style>\n",
       "<table border=\"1\" class=\"dataframe\">\n",
       "  <thead>\n",
       "    <tr style=\"text-align: right;\">\n",
       "      <th></th>\n",
       "      <th>measure</th>\n",
       "      <th>location</th>\n",
       "      <th>sex</th>\n",
       "      <th>age</th>\n",
       "      <th>cause</th>\n",
       "      <th>metric</th>\n",
       "      <th>year</th>\n",
       "      <th>val</th>\n",
       "      <th>upper</th>\n",
       "      <th>lower</th>\n",
       "    </tr>\n",
       "  </thead>\n",
       "  <tbody>\n",
       "    <tr>\n",
       "      <th>0</th>\n",
       "      <td>Deaths</td>\n",
       "      <td>North West England</td>\n",
       "      <td>Male</td>\n",
       "      <td>1 to 4</td>\n",
       "      <td>Diabetes mellitus</td>\n",
       "      <td>Number</td>\n",
       "      <td>1990</td>\n",
       "      <td>0.120019</td>\n",
       "      <td>0.165918</td>\n",
       "      <td>0.075943</td>\n",
       "    </tr>\n",
       "    <tr>\n",
       "      <th>1</th>\n",
       "      <td>Deaths</td>\n",
       "      <td>North West England</td>\n",
       "      <td>Female</td>\n",
       "      <td>1 to 4</td>\n",
       "      <td>Diabetes mellitus</td>\n",
       "      <td>Number</td>\n",
       "      <td>1990</td>\n",
       "      <td>0.171002</td>\n",
       "      <td>0.241339</td>\n",
       "      <td>0.095432</td>\n",
       "    </tr>\n",
       "    <tr>\n",
       "      <th>2</th>\n",
       "      <td>Deaths</td>\n",
       "      <td>North West England</td>\n",
       "      <td>Male</td>\n",
       "      <td>1 to 4</td>\n",
       "      <td>Diabetes mellitus</td>\n",
       "      <td>Percent</td>\n",
       "      <td>1990</td>\n",
       "      <td>0.001539</td>\n",
       "      <td>0.001846</td>\n",
       "      <td>0.000971</td>\n",
       "    </tr>\n",
       "    <tr>\n",
       "      <th>3</th>\n",
       "      <td>Deaths</td>\n",
       "      <td>North West England</td>\n",
       "      <td>Female</td>\n",
       "      <td>1 to 4</td>\n",
       "      <td>Diabetes mellitus</td>\n",
       "      <td>Percent</td>\n",
       "      <td>1990</td>\n",
       "      <td>0.002653</td>\n",
       "      <td>0.003215</td>\n",
       "      <td>0.001529</td>\n",
       "    </tr>\n",
       "    <tr>\n",
       "      <th>4</th>\n",
       "      <td>Deaths</td>\n",
       "      <td>North West England</td>\n",
       "      <td>Male</td>\n",
       "      <td>1 to 4</td>\n",
       "      <td>Diabetes mellitus</td>\n",
       "      <td>Rate</td>\n",
       "      <td>1990</td>\n",
       "      <td>0.061912</td>\n",
       "      <td>0.085589</td>\n",
       "      <td>0.039175</td>\n",
       "    </tr>\n",
       "  </tbody>\n",
       "</table>\n",
       "</div>"
      ],
      "text/plain": [
       "  measure            location     sex     age              cause   metric  \\\n",
       "0  Deaths  North West England    Male  1 to 4  Diabetes mellitus   Number   \n",
       "1  Deaths  North West England  Female  1 to 4  Diabetes mellitus   Number   \n",
       "2  Deaths  North West England    Male  1 to 4  Diabetes mellitus  Percent   \n",
       "3  Deaths  North West England  Female  1 to 4  Diabetes mellitus  Percent   \n",
       "4  Deaths  North West England    Male  1 to 4  Diabetes mellitus     Rate   \n",
       "\n",
       "   year       val     upper     lower  \n",
       "0  1990  0.120019  0.165918  0.075943  \n",
       "1  1990  0.171002  0.241339  0.095432  \n",
       "2  1990  0.001539  0.001846  0.000971  \n",
       "3  1990  0.002653  0.003215  0.001529  \n",
       "4  1990  0.061912  0.085589  0.039175  "
      ]
     },
     "execution_count": 6,
     "metadata": {},
     "output_type": "execute_result"
    }
   ],
   "source": [
    "uk_raw_df.head()"
   ]
  },
  {
   "cell_type": "code",
   "execution_count": 7,
   "id": "513b2850",
   "metadata": {},
   "outputs": [
    {
     "data": {
      "text/plain": [
       "array(['Diabetes mellitus', 'Interpersonal violence'], dtype=object)"
      ]
     },
     "execution_count": 7,
     "metadata": {},
     "output_type": "execute_result"
    }
   ],
   "source": [
    "uk_raw_df['cause'].unique()"
   ]
  },
  {
   "cell_type": "code",
   "execution_count": 8,
   "id": "54cecc7a",
   "metadata": {},
   "outputs": [
    {
     "data": {
      "text/plain": [
       "164"
      ]
     },
     "execution_count": 8,
     "metadata": {},
     "output_type": "execute_result"
    }
   ],
   "source": [
    "uk_raw_df['location'].nunique()"
   ]
  },
  {
   "cell_type": "code",
   "execution_count": 9,
   "id": "d913656c",
   "metadata": {},
   "outputs": [
    {
     "data": {
      "text/plain": [
       "0"
      ]
     },
     "execution_count": 9,
     "metadata": {},
     "output_type": "execute_result"
    }
   ],
   "source": [
    "uk_raw_df.duplicated().sum()"
   ]
  },
  {
   "cell_type": "code",
   "execution_count": 10,
   "id": "afae6eae",
   "metadata": {},
   "outputs": [
    {
     "data": {
      "text/plain": [
       "array(['Deaths', 'Prevalence', 'Incidence', 'YLLs (Years of Life Lost)',\n",
       "       'DALYs (Disability-Adjusted Life Years)',\n",
       "       'YLDs (Years Lived with Disability)'], dtype=object)"
      ]
     },
     "execution_count": 10,
     "metadata": {},
     "output_type": "execute_result"
    }
   ],
   "source": [
    "uk_raw_df['measure'].unique()"
   ]
  },
  {
   "cell_type": "code",
   "execution_count": 11,
   "id": "a190f85e",
   "metadata": {},
   "outputs": [
    {
     "data": {
      "text/html": [
       "<div>\n",
       "<style scoped>\n",
       "    .dataframe tbody tr th:only-of-type {\n",
       "        vertical-align: middle;\n",
       "    }\n",
       "\n",
       "    .dataframe tbody tr th {\n",
       "        vertical-align: top;\n",
       "    }\n",
       "\n",
       "    .dataframe thead th {\n",
       "        text-align: right;\n",
       "    }\n",
       "</style>\n",
       "<table border=\"1\" class=\"dataframe\">\n",
       "  <thead>\n",
       "    <tr style=\"text-align: right;\">\n",
       "      <th></th>\n",
       "      <th>measure</th>\n",
       "      <th>location</th>\n",
       "      <th>sex</th>\n",
       "      <th>age</th>\n",
       "      <th>cause</th>\n",
       "      <th>metric</th>\n",
       "      <th>year</th>\n",
       "      <th>val</th>\n",
       "      <th>upper</th>\n",
       "      <th>lower</th>\n",
       "    </tr>\n",
       "  </thead>\n",
       "  <tbody>\n",
       "    <tr>\n",
       "      <th>1140</th>\n",
       "      <td>YLLs (Years of Life Lost)</td>\n",
       "      <td>United Kingdom</td>\n",
       "      <td>Male</td>\n",
       "      <td>1 to 4</td>\n",
       "      <td>Diabetes mellitus</td>\n",
       "      <td>Number</td>\n",
       "      <td>1991</td>\n",
       "      <td>85.734123</td>\n",
       "      <td>117.239628</td>\n",
       "      <td>48.598641</td>\n",
       "    </tr>\n",
       "    <tr>\n",
       "      <th>1141</th>\n",
       "      <td>YLLs (Years of Life Lost)</td>\n",
       "      <td>United Kingdom</td>\n",
       "      <td>Female</td>\n",
       "      <td>1 to 4</td>\n",
       "      <td>Diabetes mellitus</td>\n",
       "      <td>Number</td>\n",
       "      <td>1991</td>\n",
       "      <td>116.321322</td>\n",
       "      <td>161.365862</td>\n",
       "      <td>58.284220</td>\n",
       "    </tr>\n",
       "    <tr>\n",
       "      <th>1142</th>\n",
       "      <td>YLLs (Years of Life Lost)</td>\n",
       "      <td>United Kingdom</td>\n",
       "      <td>Male</td>\n",
       "      <td>1 to 4</td>\n",
       "      <td>Diabetes mellitus</td>\n",
       "      <td>Percent</td>\n",
       "      <td>1991</td>\n",
       "      <td>0.001629</td>\n",
       "      <td>0.001848</td>\n",
       "      <td>0.000966</td>\n",
       "    </tr>\n",
       "    <tr>\n",
       "      <th>1143</th>\n",
       "      <td>YLLs (Years of Life Lost)</td>\n",
       "      <td>United Kingdom</td>\n",
       "      <td>Female</td>\n",
       "      <td>1 to 4</td>\n",
       "      <td>Diabetes mellitus</td>\n",
       "      <td>Percent</td>\n",
       "      <td>1991</td>\n",
       "      <td>0.002779</td>\n",
       "      <td>0.003157</td>\n",
       "      <td>0.001447</td>\n",
       "    </tr>\n",
       "    <tr>\n",
       "      <th>1144</th>\n",
       "      <td>YLLs (Years of Life Lost)</td>\n",
       "      <td>United Kingdom</td>\n",
       "      <td>Male</td>\n",
       "      <td>1 to 4</td>\n",
       "      <td>Diabetes mellitus</td>\n",
       "      <td>Rate</td>\n",
       "      <td>1991</td>\n",
       "      <td>5.422246</td>\n",
       "      <td>7.414809</td>\n",
       "      <td>3.073616</td>\n",
       "    </tr>\n",
       "  </tbody>\n",
       "</table>\n",
       "</div>"
      ],
      "text/plain": [
       "                        measure        location     sex     age  \\\n",
       "1140  YLLs (Years of Life Lost)  United Kingdom    Male  1 to 4   \n",
       "1141  YLLs (Years of Life Lost)  United Kingdom  Female  1 to 4   \n",
       "1142  YLLs (Years of Life Lost)  United Kingdom    Male  1 to 4   \n",
       "1143  YLLs (Years of Life Lost)  United Kingdom  Female  1 to 4   \n",
       "1144  YLLs (Years of Life Lost)  United Kingdom    Male  1 to 4   \n",
       "\n",
       "                  cause   metric  year         val       upper      lower  \n",
       "1140  Diabetes mellitus   Number  1991   85.734123  117.239628  48.598641  \n",
       "1141  Diabetes mellitus   Number  1991  116.321322  161.365862  58.284220  \n",
       "1142  Diabetes mellitus  Percent  1991    0.001629    0.001848   0.000966  \n",
       "1143  Diabetes mellitus  Percent  1991    0.002779    0.003157   0.001447  \n",
       "1144  Diabetes mellitus     Rate  1991    5.422246    7.414809   3.073616  "
      ]
     },
     "execution_count": 11,
     "metadata": {},
     "output_type": "execute_result"
    }
   ],
   "source": [
    "just_uk_df = uk_raw_df[uk_raw_df['location'].str.match('United Kingdom')]\n",
    "uk_all_df = uk_raw_df[~uk_raw_df['location'].str.match('United Kingdom')]\n",
    "just_uk_df.head()"
   ]
  },
  {
   "cell_type": "code",
   "execution_count": 12,
   "id": "5974ff88",
   "metadata": {},
   "outputs": [
    {
     "data": {
      "text/plain": [
       "163"
      ]
     },
     "execution_count": 12,
     "metadata": {},
     "output_type": "execute_result"
    }
   ],
   "source": [
    "uk_all_df.location.nunique()"
   ]
  },
  {
   "cell_type": "code",
   "execution_count": 13,
   "id": "6583758e",
   "metadata": {},
   "outputs": [
    {
     "data": {
      "text/html": [
       "<div>\n",
       "<style scoped>\n",
       "    .dataframe tbody tr th:only-of-type {\n",
       "        vertical-align: middle;\n",
       "    }\n",
       "\n",
       "    .dataframe tbody tr th {\n",
       "        vertical-align: top;\n",
       "    }\n",
       "\n",
       "    .dataframe thead th {\n",
       "        text-align: right;\n",
       "    }\n",
       "</style>\n",
       "<table border=\"1\" class=\"dataframe\">\n",
       "  <thead>\n",
       "    <tr style=\"text-align: right;\">\n",
       "      <th></th>\n",
       "      <th>measure</th>\n",
       "      <th>location</th>\n",
       "      <th>sex</th>\n",
       "      <th>age</th>\n",
       "      <th>cause</th>\n",
       "      <th>metric</th>\n",
       "      <th>year</th>\n",
       "      <th>val</th>\n",
       "      <th>upper</th>\n",
       "      <th>lower</th>\n",
       "    </tr>\n",
       "  </thead>\n",
       "  <tbody>\n",
       "    <tr>\n",
       "      <th>1026</th>\n",
       "      <td>YLLs (Years of Life Lost)</td>\n",
       "      <td>England</td>\n",
       "      <td>Male</td>\n",
       "      <td>1 to 4</td>\n",
       "      <td>Interpersonal violence</td>\n",
       "      <td>Number</td>\n",
       "      <td>1990</td>\n",
       "      <td>1065.070378</td>\n",
       "      <td>1397.399262</td>\n",
       "      <td>798.420123</td>\n",
       "    </tr>\n",
       "    <tr>\n",
       "      <th>1027</th>\n",
       "      <td>YLLs (Years of Life Lost)</td>\n",
       "      <td>England</td>\n",
       "      <td>Female</td>\n",
       "      <td>1 to 4</td>\n",
       "      <td>Interpersonal violence</td>\n",
       "      <td>Number</td>\n",
       "      <td>1990</td>\n",
       "      <td>791.134771</td>\n",
       "      <td>1013.202130</td>\n",
       "      <td>600.860895</td>\n",
       "    </tr>\n",
       "    <tr>\n",
       "      <th>1028</th>\n",
       "      <td>YLLs (Years of Life Lost)</td>\n",
       "      <td>England</td>\n",
       "      <td>Male</td>\n",
       "      <td>1 to 4</td>\n",
       "      <td>Interpersonal violence</td>\n",
       "      <td>Percent</td>\n",
       "      <td>1990</td>\n",
       "      <td>0.024012</td>\n",
       "      <td>0.025164</td>\n",
       "      <td>0.022632</td>\n",
       "    </tr>\n",
       "    <tr>\n",
       "      <th>1029</th>\n",
       "      <td>YLLs (Years of Life Lost)</td>\n",
       "      <td>England</td>\n",
       "      <td>Female</td>\n",
       "      <td>1 to 4</td>\n",
       "      <td>Interpersonal violence</td>\n",
       "      <td>Percent</td>\n",
       "      <td>1990</td>\n",
       "      <td>0.022184</td>\n",
       "      <td>0.023315</td>\n",
       "      <td>0.020656</td>\n",
       "    </tr>\n",
       "    <tr>\n",
       "      <th>1030</th>\n",
       "      <td>YLLs (Years of Life Lost)</td>\n",
       "      <td>England</td>\n",
       "      <td>Male</td>\n",
       "      <td>1 to 4</td>\n",
       "      <td>Interpersonal violence</td>\n",
       "      <td>Rate</td>\n",
       "      <td>1990</td>\n",
       "      <td>82.077699</td>\n",
       "      <td>107.688016</td>\n",
       "      <td>61.528785</td>\n",
       "    </tr>\n",
       "  </tbody>\n",
       "</table>\n",
       "</div>"
      ],
      "text/plain": [
       "                        measure location     sex     age  \\\n",
       "1026  YLLs (Years of Life Lost)  England    Male  1 to 4   \n",
       "1027  YLLs (Years of Life Lost)  England  Female  1 to 4   \n",
       "1028  YLLs (Years of Life Lost)  England    Male  1 to 4   \n",
       "1029  YLLs (Years of Life Lost)  England  Female  1 to 4   \n",
       "1030  YLLs (Years of Life Lost)  England    Male  1 to 4   \n",
       "\n",
       "                       cause   metric  year          val        upper  \\\n",
       "1026  Interpersonal violence   Number  1990  1065.070378  1397.399262   \n",
       "1027  Interpersonal violence   Number  1990   791.134771  1013.202130   \n",
       "1028  Interpersonal violence  Percent  1990     0.024012     0.025164   \n",
       "1029  Interpersonal violence  Percent  1990     0.022184     0.023315   \n",
       "1030  Interpersonal violence     Rate  1990    82.077699   107.688016   \n",
       "\n",
       "           lower  \n",
       "1026  798.420123  \n",
       "1027  600.860895  \n",
       "1028    0.022632  \n",
       "1029    0.020656  \n",
       "1030   61.528785  "
      ]
     },
     "execution_count": 13,
     "metadata": {},
     "output_type": "execute_result"
    }
   ],
   "source": [
    "just_england_df = uk_raw_df[uk_raw_df['location'].str.match('England')]\n",
    "uk_all_df = uk_all_df[~uk_all_df['location'].str.match('England')]\n",
    "just_england_df.head()"
   ]
  },
  {
   "cell_type": "code",
   "execution_count": 14,
   "id": "5d6c5df5",
   "metadata": {},
   "outputs": [
    {
     "data": {
      "text/plain": [
       "1"
      ]
     },
     "execution_count": 14,
     "metadata": {},
     "output_type": "execute_result"
    }
   ],
   "source": [
    "just_uk_df['location'].nunique()"
   ]
  },
  {
   "cell_type": "code",
   "execution_count": 15,
   "id": "d628c5c0",
   "metadata": {},
   "outputs": [
    {
     "data": {
      "text/plain": [
       "1"
      ]
     },
     "execution_count": 15,
     "metadata": {},
     "output_type": "execute_result"
    }
   ],
   "source": [
    "just_england_df['location'].nunique()"
   ]
  },
  {
   "cell_type": "code",
   "execution_count": 16,
   "id": "f4ce6720",
   "metadata": {},
   "outputs": [
    {
     "data": {
      "text/plain": [
       "162"
      ]
     },
     "execution_count": 16,
     "metadata": {},
     "output_type": "execute_result"
    }
   ],
   "source": [
    "uk_all_df['location'].nunique()"
   ]
  },
  {
   "cell_type": "markdown",
   "id": "11f621d5",
   "metadata": {},
   "source": [
    "We have to deliberately choose regions desired to avoid overlap as geographic regions of the same areas on different levels has been provided for england. Below we remove the higher level region data and use the smaller regions within england for our analysis."
   ]
  },
  {
   "cell_type": "code",
   "execution_count": 17,
   "id": "ea70ab36",
   "metadata": {},
   "outputs": [
    {
     "data": {
      "text/html": [
       "<div>\n",
       "<style scoped>\n",
       "    .dataframe tbody tr th:only-of-type {\n",
       "        vertical-align: middle;\n",
       "    }\n",
       "\n",
       "    .dataframe tbody tr th {\n",
       "        vertical-align: top;\n",
       "    }\n",
       "\n",
       "    .dataframe thead th {\n",
       "        text-align: right;\n",
       "    }\n",
       "</style>\n",
       "<table border=\"1\" class=\"dataframe\">\n",
       "  <thead>\n",
       "    <tr style=\"text-align: right;\">\n",
       "      <th></th>\n",
       "      <th>measure</th>\n",
       "      <th>location</th>\n",
       "      <th>sex</th>\n",
       "      <th>age</th>\n",
       "      <th>cause</th>\n",
       "      <th>metric</th>\n",
       "      <th>year</th>\n",
       "      <th>val</th>\n",
       "      <th>upper</th>\n",
       "      <th>lower</th>\n",
       "    </tr>\n",
       "  </thead>\n",
       "  <tbody>\n",
       "    <tr>\n",
       "      <th>342</th>\n",
       "      <td>Deaths</td>\n",
       "      <td>South Tyneside</td>\n",
       "      <td>Male</td>\n",
       "      <td>1 to 4</td>\n",
       "      <td>Diabetes mellitus</td>\n",
       "      <td>Number</td>\n",
       "      <td>1990</td>\n",
       "      <td>0.002953</td>\n",
       "      <td>0.004717</td>\n",
       "      <td>0.001722</td>\n",
       "    </tr>\n",
       "    <tr>\n",
       "      <th>343</th>\n",
       "      <td>Deaths</td>\n",
       "      <td>South Tyneside</td>\n",
       "      <td>Female</td>\n",
       "      <td>1 to 4</td>\n",
       "      <td>Diabetes mellitus</td>\n",
       "      <td>Number</td>\n",
       "      <td>1990</td>\n",
       "      <td>0.005396</td>\n",
       "      <td>0.008377</td>\n",
       "      <td>0.002764</td>\n",
       "    </tr>\n",
       "    <tr>\n",
       "      <th>344</th>\n",
       "      <td>Deaths</td>\n",
       "      <td>South Tyneside</td>\n",
       "      <td>Male</td>\n",
       "      <td>1 to 4</td>\n",
       "      <td>Diabetes mellitus</td>\n",
       "      <td>Percent</td>\n",
       "      <td>1990</td>\n",
       "      <td>0.001572</td>\n",
       "      <td>0.002395</td>\n",
       "      <td>0.001032</td>\n",
       "    </tr>\n",
       "    <tr>\n",
       "      <th>345</th>\n",
       "      <td>Deaths</td>\n",
       "      <td>South Tyneside</td>\n",
       "      <td>Female</td>\n",
       "      <td>1 to 4</td>\n",
       "      <td>Diabetes mellitus</td>\n",
       "      <td>Percent</td>\n",
       "      <td>1990</td>\n",
       "      <td>0.002904</td>\n",
       "      <td>0.004187</td>\n",
       "      <td>0.001591</td>\n",
       "    </tr>\n",
       "    <tr>\n",
       "      <th>346</th>\n",
       "      <td>Deaths</td>\n",
       "      <td>South Tyneside</td>\n",
       "      <td>Male</td>\n",
       "      <td>1 to 4</td>\n",
       "      <td>Diabetes mellitus</td>\n",
       "      <td>Rate</td>\n",
       "      <td>1990</td>\n",
       "      <td>0.067572</td>\n",
       "      <td>0.107925</td>\n",
       "      <td>0.039391</td>\n",
       "    </tr>\n",
       "  </tbody>\n",
       "</table>\n",
       "</div>"
      ],
      "text/plain": [
       "    measure        location     sex     age              cause   metric  year  \\\n",
       "342  Deaths  South Tyneside    Male  1 to 4  Diabetes mellitus   Number  1990   \n",
       "343  Deaths  South Tyneside  Female  1 to 4  Diabetes mellitus   Number  1990   \n",
       "344  Deaths  South Tyneside    Male  1 to 4  Diabetes mellitus  Percent  1990   \n",
       "345  Deaths  South Tyneside  Female  1 to 4  Diabetes mellitus  Percent  1990   \n",
       "346  Deaths  South Tyneside    Male  1 to 4  Diabetes mellitus     Rate  1990   \n",
       "\n",
       "          val     upper     lower  \n",
       "342  0.002953  0.004717  0.001722  \n",
       "343  0.005396  0.008377  0.002764  \n",
       "344  0.001572  0.002395  0.001032  \n",
       "345  0.002904  0.004187  0.001591  \n",
       "346  0.067572  0.107925  0.039391  "
      ]
     },
     "execution_count": 17,
     "metadata": {},
     "output_type": "execute_result"
    }
   ],
   "source": [
    "#Here we create a list of the larger regions in england so we can remove them from the data\n",
    "\n",
    "england_higher_level_regions = ['North East England',\n",
    "                               'North West England',\n",
    "                               'Yorkshire and the Humber',\n",
    "                               'West Midlands',\n",
    "                               'East Midlands',\n",
    "                               'East of England',\n",
    "                               'Greater London',\n",
    "                               'South East England',\n",
    "                               'South West England']\n",
    "\n",
    "uk_df = uk_all_df[~uk_all_df['location'].isin(england_higher_level_regions)]\n",
    "uk_df.head()"
   ]
  },
  {
   "cell_type": "code",
   "execution_count": 18,
   "id": "e71696b1",
   "metadata": {},
   "outputs": [
    {
     "data": {
      "text/plain": [
       "153"
      ]
     },
     "execution_count": 18,
     "metadata": {},
     "output_type": "execute_result"
    }
   ],
   "source": [
    "uk_df['location'].nunique()"
   ]
  },
  {
   "cell_type": "code",
   "execution_count": 19,
   "id": "16edcccb",
   "metadata": {},
   "outputs": [
    {
     "data": {
      "text/plain": [
       "array(['South Tyneside', 'Rochdale', 'Halton', 'Cheshire East',\n",
       "       'Liverpool', 'Hartlepool', 'Waltham Forest', 'Sunderland', 'Wigan',\n",
       "       'Stockport', 'Darlington', 'Southwark', 'Tameside', 'Trafford',\n",
       "       'Sutton', 'Cheshire West and Chester', 'Blackburn with Darwen',\n",
       "       'Newcastle upon Tyne', 'Sefton', 'Knowsley', 'Salford',\n",
       "       'Northumberland', 'Cumbria', 'Lancashire', 'Richmond upon Thames',\n",
       "       'County Durham', 'Bolton', 'Tower Hamlets', 'North Tyneside',\n",
       "       'Blackpool', 'Wandsworth', 'Westminster', 'Wirral',\n",
       "       'Stockton-on-Tees', 'Bury', 'Manchester', 'Warrington',\n",
       "       'St Helens', 'Oldham', 'Redcar and Cleveland', 'Gateshead',\n",
       "       'Middlesbrough', 'Wales', 'Telford and Wrekin', 'Stoke-on-Trent',\n",
       "       'Northern Ireland', 'Kirklees', 'Bradford', 'Isle of Wight',\n",
       "       'Surrey', 'Scotland', 'West Berkshire', 'Leeds', 'Milton Keynes',\n",
       "       'Swindon', 'Walsall', 'Windsor and Maidenhead', 'Torbay',\n",
       "       'Bristol, City of', 'Sheffield', 'Bournemouth', 'Wolverhampton',\n",
       "       'Hampshire', 'Warwickshire', 'Southampton',\n",
       "       'Herefordshire, County of', 'North Yorkshire', 'Birmingham',\n",
       "       'Bracknell Forest', 'Slough', 'Sandwell', 'Wakefield', 'Cornwall',\n",
       "       'South Gloucestershire', 'Solihull', 'Dorset', 'Rotherham',\n",
       "       'Devon', 'Shropshire', 'North Somerset', 'Worcestershire',\n",
       "       'Gloucestershire', 'Oxfordshire', 'Wiltshire',\n",
       "       'Bath and North East Somerset', 'Dudley', 'Wokingham', 'Doncaster',\n",
       "       'Reading', 'Kingston upon Hull, City of', 'Coventry', 'Barnsley',\n",
       "       'East Riding of Yorkshire', 'Buckinghamshire', 'Staffordshire',\n",
       "       'Poole', 'York', 'North East Lincolnshire', 'West Sussex',\n",
       "       'North Lincolnshire', 'Plymouth', 'Calderdale', 'Medway',\n",
       "       'East Sussex', 'Kent', 'Portsmouth', 'Brighton and Hove',\n",
       "       'Somerset', 'Camden', 'Bromley', 'Nottingham', 'Bedford', 'Bexley',\n",
       "       'Central Bedfordshire', 'Leicester', 'Redbridge', 'Lambeth',\n",
       "       'Suffolk', 'Lewisham', 'Merton', 'Hertfordshire', 'Hounslow',\n",
       "       'Brent', 'Cambridgeshire', 'Newham', 'Essex', 'Northamptonshire',\n",
       "       'Havering', 'Thurrock', 'Barking and Dagenham',\n",
       "       'Kingston upon Thames', 'Hillingdon', 'Lincolnshire', 'Norfolk',\n",
       "       'Peterborough', 'Harrow', 'Hackney', 'Haringey', 'Southend-on-Sea',\n",
       "       'Rutland', 'Islington', 'Leicestershire', 'Luton', 'Derby',\n",
       "       'Derbyshire', 'Nottinghamshire', 'Barnet', 'Enfield', 'Ealing',\n",
       "       'Kensington and Chelsea', 'Croydon', 'Greenwich',\n",
       "       'Hammersmith and Fulham'], dtype=object)"
      ]
     },
     "execution_count": 19,
     "metadata": {},
     "output_type": "execute_result"
    }
   ],
   "source": [
    "uk_df['location'].unique()"
   ]
  },
  {
   "cell_type": "code",
   "execution_count": 20,
   "id": "2cd3928a",
   "metadata": {},
   "outputs": [
    {
     "data": {
      "text/plain": [
       "(6279120, 8)"
      ]
     },
     "execution_count": 20,
     "metadata": {},
     "output_type": "execute_result"
    }
   ],
   "source": [
    "uk_df = uk_df.drop(['upper', 'lower'], axis=1)\n",
    "uk_df.shape"
   ]
  },
  {
   "cell_type": "markdown",
   "id": "1be8bdc4",
   "metadata": {},
   "source": [
    "# Saving the Datasets"
   ]
  },
  {
   "cell_type": "code",
   "execution_count": 21,
   "id": "d5e0de1b",
   "metadata": {},
   "outputs": [],
   "source": [
    "just_uk_df.to_csv(PROCESSED_JUST_UK_DATASET, index=False)\n",
    "uk_df.to_csv(PROCESSED_UK_DATASET, index=False)"
   ]
  }
 ],
 "metadata": {
  "kernelspec": {
   "display_name": "Python 3",
   "language": "python",
   "name": "python3"
  },
  "language_info": {
   "codemirror_mode": {
    "name": "ipython",
    "version": 3
   },
   "file_extension": ".py",
   "mimetype": "text/x-python",
   "name": "python",
   "nbconvert_exporter": "python",
   "pygments_lexer": "ipython3",
   "version": "3.8.8"
  }
 },
 "nbformat": 4,
 "nbformat_minor": 5
}
