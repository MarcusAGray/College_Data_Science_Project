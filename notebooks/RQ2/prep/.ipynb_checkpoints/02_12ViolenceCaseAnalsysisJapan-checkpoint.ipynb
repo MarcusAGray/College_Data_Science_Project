{
 "cells": [
  {
   "cell_type": "code",
   "execution_count": 1,
   "id": "ba8dc9c8",
   "metadata": {},
   "outputs": [
    {
     "data": {
      "text/plain": [
       "'\\nBasic processing for uk data sets\\nLoads;  \\n\\namerica.csv\\nbrazil.csv\\n\\nProduces;\\ndf.csv\\n'"
      ]
     },
     "execution_count": 1,
     "metadata": {},
     "output_type": "execute_result"
    }
   ],
   "source": [
    "\"\"\"\n",
    "Basic processing for uk data sets\n",
    "Loads;  \n",
    "\n",
    "america.csv\n",
    "brazil.csv\n",
    "\n",
    "Produces;\n",
    "df.csv\n",
    "\"\"\""
   ]
  },
  {
   "cell_type": "markdown",
   "id": "508a0088",
   "metadata": {},
   "source": [
    "# Setup"
   ]
  },
  {
   "cell_type": "markdown",
   "id": "a34c07a8",
   "metadata": {},
   "source": [
    "## Imports"
   ]
  },
  {
   "cell_type": "code",
   "execution_count": 2,
   "id": "a3a3e9d4",
   "metadata": {},
   "outputs": [],
   "source": [
    "import pandas as pd\n",
    "import numpy as np\n",
    "import matplotlib.pyplot as plt"
   ]
  },
  {
   "cell_type": "markdown",
   "id": "72b0fc72",
   "metadata": {},
   "source": [
    "## Parameters"
   ]
  },
  {
   "cell_type": "code",
   "execution_count": null,
   "id": "4c957663",
   "metadata": {},
   "outputs": [],
   "source": []
  },
  {
   "cell_type": "markdown",
   "id": "3019df86",
   "metadata": {},
   "source": [
    "Configuration"
   ]
  },
  {
   "cell_type": "code",
   "execution_count": null,
   "id": "843b4dfd",
   "metadata": {},
   "outputs": [],
   "source": []
  },
  {
   "cell_type": "markdown",
   "id": "72166325",
   "metadata": {},
   "source": [
    "### Loading the datasets"
   ]
  },
  {
   "cell_type": "code",
   "execution_count": 3,
   "id": "0f196dcd",
   "metadata": {},
   "outputs": [],
   "source": [
    "df = pd.read_csv(\"../../data/processed/df.csv\")"
   ]
  },
  {
   "cell_type": "code",
   "execution_count": 4,
   "id": "18307de2",
   "metadata": {},
   "outputs": [],
   "source": [
    "df = df[df['country'].str.fullmatch('Japan')]"
   ]
  },
  {
   "cell_type": "code",
   "execution_count": 5,
   "id": "5d8c4683",
   "metadata": {},
   "outputs": [
    {
     "data": {
      "text/html": [
       "<div>\n",
       "<style scoped>\n",
       "    .dataframe tbody tr th:only-of-type {\n",
       "        vertical-align: middle;\n",
       "    }\n",
       "\n",
       "    .dataframe tbody tr th {\n",
       "        vertical-align: top;\n",
       "    }\n",
       "\n",
       "    .dataframe thead th {\n",
       "        text-align: right;\n",
       "    }\n",
       "</style>\n",
       "<table border=\"1\" class=\"dataframe\">\n",
       "  <thead>\n",
       "    <tr style=\"text-align: right;\">\n",
       "      <th></th>\n",
       "      <th>country</th>\n",
       "      <th>measure</th>\n",
       "      <th>location</th>\n",
       "      <th>sex</th>\n",
       "      <th>age_sort</th>\n",
       "      <th>age</th>\n",
       "      <th>cause</th>\n",
       "      <th>year</th>\n",
       "      <th>val</th>\n",
       "    </tr>\n",
       "  </thead>\n",
       "  <tbody>\n",
       "    <tr>\n",
       "      <th>228000</th>\n",
       "      <td>Japan</td>\n",
       "      <td>Deaths</td>\n",
       "      <td>Niigata</td>\n",
       "      <td>Male</td>\n",
       "      <td>0</td>\n",
       "      <td>1 to 4</td>\n",
       "      <td>Interpersonal violence</td>\n",
       "      <td>2010</td>\n",
       "      <td>0.372100</td>\n",
       "    </tr>\n",
       "    <tr>\n",
       "      <th>228001</th>\n",
       "      <td>Japan</td>\n",
       "      <td>Deaths</td>\n",
       "      <td>Niigata</td>\n",
       "      <td>Female</td>\n",
       "      <td>0</td>\n",
       "      <td>1 to 4</td>\n",
       "      <td>Interpersonal violence</td>\n",
       "      <td>2010</td>\n",
       "      <td>0.459138</td>\n",
       "    </tr>\n",
       "    <tr>\n",
       "      <th>228002</th>\n",
       "      <td>Japan</td>\n",
       "      <td>Deaths</td>\n",
       "      <td>Niigata</td>\n",
       "      <td>Male</td>\n",
       "      <td>1</td>\n",
       "      <td>5 to 9</td>\n",
       "      <td>Interpersonal violence</td>\n",
       "      <td>2010</td>\n",
       "      <td>0.275150</td>\n",
       "    </tr>\n",
       "    <tr>\n",
       "      <th>228003</th>\n",
       "      <td>Japan</td>\n",
       "      <td>Deaths</td>\n",
       "      <td>Niigata</td>\n",
       "      <td>Female</td>\n",
       "      <td>1</td>\n",
       "      <td>5 to 9</td>\n",
       "      <td>Interpersonal violence</td>\n",
       "      <td>2010</td>\n",
       "      <td>0.347190</td>\n",
       "    </tr>\n",
       "    <tr>\n",
       "      <th>228004</th>\n",
       "      <td>Japan</td>\n",
       "      <td>Deaths</td>\n",
       "      <td>Niigata</td>\n",
       "      <td>Male</td>\n",
       "      <td>2</td>\n",
       "      <td>10 to 14</td>\n",
       "      <td>Interpersonal violence</td>\n",
       "      <td>2010</td>\n",
       "      <td>0.221464</td>\n",
       "    </tr>\n",
       "  </tbody>\n",
       "</table>\n",
       "</div>"
      ],
      "text/plain": [
       "       country measure location     sex  age_sort       age  \\\n",
       "228000   Japan  Deaths  Niigata    Male         0    1 to 4   \n",
       "228001   Japan  Deaths  Niigata  Female         0    1 to 4   \n",
       "228002   Japan  Deaths  Niigata    Male         1    5 to 9   \n",
       "228003   Japan  Deaths  Niigata  Female         1    5 to 9   \n",
       "228004   Japan  Deaths  Niigata    Male         2  10 to 14   \n",
       "\n",
       "                         cause  year       val  \n",
       "228000  Interpersonal violence  2010  0.372100  \n",
       "228001  Interpersonal violence  2010  0.459138  \n",
       "228002  Interpersonal violence  2010  0.275150  \n",
       "228003  Interpersonal violence  2010  0.347190  \n",
       "228004  Interpersonal violence  2010  0.221464  "
      ]
     },
     "execution_count": 5,
     "metadata": {},
     "output_type": "execute_result"
    }
   ],
   "source": [
    "df.head()"
   ]
  },
  {
   "cell_type": "code",
   "execution_count": 6,
   "id": "10fc3437",
   "metadata": {},
   "outputs": [
    {
     "data": {
      "text/plain": [
       "(71440, 9)"
      ]
     },
     "execution_count": 6,
     "metadata": {},
     "output_type": "execute_result"
    }
   ],
   "source": [
    "df.shape"
   ]
  },
  {
   "cell_type": "code",
   "execution_count": 7,
   "id": "c2274329",
   "metadata": {},
   "outputs": [],
   "source": [
    "#look for demographs with the highest rates of violence - is the harm from violence greater than overall diabetes avg? 2)the harm from diabetes of that region and 2) higher than the harm nationwide?\n",
    "#Which of these demographs have a high consistency (across time and country)?\n",
    "\n",
    "#How many groups are there proportionally that should be more concerned of violent crime than diabetes?"
   ]
  },
  {
   "cell_type": "markdown",
   "id": "1560c1bd",
   "metadata": {},
   "source": [
    "### Calculate overall diabetes average"
   ]
  },
  {
   "cell_type": "code",
   "execution_count": 8,
   "id": "dbd71a2f",
   "metadata": {},
   "outputs": [
    {
     "data": {
      "text/plain": [
       "10.670906887295178"
      ]
     },
     "execution_count": 8,
     "metadata": {},
     "output_type": "execute_result"
    }
   ],
   "source": [
    "overall_diabetes_death_avg = df[df['measure'].str.contains('Deaths') &\n",
    "                 df['cause'].str.contains('Diabetes')]\n",
    "overall_diabetes_death_avg = overall_diabetes_death_avg['val'].mean()\n",
    "overall_diabetes_death_avg  "
   ]
  },
  {
   "cell_type": "markdown",
   "id": "755f55ed",
   "metadata": {},
   "source": [
    "### Create table of demographs with homicide rate higher than diabetes average"
   ]
  },
  {
   "cell_type": "code",
   "execution_count": 9,
   "id": "db2d024d",
   "metadata": {},
   "outputs": [
    {
     "data": {
      "text/plain": [
       "(0, 9)"
      ]
     },
     "execution_count": 9,
     "metadata": {},
     "output_type": "execute_result"
    }
   ],
   "source": [
    "#get rows with higher homicide rate than overall_diabetes_avg\n",
    "high_violence_death_rate_demos = df[df['measure'].str.contains('Deaths') &\n",
    "                  df['cause'].str.contains('Interpersonal violence')]\n",
    "\n",
    "high_violence_death_rate_demos = high_violence_death_rate_demos[high_violence_death_rate_demos['val'] > overall_diabetes_death_avg]\n",
    "high_violence_death_rate_demos = high_violence_death_rate_demos.sort_values(by=['val'], ascending=False)\n",
    "high_violence_death_rate_demos.shape"
   ]
  },
  {
   "cell_type": "markdown",
   "id": "3fbf4e28",
   "metadata": {},
   "source": [
    "No sub demographs!"
   ]
  },
  {
   "cell_type": "code",
   "execution_count": 16,
   "id": "6b766d40",
   "metadata": {},
   "outputs": [
    {
     "name": "stdout",
     "output_type": "stream",
     "text": [
      "Total number of sub groups:  35720\n",
      "Number of sub groups with higher violence death rate than diabetes death rate:  0\n"
     ]
    }
   ],
   "source": [
    "#we campare number of demographs (using deaths) vs the total number of demographs that have a higher iv homicide rate than \n",
    "#overall overall average.\n",
    "newdf = df[df['measure'].str.contains(\"Deaths\")]\n",
    "print(\"Total number of sub groups: \", len(newdf))\n",
    "print(\"Number of sub groups with higher violence death rate than diabetes death rate: \", len(high_violence_death_rate_demos))"
   ]
  },
  {
   "cell_type": "markdown",
   "id": "caf315f8",
   "metadata": {},
   "source": [
    "## YLL rate Exploration"
   ]
  },
  {
   "cell_type": "markdown",
   "id": "956a4b23",
   "metadata": {},
   "source": [
    "### Calculate overall diabetes average for YLLs"
   ]
  },
  {
   "cell_type": "code",
   "execution_count": 20,
   "id": "1a1d3ec9",
   "metadata": {},
   "outputs": [
    {
     "data": {
      "text/plain": [
       "125.5846196011162"
      ]
     },
     "execution_count": 20,
     "metadata": {},
     "output_type": "execute_result"
    }
   ],
   "source": [
    "overall_diabetes_yll_avg = df[df['measure'].str.contains('YLL') &\n",
    "                 df['cause'].str.contains('Diabetes')]\n",
    "overall_diabetes_yll_avg = overall_diabetes_yll_avg['val'].mean()\n",
    "overall_diabetes_yll_avg  "
   ]
  },
  {
   "cell_type": "markdown",
   "id": "0cfac71b",
   "metadata": {},
   "source": [
    "### Create table of demographs with higher homicide rate"
   ]
  },
  {
   "cell_type": "code",
   "execution_count": 21,
   "id": "5d4f6f07",
   "metadata": {},
   "outputs": [
    {
     "data": {
      "text/plain": [
       "(7, 9)"
      ]
     },
     "execution_count": 21,
     "metadata": {},
     "output_type": "execute_result"
    }
   ],
   "source": [
    "#get rows with higher homicide rate than overall_diabetes_avg\n",
    "high_violence_yll_demos = df[df['measure'].str.contains('YLL') &\n",
    "                  df['cause'].str.contains('Interpersonal violence')]\n",
    "\n",
    "high_violence_yll_demos = high_violence_yll_demos[high_violence_yll_demos['val'] > overall_diabetes_yll_avg]\n",
    "high_violence_yll_demos = high_violence_yll_demos.sort_values(by=['val'], ascending=False)\n",
    "high_violence_yll_demos.shape"
   ]
  },
  {
   "cell_type": "markdown",
   "id": "44947c31",
   "metadata": {},
   "source": [
    "## YLL Rate exploration"
   ]
  },
  {
   "cell_type": "code",
   "execution_count": 22,
   "id": "aad551f7",
   "metadata": {},
   "outputs": [],
   "source": [
    "gender = high_violence_yll_demos.groupby(['sex'], as_index=False).agg({'val':'mean'})"
   ]
  },
  {
   "cell_type": "code",
   "execution_count": 23,
   "id": "7a3090e2",
   "metadata": {},
   "outputs": [
    {
     "data": {
      "image/png": "[encoded data removed]",
      "text/plain": [
       "<Figure size 432x288 with 1 Axes>"
      ]
     },
     "metadata": {
      "needs_background": "light"
     },
     "output_type": "display_data"
    }
   ],
   "source": [
    "gender.plot(x=\"sex\", y=\"val\", kind=\"bar\")\n",
    "plt.show()"
   ]
  },
  {
   "cell_type": "code",
   "execution_count": 24,
   "id": "d26f1970",
   "metadata": {},
   "outputs": [],
   "source": [
    "age = high_violence_yll_demos.groupby(['age'], as_index=False).agg({'val':'mean'})"
   ]
  },
  {
   "cell_type": "code",
   "execution_count": 25,
   "id": "62954be4",
   "metadata": {},
   "outputs": [
    {
     "data": {
      "image/png": "[encoded data removed]",
      "text/plain": [
       "<Figure size 432x288 with 1 Axes>"
      ]
     },
     "metadata": {
      "needs_background": "light"
     },
     "output_type": "display_data"
    }
   ],
   "source": [
    "age.plot(x=\"age\", y=\"val\", kind=\"bar\")\n",
    "plt.show()"
   ]
  },
  {
   "cell_type": "code",
   "execution_count": 26,
   "id": "fc7c92f1",
   "metadata": {},
   "outputs": [],
   "source": [
    "#location what proportions of the regions have been consistent through time\n",
    "#We can look at locations that have held within them one demograph that has a higher homicide rate than diabetes death rate\n",
    "#And we can examine how consistent across time these region have sustained such a demograph"
   ]
  },
  {
   "cell_type": "code",
   "execution_count": 27,
   "id": "a7ad9019",
   "metadata": {},
   "outputs": [
    {
     "data": {
      "text/html": [
       "<div>\n",
       "<style scoped>\n",
       "    .dataframe tbody tr th:only-of-type {\n",
       "        vertical-align: middle;\n",
       "    }\n",
       "\n",
       "    .dataframe tbody tr th {\n",
       "        vertical-align: top;\n",
       "    }\n",
       "\n",
       "    .dataframe thead th {\n",
       "        text-align: right;\n",
       "    }\n",
       "</style>\n",
       "<table border=\"1\" class=\"dataframe\">\n",
       "  <thead>\n",
       "    <tr style=\"text-align: right;\">\n",
       "      <th></th>\n",
       "      <th>location</th>\n",
       "      <th>year</th>\n",
       "      <th>val</th>\n",
       "    </tr>\n",
       "  </thead>\n",
       "  <tbody>\n",
       "    <tr>\n",
       "      <th>0</th>\n",
       "      <td>Kyōto</td>\n",
       "      <td>7</td>\n",
       "      <td>241.200824</td>\n",
       "    </tr>\n",
       "  </tbody>\n",
       "</table>\n",
       "</div>"
      ],
      "text/plain": [
       "  location  year         val\n",
       "0    Kyōto     7  241.200824"
      ]
     },
     "execution_count": 27,
     "metadata": {},
     "output_type": "execute_result"
    }
   ],
   "source": [
    "locations_containing_high_violence_demos = high_violence_yll_demos.groupby(['location', 'year'], as_index=False).agg({'year': 'count', 'val':'mean'})\n",
    "locations_containing_high_violence_demos.head(20)\n",
    "#38 demos in each region (for one year)"
   ]
  },
  {
   "cell_type": "code",
   "execution_count": 28,
   "id": "9a31379b",
   "metadata": {},
   "outputs": [
    {
     "data": {
      "text/plain": [
       "count    1.0\n",
       "mean     1.0\n",
       "std      NaN\n",
       "min      1.0\n",
       "25%      1.0\n",
       "50%      1.0\n",
       "75%      1.0\n",
       "max      1.0\n",
       "Name: val, dtype: float64"
      ]
     },
     "execution_count": 28,
     "metadata": {},
     "output_type": "execute_result"
    }
   ],
   "source": [
    "location_by_year_frequency = locations_containing_high_violence_demos.groupby('location').count()\n",
    "location_by_year_frequency['val'].describe()\n",
    "#We can see average is 7 - so locations sustaining over diabetes average deaths rates likely to keep doing so"
   ]
  },
  {
   "cell_type": "code",
   "execution_count": 29,
   "id": "699ce8f4",
   "metadata": {},
   "outputs": [
    {
     "data": {
      "text/html": [
       "<div>\n",
       "<style scoped>\n",
       "    .dataframe tbody tr th:only-of-type {\n",
       "        vertical-align: middle;\n",
       "    }\n",
       "\n",
       "    .dataframe tbody tr th {\n",
       "        vertical-align: top;\n",
       "    }\n",
       "\n",
       "    .dataframe thead th {\n",
       "        text-align: right;\n",
       "    }\n",
       "</style>\n",
       "<table border=\"1\" class=\"dataframe\">\n",
       "  <thead>\n",
       "    <tr style=\"text-align: right;\">\n",
       "      <th></th>\n",
       "      <th>year</th>\n",
       "      <th>val</th>\n",
       "    </tr>\n",
       "    <tr>\n",
       "      <th>location</th>\n",
       "      <th></th>\n",
       "      <th></th>\n",
       "    </tr>\n",
       "  </thead>\n",
       "  <tbody>\n",
       "    <tr>\n",
       "      <th>Kyōto</th>\n",
       "      <td>1</td>\n",
       "      <td>1</td>\n",
       "    </tr>\n",
       "  </tbody>\n",
       "</table>\n",
       "</div>"
      ],
      "text/plain": [
       "          year  val\n",
       "location           \n",
       "Kyōto        1    1"
      ]
     },
     "execution_count": 29,
     "metadata": {},
     "output_type": "execute_result"
    }
   ],
   "source": [
    "location_by_year_frequency"
   ]
  },
  {
   "cell_type": "markdown",
   "id": "5158e2da",
   "metadata": {},
   "source": [
    "### Take high_violence_ylls_demos and filter on the consistent demographs"
   ]
  },
  {
   "cell_type": "code",
   "execution_count": 30,
   "id": "1fcedd93",
   "metadata": {},
   "outputs": [
    {
     "data": {
      "text/plain": [
       "country\n",
       "Japan    7\n",
       "Name: val, dtype: int64"
      ]
     },
     "execution_count": 30,
     "metadata": {},
     "output_type": "execute_result"
    }
   ],
   "source": [
    "high_violence_yll_demos.groupby('country').count()['val']"
   ]
  },
  {
   "cell_type": "code",
   "execution_count": 31,
   "id": "f8a62fa1",
   "metadata": {},
   "outputs": [
    {
     "data": {
      "text/html": [
       "<div>\n",
       "<style scoped>\n",
       "    .dataframe tbody tr th:only-of-type {\n",
       "        vertical-align: middle;\n",
       "    }\n",
       "\n",
       "    .dataframe tbody tr th {\n",
       "        vertical-align: top;\n",
       "    }\n",
       "\n",
       "    .dataframe thead th {\n",
       "        text-align: right;\n",
       "    }\n",
       "</style>\n",
       "<table border=\"1\" class=\"dataframe\">\n",
       "  <thead>\n",
       "    <tr style=\"text-align: right;\">\n",
       "      <th></th>\n",
       "      <th>location</th>\n",
       "      <th>val</th>\n",
       "    </tr>\n",
       "  </thead>\n",
       "  <tbody>\n",
       "    <tr>\n",
       "      <th>0</th>\n",
       "      <td>Kyōto</td>\n",
       "      <td>7</td>\n",
       "    </tr>\n",
       "  </tbody>\n",
       "</table>\n",
       "</div>"
      ],
      "text/plain": [
       "  location  val\n",
       "0    Kyōto    7"
      ]
     },
     "execution_count": 31,
     "metadata": {},
     "output_type": "execute_result"
    }
   ],
   "source": [
    "location_filter = high_violence_yll_demos.groupby('location', as_index=False).count()\n",
    "location_filter = location_filter[['location', 'val']]\n",
    "location_filter"
   ]
  },
  {
   "cell_type": "code",
   "execution_count": 32,
   "id": "4b7b4288",
   "metadata": {},
   "outputs": [
    {
     "data": {
      "text/html": [
       "<div>\n",
       "<style scoped>\n",
       "    .dataframe tbody tr th:only-of-type {\n",
       "        vertical-align: middle;\n",
       "    }\n",
       "\n",
       "    .dataframe tbody tr th {\n",
       "        vertical-align: top;\n",
       "    }\n",
       "\n",
       "    .dataframe thead th {\n",
       "        text-align: right;\n",
       "    }\n",
       "</style>\n",
       "<table border=\"1\" class=\"dataframe\">\n",
       "  <thead>\n",
       "    <tr style=\"text-align: right;\">\n",
       "      <th></th>\n",
       "      <th>sex</th>\n",
       "      <th>val</th>\n",
       "    </tr>\n",
       "  </thead>\n",
       "  <tbody>\n",
       "    <tr>\n",
       "      <th>0</th>\n",
       "      <td>Male</td>\n",
       "      <td>7</td>\n",
       "    </tr>\n",
       "  </tbody>\n",
       "</table>\n",
       "</div>"
      ],
      "text/plain": [
       "    sex  val\n",
       "0  Male    7"
      ]
     },
     "execution_count": 32,
     "metadata": {},
     "output_type": "execute_result"
    }
   ],
   "source": [
    "gender_filter = high_violence_yll_demos.groupby('sex', as_index=False).count()\n",
    "gender_filter = gender_filter[['sex', 'val']]\n",
    "gender_filter"
   ]
  },
  {
   "cell_type": "code",
   "execution_count": 33,
   "id": "336a3833",
   "metadata": {},
   "outputs": [
    {
     "data": {
      "text/html": [
       "<div>\n",
       "<style scoped>\n",
       "    .dataframe tbody tr th:only-of-type {\n",
       "        vertical-align: middle;\n",
       "    }\n",
       "\n",
       "    .dataframe tbody tr th {\n",
       "        vertical-align: top;\n",
       "    }\n",
       "\n",
       "    .dataframe thead th {\n",
       "        text-align: right;\n",
       "    }\n",
       "</style>\n",
       "<table border=\"1\" class=\"dataframe\">\n",
       "  <thead>\n",
       "    <tr style=\"text-align: right;\">\n",
       "      <th></th>\n",
       "      <th>age</th>\n",
       "      <th>val</th>\n",
       "    </tr>\n",
       "  </thead>\n",
       "  <tbody>\n",
       "    <tr>\n",
       "      <th>0</th>\n",
       "      <td>15 to 19</td>\n",
       "      <td>1</td>\n",
       "    </tr>\n",
       "    <tr>\n",
       "      <th>1</th>\n",
       "      <td>20 to 24</td>\n",
       "      <td>1</td>\n",
       "    </tr>\n",
       "    <tr>\n",
       "      <th>2</th>\n",
       "      <td>25 to 29</td>\n",
       "      <td>1</td>\n",
       "    </tr>\n",
       "    <tr>\n",
       "      <th>3</th>\n",
       "      <td>30 to 34</td>\n",
       "      <td>1</td>\n",
       "    </tr>\n",
       "    <tr>\n",
       "      <th>4</th>\n",
       "      <td>35 to 39</td>\n",
       "      <td>1</td>\n",
       "    </tr>\n",
       "    <tr>\n",
       "      <th>5</th>\n",
       "      <td>40 to 44</td>\n",
       "      <td>1</td>\n",
       "    </tr>\n",
       "    <tr>\n",
       "      <th>6</th>\n",
       "      <td>45 to 49</td>\n",
       "      <td>1</td>\n",
       "    </tr>\n",
       "  </tbody>\n",
       "</table>\n",
       "</div>"
      ],
      "text/plain": [
       "        age  val\n",
       "0  15 to 19    1\n",
       "1  20 to 24    1\n",
       "2  25 to 29    1\n",
       "3  30 to 34    1\n",
       "4  35 to 39    1\n",
       "5  40 to 44    1\n",
       "6  45 to 49    1"
      ]
     },
     "execution_count": 33,
     "metadata": {},
     "output_type": "execute_result"
    }
   ],
   "source": [
    "age_filter = high_violence_yll_demos.groupby('age', as_index=False).count()\n",
    "age_filter = age_filter[['age', 'val']]\n",
    "age_filter"
   ]
  },
  {
   "cell_type": "code",
   "execution_count": 34,
   "id": "1cc658c3",
   "metadata": {},
   "outputs": [
    {
     "name": "stdout",
     "output_type": "stream",
     "text": [
      "Total number of sub groups:  35720\n",
      "Number of sub groups with higher violence death rate than diabetes death rate:  7\n"
     ]
    }
   ],
   "source": [
    "#we campare number of demographs (using deaths) vs the total number of demographs that have a higher iv homicide rate than \n",
    "#overall overall average.\n",
    "newdf = df[df['measure'].str.contains(\"YLL\")]\n",
    "print(\"Total number of sub groups: \", len(newdf))\n",
    "print(\"Number of sub groups with higher violence death rate than diabetes death rate: \", len(high_violence_yll_demos))"
   ]
  },
  {
   "cell_type": "markdown",
   "id": "758ee875",
   "metadata": {},
   "source": [
    "### Create table that lets us compare high homicde demographs to their corresponding diabetes yll rates"
   ]
  },
  {
   "cell_type": "code",
   "execution_count": 35,
   "id": "7296b5fa",
   "metadata": {},
   "outputs": [],
   "source": [
    "diabetes_ylls = df[df['measure'].str.contains('YLL') &\n",
    "             df['cause'].str.contains('Diabetes')]"
   ]
  },
  {
   "cell_type": "code",
   "execution_count": 36,
   "id": "bc5a9d51",
   "metadata": {},
   "outputs": [
    {
     "data": {
      "text/plain": [
       "(7, 9)"
      ]
     },
     "execution_count": 36,
     "metadata": {},
     "output_type": "execute_result"
    }
   ],
   "source": [
    "#https://stackoverflow.com/questions/54006298/select-rows-of-a-dataframe-based-on-another-dataframe-in-python\n",
    "\n",
    "#create a new df using multiindex to combine the high homicide demographs with their corresponding diabetes deaths\n",
    "#This cell get the diabetes rows\n",
    "diabetes_ylls = diabetes_ylls[diabetes_ylls.set_index(['country','location', 'sex', 'age', 'year']).index.isin(high_violence_yll_demos.set_index(['country', 'location', 'sex', 'age', 'year']).index)]\n",
    "diabetes_ylls.shape"
   ]
  },
  {
   "cell_type": "code",
   "execution_count": 37,
   "id": "744446e8",
   "metadata": {},
   "outputs": [
    {
     "data": {
      "text/html": [
       "<div>\n",
       "<style scoped>\n",
       "    .dataframe tbody tr th:only-of-type {\n",
       "        vertical-align: middle;\n",
       "    }\n",
       "\n",
       "    .dataframe tbody tr th {\n",
       "        vertical-align: top;\n",
       "    }\n",
       "\n",
       "    .dataframe thead th {\n",
       "        text-align: right;\n",
       "    }\n",
       "</style>\n",
       "<table border=\"1\" class=\"dataframe\">\n",
       "  <thead>\n",
       "    <tr style=\"text-align: right;\">\n",
       "      <th></th>\n",
       "      <th>country</th>\n",
       "      <th>measure</th>\n",
       "      <th>location</th>\n",
       "      <th>sex</th>\n",
       "      <th>age_sort</th>\n",
       "      <th>age</th>\n",
       "      <th>cause</th>\n",
       "      <th>year</th>\n",
       "      <th>val</th>\n",
       "    </tr>\n",
       "  </thead>\n",
       "  <tbody>\n",
       "    <tr>\n",
       "      <th>289368</th>\n",
       "      <td>Japan</td>\n",
       "      <td>YLLs (Years of Life Lost)</td>\n",
       "      <td>Kyōto</td>\n",
       "      <td>Male</td>\n",
       "      <td>2</td>\n",
       "      <td>15 to 19</td>\n",
       "      <td>Diabetes mellitus</td>\n",
       "      <td>2019</td>\n",
       "      <td>2.803827</td>\n",
       "    </tr>\n",
       "    <tr>\n",
       "      <th>289406</th>\n",
       "      <td>Japan</td>\n",
       "      <td>YLLs (Years of Life Lost)</td>\n",
       "      <td>Kyōto</td>\n",
       "      <td>Male</td>\n",
       "      <td>2</td>\n",
       "      <td>15 to 19</td>\n",
       "      <td>Interpersonal violence</td>\n",
       "      <td>2019</td>\n",
       "      <td>227.402251</td>\n",
       "    </tr>\n",
       "    <tr>\n",
       "      <th>289370</th>\n",
       "      <td>Japan</td>\n",
       "      <td>YLLs (Years of Life Lost)</td>\n",
       "      <td>Kyōto</td>\n",
       "      <td>Male</td>\n",
       "      <td>2</td>\n",
       "      <td>20 to 24</td>\n",
       "      <td>Diabetes mellitus</td>\n",
       "      <td>2019</td>\n",
       "      <td>5.074894</td>\n",
       "    </tr>\n",
       "    <tr>\n",
       "      <th>289408</th>\n",
       "      <td>Japan</td>\n",
       "      <td>YLLs (Years of Life Lost)</td>\n",
       "      <td>Kyōto</td>\n",
       "      <td>Male</td>\n",
       "      <td>2</td>\n",
       "      <td>20 to 24</td>\n",
       "      <td>Interpersonal violence</td>\n",
       "      <td>2019</td>\n",
       "      <td>300.111447</td>\n",
       "    </tr>\n",
       "    <tr>\n",
       "      <th>289372</th>\n",
       "      <td>Japan</td>\n",
       "      <td>YLLs (Years of Life Lost)</td>\n",
       "      <td>Kyōto</td>\n",
       "      <td>Male</td>\n",
       "      <td>2</td>\n",
       "      <td>25 to 29</td>\n",
       "      <td>Diabetes mellitus</td>\n",
       "      <td>2019</td>\n",
       "      <td>9.574420</td>\n",
       "    </tr>\n",
       "    <tr>\n",
       "      <th>289410</th>\n",
       "      <td>Japan</td>\n",
       "      <td>YLLs (Years of Life Lost)</td>\n",
       "      <td>Kyōto</td>\n",
       "      <td>Male</td>\n",
       "      <td>2</td>\n",
       "      <td>25 to 29</td>\n",
       "      <td>Interpersonal violence</td>\n",
       "      <td>2019</td>\n",
       "      <td>318.000321</td>\n",
       "    </tr>\n",
       "    <tr>\n",
       "      <th>289374</th>\n",
       "      <td>Japan</td>\n",
       "      <td>YLLs (Years of Life Lost)</td>\n",
       "      <td>Kyōto</td>\n",
       "      <td>Male</td>\n",
       "      <td>2</td>\n",
       "      <td>30 to 34</td>\n",
       "      <td>Diabetes mellitus</td>\n",
       "      <td>2019</td>\n",
       "      <td>16.427134</td>\n",
       "    </tr>\n",
       "    <tr>\n",
       "      <th>289412</th>\n",
       "      <td>Japan</td>\n",
       "      <td>YLLs (Years of Life Lost)</td>\n",
       "      <td>Kyōto</td>\n",
       "      <td>Male</td>\n",
       "      <td>2</td>\n",
       "      <td>30 to 34</td>\n",
       "      <td>Interpersonal violence</td>\n",
       "      <td>2019</td>\n",
       "      <td>286.625993</td>\n",
       "    </tr>\n",
       "    <tr>\n",
       "      <th>289376</th>\n",
       "      <td>Japan</td>\n",
       "      <td>YLLs (Years of Life Lost)</td>\n",
       "      <td>Kyōto</td>\n",
       "      <td>Male</td>\n",
       "      <td>2</td>\n",
       "      <td>35 to 39</td>\n",
       "      <td>Diabetes mellitus</td>\n",
       "      <td>2019</td>\n",
       "      <td>25.341260</td>\n",
       "    </tr>\n",
       "    <tr>\n",
       "      <th>289414</th>\n",
       "      <td>Japan</td>\n",
       "      <td>YLLs (Years of Life Lost)</td>\n",
       "      <td>Kyōto</td>\n",
       "      <td>Male</td>\n",
       "      <td>2</td>\n",
       "      <td>35 to 39</td>\n",
       "      <td>Interpersonal violence</td>\n",
       "      <td>2019</td>\n",
       "      <td>239.743874</td>\n",
       "    </tr>\n",
       "    <tr>\n",
       "      <th>289378</th>\n",
       "      <td>Japan</td>\n",
       "      <td>YLLs (Years of Life Lost)</td>\n",
       "      <td>Kyōto</td>\n",
       "      <td>Male</td>\n",
       "      <td>2</td>\n",
       "      <td>40 to 44</td>\n",
       "      <td>Diabetes mellitus</td>\n",
       "      <td>2019</td>\n",
       "      <td>40.153230</td>\n",
       "    </tr>\n",
       "    <tr>\n",
       "      <th>289416</th>\n",
       "      <td>Japan</td>\n",
       "      <td>YLLs (Years of Life Lost)</td>\n",
       "      <td>Kyōto</td>\n",
       "      <td>Male</td>\n",
       "      <td>2</td>\n",
       "      <td>40 to 44</td>\n",
       "      <td>Interpersonal violence</td>\n",
       "      <td>2019</td>\n",
       "      <td>184.596620</td>\n",
       "    </tr>\n",
       "    <tr>\n",
       "      <th>289380</th>\n",
       "      <td>Japan</td>\n",
       "      <td>YLLs (Years of Life Lost)</td>\n",
       "      <td>Kyōto</td>\n",
       "      <td>Male</td>\n",
       "      <td>2</td>\n",
       "      <td>45 to 49</td>\n",
       "      <td>Diabetes mellitus</td>\n",
       "      <td>2019</td>\n",
       "      <td>63.584259</td>\n",
       "    </tr>\n",
       "    <tr>\n",
       "      <th>289418</th>\n",
       "      <td>Japan</td>\n",
       "      <td>YLLs (Years of Life Lost)</td>\n",
       "      <td>Kyōto</td>\n",
       "      <td>Male</td>\n",
       "      <td>2</td>\n",
       "      <td>45 to 49</td>\n",
       "      <td>Interpersonal violence</td>\n",
       "      <td>2019</td>\n",
       "      <td>131.925262</td>\n",
       "    </tr>\n",
       "  </tbody>\n",
       "</table>\n",
       "</div>"
      ],
      "text/plain": [
       "       country                    measure location   sex  age_sort       age  \\\n",
       "289368   Japan  YLLs (Years of Life Lost)    Kyōto  Male         2  15 to 19   \n",
       "289406   Japan  YLLs (Years of Life Lost)    Kyōto  Male         2  15 to 19   \n",
       "289370   Japan  YLLs (Years of Life Lost)    Kyōto  Male         2  20 to 24   \n",
       "289408   Japan  YLLs (Years of Life Lost)    Kyōto  Male         2  20 to 24   \n",
       "289372   Japan  YLLs (Years of Life Lost)    Kyōto  Male         2  25 to 29   \n",
       "289410   Japan  YLLs (Years of Life Lost)    Kyōto  Male         2  25 to 29   \n",
       "289374   Japan  YLLs (Years of Life Lost)    Kyōto  Male         2  30 to 34   \n",
       "289412   Japan  YLLs (Years of Life Lost)    Kyōto  Male         2  30 to 34   \n",
       "289376   Japan  YLLs (Years of Life Lost)    Kyōto  Male         2  35 to 39   \n",
       "289414   Japan  YLLs (Years of Life Lost)    Kyōto  Male         2  35 to 39   \n",
       "289378   Japan  YLLs (Years of Life Lost)    Kyōto  Male         2  40 to 44   \n",
       "289416   Japan  YLLs (Years of Life Lost)    Kyōto  Male         2  40 to 44   \n",
       "289380   Japan  YLLs (Years of Life Lost)    Kyōto  Male         2  45 to 49   \n",
       "289418   Japan  YLLs (Years of Life Lost)    Kyōto  Male         2  45 to 49   \n",
       "\n",
       "                         cause  year         val  \n",
       "289368       Diabetes mellitus  2019    2.803827  \n",
       "289406  Interpersonal violence  2019  227.402251  \n",
       "289370       Diabetes mellitus  2019    5.074894  \n",
       "289408  Interpersonal violence  2019  300.111447  \n",
       "289372       Diabetes mellitus  2019    9.574420  \n",
       "289410  Interpersonal violence  2019  318.000321  \n",
       "289374       Diabetes mellitus  2019   16.427134  \n",
       "289412  Interpersonal violence  2019  286.625993  \n",
       "289376       Diabetes mellitus  2019   25.341260  \n",
       "289414  Interpersonal violence  2019  239.743874  \n",
       "289378       Diabetes mellitus  2019   40.153230  \n",
       "289416  Interpersonal violence  2019  184.596620  \n",
       "289380       Diabetes mellitus  2019   63.584259  \n",
       "289418  Interpersonal violence  2019  131.925262  "
      ]
     },
     "execution_count": 37,
     "metadata": {},
     "output_type": "execute_result"
    }
   ],
   "source": [
    "#combine the tables \n",
    "higher_violence_ylls_with_diabetes = diabetes_ylls.append(high_violence_yll_demos)\n",
    "higher_violence_ylls_with_diabetes = higher_violence_ylls_with_diabetes.sort_values(by=['location', 'sex', 'age', 'year'])\n",
    "higher_violence_ylls_with_diabetes.head(20)"
   ]
  },
  {
   "cell_type": "code",
   "execution_count": 38,
   "id": "f99aa62a",
   "metadata": {},
   "outputs": [
    {
     "data": {
      "text/plain": [
       "(14, 9)"
      ]
     },
     "execution_count": 38,
     "metadata": {},
     "output_type": "execute_result"
    }
   ],
   "source": [
    "higher_violence_ylls_with_diabetes.shape"
   ]
  },
  {
   "cell_type": "code",
   "execution_count": 39,
   "id": "a3042a67",
   "metadata": {},
   "outputs": [],
   "source": [
    "#could show distribution of high homicide locations"
   ]
  },
  {
   "cell_type": "code",
   "execution_count": null,
   "id": "d67288bd",
   "metadata": {},
   "outputs": [],
   "source": [
    "#make observation of this data = doesn't seem like high crime rate is follow by high diabetes - so maybe not common cause like poor hospitals."
   ]
  },
  {
   "cell_type": "code",
   "execution_count": null,
   "id": "52b1a6ad",
   "metadata": {},
   "outputs": [],
   "source": [
    "#Can perhaps remark on how geographical location seems very important - not just 'Brazil' but specific location in brazil"
   ]
  },
  {
   "cell_type": "code",
   "execution_count": null,
   "id": "afa9691b",
   "metadata": {},
   "outputs": [],
   "source": [
    "#Now should do the above for specific countries"
   ]
  }
 ],
 "metadata": {
  "kernelspec": {
   "display_name": "Python 3",
   "language": "python",
   "name": "python3"
  },
  "language_info": {
   "codemirror_mode": {
    "name": "ipython",
    "version": 3
   },
   "file_extension": ".py",
   "mimetype": "text/x-python",
   "name": "python",
   "nbconvert_exporter": "python",
   "pygments_lexer": "ipython3",
   "version": "3.8.8"
  }
 },
 "nbformat": 4,
 "nbformat_minor": 5
}
