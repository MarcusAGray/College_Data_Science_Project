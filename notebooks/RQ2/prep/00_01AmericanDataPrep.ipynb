{
 "cells": [
  {
   "cell_type": "markdown",
   "id": "2b09120b",
   "metadata": {},
   "source": [
    "# Basic processing for America data sets"
   ]
  },
  {
   "cell_type": "markdown",
   "id": "41443522",
   "metadata": {},
   "source": [
    "# Setup"
   ]
  },
  {
   "cell_type": "markdown",
   "id": "4a9eea08",
   "metadata": {},
   "source": [
    "## Imports"
   ]
  },
  {
   "cell_type": "code",
   "execution_count": 2,
   "id": "415635f5",
   "metadata": {},
   "outputs": [],
   "source": [
    "import pandas as pd\n",
    "import numpy as np"
   ]
  },
  {
   "cell_type": "markdown",
   "id": "5186de73",
   "metadata": {},
   "source": [
    "## Parameters"
   ]
  },
  {
   "cell_type": "code",
   "execution_count": 3,
   "id": "ac3a1c8b",
   "metadata": {},
   "outputs": [],
   "source": [
    "AMERICA1_DATASET = \"../../../data/RQ2/raw/America1.csv\"\n",
    "AMERICA2_DATASET = \"../../../data/RQ2/raw/America2.csv\"\n",
    "AMERICA3_DATASET = \"../../../data/RQ2/raw/America3.csv\"\n",
    "AMERICA4_DATASET = \"../../../data/RQ2/raw/America4.csv\"\n",
    "AMERICA5_DATASET = \"../../../data/RQ2/raw/America5.csv\"\n",
    "AMERICA6_DATASET = \"../../../data/RQ2/raw/America6.csv\"\n",
    "AMERICA7_DATASET = \"../../../data/RQ2/raw/America7.csv\"\n",
    "AMERICA8_DATASET = \"../../../data/RQ2/raw/America8.csv\"\n",
    "AMERICA9_DATASET = \"../../../data/RQ2/raw/America9.csv\"\n",
    "AMERICA10_DATASET = \"../../../data/RQ2/raw/America10.csv\"\n",
    "\n",
    "\n",
    "PROCESSED_AMERICA_DATASET = \"../../../data/RQ2/processed/america_df.csv\""
   ]
  },
  {
   "cell_type": "markdown",
   "id": "b772b98e",
   "metadata": {},
   "source": [
    "# Loading the Datasets"
   ]
  },
  {
   "cell_type": "code",
   "execution_count": 4,
   "id": "e4fc24a9",
   "metadata": {},
   "outputs": [],
   "source": [
    "df1 = pd.read_csv(AMERICA1_DATASET)\n",
    "df2 = pd.read_csv(AMERICA2_DATASET)\n",
    "df3 = pd.read_csv(AMERICA3_DATASET)\n",
    "df4 = pd.read_csv(AMERICA4_DATASET)\n",
    "df5 = pd.read_csv(AMERICA5_DATASET)\n",
    "df6 = pd.read_csv(AMERICA6_DATASET)\n",
    "df7 = pd.read_csv(AMERICA7_DATASET)\n",
    "df8 = pd.read_csv(AMERICA8_DATASET)\n",
    "df9 = pd.read_csv(AMERICA9_DATASET)\n",
    "df10 = pd.read_csv(AMERICA10_DATASET)"
   ]
  },
  {
   "cell_type": "markdown",
   "id": "9f68d00e",
   "metadata": {},
   "source": [
    "# Joining the Datasets"
   ]
  },
  {
   "cell_type": "code",
   "execution_count": 5,
   "id": "07f160c5",
   "metadata": {},
   "outputs": [
    {
     "data": {
      "text/plain": [
       "(4212000, 10)"
      ]
     },
     "execution_count": 5,
     "metadata": {},
     "output_type": "execute_result"
    }
   ],
   "source": [
    "america_df = df1.append([df2, df3, df4, df5, df6, df7, df8, df9, df10])\n",
    "america_df.shape"
   ]
  },
  {
   "cell_type": "code",
   "execution_count": 6,
   "id": "b9933c5a",
   "metadata": {},
   "outputs": [
    {
     "data": {
      "text/html": [
       "<div>\n",
       "<style scoped>\n",
       "    .dataframe tbody tr th:only-of-type {\n",
       "        vertical-align: middle;\n",
       "    }\n",
       "\n",
       "    .dataframe tbody tr th {\n",
       "        vertical-align: top;\n",
       "    }\n",
       "\n",
       "    .dataframe thead th {\n",
       "        text-align: right;\n",
       "    }\n",
       "</style>\n",
       "<table border=\"1\" class=\"dataframe\">\n",
       "  <thead>\n",
       "    <tr style=\"text-align: right;\">\n",
       "      <th></th>\n",
       "      <th>measure</th>\n",
       "      <th>location</th>\n",
       "      <th>sex</th>\n",
       "      <th>age</th>\n",
       "      <th>cause</th>\n",
       "      <th>metric</th>\n",
       "      <th>year</th>\n",
       "      <th>val</th>\n",
       "      <th>upper</th>\n",
       "      <th>lower</th>\n",
       "    </tr>\n",
       "  </thead>\n",
       "  <tbody>\n",
       "    <tr>\n",
       "      <th>0</th>\n",
       "      <td>YLLs (Years of Life Lost)</td>\n",
       "      <td>Alabama</td>\n",
       "      <td>Male</td>\n",
       "      <td>1 to 4</td>\n",
       "      <td>Diabetes mellitus</td>\n",
       "      <td>Number</td>\n",
       "      <td>1990</td>\n",
       "      <td>8.473476</td>\n",
       "      <td>12.654774</td>\n",
       "      <td>5.609856</td>\n",
       "    </tr>\n",
       "    <tr>\n",
       "      <th>1</th>\n",
       "      <td>YLLs (Years of Life Lost)</td>\n",
       "      <td>Alabama</td>\n",
       "      <td>Female</td>\n",
       "      <td>1 to 4</td>\n",
       "      <td>Diabetes mellitus</td>\n",
       "      <td>Number</td>\n",
       "      <td>1990</td>\n",
       "      <td>10.111832</td>\n",
       "      <td>15.407660</td>\n",
       "      <td>6.088000</td>\n",
       "    </tr>\n",
       "    <tr>\n",
       "      <th>2</th>\n",
       "      <td>YLLs (Years of Life Lost)</td>\n",
       "      <td>Alabama</td>\n",
       "      <td>Male</td>\n",
       "      <td>1 to 4</td>\n",
       "      <td>Diabetes mellitus</td>\n",
       "      <td>Percent</td>\n",
       "      <td>1990</td>\n",
       "      <td>0.001344</td>\n",
       "      <td>0.001966</td>\n",
       "      <td>0.000946</td>\n",
       "    </tr>\n",
       "    <tr>\n",
       "      <th>3</th>\n",
       "      <td>YLLs (Years of Life Lost)</td>\n",
       "      <td>Alabama</td>\n",
       "      <td>Female</td>\n",
       "      <td>1 to 4</td>\n",
       "      <td>Diabetes mellitus</td>\n",
       "      <td>Percent</td>\n",
       "      <td>1990</td>\n",
       "      <td>0.002153</td>\n",
       "      <td>0.003142</td>\n",
       "      <td>0.001327</td>\n",
       "    </tr>\n",
       "    <tr>\n",
       "      <th>4</th>\n",
       "      <td>YLLs (Years of Life Lost)</td>\n",
       "      <td>Alabama</td>\n",
       "      <td>Male</td>\n",
       "      <td>1 to 4</td>\n",
       "      <td>Diabetes mellitus</td>\n",
       "      <td>Rate</td>\n",
       "      <td>1990</td>\n",
       "      <td>6.887736</td>\n",
       "      <td>10.286538</td>\n",
       "      <td>4.560018</td>\n",
       "    </tr>\n",
       "  </tbody>\n",
       "</table>\n",
       "</div>"
      ],
      "text/plain": [
       "                     measure location     sex     age              cause  \\\n",
       "0  YLLs (Years of Life Lost)  Alabama    Male  1 to 4  Diabetes mellitus   \n",
       "1  YLLs (Years of Life Lost)  Alabama  Female  1 to 4  Diabetes mellitus   \n",
       "2  YLLs (Years of Life Lost)  Alabama    Male  1 to 4  Diabetes mellitus   \n",
       "3  YLLs (Years of Life Lost)  Alabama  Female  1 to 4  Diabetes mellitus   \n",
       "4  YLLs (Years of Life Lost)  Alabama    Male  1 to 4  Diabetes mellitus   \n",
       "\n",
       "    metric  year        val      upper     lower  \n",
       "0   Number  1990   8.473476  12.654774  5.609856  \n",
       "1   Number  1990  10.111832  15.407660  6.088000  \n",
       "2  Percent  1990   0.001344   0.001966  0.000946  \n",
       "3  Percent  1990   0.002153   0.003142  0.001327  \n",
       "4     Rate  1990   6.887736  10.286538  4.560018  "
      ]
     },
     "execution_count": 6,
     "metadata": {},
     "output_type": "execute_result"
    }
   ],
   "source": [
    "america_df.head()"
   ]
  },
  {
   "cell_type": "markdown",
   "id": "e6b76474",
   "metadata": {},
   "source": [
    "# Clean the Data"
   ]
  },
  {
   "cell_type": "code",
   "execution_count": 7,
   "id": "55993d49",
   "metadata": {},
   "outputs": [
    {
     "data": {
      "text/plain": [
       "array(['Diabetes mellitus', 'Interpersonal violence'], dtype=object)"
      ]
     },
     "execution_count": 7,
     "metadata": {},
     "output_type": "execute_result"
    }
   ],
   "source": [
    "#have to get rid of chronic kidney disease rows that have come with the American Data\n",
    "america_df = america_df[~america_df['cause'].str.contains('kidney')]\n",
    "america_df['cause'].unique()"
   ]
  },
  {
   "cell_type": "code",
   "execution_count": 8,
   "id": "25efba9a",
   "metadata": {},
   "outputs": [
    {
     "data": {
      "text/plain": [
       "(2134080, 8)"
      ]
     },
     "execution_count": 8,
     "metadata": {},
     "output_type": "execute_result"
    }
   ],
   "source": [
    "#Take away 'upper' and 'lower' estimates values as we just use 'val' for our analysis\n",
    "america_df = america_df.drop(['upper', 'lower'], axis=1)\n",
    "america_df.shape"
   ]
  },
  {
   "cell_type": "markdown",
   "id": "b972f52a",
   "metadata": {},
   "source": [
    "## Take away Rows for the United States as a Whole"
   ]
  },
  {
   "cell_type": "code",
   "execution_count": 9,
   "id": "b9fb91b4",
   "metadata": {},
   "outputs": [
    {
     "data": {
      "text/plain": [
       "52"
      ]
     },
     "execution_count": 9,
     "metadata": {},
     "output_type": "execute_result"
    }
   ],
   "source": [
    "america_df['location'].nunique()"
   ]
  },
  {
   "cell_type": "markdown",
   "id": "97f47de7",
   "metadata": {},
   "source": [
    "Remove The United States as a whole to leave 51 stat"
   ]
  },
  {
   "cell_type": "code",
   "execution_count": 10,
   "id": "841db246",
   "metadata": {},
   "outputs": [
    {
     "data": {
      "text/plain": [
       "(2093040, 8)"
      ]
     },
     "execution_count": 10,
     "metadata": {},
     "output_type": "execute_result"
    }
   ],
   "source": [
    "america_df = america_df[~america_df['location'].str.contains('United States of America')]\n",
    "america_df.shape"
   ]
  },
  {
   "cell_type": "code",
   "execution_count": 11,
   "id": "5b430d7b",
   "metadata": {},
   "outputs": [
    {
     "data": {
      "text/html": [
       "<div>\n",
       "<style scoped>\n",
       "    .dataframe tbody tr th:only-of-type {\n",
       "        vertical-align: middle;\n",
       "    }\n",
       "\n",
       "    .dataframe tbody tr th {\n",
       "        vertical-align: top;\n",
       "    }\n",
       "\n",
       "    .dataframe thead th {\n",
       "        text-align: right;\n",
       "    }\n",
       "</style>\n",
       "<table border=\"1\" class=\"dataframe\">\n",
       "  <thead>\n",
       "    <tr style=\"text-align: right;\">\n",
       "      <th></th>\n",
       "      <th>measure</th>\n",
       "      <th>location</th>\n",
       "      <th>sex</th>\n",
       "      <th>age</th>\n",
       "      <th>cause</th>\n",
       "      <th>metric</th>\n",
       "      <th>year</th>\n",
       "      <th>val</th>\n",
       "    </tr>\n",
       "  </thead>\n",
       "  <tbody>\n",
       "    <tr>\n",
       "      <th>0</th>\n",
       "      <td>YLLs (Years of Life Lost)</td>\n",
       "      <td>Alabama</td>\n",
       "      <td>Male</td>\n",
       "      <td>1 to 4</td>\n",
       "      <td>Diabetes mellitus</td>\n",
       "      <td>Number</td>\n",
       "      <td>1990</td>\n",
       "      <td>8.473476</td>\n",
       "    </tr>\n",
       "    <tr>\n",
       "      <th>1</th>\n",
       "      <td>YLLs (Years of Life Lost)</td>\n",
       "      <td>Alabama</td>\n",
       "      <td>Female</td>\n",
       "      <td>1 to 4</td>\n",
       "      <td>Diabetes mellitus</td>\n",
       "      <td>Number</td>\n",
       "      <td>1990</td>\n",
       "      <td>10.111832</td>\n",
       "    </tr>\n",
       "    <tr>\n",
       "      <th>2</th>\n",
       "      <td>YLLs (Years of Life Lost)</td>\n",
       "      <td>Alabama</td>\n",
       "      <td>Male</td>\n",
       "      <td>1 to 4</td>\n",
       "      <td>Diabetes mellitus</td>\n",
       "      <td>Percent</td>\n",
       "      <td>1990</td>\n",
       "      <td>0.001344</td>\n",
       "    </tr>\n",
       "    <tr>\n",
       "      <th>3</th>\n",
       "      <td>YLLs (Years of Life Lost)</td>\n",
       "      <td>Alabama</td>\n",
       "      <td>Female</td>\n",
       "      <td>1 to 4</td>\n",
       "      <td>Diabetes mellitus</td>\n",
       "      <td>Percent</td>\n",
       "      <td>1990</td>\n",
       "      <td>0.002153</td>\n",
       "    </tr>\n",
       "    <tr>\n",
       "      <th>4</th>\n",
       "      <td>YLLs (Years of Life Lost)</td>\n",
       "      <td>Alabama</td>\n",
       "      <td>Male</td>\n",
       "      <td>1 to 4</td>\n",
       "      <td>Diabetes mellitus</td>\n",
       "      <td>Rate</td>\n",
       "      <td>1990</td>\n",
       "      <td>6.887736</td>\n",
       "    </tr>\n",
       "    <tr>\n",
       "      <th>...</th>\n",
       "      <td>...</td>\n",
       "      <td>...</td>\n",
       "      <td>...</td>\n",
       "      <td>...</td>\n",
       "      <td>...</td>\n",
       "      <td>...</td>\n",
       "      <td>...</td>\n",
       "      <td>...</td>\n",
       "    </tr>\n",
       "    <tr>\n",
       "      <th>186311</th>\n",
       "      <td>YLDs (Years Lived with Disability)</td>\n",
       "      <td>North Dakota</td>\n",
       "      <td>Female</td>\n",
       "      <td>90 to 94</td>\n",
       "      <td>Diabetes mellitus</td>\n",
       "      <td>Number</td>\n",
       "      <td>2019</td>\n",
       "      <td>83.529881</td>\n",
       "    </tr>\n",
       "    <tr>\n",
       "      <th>186312</th>\n",
       "      <td>YLDs (Years Lived with Disability)</td>\n",
       "      <td>North Dakota</td>\n",
       "      <td>Male</td>\n",
       "      <td>90 to 94</td>\n",
       "      <td>Diabetes mellitus</td>\n",
       "      <td>Percent</td>\n",
       "      <td>2019</td>\n",
       "      <td>0.074339</td>\n",
       "    </tr>\n",
       "    <tr>\n",
       "      <th>186313</th>\n",
       "      <td>YLDs (Years Lived with Disability)</td>\n",
       "      <td>North Dakota</td>\n",
       "      <td>Female</td>\n",
       "      <td>90 to 94</td>\n",
       "      <td>Diabetes mellitus</td>\n",
       "      <td>Percent</td>\n",
       "      <td>2019</td>\n",
       "      <td>0.048831</td>\n",
       "    </tr>\n",
       "    <tr>\n",
       "      <th>186314</th>\n",
       "      <td>YLDs (Years Lived with Disability)</td>\n",
       "      <td>North Dakota</td>\n",
       "      <td>Male</td>\n",
       "      <td>90 to 94</td>\n",
       "      <td>Diabetes mellitus</td>\n",
       "      <td>Rate</td>\n",
       "      <td>2019</td>\n",
       "      <td>3049.591450</td>\n",
       "    </tr>\n",
       "    <tr>\n",
       "      <th>186315</th>\n",
       "      <td>YLDs (Years Lived with Disability)</td>\n",
       "      <td>North Dakota</td>\n",
       "      <td>Female</td>\n",
       "      <td>90 to 94</td>\n",
       "      <td>Diabetes mellitus</td>\n",
       "      <td>Rate</td>\n",
       "      <td>2019</td>\n",
       "      <td>2094.861198</td>\n",
       "    </tr>\n",
       "  </tbody>\n",
       "</table>\n",
       "<p>2093040 rows × 8 columns</p>\n",
       "</div>"
      ],
      "text/plain": [
       "                                   measure      location     sex       age  \\\n",
       "0                YLLs (Years of Life Lost)       Alabama    Male    1 to 4   \n",
       "1                YLLs (Years of Life Lost)       Alabama  Female    1 to 4   \n",
       "2                YLLs (Years of Life Lost)       Alabama    Male    1 to 4   \n",
       "3                YLLs (Years of Life Lost)       Alabama  Female    1 to 4   \n",
       "4                YLLs (Years of Life Lost)       Alabama    Male    1 to 4   \n",
       "...                                    ...           ...     ...       ...   \n",
       "186311  YLDs (Years Lived with Disability)  North Dakota  Female  90 to 94   \n",
       "186312  YLDs (Years Lived with Disability)  North Dakota    Male  90 to 94   \n",
       "186313  YLDs (Years Lived with Disability)  North Dakota  Female  90 to 94   \n",
       "186314  YLDs (Years Lived with Disability)  North Dakota    Male  90 to 94   \n",
       "186315  YLDs (Years Lived with Disability)  North Dakota  Female  90 to 94   \n",
       "\n",
       "                    cause   metric  year          val  \n",
       "0       Diabetes mellitus   Number  1990     8.473476  \n",
       "1       Diabetes mellitus   Number  1990    10.111832  \n",
       "2       Diabetes mellitus  Percent  1990     0.001344  \n",
       "3       Diabetes mellitus  Percent  1990     0.002153  \n",
       "4       Diabetes mellitus     Rate  1990     6.887736  \n",
       "...                   ...      ...   ...          ...  \n",
       "186311  Diabetes mellitus   Number  2019    83.529881  \n",
       "186312  Diabetes mellitus  Percent  2019     0.074339  \n",
       "186313  Diabetes mellitus  Percent  2019     0.048831  \n",
       "186314  Diabetes mellitus     Rate  2019  3049.591450  \n",
       "186315  Diabetes mellitus     Rate  2019  2094.861198  \n",
       "\n",
       "[2093040 rows x 8 columns]"
      ]
     },
     "execution_count": 11,
     "metadata": {},
     "output_type": "execute_result"
    }
   ],
   "source": [
    "america_df"
   ]
  },
  {
   "cell_type": "markdown",
   "id": "ae0cc39a",
   "metadata": {},
   "source": [
    "# Saving the Datasets"
   ]
  },
  {
   "cell_type": "code",
   "execution_count": 12,
   "id": "fcada644",
   "metadata": {},
   "outputs": [],
   "source": [
    "america_df.to_csv(PROCESSED_AMERICA_DATASET, index=False)"
   ]
  }
 ],
 "metadata": {
  "kernelspec": {
   "display_name": "Python 3 (ipykernel)",
   "language": "python",
   "name": "python3"
  },
  "language_info": {
   "codemirror_mode": {
    "name": "ipython",
    "version": 3
   },
   "file_extension": ".py",
   "mimetype": "text/x-python",
   "name": "python",
   "nbconvert_exporter": "python",
   "pygments_lexer": "ipython3",
   "version": "3.8.5"
  }
 },
 "nbformat": 4,
 "nbformat_minor": 5
}
