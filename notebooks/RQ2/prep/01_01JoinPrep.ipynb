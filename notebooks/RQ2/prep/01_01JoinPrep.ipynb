{
 "cells": [
  {
   "cell_type": "markdown",
   "metadata": {},
   "source": [
    "# Join all datasets together"
   ]
  },
  {
   "cell_type": "markdown",
   "metadata": {},
   "source": [
    "# Setup"
   ]
  },
  {
   "cell_type": "markdown",
   "metadata": {},
   "source": [
    "## Imports"
   ]
  },
  {
   "cell_type": "code",
   "execution_count": 2,
   "metadata": {},
   "outputs": [],
   "source": [
    "import pandas as pd\n",
    "import numpy as np\n",
    "import matplotlib.pyplot as plt"
   ]
  },
  {
   "cell_type": "markdown",
   "metadata": {},
   "source": [
    "## Parameters"
   ]
  },
  {
   "cell_type": "code",
   "execution_count": 3,
   "metadata": {},
   "outputs": [],
   "source": [
    "UK_DATASET = \"../../../data/RQ2/processed/uk_df.csv\"\n",
    "JAPAN_DATASET = \"../../../data/RQ2/processed/japan_df.csv\"\n",
    "BRAZIL_DATASET = \"../../../data/RQ2/processed/brazil_df.csv\"\n",
    "INDONESIA_DATASET = \"../../../data/RQ2/processed/indonesia_df.csv\"\n",
    "MEXICO_DATASET = \"../../../data/RQ2/processed/mexico_df.csv\"\n",
    "KENYA_DATASET = \"../../../data/RQ2/processed/kenya_df.csv\"\n",
    "AMERICA_DATASET = \"../../../data/RQ2/processed/america_df.csv\"\n",
    "\n",
    "PROCESSED_ALL_COUNTRIES_DATASET = \"../../../data/RQ2/processed/all_countries_df.csv\"\n"
   ]
  },
  {
   "cell_type": "markdown",
   "metadata": {},
   "source": [
    "# Configuration"
   ]
  },
  {
   "cell_type": "code",
   "execution_count": 4,
   "metadata": {},
   "outputs": [],
   "source": [
    "%matplotlib inline"
   ]
  },
  {
   "cell_type": "markdown",
   "metadata": {},
   "source": [
    "# Loading the datasets"
   ]
  },
  {
   "cell_type": "code",
   "execution_count": 5,
   "metadata": {},
   "outputs": [],
   "source": [
    "uk_df = pd.read_csv(UK_DATASET)\n",
    "japan_df = pd.read_csv(JAPAN_DATASET)\n",
    "brazil_df = pd.read_csv(BRAZIL_DATASET)\n",
    "indonesia_df = pd.read_csv(INDONESIA_DATASET)\n",
    "mexico_df = pd.read_csv(MEXICO_DATASET)\n",
    "kenya_df = pd.read_csv(KENYA_DATASET)\n",
    "america_df = pd.read_csv(AMERICA_DATASET)"
   ]
  },
  {
   "cell_type": "code",
   "execution_count": 6,
   "metadata": {},
   "outputs": [],
   "source": [
    "uk_df.insert(0,'country','United Kingdom')\n",
    "japan_df.insert(0,'country','Japan')\n",
    "brazil_df.insert(0,'country','Brazil')\n",
    "indonesia_df.insert(0,'country','Indonesia')\n",
    "mexico_df.insert(0,'country','Mexico')\n",
    "kenya_df.insert(0,'country','Kenya')\n",
    "america_df.insert(0,'country','America')"
   ]
  },
  {
   "cell_type": "code",
   "execution_count": 7,
   "metadata": {},
   "outputs": [
    {
     "data": {
      "text/plain": [
       "(16169760, 9)"
      ]
     },
     "execution_count": 7,
     "metadata": {},
     "output_type": "execute_result"
    }
   ],
   "source": [
    "df = uk_df.append([japan_df, brazil_df, indonesia_df, mexico_df, kenya_df, america_df])\n",
    "df.shape"
   ]
  },
  {
   "cell_type": "code",
   "execution_count": 8,
   "metadata": {},
   "outputs": [
    {
     "data": {
      "text/html": [
       "<div>\n",
       "<style scoped>\n",
       "    .dataframe tbody tr th:only-of-type {\n",
       "        vertical-align: middle;\n",
       "    }\n",
       "\n",
       "    .dataframe tbody tr th {\n",
       "        vertical-align: top;\n",
       "    }\n",
       "\n",
       "    .dataframe thead th {\n",
       "        text-align: right;\n",
       "    }\n",
       "</style>\n",
       "<table border=\"1\" class=\"dataframe\">\n",
       "  <thead>\n",
       "    <tr style=\"text-align: right;\">\n",
       "      <th></th>\n",
       "      <th>country</th>\n",
       "      <th>measure</th>\n",
       "      <th>location</th>\n",
       "      <th>sex</th>\n",
       "      <th>age</th>\n",
       "      <th>cause</th>\n",
       "      <th>metric</th>\n",
       "      <th>year</th>\n",
       "      <th>val</th>\n",
       "    </tr>\n",
       "  </thead>\n",
       "  <tbody>\n",
       "    <tr>\n",
       "      <th>0</th>\n",
       "      <td>United Kingdom</td>\n",
       "      <td>Deaths</td>\n",
       "      <td>South Tyneside</td>\n",
       "      <td>Male</td>\n",
       "      <td>1 to 4</td>\n",
       "      <td>Diabetes mellitus</td>\n",
       "      <td>Number</td>\n",
       "      <td>1990</td>\n",
       "      <td>0.002953</td>\n",
       "    </tr>\n",
       "    <tr>\n",
       "      <th>1</th>\n",
       "      <td>United Kingdom</td>\n",
       "      <td>Deaths</td>\n",
       "      <td>South Tyneside</td>\n",
       "      <td>Female</td>\n",
       "      <td>1 to 4</td>\n",
       "      <td>Diabetes mellitus</td>\n",
       "      <td>Number</td>\n",
       "      <td>1990</td>\n",
       "      <td>0.005396</td>\n",
       "    </tr>\n",
       "    <tr>\n",
       "      <th>2</th>\n",
       "      <td>United Kingdom</td>\n",
       "      <td>Deaths</td>\n",
       "      <td>South Tyneside</td>\n",
       "      <td>Male</td>\n",
       "      <td>1 to 4</td>\n",
       "      <td>Diabetes mellitus</td>\n",
       "      <td>Percent</td>\n",
       "      <td>1990</td>\n",
       "      <td>0.001572</td>\n",
       "    </tr>\n",
       "    <tr>\n",
       "      <th>3</th>\n",
       "      <td>United Kingdom</td>\n",
       "      <td>Deaths</td>\n",
       "      <td>South Tyneside</td>\n",
       "      <td>Female</td>\n",
       "      <td>1 to 4</td>\n",
       "      <td>Diabetes mellitus</td>\n",
       "      <td>Percent</td>\n",
       "      <td>1990</td>\n",
       "      <td>0.002904</td>\n",
       "    </tr>\n",
       "    <tr>\n",
       "      <th>4</th>\n",
       "      <td>United Kingdom</td>\n",
       "      <td>Deaths</td>\n",
       "      <td>South Tyneside</td>\n",
       "      <td>Male</td>\n",
       "      <td>1 to 4</td>\n",
       "      <td>Diabetes mellitus</td>\n",
       "      <td>Rate</td>\n",
       "      <td>1990</td>\n",
       "      <td>0.067572</td>\n",
       "    </tr>\n",
       "  </tbody>\n",
       "</table>\n",
       "</div>"
      ],
      "text/plain": [
       "          country measure        location     sex     age              cause  \\\n",
       "0  United Kingdom  Deaths  South Tyneside    Male  1 to 4  Diabetes mellitus   \n",
       "1  United Kingdom  Deaths  South Tyneside  Female  1 to 4  Diabetes mellitus   \n",
       "2  United Kingdom  Deaths  South Tyneside    Male  1 to 4  Diabetes mellitus   \n",
       "3  United Kingdom  Deaths  South Tyneside  Female  1 to 4  Diabetes mellitus   \n",
       "4  United Kingdom  Deaths  South Tyneside    Male  1 to 4  Diabetes mellitus   \n",
       "\n",
       "    metric  year       val  \n",
       "0   Number  1990  0.002953  \n",
       "1   Number  1990  0.005396  \n",
       "2  Percent  1990  0.001572  \n",
       "3  Percent  1990  0.002904  \n",
       "4     Rate  1990  0.067572  "
      ]
     },
     "execution_count": 8,
     "metadata": {},
     "output_type": "execute_result"
    }
   ],
   "source": [
    "df.head()"
   ]
  },
  {
   "cell_type": "code",
   "execution_count": 9,
   "metadata": {},
   "outputs": [
    {
     "data": {
      "text/plain": [
       "array(['Deaths', 'Prevalence', 'Incidence', 'YLLs (Years of Life Lost)',\n",
       "       'DALYs (Disability-Adjusted Life Years)',\n",
       "       'YLDs (Years Lived with Disability)'], dtype=object)"
      ]
     },
     "execution_count": 9,
     "metadata": {},
     "output_type": "execute_result"
    }
   ],
   "source": [
    "df.measure.unique()"
   ]
  },
  {
   "cell_type": "code",
   "execution_count": 10,
   "metadata": {},
   "outputs": [
    {
     "data": {
      "text/plain": [
       "array(['Diabetes mellitus', 'Interpersonal violence'], dtype=object)"
      ]
     },
     "execution_count": 10,
     "metadata": {},
     "output_type": "execute_result"
    }
   ],
   "source": [
    "#Check that there is only diabetes and violence as causes, and no other disease such as kidney disease\n",
    "df.cause.unique()"
   ]
  },
  {
   "cell_type": "code",
   "execution_count": 11,
   "metadata": {},
   "outputs": [
    {
     "data": {
      "text/plain": [
       "(2694960, 9)"
      ]
     },
     "execution_count": 11,
     "metadata": {},
     "output_type": "execute_result"
    }
   ],
   "source": [
    "df = df[df['metric'].str.fullmatch('Rate')]\n",
    "df = df[df['measure'].isin(['Deaths', 'YLLs (Years of Life Lost)', 'DALYs (Disability-Adjusted Life Years)'])]\n",
    "\n",
    "df.shape"
   ]
  },
  {
   "cell_type": "code",
   "execution_count": 12,
   "metadata": {},
   "outputs": [
    {
     "data": {
      "text/plain": [
       "array(['Rate'], dtype=object)"
      ]
     },
     "execution_count": 12,
     "metadata": {},
     "output_type": "execute_result"
    }
   ],
   "source": [
    "df.metric.unique()"
   ]
  },
  {
   "cell_type": "code",
   "execution_count": 13,
   "metadata": {},
   "outputs": [
    {
     "data": {
      "text/plain": [
       "array(['Deaths', 'YLLs (Years of Life Lost)',\n",
       "       'DALYs (Disability-Adjusted Life Years)'], dtype=object)"
      ]
     },
     "execution_count": 13,
     "metadata": {},
     "output_type": "execute_result"
    }
   ],
   "source": [
    "df.measure.unique()"
   ]
  },
  {
   "cell_type": "code",
   "execution_count": 14,
   "metadata": {},
   "outputs": [
    {
     "data": {
      "text/html": [
       "<div>\n",
       "<style scoped>\n",
       "    .dataframe tbody tr th:only-of-type {\n",
       "        vertical-align: middle;\n",
       "    }\n",
       "\n",
       "    .dataframe tbody tr th {\n",
       "        vertical-align: top;\n",
       "    }\n",
       "\n",
       "    .dataframe thead th {\n",
       "        text-align: right;\n",
       "    }\n",
       "</style>\n",
       "<table border=\"1\" class=\"dataframe\">\n",
       "  <thead>\n",
       "    <tr style=\"text-align: right;\">\n",
       "      <th></th>\n",
       "      <th>country</th>\n",
       "      <th>measure</th>\n",
       "      <th>location</th>\n",
       "      <th>sex</th>\n",
       "      <th>age</th>\n",
       "      <th>cause</th>\n",
       "      <th>year</th>\n",
       "      <th>val</th>\n",
       "    </tr>\n",
       "  </thead>\n",
       "  <tbody>\n",
       "    <tr>\n",
       "      <th>4</th>\n",
       "      <td>United Kingdom</td>\n",
       "      <td>Deaths</td>\n",
       "      <td>South Tyneside</td>\n",
       "      <td>Male</td>\n",
       "      <td>1 to 4</td>\n",
       "      <td>Diabetes mellitus</td>\n",
       "      <td>1990</td>\n",
       "      <td>0.067572</td>\n",
       "    </tr>\n",
       "    <tr>\n",
       "      <th>5</th>\n",
       "      <td>United Kingdom</td>\n",
       "      <td>Deaths</td>\n",
       "      <td>South Tyneside</td>\n",
       "      <td>Female</td>\n",
       "      <td>1 to 4</td>\n",
       "      <td>Diabetes mellitus</td>\n",
       "      <td>1990</td>\n",
       "      <td>0.130253</td>\n",
       "    </tr>\n",
       "    <tr>\n",
       "      <th>10</th>\n",
       "      <td>United Kingdom</td>\n",
       "      <td>Deaths</td>\n",
       "      <td>South Tyneside</td>\n",
       "      <td>Male</td>\n",
       "      <td>5 to 9</td>\n",
       "      <td>Diabetes mellitus</td>\n",
       "      <td>1990</td>\n",
       "      <td>0.076965</td>\n",
       "    </tr>\n",
       "    <tr>\n",
       "      <th>11</th>\n",
       "      <td>United Kingdom</td>\n",
       "      <td>Deaths</td>\n",
       "      <td>South Tyneside</td>\n",
       "      <td>Female</td>\n",
       "      <td>5 to 9</td>\n",
       "      <td>Diabetes mellitus</td>\n",
       "      <td>1990</td>\n",
       "      <td>0.066207</td>\n",
       "    </tr>\n",
       "    <tr>\n",
       "      <th>16</th>\n",
       "      <td>United Kingdom</td>\n",
       "      <td>Deaths</td>\n",
       "      <td>South Tyneside</td>\n",
       "      <td>Male</td>\n",
       "      <td>10 to 14</td>\n",
       "      <td>Diabetes mellitus</td>\n",
       "      <td>1990</td>\n",
       "      <td>0.077271</td>\n",
       "    </tr>\n",
       "  </tbody>\n",
       "</table>\n",
       "</div>"
      ],
      "text/plain": [
       "           country measure        location     sex       age  \\\n",
       "4   United Kingdom  Deaths  South Tyneside    Male    1 to 4   \n",
       "5   United Kingdom  Deaths  South Tyneside  Female    1 to 4   \n",
       "10  United Kingdom  Deaths  South Tyneside    Male    5 to 9   \n",
       "11  United Kingdom  Deaths  South Tyneside  Female    5 to 9   \n",
       "16  United Kingdom  Deaths  South Tyneside    Male  10 to 14   \n",
       "\n",
       "                cause  year       val  \n",
       "4   Diabetes mellitus  1990  0.067572  \n",
       "5   Diabetes mellitus  1990  0.130253  \n",
       "10  Diabetes mellitus  1990  0.076965  \n",
       "11  Diabetes mellitus  1990  0.066207  \n",
       "16  Diabetes mellitus  1990  0.077271  "
      ]
     },
     "execution_count": 14,
     "metadata": {},
     "output_type": "execute_result"
    }
   ],
   "source": [
    "df = df.drop(['metric'], axis=1)\n",
    "df.head()"
   ]
  },
  {
   "cell_type": "markdown",
   "metadata": {},
   "source": [
    "# Solving Age Order Issue"
   ]
  },
  {
   "cell_type": "markdown",
   "metadata": {},
   "source": [
    "We need to have a column to sort the ages to prevent the '5-9' age value from losing it's order"
   ]
  },
  {
   "cell_type": "code",
   "execution_count": 15,
   "metadata": {},
   "outputs": [
    {
     "data": {
      "text/plain": [
       "<AxesSubplot:xlabel='age'>"
      ]
     },
     "execution_count": 15,
     "metadata": {},
     "output_type": "execute_result"
    },
    {
     "data": {
      "image/png": "[encoded data removed]",
      "text/plain": [
       "<Figure size 432x288 with 1 Axes>"
      ]
     },
     "metadata": {
      "needs_background": "light"
     },
     "output_type": "display_data"
    }
   ],
   "source": [
    "newdf = df.groupby(['age'], as_index=False).agg({'val':'mean'})\n",
    "newdf.plot.bar(x='age', y='val')"
   ]
  },
  {
   "cell_type": "markdown",
   "metadata": {},
   "source": [
    "We can do this by creating a new 'age_sort' colum to number the age groups appropriately. When displaying a graph with 'age' we then sort by 'age_sort' to hav the ages in the right order."
   ]
  },
  {
   "cell_type": "code",
   "execution_count": 16,
   "metadata": {},
   "outputs": [
    {
     "name": "stderr",
     "output_type": "stream",
     "text": [
      "<ipython-input-16-319709c4a44a>:2: SettingWithCopyWarning: \n",
      "A value is trying to be set on a copy of a slice from a DataFrame\n",
      "\n",
      "See the caveats in the documentation: https://pandas.pydata.org/pandas-docs/stable/user_guide/indexing.html#returning-a-view-versus-a-copy\n",
      "  df['age_sort'][df['age'].str.fullmatch('1 to 4')] = 0\n",
      "<ipython-input-16-319709c4a44a>:3: SettingWithCopyWarning: \n",
      "A value is trying to be set on a copy of a slice from a DataFrame\n",
      "\n",
      "See the caveats in the documentation: https://pandas.pydata.org/pandas-docs/stable/user_guide/indexing.html#returning-a-view-versus-a-copy\n",
      "  df['age_sort'][df['age'].str.fullmatch('5 to 9')] = 1\n"
     ]
    },
    {
     "data": {
      "text/html": [
       "<div>\n",
       "<style scoped>\n",
       "    .dataframe tbody tr th:only-of-type {\n",
       "        vertical-align: middle;\n",
       "    }\n",
       "\n",
       "    .dataframe tbody tr th {\n",
       "        vertical-align: top;\n",
       "    }\n",
       "\n",
       "    .dataframe thead th {\n",
       "        text-align: right;\n",
       "    }\n",
       "</style>\n",
       "<table border=\"1\" class=\"dataframe\">\n",
       "  <thead>\n",
       "    <tr style=\"text-align: right;\">\n",
       "      <th></th>\n",
       "      <th>country</th>\n",
       "      <th>measure</th>\n",
       "      <th>location</th>\n",
       "      <th>sex</th>\n",
       "      <th>age_sort</th>\n",
       "      <th>age</th>\n",
       "      <th>cause</th>\n",
       "      <th>year</th>\n",
       "      <th>val</th>\n",
       "    </tr>\n",
       "  </thead>\n",
       "  <tbody>\n",
       "    <tr>\n",
       "      <th>4</th>\n",
       "      <td>United Kingdom</td>\n",
       "      <td>Deaths</td>\n",
       "      <td>South Tyneside</td>\n",
       "      <td>Male</td>\n",
       "      <td>0</td>\n",
       "      <td>1 to 4</td>\n",
       "      <td>Diabetes mellitus</td>\n",
       "      <td>1990</td>\n",
       "      <td>0.067572</td>\n",
       "    </tr>\n",
       "    <tr>\n",
       "      <th>5</th>\n",
       "      <td>United Kingdom</td>\n",
       "      <td>Deaths</td>\n",
       "      <td>South Tyneside</td>\n",
       "      <td>Female</td>\n",
       "      <td>0</td>\n",
       "      <td>1 to 4</td>\n",
       "      <td>Diabetes mellitus</td>\n",
       "      <td>1990</td>\n",
       "      <td>0.130253</td>\n",
       "    </tr>\n",
       "    <tr>\n",
       "      <th>10</th>\n",
       "      <td>United Kingdom</td>\n",
       "      <td>Deaths</td>\n",
       "      <td>South Tyneside</td>\n",
       "      <td>Male</td>\n",
       "      <td>1</td>\n",
       "      <td>5 to 9</td>\n",
       "      <td>Diabetes mellitus</td>\n",
       "      <td>1990</td>\n",
       "      <td>0.076965</td>\n",
       "    </tr>\n",
       "    <tr>\n",
       "      <th>11</th>\n",
       "      <td>United Kingdom</td>\n",
       "      <td>Deaths</td>\n",
       "      <td>South Tyneside</td>\n",
       "      <td>Female</td>\n",
       "      <td>1</td>\n",
       "      <td>5 to 9</td>\n",
       "      <td>Diabetes mellitus</td>\n",
       "      <td>1990</td>\n",
       "      <td>0.066207</td>\n",
       "    </tr>\n",
       "    <tr>\n",
       "      <th>16</th>\n",
       "      <td>United Kingdom</td>\n",
       "      <td>Deaths</td>\n",
       "      <td>South Tyneside</td>\n",
       "      <td>Male</td>\n",
       "      <td>2</td>\n",
       "      <td>10 to 14</td>\n",
       "      <td>Diabetes mellitus</td>\n",
       "      <td>1990</td>\n",
       "      <td>0.077271</td>\n",
       "    </tr>\n",
       "  </tbody>\n",
       "</table>\n",
       "</div>"
      ],
      "text/plain": [
       "           country measure        location     sex  age_sort       age  \\\n",
       "4   United Kingdom  Deaths  South Tyneside    Male         0    1 to 4   \n",
       "5   United Kingdom  Deaths  South Tyneside  Female         0    1 to 4   \n",
       "10  United Kingdom  Deaths  South Tyneside    Male         1    5 to 9   \n",
       "11  United Kingdom  Deaths  South Tyneside  Female         1    5 to 9   \n",
       "16  United Kingdom  Deaths  South Tyneside    Male         2  10 to 14   \n",
       "\n",
       "                cause  year       val  \n",
       "4   Diabetes mellitus  1990  0.067572  \n",
       "5   Diabetes mellitus  1990  0.130253  \n",
       "10  Diabetes mellitus  1990  0.076965  \n",
       "11  Diabetes mellitus  1990  0.066207  \n",
       "16  Diabetes mellitus  1990  0.077271  "
      ]
     },
     "execution_count": 16,
     "metadata": {},
     "output_type": "execute_result"
    }
   ],
   "source": [
    "df.insert(4,'age_sort', 2)\n",
    "df['age_sort'][df['age'].str.fullmatch('1 to 4')] = 0\n",
    "df['age_sort'][df['age'].str.fullmatch('5 to 9')] = 1\n",
    "df.head()"
   ]
  },
  {
   "cell_type": "markdown",
   "metadata": {},
   "source": [
    "We can now check if the age groups are in order if we order by 'age_sort'."
   ]
  },
  {
   "cell_type": "code",
   "execution_count": 17,
   "metadata": {},
   "outputs": [
    {
     "data": {
      "text/plain": [
       "<AxesSubplot:xlabel='age'>"
      ]
     },
     "execution_count": 17,
     "metadata": {},
     "output_type": "execute_result"
    },
    {
     "data": {
      "image/png": "[encoded data removed]",
      "text/plain": [
       "<Figure size 432x288 with 1 Axes>"
      ]
     },
     "metadata": {
      "needs_background": "light"
     },
     "output_type": "display_data"
    }
   ],
   "source": [
    "newdf = df.groupby(['age_sort', 'age'], as_index=False).agg({'val':'mean'})\n",
    "newdf.plot.bar(x='age', y='val')"
   ]
  },
  {
   "cell_type": "markdown",
   "metadata": {},
   "source": [
    "# Final Cleaning"
   ]
  },
  {
   "cell_type": "code",
   "execution_count": 18,
   "metadata": {},
   "outputs": [
    {
     "data": {
      "text/plain": [
       "array([2010, 2011, 2012, 2013, 2014, 2015, 2016, 2017, 2018, 2019],\n",
       "      dtype=int64)"
      ]
     },
     "execution_count": 18,
     "metadata": {},
     "output_type": "execute_result"
    }
   ],
   "source": [
    "#We look at the last decade of data from the data available\n",
    "decade3 = [2010, 2011, 2012, 2013, 2014, 2015, 2016, 2017, 2018, 2019]\n",
    "\n",
    "df = df[df['year'].isin(decade3)]\n",
    "df.year.unique()"
   ]
  },
  {
   "cell_type": "code",
   "execution_count": 19,
   "metadata": {},
   "outputs": [
    {
     "data": {
      "text/plain": [
       "array(['United Kingdom', 'Japan', 'Brazil', 'Indonesia', 'Mexico',\n",
       "       'Kenya', 'America'], dtype=object)"
      ]
     },
     "execution_count": 19,
     "metadata": {},
     "output_type": "execute_result"
    }
   ],
   "source": [
    "df['country'].unique()"
   ]
  },
  {
   "cell_type": "code",
   "execution_count": 20,
   "metadata": {},
   "outputs": [
    {
     "data": {
      "text/plain": [
       "0"
      ]
     },
     "execution_count": 20,
     "metadata": {},
     "output_type": "execute_result"
    }
   ],
   "source": [
    "df.duplicated().sum()"
   ]
  },
  {
   "cell_type": "code",
   "execution_count": 21,
   "metadata": {},
   "outputs": [
    {
     "data": {
      "text/plain": [
       "country     0\n",
       "measure     0\n",
       "location    0\n",
       "sex         0\n",
       "age_sort    0\n",
       "age         0\n",
       "cause       0\n",
       "year        0\n",
       "val         0\n",
       "dtype: int64"
      ]
     },
     "execution_count": 21,
     "metadata": {},
     "output_type": "execute_result"
    }
   ],
   "source": [
    "df.isnull().sum()"
   ]
  },
  {
   "cell_type": "code",
   "execution_count": 22,
   "metadata": {},
   "outputs": [
    {
     "data": {
      "text/html": [
       "<div>\n",
       "<style scoped>\n",
       "    .dataframe tbody tr th:only-of-type {\n",
       "        vertical-align: middle;\n",
       "    }\n",
       "\n",
       "    .dataframe tbody tr th {\n",
       "        vertical-align: top;\n",
       "    }\n",
       "\n",
       "    .dataframe thead th {\n",
       "        text-align: right;\n",
       "    }\n",
       "</style>\n",
       "<table border=\"1\" class=\"dataframe\">\n",
       "  <thead>\n",
       "    <tr style=\"text-align: right;\">\n",
       "      <th></th>\n",
       "      <th>country</th>\n",
       "      <th>measure</th>\n",
       "      <th>location</th>\n",
       "      <th>sex</th>\n",
       "      <th>age_sort</th>\n",
       "      <th>age</th>\n",
       "      <th>cause</th>\n",
       "      <th>year</th>\n",
       "      <th>val</th>\n",
       "    </tr>\n",
       "  </thead>\n",
       "  <tbody>\n",
       "    <tr>\n",
       "      <th>1072126</th>\n",
       "      <td>United Kingdom</td>\n",
       "      <td>YLLs (Years of Life Lost)</td>\n",
       "      <td>Wigan</td>\n",
       "      <td>Male</td>\n",
       "      <td>0</td>\n",
       "      <td>1 to 4</td>\n",
       "      <td>Diabetes mellitus</td>\n",
       "      <td>2010</td>\n",
       "      <td>2.403586</td>\n",
       "    </tr>\n",
       "    <tr>\n",
       "      <th>1072127</th>\n",
       "      <td>United Kingdom</td>\n",
       "      <td>YLLs (Years of Life Lost)</td>\n",
       "      <td>Wigan</td>\n",
       "      <td>Female</td>\n",
       "      <td>0</td>\n",
       "      <td>1 to 4</td>\n",
       "      <td>Diabetes mellitus</td>\n",
       "      <td>2010</td>\n",
       "      <td>3.287731</td>\n",
       "    </tr>\n",
       "    <tr>\n",
       "      <th>1072132</th>\n",
       "      <td>United Kingdom</td>\n",
       "      <td>YLLs (Years of Life Lost)</td>\n",
       "      <td>Wigan</td>\n",
       "      <td>Male</td>\n",
       "      <td>1</td>\n",
       "      <td>5 to 9</td>\n",
       "      <td>Diabetes mellitus</td>\n",
       "      <td>2010</td>\n",
       "      <td>1.983731</td>\n",
       "    </tr>\n",
       "    <tr>\n",
       "      <th>1072133</th>\n",
       "      <td>United Kingdom</td>\n",
       "      <td>YLLs (Years of Life Lost)</td>\n",
       "      <td>Wigan</td>\n",
       "      <td>Female</td>\n",
       "      <td>1</td>\n",
       "      <td>5 to 9</td>\n",
       "      <td>Diabetes mellitus</td>\n",
       "      <td>2010</td>\n",
       "      <td>2.037679</td>\n",
       "    </tr>\n",
       "    <tr>\n",
       "      <th>1072138</th>\n",
       "      <td>United Kingdom</td>\n",
       "      <td>YLLs (Years of Life Lost)</td>\n",
       "      <td>Wigan</td>\n",
       "      <td>Male</td>\n",
       "      <td>2</td>\n",
       "      <td>10 to 14</td>\n",
       "      <td>Diabetes mellitus</td>\n",
       "      <td>2010</td>\n",
       "      <td>2.203710</td>\n",
       "    </tr>\n",
       "  </tbody>\n",
       "</table>\n",
       "</div>"
      ],
      "text/plain": [
       "                country                    measure location     sex  age_sort  \\\n",
       "1072126  United Kingdom  YLLs (Years of Life Lost)    Wigan    Male         0   \n",
       "1072127  United Kingdom  YLLs (Years of Life Lost)    Wigan  Female         0   \n",
       "1072132  United Kingdom  YLLs (Years of Life Lost)    Wigan    Male         1   \n",
       "1072133  United Kingdom  YLLs (Years of Life Lost)    Wigan  Female         1   \n",
       "1072138  United Kingdom  YLLs (Years of Life Lost)    Wigan    Male         2   \n",
       "\n",
       "              age              cause  year       val  \n",
       "1072126    1 to 4  Diabetes mellitus  2010  2.403586  \n",
       "1072127    1 to 4  Diabetes mellitus  2010  3.287731  \n",
       "1072132    5 to 9  Diabetes mellitus  2010  1.983731  \n",
       "1072133    5 to 9  Diabetes mellitus  2010  2.037679  \n",
       "1072138  10 to 14  Diabetes mellitus  2010  2.203710  "
      ]
     },
     "execution_count": 22,
     "metadata": {},
     "output_type": "execute_result"
    }
   ],
   "source": [
    "df.head()"
   ]
  },
  {
   "cell_type": "code",
   "execution_count": 23,
   "metadata": {},
   "outputs": [
    {
     "data": {
      "text/plain": [
       "(898320, 9)"
      ]
     },
     "execution_count": 23,
     "metadata": {},
     "output_type": "execute_result"
    }
   ],
   "source": [
    "df.shape"
   ]
  },
  {
   "cell_type": "markdown",
   "metadata": {},
   "source": [
    "# Saving Dataset"
   ]
  },
  {
   "cell_type": "code",
   "execution_count": 24,
   "metadata": {},
   "outputs": [],
   "source": [
    "df.to_csv(PROCESSED_ALL_COUNTRIES_DATASET, index=False)"
   ]
  }
 ],
 "metadata": {
  "kernelspec": {
   "display_name": "Python 3",
   "language": "python",
   "name": "python3"
  },
  "language_info": {
   "codemirror_mode": {
    "name": "ipython",
    "version": 3
   },
   "file_extension": ".py",
   "mimetype": "text/x-python",
   "name": "python",
   "nbconvert_exporter": "python",
   "pygments_lexer": "ipython3",
   "version": "3.7.9"
  }
 },
 "nbformat": 4,
 "nbformat_minor": 5
}
